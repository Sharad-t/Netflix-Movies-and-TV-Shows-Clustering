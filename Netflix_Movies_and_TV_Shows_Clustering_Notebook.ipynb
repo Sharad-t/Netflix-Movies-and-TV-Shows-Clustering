{
  "cells": [
    {
      "cell_type": "markdown",
      "metadata": {
        "id": "view-in-github",
        "colab_type": "text"
      },
      "source": [
        "<a href=\"https://colab.research.google.com/github/Sharad-t/Netflix-Movies-and-TV-Shows-Clustering/blob/main/Netflix_Movies_and_TV_Shows_Clustering_Notebook.ipynb\" target=\"_parent\"><img src=\"https://colab.research.google.com/assets/colab-badge.svg\" alt=\"Open In Colab\"/></a>"
      ]
    },
    {
      "cell_type": "markdown",
      "metadata": {
        "id": "vncDsAP0Gaoa"
      },
      "source": [
        "# **Project Name**    - **Netflix Movies and TV Shows Clustering**\n",
        "\n"
      ]
    },
    {
      "cell_type": "markdown",
      "metadata": {
        "id": "beRrZCGUAJYm"
      },
      "source": [
        "##### **Project Type**    - **Unsupervised**\n",
        "##### **Contribution**    - **Individual**\n",
        "##### **Team Member**     - **Sharad Tiwari**"
      ]
    },
    {
      "cell_type": "markdown",
      "metadata": {
        "id": "FJNUwmbgGyua"
      },
      "source": [
        "# **Project Summary -**"
      ]
    },
    {
      "cell_type": "markdown",
      "metadata": {
        "id": "F6v_1wHtG2nS"
      },
      "source": []
    },
    {
      "cell_type": "markdown",
      "metadata": {
        "id": "w6K7xa23Elo4"
      },
      "source": [
        "# **GitHub Link -**"
      ]
    },
    {
      "cell_type": "markdown",
      "metadata": {
        "id": "h1o69JH3Eqqn"
      },
      "source": [
        "**https://github.com/Sharad-t/Netflix-Movies-and-TV-Shows-Clustering**"
      ]
    },
    {
      "cell_type": "markdown",
      "metadata": {
        "id": "yQaldy8SH6Dl"
      },
      "source": [
        "# **Problem Statement**\n"
      ]
    },
    {
      "cell_type": "markdown",
      "metadata": {
        "id": "DpeJGUA3kjGy"
      },
      "source": [
        "This dataset consists of tv shows and movies available on Netflix as of 2019. The dataset is collected from Flixable which is a third-party Netflix search engine.\n",
        "\n",
        "In 2018, they released an interesting report which shows that the number of TV shows on Netflix has nearly tripled since 2010. The streaming service’s number of movies has decreased by more than 2,000 titles since 2010, while its number of TV shows has nearly tripled. It will be interesting to explore what all other insights can be obtained from the same dataset.\n",
        "\n",
        "Integrating this dataset with other external datasets such as IMDB ratings, rotten tomatoes can also provide many interesting findings."
      ]
    },
    {
      "cell_type": "markdown",
      "metadata": {
        "id": "mDgbUHAGgjLW"
      },
      "source": [
        "# **General Guidelines** : -  "
      ]
    },
    {
      "cell_type": "markdown",
      "metadata": {
        "id": "ZrxVaUj-hHfC"
      },
      "source": [
        "1.   Well-structured, formatted, and commented code is required.\n",
        "2.   Exception Handling, Production Grade Code & Deployment Ready Code will be a plus. Those students will be awarded some additional credits.\n",
        "     \n",
        "     The additional credits will have advantages over other students during Star Student selection.\n",
        "       \n",
        "             [ Note: - Deployment Ready Code is defined as, the whole .ipynb notebook should be executable in one go\n",
        "                       without a single error logged. ]\n",
        "\n",
        "3.   Each and every logic should have proper comments.\n",
        "4. You may add as many number of charts you want. Make Sure for each and every chart the following format should be answered.\n",
        "        \n",
        "\n",
        "```\n",
        "# Chart visualization code\n",
        "```\n",
        "            \n",
        "\n",
        "*   Why did you pick the specific chart?\n",
        "*   What is/are the insight(s) found from the chart?\n",
        "* Will the gained insights help creating a positive business impact?\n",
        "Are there any insights that lead to negative growth? Justify with specific reason.\n",
        "\n",
        "5. You have to create at least 15 logical & meaningful charts having important insights.\n",
        "\n",
        "\n",
        "[ Hints : - Do the Vizualization in  a structured way while following \"UBM\" Rule.\n",
        "\n",
        "U - Univariate Analysis,\n",
        "\n",
        "B - Bivariate Analysis (Numerical - Categorical, Numerical - Numerical, Categorical - Categorical)\n",
        "\n",
        "M - Multivariate Analysis\n",
        " ]\n",
        "\n",
        "\n",
        "\n",
        "\n",
        "\n",
        "6. You may add more ml algorithms for model creation. Make sure for each and every algorithm, the following format should be answered.\n",
        "\n",
        "\n",
        "*   Explain the ML Model used and it's performance using Evaluation metric Score Chart.\n",
        "\n",
        "\n",
        "*   Cross- Validation & Hyperparameter Tuning\n",
        "\n",
        "*   Have you seen any improvement? Note down the improvement with updates Evaluation metric Score Chart.\n",
        "\n",
        "*   Explain each evaluation metric's indication towards business and the business impact pf the ML model used.\n",
        "\n",
        "\n",
        "\n",
        "\n",
        "\n",
        "\n",
        "\n",
        "\n",
        "\n",
        "\n",
        "\n",
        "\n",
        "\n",
        "\n",
        "\n",
        "\n",
        "\n",
        "\n"
      ]
    },
    {
      "cell_type": "markdown",
      "metadata": {
        "id": "O_i_v8NEhb9l"
      },
      "source": [
        "# ***Let's Begin !***"
      ]
    },
    {
      "cell_type": "markdown",
      "metadata": {
        "id": "HhfV-JJviCcP"
      },
      "source": [
        "## ***1. Know Your Data***"
      ]
    },
    {
      "cell_type": "markdown",
      "metadata": {
        "id": "Y3lxredqlCYt"
      },
      "source": [
        "### Import Libraries"
      ]
    },
    {
      "cell_type": "code",
      "execution_count": 2,
      "metadata": {
        "id": "M8Vqi-pPk-HR"
      },
      "outputs": [],
      "source": [
        "# Import Libraries\n",
        "\n",
        "# Pandas for data manipulation\n",
        "import pandas as pd\n",
        "\n",
        "# Numerical python for dealing with maths or arrays\n",
        "import numpy as np\n",
        "\n",
        "# from matplotlib pyplot for data visualization\n",
        "import matplotlib.pyplot as plt\n",
        "\n",
        "# Seaborn  for data visualization\n",
        "import seaborn as sns\n",
        "\n",
        "# KMeans Algorithm for Clustering\n",
        "from sklearn.cluster import KMeans\n",
        "\n",
        "# DBSCAN Algorithm for Clustering\n",
        "from sklearn.cluster import DBSCAN\n",
        "\n",
        "# Library for Finding out the Silhoutte Score\n",
        "from sklearn.metrics import silhouette_score\n",
        "\n",
        "# Date-Time for Converting Date and Time\n",
        "from datetime import datetime as dt\n",
        "\n",
        "\n",
        "# Warnings for Ignoring Waring Messages\n",
        "import warnings\n",
        "warnings.filterwarnings('ignore')\n"
      ]
    },
    {
      "cell_type": "markdown",
      "metadata": {
        "id": "3RnN4peoiCZX"
      },
      "source": [
        "### Dataset Loading"
      ]
    },
    {
      "cell_type": "code",
      "execution_count": 1,
      "metadata": {
        "colab": {
          "base_uri": "https://localhost:8080/"
        },
        "id": "EBq5eyoz1ru3",
        "outputId": "4942acfa-fd36-4ceb-802f-b45e2badfcd2"
      },
      "outputs": [
        {
          "output_type": "stream",
          "name": "stdout",
          "text": [
            "Mounted at /content/drive\n"
          ]
        }
      ],
      "source": [
        "from google.colab import drive\n",
        "drive.mount('/content/drive')\n"
      ]
    },
    {
      "cell_type": "code",
      "execution_count": 3,
      "metadata": {
        "id": "4CkvbW_SlZ_R"
      },
      "outputs": [],
      "source": [
        "# Load Dataset\n",
        "df = pd.read_csv(\n",
        "'/content/drive/MyDrive/Capstone Projects/{Capstone Project -4 } (ML Clustering) Netflix_Movies_and_TV_Shows_Clustering/NETFLIX MOVIES AND TV SHOWS CLUSTERING.csv')\n",
        "# df = pd.read_csv(\"NETFLIX MOVIES AND TV SHOWS CLUSTERING.csv\")\n"
      ]
    },
    {
      "cell_type": "markdown",
      "metadata": {
        "id": "x71ZqKXriCWQ"
      },
      "source": [
        "### Dataset First View"
      ]
    },
    {
      "cell_type": "code",
      "execution_count": 4,
      "metadata": {
        "colab": {
          "base_uri": "https://localhost:8080/",
          "height": 1000
        },
        "id": "LWNFOSvLl09H",
        "outputId": "3be5430a-15df-4780-d052-d88d3af89f4b"
      },
      "outputs": [
        {
          "output_type": "execute_result",
          "data": {
            "text/plain": [
              "  show_id     type  title           director  \\\n",
              "0      s1  TV Show     3%                NaN   \n",
              "1      s2    Movie   7:19  Jorge Michel Grau   \n",
              "2      s3    Movie  23:59       Gilbert Chan   \n",
              "3      s4    Movie      9        Shane Acker   \n",
              "4      s5    Movie     21     Robert Luketic   \n",
              "\n",
              "                                                cast        country  \\\n",
              "0  João Miguel, Bianca Comparato, Michel Gomes, R...         Brazil   \n",
              "1  Demián Bichir, Héctor Bonilla, Oscar Serrano, ...         Mexico   \n",
              "2  Tedd Chan, Stella Chung, Henley Hii, Lawrence ...      Singapore   \n",
              "3  Elijah Wood, John C. Reilly, Jennifer Connelly...  United States   \n",
              "4  Jim Sturgess, Kevin Spacey, Kate Bosworth, Aar...  United States   \n",
              "\n",
              "          date_added  release_year rating   duration  \\\n",
              "0    August 14, 2020          2020  TV-MA  4 Seasons   \n",
              "1  December 23, 2016          2016  TV-MA     93 min   \n",
              "2  December 20, 2018          2011      R     78 min   \n",
              "3  November 16, 2017          2009  PG-13     80 min   \n",
              "4    January 1, 2020          2008  PG-13    123 min   \n",
              "\n",
              "                                           listed_in  \\\n",
              "0  International TV Shows, TV Dramas, TV Sci-Fi &...   \n",
              "1                       Dramas, International Movies   \n",
              "2                Horror Movies, International Movies   \n",
              "3  Action & Adventure, Independent Movies, Sci-Fi...   \n",
              "4                                             Dramas   \n",
              "\n",
              "                                         description  \n",
              "0  In a future where the elite inhabit an island ...  \n",
              "1  After a devastating earthquake hits Mexico Cit...  \n",
              "2  When an army recruit is found dead, his fellow...  \n",
              "3  In a postapocalyptic world, rag-doll robots hi...  \n",
              "4  A brilliant group of students become card-coun...  "
            ],
            "text/html": [
              "\n",
              "\n",
              "  <div id=\"df-17bde64b-532d-4f4f-98e6-3ae350ae7fbf\">\n",
              "    <div class=\"colab-df-container\">\n",
              "      <div>\n",
              "<style scoped>\n",
              "    .dataframe tbody tr th:only-of-type {\n",
              "        vertical-align: middle;\n",
              "    }\n",
              "\n",
              "    .dataframe tbody tr th {\n",
              "        vertical-align: top;\n",
              "    }\n",
              "\n",
              "    .dataframe thead th {\n",
              "        text-align: right;\n",
              "    }\n",
              "</style>\n",
              "<table border=\"1\" class=\"dataframe\">\n",
              "  <thead>\n",
              "    <tr style=\"text-align: right;\">\n",
              "      <th></th>\n",
              "      <th>show_id</th>\n",
              "      <th>type</th>\n",
              "      <th>title</th>\n",
              "      <th>director</th>\n",
              "      <th>cast</th>\n",
              "      <th>country</th>\n",
              "      <th>date_added</th>\n",
              "      <th>release_year</th>\n",
              "      <th>rating</th>\n",
              "      <th>duration</th>\n",
              "      <th>listed_in</th>\n",
              "      <th>description</th>\n",
              "    </tr>\n",
              "  </thead>\n",
              "  <tbody>\n",
              "    <tr>\n",
              "      <th>0</th>\n",
              "      <td>s1</td>\n",
              "      <td>TV Show</td>\n",
              "      <td>3%</td>\n",
              "      <td>NaN</td>\n",
              "      <td>João Miguel, Bianca Comparato, Michel Gomes, R...</td>\n",
              "      <td>Brazil</td>\n",
              "      <td>August 14, 2020</td>\n",
              "      <td>2020</td>\n",
              "      <td>TV-MA</td>\n",
              "      <td>4 Seasons</td>\n",
              "      <td>International TV Shows, TV Dramas, TV Sci-Fi &amp;...</td>\n",
              "      <td>In a future where the elite inhabit an island ...</td>\n",
              "    </tr>\n",
              "    <tr>\n",
              "      <th>1</th>\n",
              "      <td>s2</td>\n",
              "      <td>Movie</td>\n",
              "      <td>7:19</td>\n",
              "      <td>Jorge Michel Grau</td>\n",
              "      <td>Demián Bichir, Héctor Bonilla, Oscar Serrano, ...</td>\n",
              "      <td>Mexico</td>\n",
              "      <td>December 23, 2016</td>\n",
              "      <td>2016</td>\n",
              "      <td>TV-MA</td>\n",
              "      <td>93 min</td>\n",
              "      <td>Dramas, International Movies</td>\n",
              "      <td>After a devastating earthquake hits Mexico Cit...</td>\n",
              "    </tr>\n",
              "    <tr>\n",
              "      <th>2</th>\n",
              "      <td>s3</td>\n",
              "      <td>Movie</td>\n",
              "      <td>23:59</td>\n",
              "      <td>Gilbert Chan</td>\n",
              "      <td>Tedd Chan, Stella Chung, Henley Hii, Lawrence ...</td>\n",
              "      <td>Singapore</td>\n",
              "      <td>December 20, 2018</td>\n",
              "      <td>2011</td>\n",
              "      <td>R</td>\n",
              "      <td>78 min</td>\n",
              "      <td>Horror Movies, International Movies</td>\n",
              "      <td>When an army recruit is found dead, his fellow...</td>\n",
              "    </tr>\n",
              "    <tr>\n",
              "      <th>3</th>\n",
              "      <td>s4</td>\n",
              "      <td>Movie</td>\n",
              "      <td>9</td>\n",
              "      <td>Shane Acker</td>\n",
              "      <td>Elijah Wood, John C. Reilly, Jennifer Connelly...</td>\n",
              "      <td>United States</td>\n",
              "      <td>November 16, 2017</td>\n",
              "      <td>2009</td>\n",
              "      <td>PG-13</td>\n",
              "      <td>80 min</td>\n",
              "      <td>Action &amp; Adventure, Independent Movies, Sci-Fi...</td>\n",
              "      <td>In a postapocalyptic world, rag-doll robots hi...</td>\n",
              "    </tr>\n",
              "    <tr>\n",
              "      <th>4</th>\n",
              "      <td>s5</td>\n",
              "      <td>Movie</td>\n",
              "      <td>21</td>\n",
              "      <td>Robert Luketic</td>\n",
              "      <td>Jim Sturgess, Kevin Spacey, Kate Bosworth, Aar...</td>\n",
              "      <td>United States</td>\n",
              "      <td>January 1, 2020</td>\n",
              "      <td>2008</td>\n",
              "      <td>PG-13</td>\n",
              "      <td>123 min</td>\n",
              "      <td>Dramas</td>\n",
              "      <td>A brilliant group of students become card-coun...</td>\n",
              "    </tr>\n",
              "  </tbody>\n",
              "</table>\n",
              "</div>\n",
              "      <button class=\"colab-df-convert\" onclick=\"convertToInteractive('df-17bde64b-532d-4f4f-98e6-3ae350ae7fbf')\"\n",
              "              title=\"Convert this dataframe to an interactive table.\"\n",
              "              style=\"display:none;\">\n",
              "\n",
              "  <svg xmlns=\"http://www.w3.org/2000/svg\" height=\"24px\"viewBox=\"0 0 24 24\"\n",
              "       width=\"24px\">\n",
              "    <path d=\"M0 0h24v24H0V0z\" fill=\"none\"/>\n",
              "    <path d=\"M18.56 5.44l.94 2.06.94-2.06 2.06-.94-2.06-.94-.94-2.06-.94 2.06-2.06.94zm-11 1L8.5 8.5l.94-2.06 2.06-.94-2.06-.94L8.5 2.5l-.94 2.06-2.06.94zm10 10l.94 2.06.94-2.06 2.06-.94-2.06-.94-.94-2.06-.94 2.06-2.06.94z\"/><path d=\"M17.41 7.96l-1.37-1.37c-.4-.4-.92-.59-1.43-.59-.52 0-1.04.2-1.43.59L10.3 9.45l-7.72 7.72c-.78.78-.78 2.05 0 2.83L4 21.41c.39.39.9.59 1.41.59.51 0 1.02-.2 1.41-.59l7.78-7.78 2.81-2.81c.8-.78.8-2.07 0-2.86zM5.41 20L4 18.59l7.72-7.72 1.47 1.35L5.41 20z\"/>\n",
              "  </svg>\n",
              "      </button>\n",
              "\n",
              "\n",
              "\n",
              "    <div id=\"df-8201e426-f724-4188-84e7-d79cdf8cbcc0\">\n",
              "      <button class=\"colab-df-quickchart\" onclick=\"quickchart('df-8201e426-f724-4188-84e7-d79cdf8cbcc0')\"\n",
              "              title=\"Suggest charts.\"\n",
              "              style=\"display:none;\">\n",
              "\n",
              "<svg xmlns=\"http://www.w3.org/2000/svg\" height=\"24px\"viewBox=\"0 0 24 24\"\n",
              "     width=\"24px\">\n",
              "    <g>\n",
              "        <path d=\"M19 3H5c-1.1 0-2 .9-2 2v14c0 1.1.9 2 2 2h14c1.1 0 2-.9 2-2V5c0-1.1-.9-2-2-2zM9 17H7v-7h2v7zm4 0h-2V7h2v10zm4 0h-2v-4h2v4z\"/>\n",
              "    </g>\n",
              "</svg>\n",
              "      </button>\n",
              "    </div>\n",
              "\n",
              "<style>\n",
              "  .colab-df-quickchart {\n",
              "    background-color: #E8F0FE;\n",
              "    border: none;\n",
              "    border-radius: 50%;\n",
              "    cursor: pointer;\n",
              "    display: none;\n",
              "    fill: #1967D2;\n",
              "    height: 32px;\n",
              "    padding: 0 0 0 0;\n",
              "    width: 32px;\n",
              "  }\n",
              "\n",
              "  .colab-df-quickchart:hover {\n",
              "    background-color: #E2EBFA;\n",
              "    box-shadow: 0px 1px 2px rgba(60, 64, 67, 0.3), 0px 1px 3px 1px rgba(60, 64, 67, 0.15);\n",
              "    fill: #174EA6;\n",
              "  }\n",
              "\n",
              "  [theme=dark] .colab-df-quickchart {\n",
              "    background-color: #3B4455;\n",
              "    fill: #D2E3FC;\n",
              "  }\n",
              "\n",
              "  [theme=dark] .colab-df-quickchart:hover {\n",
              "    background-color: #434B5C;\n",
              "    box-shadow: 0px 1px 3px 1px rgba(0, 0, 0, 0.15);\n",
              "    filter: drop-shadow(0px 1px 2px rgba(0, 0, 0, 0.3));\n",
              "    fill: #FFFFFF;\n",
              "  }\n",
              "</style>\n",
              "\n",
              "    <script>\n",
              "      async function quickchart(key) {\n",
              "        const containerElement = document.querySelector('#' + key);\n",
              "        const charts = await google.colab.kernel.invokeFunction(\n",
              "            'suggestCharts', [key], {});\n",
              "      }\n",
              "    </script>\n",
              "\n",
              "      <script>\n",
              "\n",
              "function displayQuickchartButton(domScope) {\n",
              "  let quickchartButtonEl =\n",
              "    domScope.querySelector('#df-8201e426-f724-4188-84e7-d79cdf8cbcc0 button.colab-df-quickchart');\n",
              "  quickchartButtonEl.style.display =\n",
              "    google.colab.kernel.accessAllowed ? 'block' : 'none';\n",
              "}\n",
              "\n",
              "        displayQuickchartButton(document);\n",
              "      </script>\n",
              "      <style>\n",
              "    .colab-df-container {\n",
              "      display:flex;\n",
              "      flex-wrap:wrap;\n",
              "      gap: 12px;\n",
              "    }\n",
              "\n",
              "    .colab-df-convert {\n",
              "      background-color: #E8F0FE;\n",
              "      border: none;\n",
              "      border-radius: 50%;\n",
              "      cursor: pointer;\n",
              "      display: none;\n",
              "      fill: #1967D2;\n",
              "      height: 32px;\n",
              "      padding: 0 0 0 0;\n",
              "      width: 32px;\n",
              "    }\n",
              "\n",
              "    .colab-df-convert:hover {\n",
              "      background-color: #E2EBFA;\n",
              "      box-shadow: 0px 1px 2px rgba(60, 64, 67, 0.3), 0px 1px 3px 1px rgba(60, 64, 67, 0.15);\n",
              "      fill: #174EA6;\n",
              "    }\n",
              "\n",
              "    [theme=dark] .colab-df-convert {\n",
              "      background-color: #3B4455;\n",
              "      fill: #D2E3FC;\n",
              "    }\n",
              "\n",
              "    [theme=dark] .colab-df-convert:hover {\n",
              "      background-color: #434B5C;\n",
              "      box-shadow: 0px 1px 3px 1px rgba(0, 0, 0, 0.15);\n",
              "      filter: drop-shadow(0px 1px 2px rgba(0, 0, 0, 0.3));\n",
              "      fill: #FFFFFF;\n",
              "    }\n",
              "  </style>\n",
              "\n",
              "      <script>\n",
              "        const buttonEl =\n",
              "          document.querySelector('#df-17bde64b-532d-4f4f-98e6-3ae350ae7fbf button.colab-df-convert');\n",
              "        buttonEl.style.display =\n",
              "          google.colab.kernel.accessAllowed ? 'block' : 'none';\n",
              "\n",
              "        async function convertToInteractive(key) {\n",
              "          const element = document.querySelector('#df-17bde64b-532d-4f4f-98e6-3ae350ae7fbf');\n",
              "          const dataTable =\n",
              "            await google.colab.kernel.invokeFunction('convertToInteractive',\n",
              "                                                     [key], {});\n",
              "          if (!dataTable) return;\n",
              "\n",
              "          const docLinkHtml = 'Like what you see? Visit the ' +\n",
              "            '<a target=\"_blank\" href=https://colab.research.google.com/notebooks/data_table.ipynb>data table notebook</a>'\n",
              "            + ' to learn more about interactive tables.';\n",
              "          element.innerHTML = '';\n",
              "          dataTable['output_type'] = 'display_data';\n",
              "          await google.colab.output.renderOutput(dataTable, element);\n",
              "          const docLink = document.createElement('div');\n",
              "          docLink.innerHTML = docLinkHtml;\n",
              "          element.appendChild(docLink);\n",
              "        }\n",
              "      </script>\n",
              "    </div>\n",
              "  </div>\n"
            ]
          },
          "metadata": {},
          "execution_count": 4
        },
        {
          "output_type": "display_data",
          "data": {
            "text/plain": [
              "<google.colab._quickchart_helpers.SectionTitle at 0x7b1b575f7af0>"
            ],
            "text/html": [
              "<h4 class=\"colab-quickchart-section-title\">Values</h4>\n",
              "<style>\n",
              "  .colab-quickchart-section-title {\n",
              "      clear: both;\n",
              "  }\n",
              "</style>"
            ]
          },
          "metadata": {}
        },
        {
          "output_type": "display_data",
          "data": {
            "text/plain": [
              "import numpy as np\n",
              "from google.colab import autoviz\n",
              "df_1269318175237074447 = autoviz.get_df('df_1269318175237074447')\n",
              "\n",
              "def value_plot(df, y, sort_ascending=False, figsize=(2, 1)):\n",
              "  from matplotlib import pyplot as plt\n",
              "  if sort_ascending:\n",
              "    df = df.sort_values(y).reset_index(drop=True)\n",
              "  _, ax = plt.subplots(figsize=figsize)\n",
              "  df[y].plot(kind='line')\n",
              "  plt.title(y)\n",
              "  ax.spines[['top', 'right',]].set_visible(False)\n",
              "  plt.tight_layout()\n",
              "  return autoviz.MplChart.from_current_mpl_state()\n",
              "\n",
              "chart = value_plot(df_1269318175237074447, *['release_year'], **{})\n",
              "chart"
            ],
            "text/html": [
              "      <div class=\"colab-quickchart-chart-with-code\" id=\"chart-1d40b34b-9e5c-4f78-b114-e29572fbfc98\">\n",
              "        <img src=\"data:image/png;base64,iVBORw0KGgoAAAANSUhEUgAAAMQAAABgCAYAAABCK92TAAAAOXRFWHRTb2Z0d2FyZQBNYXRwbG90\n",
              "bGliIHZlcnNpb24zLjcuMSwgaHR0cHM6Ly9tYXRwbG90bGliLm9yZy/bCgiHAAAACXBIWXMAAA9h\n",
              "AAAPYQGoP6dpAAAR9UlEQVR4nO3deVCT194H8G/IBjELCGELi0UBxYUrXizjFrzaau0ipYPVVgfx\n",
              "clG72eJ9p2rHhRnHtnOF21bqaK210/q2r1qxi1pHQa2itEDxWqlKoeyIkICGJYRsv/cP9DFclFUI\n",
              "wvnMZJic55wn54Bfn+fJc3LCIyICwzAAAAd7d4BhBhMWCIaxwQLBMDZYIBjGBgsEw9hggWAYGywQ\n",
              "DGODBYJhbLBAMIwNFoh+VFpaCh6Ph6KiInt3hekmFgiGscEC0QdGo9HeXXhkDdbfHQtED0RGRuK1\n",
              "117D4sWL4eLigjfeeAPHjx/H448/DhcXFwQGBuKjjz7qdB+d1TcYDIiJiYFKpYJMJkNwcDA+/vhj\n",
              "bjsRYdOmTfDx8YFMJoOPjw82bNjAba+qqsJLL70ElUoFd3d3LFmyBBqNpstxLVu2DHFxce3KcnNz\n",
              "IRaLUVtbCwC4fv06nnnmGXh4eEClUuGVV15Bc3MzV3/Tpk0ICgqCTCaDr68vXn/9dej1em778uXL\n",
              "sWjRIqxevRpKpRILFy7ssl92QUy3qdVqkkgkdOzYMbJYLHT06FFSKBSUnp5OFouFrly5Qj4+PrR/\n",
              "/34iIiopKSEAVFhYSEREp0+f7rS+Xq+nzz77jG7dusXtXyQS0YkTJ4iI6OTJk6RSqaisrIyIiOrq\n",
              "6ujixYtERGQwGCg4OJjWrl1LTU1N1NjYSEuXLqW5c+d2Oa4LFy6QRCKh27dvc2Xx8fH04osvEhGR\n",
              "RqMhNzc3SklJIYPBQBqNhubMmUPx8fFc/S+++ILKysrIarVSfn4+jR49mtatW8dtj42NJYFAQHv3\n",
              "7iWj0UjNzc29/jv0JxaIHlCr1bR48WLu+bPPPtvuj05EtHXrVpozZw4RdQxEV/Xv57nnnqPExEQi\n",
              "Ijp79iy5urrS8ePHSa/Xt6t3+PBh8vb2JqvVypVVVlYSAKqoqOhybKGhoZSamkpERDqdjkaMGEFn\n",
              "zpwhIqLk5GSKiIhoVz8zM5NEIhGZzeb77i8lJYXCwsK457GxsR32MRixQPSAWq2m9evXc8/Hjh1L\n",
              "Tk5OpFAouIdUKqWQkBAi6hiIruobDAZau3YtBQYGklwuJ4VCQUKhkJYuXcq95t69e2nWrFkkk8lo\n",
              "5syZdPLkSSIieu+994jP57fbt0KhILFYTBcuXOhybLt27aJJkyYREdHOnTspODiY27Zq1SoSCoXt\n",
              "9iuXy0ksFlNlZSXXfvLkyTRy5EiSy+Xk5OREPj4+3D5iY2NpyZIlvfq9DyQWiB5Qq9X0zjvvcM8j\n",
              "IyMpKSnpgfX/OxBd1d+2bRsFBQXR9evXyWKxEFHbEeLll1/uUNdgMFBycjKJxWJqaGigzz//nAIC\n",
              "Ano7NGpsbCS5XE5ZWVkUGhpKKSkp3LYtW7bQ7NmzH9j24sWLJBAI6PTp02Q0Gomo7QihUqm4OrGx\n",
              "sfcdx2DDLqr7YM2aNdixYwcyMjJgNpthNpuRn5+Pc+fO9aq+TqeDWCyGUqmE1WrFoUOHcPLkSa59\n",
              "dnY2zp07h5aWFohEIshkMvB4PPD5fERHR8NkMmHjxo3Q6XQAgNraWhw4cKBbY5FKpVi2bBleffVV\n",
              "FBQUIDY2ltsWFxeHS5cuYefOndDr9SAiVFRU4Ntvv+X6zefzoVQqIRQKkZeXh9TU1N78Su2OBaIP\n",
              "oqKi8OWXX2LTpk1wd3eHu7s74uPjodVqe1X/n//8J3x9feHv7w9vb29kZGQgKiqKa9/U1ITExES4\n",
              "u7vD2dkZn3zyCY4cOQKJRAKZTIasrCyUl5dj4sSJkMvlmDZt2gPDeT+rVq1CXl4eYmJiMHLkSK7c\n",
              "z88PWVlZOHXqFEaPHg1nZ2fMmzcPV65cAQA8+eSTWLVqFSIjI6FQKLBhw4Z2gXqU8IjYZ6qZNrdv\n",
              "34anpycyMjIwffp0e3fHLtgRggEAWCwWvP/++wgNDR22YQAAgb07wPS/8vJyhISE3HfbpEmTsHv3\n",
              "bkREREClUuHQoUMD3LvBhZ0yMYwNdsrEMDZYIBjGRo8CYTAYEBUVhaCgIISGhuKJJ57g5vrX1tZi\n",
              "/vz5CAwMxIQJE9q93RcXF8e1mT59OnJycrhter0eS5YswZgxYxAUFIRvvvnmIQ2NYXqhJ3fxWlpa\n",
              "6NixY9x8mR07dpBarSYiori4ONq8eTMREWVnZ5NKpeLuWn733XdkMpmIiOiHH34gf39/bp9JSUkU\n",
              "GxtLRETFxcWkVCpJq9X27jYjw/RRn6Zu5OTkcP+4R4wYQdXV1dy28PBwOnXqVIc2Go2GBAIBF5CQ\n",
              "kBDKysritsfExNCePXu63YcPPvigQ1lNQwsZTPefdMYwnenT264ffvghFi5ciLq6OphMJnh6enLb\n",
              "Ro0ahfLy8vu2WbBgAQSCtpcuLy+Hv79/l+0AoLW1Fa2tre3KiouLO9RL+uEqMgu1eHqSF14IUyHM\n",
              "zwU8Hq9XY2SGl14HYtu2bSgqKkJGRgZaWlq61Wb//v04ePBgj6YT2Hr33XeRlJTUriwiIqLdc7PF\n",
              "iqs3GqBrMeGrX8rx1S/l8HeVIHqyD56frIKfq6RXr80MD716l2n79u1IS0vDjz/+CIlEAldXVwgE\n",
              "Aty8eZOrU1paCj8/P+75gQMHkJSUhFOnTsHDw4Mr9/PzQ1lZ2QPb2Vq/fj10Ol27x9SpU9vVEfAd\n",
              "kJGoxlfxj+OFMB9IRHyU1enx7/Q/MOtfZ7BoVxb+L7scDQZTb4bODHU9PcdKTk6msLAwqq+vb1ce\n",
              "Gxvb7qLa29ubu6g+cOAAjRkzhkpLSzvsb/PmzR0uqjUaTbf789Zbb3W6vbnVRGl5FbT005/psXVH\n",
              "yf/ttkfgO8fplf/9lTKu3SSj2dLt12OGth7dqa6srISvry8CAgIgk8kAAGKxGL/88gtqamqwbNky\n",
              "lJSUQCQSITU1FbNnzwYACIVCeHp6wtXVldtXRkYGXF1d0dzcjBUrViA3Nxd8Ph9bt27FokWLuh3o\n",
              "xMREpKSkdKvuTZ0B3/2nCofzKvFHTRNX7iYV4blQFaLDVBjvLWfXG8PYIz91oyeBuIuI8PuNBqTl\n",
              "VeH7y1XQNt1bASLIQ4roMB9E/UUFT4Xjw+4uM8gNy0DYMlmsyCzU4nBeJU5erYHRbAUA8HjAjDFu\n",
              "iA5TYd54T0hEbB7kcDDs/8pCvgNmj3XH7LHu0LWY8OOVaqTlVSG7tB7nC7U4X6iFRJSP+RM88UKY\n",
              "DyICXMF3YKdUQ9WwP0I8SEW9HkcuVSEtrxKldffWF/JSOCJqsgrRk1UI9JA99Ndl7IsFogtEhLzy\n",
              "20jLq8QPl2+gwWDmtk3yUSB6sgrPhnrDVSrutz4wA4cFogdazRacuV6Lw3lVOHO9FmZr269O4MBD\n",
              "ZLAS0WE++NtYdzgK+QPSH+bhG/bXED0hFvAxf4IX5k/wQl1TK47+Vo20vEpcrtQh/Vot0q/VQu4o\n",
              "wNOTvLE0wg/jvRX27jLTQ+wI8RAU1TYiLa8K316qwg2dgSufGeiGhFkBmDHGjd3beESwQDxEVivh\n",
              "55I6fJ1dgeNXqmG5c0oV4iXHSnUAFkz0gpDPPpM1mLFA9JOKej32ZpbgQE4FWkwWAIDK2QkrZjyG\n",
              "xeG+GCFmZ6uDEQtEP7utN2L/z2X4/GIpd0dc4STE0gg/xE4bBXcZuxs+mLBADBCDyYK0vCp8er4Y\n",
              "xdq271UQCRzwQpgK8TMDMFoptXMPGYAtMjBgHIV8vPS4H9IT1di9bArC/JxhNFvxdXYF5qb8hH98\n",
              "kYvc0np7d3PYYyeyA8zBgYd54z0xb7wnckvrsftcMU5dreEeU/xdkDArAE+M84ADmyIy4Fgg7Oiv\n",
              "o0bir6NGoqi2CZ+eL0ZaXhV+LbuFlV/+igC3EfjHrAA8P1nFbvQNIHYNMYjUNhjw+cVS7P+5jJsi\n",
              "4iYVY/k0fyyN8IezRGTnHg59LBCDUFOrGQdyKvBZZgmqbrd9Xl0i4uPFcF/8fcZj8HFhnwvvLywQ\n",
              "g5jJYsWx36qx+1wxrlU3AAD4Djw8PdELCbMCMEHFpoY8bOwaYhAT8h0QNVmFhX/xRmaRFrt/KkZm\n",
              "kRbfX76B7y/fwIwxbVNDZgayqSEPCwvEI4DH42FmoBIzA5XIr9Jhz/liHP2tGplFWmQWaTHOS46V\n",
              "swLw9CQ2NaSv2CnTI6ry1r2pIXrjvakhcdNHYVG4L+SOQjv38NE0IIsdb9u2DcHBwXBwcOC+qO+u\n",
              "ztoxD+bjIsHmZ8fj4rq/4X/mBcNNKkbV7RZsPXYNoUknEfmvM1i9/1d8lFGIU1drUHmr7csSmc71\n",
              "+JQpISEBTz31FHg8HlJTUxEfH4+zZ89i3bp1iIiIwIkTJ5CTk4Pnn38eJSUlEAqFmDt3LhYvXowV\n",
              "K1Z02F9n7ZiuOUtEeHX2GPx9xmM4cqkKezNLUFTbhNI6PUrr9Pgx/97icXJHAcZ6yRHiJcc4LxnG\n",
              "esoR7Clj9zls9CgQjo6OWLBgAfc8IiIC27dvBwAcPHiQO1qEh4fD29sbP/30E+bOndthdT1bnbVj\n",
              "us9RyMeSqX5YMtUPdU2tuFbdiGvVDbhW3YCr1Q34U9OEBoMZ2SX1yC65N0XEgQc85jYC47zkGMeF\n",
              "RQ4PuXhYXqgP+GLHtnra7n6LHVsslj6MYGhylYoxI1CMGYFuXJnRbEVRbROu32y4E5S2wNQ1G/Gn\n",
              "phl/appx9Ldqrr6LRMiFZKynDOO85Aj0kEIsGNpHkwFd7LivurPYMXN/IoEDQrzlCPGWc2VEBE1j\n",
              "K67aBORadQOKtc24pTfh4p91uPhnHVdf4MDDaKUU47xkXFjGecmhlA2dBRZ6FYi7ix2np6dDIpFA\n",
              "IpFwix3f/d++s0WL77JdJLk77davX4/ExMR2ZRs3buzNEBi0vZ3rLneEu9wRkcHuXLnBZEFhTRN3\n",
              "utV2VGmErsWEgppGFNQ04tv/3ODqu0nFXEiCPGTwlDvCTSaCUiqGi0T0SE1S7HEgUlJS8PXXXyM9\n",
              "PR3Ozs5ceUxMDHbt2oUtW7YgJycHVVVVUKvVXe6vJ+3EYjHE4vb/G/H5Q/sQbg+OQj4m+igw0efe\n",
              "nXAiQrXOwB1F7h5RSuqaoW1qxfnCVpwv1HbYF9+BB9cRIrhJxVDKxHCTirmwKGViKKViuN35qXAS\n",
              "2j08A7LY8datW7Fr1y5oNBrIZDI4Ojri0qVLUCqVnbbrjuF6H2Kw0BvNKLjZyAWkWNsETWMrtE1G\n",
              "1Dcbu96BDYEDr11g3GzCcvenUiaCUuoIuZOgXy762Y05pt+YLFbUNxuhaWyFpqn1TlBaoW00QtPU\n",
              "Cu2dcm1TK27re/Z9HSK+A9ykIrjdOeoo7wQpwE2KF6b49LrPbOoG02+EfAd4yB3hIe/6c+NGsxV1\n",
              "zfdCc/coczdMWpufDQYzjBYrbugM7Zb9AYDJfs4sEMyjTyRwgJfCCV4Kpy7rGkwW1N058tgGRdvU\n",
              "Ci/nrtt35pE/ZYqOjsaoUaPalVksFmRnZ2Pq1KnD7qKbjf3+Y/f398eaNWu63McjH4j7aWhogEKh\n",
              "gE6ng1wu77rBEMLG3rexs7nCDGODBYJhbLBAMIyNIRkIsViMzZs3d7irPRywsfdt7EPyopphemtI\n",
              "HiEYprdYIBjGBgsEw9gYcoEoLCzEtGnTEBQUhPDwcPz+++/27tKA6GwBiOFk37594PF4HRaz6K4h\n",
              "F4iVK1ciISEBf/zxB95++20sX77c3l0aMAkJCSgoKMDly5excOFCxMfH27tLA6q0tBR79uzp26co\n",
              "aQipqakhmUxGJpOJiIisVit5eHhQYWGhnXs28HJycsjf39/e3RgwFouF5syZQ7m5uaRWq+nIkSO9\n",
              "2s+QOkJUVFTAy8sLAkHbJF4ejwc/P78uFzsYiu4uADFcpKSkYPr06ZgyZUqf9sOmfw9BtgtADAf5\n",
              "+fk4fPjwQ1nkbkgFwtfXF9XV1TCbzRAIBCAilJeXd7nYwVDy3wtADAfnz59HaWkpAgMDAQA3b95E\n",
              "QkICqqursXr16p7t7KGeyA0CarWa9u3bR0REhw4doilTpti3QwMoOTmZwsLCqL6+3t5dsau+XEMM\n",
              "uakbBQUFWL58Oerq6iCXy7Fv3z5MnDjR3t3qd50tADHcREZG4s0330RUVFSP2w65QDBMXwypd5kY\n",
              "pq9YIBjGBgsEw9hggWAYGywQDGODBYJhbLBAMIwNFgiGscECwTA2WCAYxgYLBMPY+H9YO9noAVnf\n",
              "/AAAAABJRU5ErkJggg==\n",
              "\">\n",
              "        \n",
              "      </div>\n",
              "      <script></script>\n",
              "      <script type=\"text/javascript\">\n",
              "        (() => {\n",
              "          const chartElement = document.getElementById(\"chart-1d40b34b-9e5c-4f78-b114-e29572fbfc98\");\n",
              "          async function getCodeForChartHandler(event) {\n",
              "            const chartCodeResponse =  await google.colab.kernel.invokeFunction(\n",
              "                'getCodeForChart', [\"chart-1d40b34b-9e5c-4f78-b114-e29572fbfc98\"], {});\n",
              "            const responseJson = chartCodeResponse.data['application/json'];\n",
              "            await google.colab.notebook.addCell(responseJson.code, 'code');\n",
              "          }\n",
              "          chartElement.onclick = getCodeForChartHandler;\n",
              "        })();\n",
              "      </script>\n",
              "      <style>\n",
              "        .colab-quickchart-chart-with-code  {\n",
              "            display: block;\n",
              "            float: left;\n",
              "            border: 1px solid transparent;\n",
              "        }\n",
              "\n",
              "        .colab-quickchart-chart-with-code:hover {\n",
              "            cursor: pointer;\n",
              "            border: 1px solid #aaa;\n",
              "        }\n",
              "      </style>"
            ]
          },
          "metadata": {}
        },
        {
          "output_type": "display_data",
          "data": {
            "text/plain": [
              "<google.colab._quickchart_helpers.SectionTitle at 0x7b1b6489f280>"
            ],
            "text/html": [
              "<h4 class=\"colab-quickchart-section-title\">Distributions</h4>\n",
              "<style>\n",
              "  .colab-quickchart-section-title {\n",
              "      clear: both;\n",
              "  }\n",
              "</style>"
            ]
          },
          "metadata": {}
        },
        {
          "output_type": "display_data",
          "data": {
            "text/plain": [
              "import numpy as np\n",
              "from google.colab import autoviz\n",
              "df_1261898412436059483 = autoviz.get_df('df_1261898412436059483')\n",
              "\n",
              "def histogram(df, colname, num_bins=20, figsize=(2, 1)):\n",
              "  from matplotlib import pyplot as plt\n",
              "  _, ax = plt.subplots(figsize=figsize)\n",
              "  plt.hist(df[colname], bins=num_bins, histtype='stepfilled')\n",
              "  plt.ylabel('count')\n",
              "  plt.title(colname)\n",
              "  ax.spines[['top', 'right',]].set_visible(False)\n",
              "  plt.tight_layout()\n",
              "  return autoviz.MplChart.from_current_mpl_state()\n",
              "\n",
              "chart = histogram(df_1261898412436059483, *['release_year'], **{})\n",
              "chart"
            ],
            "text/html": [
              "      <div class=\"colab-quickchart-chart-with-code\" id=\"chart-5dfc2e1f-b8f3-4a57-b9a5-7a5b0aa17813\">\n",
              "        <img src=\"data:image/png;base64,iVBORw0KGgoAAAANSUhEUgAAALoAAABgCAYAAACqq2i4AAAAOXRFWHRTb2Z0d2FyZQBNYXRwbG90\n",
              "bGliIHZlcnNpb24zLjcuMSwgaHR0cHM6Ly9tYXRwbG90bGliLm9yZy/bCgiHAAAACXBIWXMAAA9h\n",
              "AAAPYQGoP6dpAAANqElEQVR4nO3de1BU5f8H8PfCwo7A7oJcRHZhDbkNIWs2EeqkpJnF15Q0L5jO\n",
              "woyTVioTNo2XASQbsiZIvE3UWKbMNOQFm9IaEWoYhUIyJ53SwYhbBguYCwgrsPv5/WGe+a2gsOvZ\n",
              "WNjPa2Zn3HOe5+zngTdnnnM8e46EiAiMjXEuI10AY/8FDjpzChx05hQ46MwpcNCZU+CgM6fAQWdO\n",
              "gYPOnAIHnTkFDvow1dXVQSKR4Nq1ayNdCrMBB505BQ76v3p7e0e6hFFrNPzsnDboCQkJWL9+PVas\n",
              "WAEfHx9s3LgRp06dwpNPPgkfHx+Eh4dj9+7dD9zGg9objUYsXboUKpUKcrkckZGR2Ldvn7CeiJCZ\n",
              "mQm1Wg25XA61Wo2tW7cK6//66y+sXLkSKpUKAQEBSE5ORmtr65DjWr16NVJTUy2WVVdXQyaTQa/X\n",
              "AwCuXLmCBQsWYMKECVCpVHjttddw69YtoX1mZiYiIiIgl8sRHByMDRs2oLu7W1ifkpKCZcuW4dVX\n",
              "X4W/vz8WLVo0ZF0jjpzU7NmzycPDg06ePEkmk4m++eYbUiqVdObMGTKZTHTp0iVSq9VUWFhIRER/\n",
              "/vknAaCamhoiIiorK3tg++7ubvr000/pn3/+Ebbv7u5O3333HRERnT59mlQqFdXX1xMRUXt7O1VU\n",
              "VBARkdFopMjISNq0aRN1dXVRZ2cnrVq1ip555pkhx3Xu3Dny8PCgmzdvCsvWrFlDy5cvJyKi1tZW\n",
              "8vPzo7y8PDIajdTa2kpz586lNWvWCO0PHTpE9fX1ZDab6fLlyzR58mTavHmzsF6n05FUKqUDBw5Q\n",
              "b28v3bp1y+bfw3/FqYO+YsUK4f0LL7xg8cskInrnnXdo7ty5RDQw6EO1H8zChQspPT2diIh++OEH\n",
              "8vX1pVOnTlF3d7dFu2PHjlFQUBCZzWZhWVNTEwGgxsbGIcem1Wpp7969RERkMBjI09OTvv/+eyIi\n",
              "ys3Npfj4eIv2Z8+eJXd3d+rv7x90e3l5eTRt2jThvU6nG7ANR+fUQd+yZYvwPioqisaNG0dKpVJ4\n",
              "eXl5UXR0NBENDPpQ7Y1GI23atInCw8NJoVCQUqkkNzc3WrVqlfCZBw4coFmzZpFcLqennnqKTp8+\n",
              "TUREO3fuJFdXV4ttK5VKkslkdO7cuSHH9tFHH1FsbCwREe3fv58iIyOFdevWrSM3NzeL7SoUCpLJ\n",
              "ZNTU1CT0f+yxx2j8+PGkUCho3LhxpFarhW3odDpKTk626ec+Upw66Nu2bRPeJyQkUHZ29n3b3xv0\n",
              "odrn5ORQREQEXblyhUwmExHd2aO//PLLA9oajUbKzc0lmUxGHR0ddPDgQQoNDbV1aNTZ2UkKhYIq\n",
              "KytJq9VSXl6esG779u309NNP37dvRUUFSaVSKisro97eXiK6s0dXqVRCG51ON+g4HJnTHozeKy0t\n",
              "DXv27EFpaSn6+/vR39+Py5cvo7y83Kb2BoMBMpkM/v7+MJvNOHLkCE6fPi30r6qqQnl5OXp6euDu\n",
              "7g65XA6JRAJXV1csXrwYfX19yMjIgMFgAADo9XoUFRUNayxeXl5YvXo1Xn/9dVy9ehU6nU5Yl5qa\n",
              "il9++QX79+9Hd3c3iAiNjY04ceKEULerqyv8/f3h5uaGCxcuYO/evbb8SB0KB/1fSUlJOHz4MDIz\n",
              "MxEQEICAgACsWbMGbW1tNrV/8803ERwcDI1Gg6CgIJSWliIpKUno39XVhfT0dAQEBMDb2xsff/wx\n",
              "iouL4eHhAblcjsrKSjQ0NGDKlClQKBSYMWPGff/oBrNu3TpcuHABS5cuxfjx44XlISEhqKysRElJ\n",
              "CSZPngxvb2/Mnz8fly5dAgA8++yzWLduHRISEqBUKrF161aLP5TRSkLE3xkdi27evInAwECUlpZi\n",
              "5syZI13OiOM9+hhkMpnw3nvvQavVcsj/JR3pAph1GhoaEB0dPei62NhYFBQUID4+HiqVCkeOHPmP\n",
              "q3NcPHVhToGnLswpcNCZU7Br0Ddu3IhJkyZBIpHg4sWL9vwoxh7IrkF/6aWXcPbsWWg0Gnt+DGND\n",
              "smvQZ82aBbVabVPf/Px8kathzswhTi/evn0bt2/ftlhWW1s7QtWwscghgv7uu+8iOzvbYll8fPyg\n",
              "bSdtPmnVtut2/s/muobzuWJt354cqfaRqsUhzrps2bIFBoPB4hUXFzfSZbExxCH26DKZDDKZzGKZ\n",
              "q6vrCFXDxiKr9+i//vrrsJYBwNq1a6FWq9HU1IT58+cjLCzM+goZE4HVQU9JSRnWMgAoKChAU1MT\n",
              "+vv70dLSwvdEYSNm2FMXvV6P5uZm9PT04NKlS7h7iYzBYLD4BjljjmjYQf/iiy+wa9cuXL9+HQsX\n",
              "LhSWK5VKvPXWW3YpjjGxDDvoaWlpSEtLw44dO5CRkWHPmhgTndVnXTIyMmA2m9Hc3Iz+/n5heUhI\n",
              "iKiFMSYmq4P++eefY8OGDXBzc4OLy51jWYlEItwFijFHZHXQ3377bZw/fx6RkZH2qIcxu7D69KKf\n",
              "nx+HnI06Vgc9KSkJu3btgl6vR0dHh/BizJFZPXXZtm0bACA9PR0SiQREBIlEApPJJHpxjInF6qCb\n",
              "zWZ71MGYXTnE1YuM2ZvVe3QXFxdIJJIBy3nqwhyZ1UHv7OwU/t3T04NDhw5xyJnDs3rq4unpKbz8\n",
              "/PyQnp6Oo0eP2qM2xkTz0HP0K1eu3PeOs4w5CqunLj4+PsIc/e61Lnv27BG3KsZEZnXQ//+NiKRS\n",
              "KQIDA/lrb8zhWR10jUaD7u5uIfA+Pj7w8PAQuy7GRGV10CsqKrBkyRIEBgYCAFpaWnDs2DFMnz5d\n",
              "9OIYE4vVQb97luXuDeYrKirwxhtv4McffxS9OMbEYvVZl56eHounKMyYMQNGo1HUohgTm9VB9/Ly\n",
              "wpkzZ4T3paWl8PT0FLUoxsRm9dRl9+7dWLx4sXCmxWw24/jx46IXxpiYrA769evXUV1djZaWFgDA\n",
              "hAkTUFVVJXphjInJ6qlLRkYG/P39ERMTg5iYGPj5+fFdAZjDe+hLAPhLF2w0sDrocrkcFRUVwvtz\n",
              "585BLpeLWhRjYrN6jv7+++/jxRdfRFRUFACgpqYGxcXFg7atqamBTqdDW1sblEolDh48iEcfffTh\n",
              "KmbMBlYHffr06fj9999RWVkJ4M55dG9v70Hbrl27Fq+88gpSUlJw9OhRpKSk4Pz58w9VMGO2sGmO\n",
              "7uPjg8TERCQmJt435Hq9HtXV1Vi1ahUAYMmSJWhsbOQ76rIRYbcHATQ2NmLixImQSu98hEQiQUhI\n",
              "CBoaGgbcJ32wZxjxAS4Tk90ekf7zzz9j5cqVuHr1qrAsLi4OO3fuxJw5cyzabt++fcAzjKKiovD8\n",
              "88/bozSByWRCVVUV4uLiRu2lxmN9DBqNBmlpaQ/9GXYLul6vR1hYGG7cuAGpVAoiwsSJE3H27Nlh\n",
              "7dEHe9yL2Do6OqBUKmEwGKBQKOz6WfbCYxgeu93uIiAgANOmTUNhYSEA4NixY1Cr1YM+3kUmk0Gh\n",
              "UFi87B1y5lzs+rCugoICpKSkICcnBwqFAp999pk9P46x+7Jr0CMjI4XTkIyNJKe+U5dMJkNWVtao\n",
              "nibxGIbHbgejjDkSp96jM+fBQWdOgYPOnMKYCrrRaERSUhIiIiKg1Woxb9484doavV6P5557DuHh\n",
              "4YiJiUF5ebnQLycnB5GRkXBxccGJEycstvmgfqNlDAkJCXjkkUcwdepUTJ06FR9++KFDjiE1NVXo\n",
              "M3PmTIsLALu7u5GcnIywsDBERERYf79PGkN6enro5MmTZDabiYhoz549NHv2bCIiSk1NpaysLCIi\n",
              "qqqqIpVKRb29vURE9NNPP9Eff/xBs2fPpuLiYottPqjfaBnDYMvsydYxfPXVV9TX10dERF9//TVp\n",
              "NBphm9nZ2aTT6YiIqLa2lvz9/amtrW3YNY2poN/r/Pnzwg/L09OT/v77b2HdE088QSUlJRbtBwvE\n",
              "cPrZkxhj+K+Dfi9rx0BE1NraSlKpVAh+dHQ0VVZWCuuXLl1Kn3zyybBrGFNTl3vl5+dj0aJFaG9v\n",
              "R19fn3B3MQCYNGkSGhoaHtjf1n5ietgx3LV582ZMmTIFy5cvR21trb3KHZQtY8jPz0diYqJw9WtD\n",
              "QwM0Gs2Q/e7Hrv8zOpJycnJw7do1lJaWoqenZ6TLsYlYYzh8+DCCg4NBRNi3bx8WLFiA3377TcRK\n",
              "78+WMRQWFuLLL78U9XhoTO7RP/jgAxw/fhzffvstPDw84OvrC6lUiubmZqFNXV3dkI91t7WfGMQa\n",
              "AwAEBwcDuPOdgPXr16O2thbt7e12q/0uW8ZQVFSE7OxslJSUYMKECcLykJAQ1NfX37ffkGybdTmu\n",
              "3NxcmjZtGt24ccNiuU6nszgICgoKGnBQOdhcdjj9xCbmGPr6+qi5uVl4f/ToUQoJCbFb7XfZMoai\n",
              "oiIKCwujurq6AdvLysoacDDa2to67HrGVNAbGxsJAIWGhpJWqyWtVktxcXFERNTc3Ezz5s2jsLAw\n",
              "io6OprKyMqHfjh07SKVSkbu7O/n6+pJKpSK9Xj9kv9Ewhq6uLnr88ccpJiaGYmNjac6cOXTx4kWH\n",
              "HINUKiW1Wi300Wq1wpmVrq4uWrZsGYWGhlJ4eDgVFRVZVRNf68KcwpicozN2Lw46cwocdOYUOOjM\n",
              "KXDQmVPgoDOnwEFnToGDzpwCB505BQ46cwocdOYU/g8Pb0ie9INVLgAAAABJRU5ErkJggg==\n",
              "\">\n",
              "        \n",
              "      </div>\n",
              "      <script></script>\n",
              "      <script type=\"text/javascript\">\n",
              "        (() => {\n",
              "          const chartElement = document.getElementById(\"chart-5dfc2e1f-b8f3-4a57-b9a5-7a5b0aa17813\");\n",
              "          async function getCodeForChartHandler(event) {\n",
              "            const chartCodeResponse =  await google.colab.kernel.invokeFunction(\n",
              "                'getCodeForChart', [\"chart-5dfc2e1f-b8f3-4a57-b9a5-7a5b0aa17813\"], {});\n",
              "            const responseJson = chartCodeResponse.data['application/json'];\n",
              "            await google.colab.notebook.addCell(responseJson.code, 'code');\n",
              "          }\n",
              "          chartElement.onclick = getCodeForChartHandler;\n",
              "        })();\n",
              "      </script>\n",
              "      <style>\n",
              "        .colab-quickchart-chart-with-code  {\n",
              "            display: block;\n",
              "            float: left;\n",
              "            border: 1px solid transparent;\n",
              "        }\n",
              "\n",
              "        .colab-quickchart-chart-with-code:hover {\n",
              "            cursor: pointer;\n",
              "            border: 1px solid #aaa;\n",
              "        }\n",
              "      </style>"
            ]
          },
          "metadata": {}
        },
        {
          "output_type": "display_data",
          "data": {
            "text/plain": [
              "<google.colab._quickchart_helpers.SectionTitle at 0x7b1b648fb640>"
            ],
            "text/html": [
              "<h4 class=\"colab-quickchart-section-title\">Categorical distributions</h4>\n",
              "<style>\n",
              "  .colab-quickchart-section-title {\n",
              "      clear: both;\n",
              "  }\n",
              "</style>"
            ]
          },
          "metadata": {}
        },
        {
          "output_type": "display_data",
          "data": {
            "text/plain": [
              "import numpy as np\n",
              "from google.colab import autoviz\n",
              "df_987432464850102483 = autoviz.get_df('df_987432464850102483')\n",
              "\n",
              "def categorical_histogram(df, colname, figsize=(2, 1.2), mpl_palette_name='Dark2'):\n",
              "  from matplotlib import pyplot as plt\n",
              "  import seaborn as sns\n",
              "  _, ax = plt.subplots(figsize=figsize)\n",
              "  bars = df[colname].value_counts()\n",
              "  plt.barh(bars.index, bars.values, color=sns.palettes.mpl_palette(mpl_palette_name))\n",
              "  plt.title(colname)\n",
              "  ax.spines[['top', 'right',]].set_visible(False)\n",
              "  return autoviz.MplChart.from_current_mpl_state()\n",
              "\n",
              "chart = categorical_histogram(df_987432464850102483, *['show_id'], **{})\n",
              "chart"
            ],
            "text/html": [
              "      <div class=\"colab-quickchart-chart-with-code\" id=\"chart-a2940878-ab6c-4bb7-83dd-fb3f740b539d\">\n",
              "        <img src=\"data:image/png;base64,iVBORw0KGgoAAAANSUhEUgAAAMcAAACWCAYAAABq15yUAAAAOXRFWHRTb2Z0d2FyZQBNYXRwbG90\n",
              "bGliIHZlcnNpb24zLjcuMSwgaHR0cHM6Ly9tYXRwbG90bGliLm9yZy/bCgiHAAAACXBIWXMAAA9h\n",
              "AAAPYQGoP6dpAAANgElEQVR4nO3de2xU5boG8GcYSiHtdABrS0s7LW1Bwq7TdqDdKNkoPcdWyMEb\n",
              "cgs2p7QUDTmpnmPUNOwEiEfYotSgiNoUW28RApaAqFgaLkETg8dQO4hcUmw7RSSgvc3Q9DLz7j/I\n",
              "nm0P80GHWZ01zn5+ySSsmTUf76ysJ2utme/tMoiIgIhuMErvAohCFcNBpMBwECkwHEQKDAeRAsNB\n",
              "pMBwECkwHEQKDAeRAsNBpMBwBFFqaiqqq6v1LgMfffQR7rrrrpuuk5SUhNra2uAUFKIYjn9BK1as\n",
              "wNmzZ/UuI+QxHEQKDMcI2LZtG9LT02EymRAfH4/i4mLvaz///DMWLFgAk8mE9PR07N27d8h7a2tr\n",
              "kZmZiZiYGGRmZuK9997zvrZo0SJUVFR4l+fNm4fY2Fh4PB4AwK5du5Cenn7L+mpra5GUlORddjqd\n",
              "KC0txR133IHJkydj69att/vRw4uQps6dOyfjxo0Tu90uIiI9PT1y7NgxERFJSUmR5ORk+e6778Tt\n",
              "dsuWLVvEZDJJV1eXiIjs2bNHTCaTNDQ0yODgoBw6dEiioqJk7969IiLy1ltvic1mExERp9MpUVFR\n",
              "kpqaKidOnBARkdLSUnnqqaduWWNNTY1MnjzZu1xWViY5OTnicDjE6XRKcXGxGI1Gqamp0Wqz/CEx\n",
              "HBq7cOGCjB07Vnbu3Ond6f8hJSVFNmzY4F12Op0CQL755hsRESkoKJBnnnlmyHvKy8ulsLBQRESa\n",
              "m5vFYDDIlStX5NNPP5X77rtPysvL5cUXXxQREYvFInV1dbes8ffhcLvdEhkZKfv37/e+3tnZKQaD\n",
              "4V8+HDyt0tiUKVOwc+dO1NTUwGKxIDc3Fx9//LH39cTERO+/o6KiAAA9PT0AAIfDccNpUUZGBtra\n",
              "2gAAaWlpSEtLw6FDh1BfX4+CggIUFBTgyy+/xNmzZ3Hx4kXk5+f7Ve+VK1fQ19eHKVOmeJ8zm82Y\n",
              "OHGifx88DDEcI+Dhhx/GwYMHcfXqVTz33HNYsWIFzp07d8v3JScno7m5echzzc3NsFgs3uUHHngA\n",
              "9fX1qK+vR2FhIe6//36cPHkSe/bsQV5eHsxms1+13nnnnYiMjERLS4v3ua6uLnR0dPg1TjhiODR2\n",
              "9uxZfP7553A6nRg9erR3ZzUajbd876pVq/Duu+/i6NGjcLvdOHz4MHbs2IHVq1d71ykoKMDevXvx\n",
              "66+/wmazISoqCnl5eXjllVdQUFDgd72jRo3CE088gfXr1+PixYtwuVx49tlnYTAY/B4r3IzWu4Bw\n",
              "09/fj5deegnLly+HiMBiseD9998f1rdIixcvRldXF9asWQOHwwGLxYKtW7fiscce866Tn58Pl8uF\n",
              "xx9/3LsDFxYW4siRI7cVDgB47bXXUF5ejrvvvhvjxo3D888/j0mTJt3WWOHEIMI/sEDkC0+riBQY\n",
              "jjC0ceNGREdH+3xs375d7/L+MHhaRaTAIweRAsNBpMBwECmERDg4C5RCUUiEo7W1Ve8SiG4QEuEg\n",
              "CkUMB5FCSPzOYV0Qg3uKJuhdBoWBd5Zrd4rOIweRAsNBpMBwECkEHI6WlhYYjUZkZ2d7H/+/m43o\n",
              "j0iTZieTyYTGxkYthiIKGX6Fo7e3F8XFxbDb7YiIiEB8fDyqqqr8+g/7+vrQ19c35DmPR/cvzIhu\n",
              "4Fc4Dh48iM7OTpw+fRoA8Ntvv6G7uxsulwu5ublwu9145JFHsHbtWmXP9KZNm7Bhw4Yhz8VljLnN\n",
              "8olGjl/XHFlZWfjxxx+xZs0a7Nq1CxEREUhISMDFixfx7bffoqGhAcePH8eWLVuUY1RUVKCrq2vI\n",
              "4850hoNCj1/hSEtLw+nTp/Hggw/i66+/RmZmJq5du4a4uDgAwMSJE1FSUoLjx48rx4iMjERMTMyQ\n",
              "x6hR/EsXFHr8Ckd7ezsMBgMeeughvPrqqxAR2O12DAwMALh+PVFXV4ecnJwRKZYomPy65rDb7aio\n",
              "qICIYHBwEEVFRbh69SpycnJgNBoxODiI/Px8rF27dqTqJQoazq2isMK5VURBEBJ/8fDfp69C5fJK\n",
              "vcsgGoJHDiIFhoNIgeEgUgiJaw7Xe/+HXw6+oncZFAYmnX5Os7F45CBSYDiIFDQNR3FxMQwGAzo7\n",
              "O7UclkgXmoWjrq4OERERWg1HpDu/wtHb24ulS5dixowZyMrK8t5m6/Lly9i4cSMqK/lDHoWPgJud\n",
              "AKCsrAybN2+GyWS65Ri+OgHd4vGnDKKgCLjZqbq6GhaLZdj3v960aRPMZvOQR2Ov47aKJxpJfs/K\n",
              "dTqdOHz4MBoaGrBv3z5kZmaiqanJ2xbb2tqK5ORk7Nu3z2dfh68jx/+kLsD/Tno4gI9BdJ2Wv3P4\n",
              "FY729nZMmDABUVFR6O/vR0ZGBg4cOACr1frPAQ0GdHR0YPz48cMu4sk75mJD/EK/CifyRctwBNzs\n",
              "9PtgEIUTv8Ixf/58zJ8//6brhEDvFJEm+As5kQLDQaQQErNyo/5zFiZVanchRaQFHjmIFBgOIoWQ\n",
              "+NM8s2yPIP++VXqXQWFg82v/odlYPHIQKTAcRAoMB5FCwOH46aefMHPmTGRnZyMzMxOLFy9GR0eH\n",
              "FrUR6SrgcCQmJuKrr75CY2MjTp06hcTERKxfv16D0oj0FfBtz+rr672vu91uuFwuREdHK8fwNWVd\n",
              "PGx2otCjSSdgf38/8vLy0NraCqvViv379yvH8HXbs4RJd/lbN9GIC7gTEADGjBmDxsZGXL58GdOn\n",
              "T8c777yjHMPXbc8S4qcF9imIRkDAtz37/cX3mDFjsHLlSnzwwQfKMXzd9swwil+aUegJ+LZnTU1N\n",
              "uHbtGgDA4/Fg9+7dbICisBBwJ2B3dzdmz54N4Ho4bDYbXn/99REpliiYNOkEXLiQ/d8UfniyT6QQ\n",
              "Es1Oc+9Pw+ZK7WZTEmmBRw4iBYaDSIHhIFIIiU7AlX8yoCKXOaXATat1azYW90giBYaDSCHgcNjt\n",
              "dsydOxfTp09HZmYmSkpK0Nvbq0VtRLoKOBxjx47Ftm3bcObMGXz//fdwuVx4+eWXtaiNSFeaNjsZ\n",
              "jUbk5ubi1KlTmhdKFGyaNDv9g8vlQnV1NTZt2qQcw+dtz9gISCFIk2Yn4Ho34NKlS1FQUIBHH31U\n",
              "OYav2541Xb39D0A0UgK+7VljYyOio6OxZMkSxMbGoqqqCgaDQfl+X0eO//qzGX/9M784o8Dp9juH\n",
              "r2Ynh8OBZcuWYeLEibcMBuC7E9DIXFAICrjZyW63o66uDlar1XuDzDlz5uDNN98ckYKJgoXTRyis\n",
              "cPoIURAwHEQKIdEJOKHwvzGtslLvMoiG4JGDSIHhIFIIiW+rogtzMX7Zv+ldBoWB9pV/02wsHjmI\n",
              "FBgOIgWGg0gh4HA4nU4UFhYiNjYW48eP16AkotAQcDgiIiLwwgsvoKGhQYt6iEKGJp2A+fn5aGlp\n",
              "GdYYvqasw637F2ZEN9C0E3A4fN32LCIt0e9xiEaaZp2Aw+XrtmdjpiT4PQ7RSNP0tmfD4avZCcab\n",
              "N0gR6UGTTkCicORXOOx2O+bMmYOsrCzk5OSgqKgIVqsVVqsV99xzD7q7u5GUlISioqKRqpcoaDi3\n",
              "isIK51YRBUFINDut/tNfUKlh4om0wCMHkQLDQaTAcBAp6H7N0dfXhy+++AJutxtGo1HvckKS2+3G\n",
              "iRMnkJeXx210E8PZTikpKXj66aeHNZ7uX+V2d3fDbDajq6vr+q/ldANuo+HRejvxtIpIgeEgUmA4\n",
              "iBR0D0dkZCTWrVuHyMhIvUsJWdxGw6P1dtL9gpwoVOl+5CAKVQwHkQLDQaQQtHCcP38e9957L6ZN\n",
              "m4bc3Fz88MMPPtfbsWMHpk6divT0dJSVlWFgYCBYJepuONvo6NGjGDduHLKzs72P3t5eHarVT3l5\n",
              "OVJTU2EwGNDY2KhcL+B9SYJk3rx5UlNTIyIiu3fvllmzZt2wzoULFyQhIUEuXbokHo9HFi5cKNu2\n",
              "bQtWibobzjY6cuSIZGVlBbewEHPs2DFxOBySkpIiJ0+e9LmOFvtSUMJx+fJlMZlMMjAwICIiHo9H\n",
              "4uPj5fz580PW27x5szz55JPe5c8++0zmzJkTjBJ1N9xtxHD8083CocW+FJTTKofDgYSEBIwefX2e\n",
              "o8FggMViQVtb25D12trakJKS4l1OTU29YZ1wNdxtBADNzc2w2WzIzc3F9u3bg13qH4IW+5Lus3LJ\n",
              "PzabDe3t7TCbzWhvb8eCBQsQGxuLJUuW6F1a2AnKkSM5ORmXLl3C4OAgAEBE0NbWBovFMmQ9i8WC\n",
              "1tZW73JLS8sN64Sr4W6jmJgYmM1mAEBSUhKWL1+O48ePB73eUKfFvhSUcMTFxcFms+HDDz8EAHzy\n",
              "ySdISkpCRkbGkPUWLVqE/fv345dffoGI4O2338ayZcuCUaLuhruNLl26BI/HAwDo6enBgQMHkJOT\n",
              "E/R6Q50m+9LtXgz568yZMzJ79myZOnWqzJw5U5qamkREpLS0VPbt2+ddr6qqStLS0iQtLU1KSkqk\n",
              "v78/WCXqbjjb6I033pAZM2aI1WqVGTNmyLp168Tj8ehZdtCtXr1aJk+eLEajUeLi4iQ9PV1EtN+X\n",
              "OLeKSIG/kBMpMBxECgwHkQLDQaTAcBApMBxECgwHkQLDQaTAcBApMBxECgwHkcLfAf07AS7KSJBd\n",
              "AAAAAElFTkSuQmCC\n",
              "\">\n",
              "        \n",
              "      </div>\n",
              "      <script></script>\n",
              "      <script type=\"text/javascript\">\n",
              "        (() => {\n",
              "          const chartElement = document.getElementById(\"chart-a2940878-ab6c-4bb7-83dd-fb3f740b539d\");\n",
              "          async function getCodeForChartHandler(event) {\n",
              "            const chartCodeResponse =  await google.colab.kernel.invokeFunction(\n",
              "                'getCodeForChart', [\"chart-a2940878-ab6c-4bb7-83dd-fb3f740b539d\"], {});\n",
              "            const responseJson = chartCodeResponse.data['application/json'];\n",
              "            await google.colab.notebook.addCell(responseJson.code, 'code');\n",
              "          }\n",
              "          chartElement.onclick = getCodeForChartHandler;\n",
              "        })();\n",
              "      </script>\n",
              "      <style>\n",
              "        .colab-quickchart-chart-with-code  {\n",
              "            display: block;\n",
              "            float: left;\n",
              "            border: 1px solid transparent;\n",
              "        }\n",
              "\n",
              "        .colab-quickchart-chart-with-code:hover {\n",
              "            cursor: pointer;\n",
              "            border: 1px solid #aaa;\n",
              "        }\n",
              "      </style>"
            ]
          },
          "metadata": {}
        },
        {
          "output_type": "display_data",
          "data": {
            "text/plain": [
              "import numpy as np\n",
              "from google.colab import autoviz\n",
              "df_5126839351885849084 = autoviz.get_df('df_5126839351885849084')\n",
              "\n",
              "def categorical_histogram(df, colname, figsize=(2, 1.2), mpl_palette_name='Dark2'):\n",
              "  from matplotlib import pyplot as plt\n",
              "  import seaborn as sns\n",
              "  _, ax = plt.subplots(figsize=figsize)\n",
              "  bars = df[colname].value_counts()\n",
              "  plt.barh(bars.index, bars.values, color=sns.palettes.mpl_palette(mpl_palette_name))\n",
              "  plt.title(colname)\n",
              "  ax.spines[['top', 'right',]].set_visible(False)\n",
              "  return autoviz.MplChart.from_current_mpl_state()\n",
              "\n",
              "chart = categorical_histogram(df_5126839351885849084, *['type'], **{})\n",
              "chart"
            ],
            "text/html": [
              "      <div class=\"colab-quickchart-chart-with-code\" id=\"chart-aae91547-57f8-40a7-b79b-6666bdb3ace1\">\n",
              "        <img src=\"data:image/png;base64,iVBORw0KGgoAAAANSUhEUgAAAOgAAACWCAYAAADUgcTJAAAAOXRFWHRTb2Z0d2FyZQBNYXRwbG90\n",
              "bGliIHZlcnNpb24zLjcuMSwgaHR0cHM6Ly9tYXRwbG90bGliLm9yZy/bCgiHAAAACXBIWXMAAA9h\n",
              "AAAPYQGoP6dpAAAM60lEQVR4nO3dfUyV9f/H8eeBsw4qIFlDI8BwiS6VDqhkYEmK2s2WpDOTrECU\n",
              "dEvSOTW607UmZYljOTNLjjlXK5OaK10TlzfdeENKTFtHxS9xKFCLRJ3FzeH6/WGdeVTMFDkf/b0e\n",
              "27VxXedzPnt/rp0Xn3Ouc67rslmWZSEiRgoKdAEi0jYFVMRgCqiIwRRQEYMpoCIGU0BFDKaAihhM\n",
              "ARUxmAIqYjAFVMRgCqj4SUtL48UXXwx0GfI3BVTEYAqo+EybNo3t27ezaNEiQkNDCQoKIjQ0lK1b\n",
              "t/q1e+aZZ8jIyABgwYIFDB06lPz8fCIjI+nRowdz5syhubnZ1/6XX34hMzOTW2+9lcjISCZOnMix\n",
              "Y8c6cmjXLAVUfJYvX84999zD3LlzOXXqFK2trWRmZrJixQpfm9OnT7NmzRqmTZvm27Zz507sdjse\n",
              "j4ctW7awbt06Fi1aBEBjYyMjRowgKiqKAwcOcPjwYex2O5mZmR0+vmuSJXKWYcOGWS+88IJvfc+e\n",
              "PZbD4bB+++03y7Isa+XKlVZcXJzV2tpqWZZlzZ8/34qMjLRaWlp8z1m2bJnVq1cvy7Isa926dVZU\n",
              "VJSvvWVZVk1NjQVYHo+nI4Z0TdMMKheVmJhIYmIi77//PgDvvPMOU6dOxWaz+drExMQQHBzsW4+L\n",
              "i8Pj8QBw8OBBjhw5wo033khERAQRERH069cPh8NBdXV1xw7mGmQPdAFilqCg8/9nT58+nYKCAu67\n",
              "7z727t3L+vXr/R73eDx4vV5fSKuqqoiOjgagR48e9OzZk8rKyqtf/HVIM6j46dGjBwcOHPDb9uij\n",
              "j3Ls2DGmTJlCRkYG3bt393u8vr6eV155hcbGRtxuN2+88QbZ2dkAjB07lubmZl566SUaGhoAOHr0\n",
              "KB999FHHDOgap4CKn9mzZ+N2u31vSQFCQkLIzs5mz549fgeH/nHXXXfR1NREdHQ09957LxkZGTz3\n",
              "3HMAhIWF8d1331FdXc2AAQMIDw8nJSWFbdu2deSwrlk2y9I1ieTfvf322yxZsgS32+33+XPBggWU\n",
              "lpby9ddfB7C665dmUPlX9fX1FBUVMWvWLL9wytWngMpF5efnEx0dzYABA5g6dWqgy/l/R29xRQym\n",
              "GVTEYAqoiMEUUBGDKaAiBlNAz1FUVBToEkR8FNBz/Pzzz4EuQcRHARUxmAIqYjD9UOEc2f1s5A82\n",
              "6/9W/CpvoEuQADHrlSgifhRQEYMpoCIGU0BFDKaAihhMARUxmAIqYjAFVMRgCqiIwRRQEYMpoCIG\n",
              "U0BFDKaAihhMARUx2CUH1Ol04nQ6ueOOOwgODvatT5gwgW7durFv3z6/9kePHqVLly4cOXLkvL6W\n",
              "L19OQkICTqeTvn378vjjj/ses9lsHD9+/PJHJHIdueTbD5aXlwNnbi3ndDp96wAzZszA5XKxePFi\n",
              "37bVq1czatSo8+6EVVZWxqJFiygrK6Nbt25YlsXevXuvbBQi16l2eYubk5PDmjVraG5u9m1zuVzk\n",
              "5OSc17ampoawsDDCwsKAMzNmUlKSX5tly5aRnJxMXFwcLpfLt72srIyUlBQSEhJITk7mm2++AeD5\n",
              "559n4cKFAGzYsAGbzea7hd7kyZNZvXp1ewxTpMO1S0CdTifR0dF88cUXAOzYsYPjx4/zwAMPnNd2\n",
              "1KhRhIWFERsby4QJE1i6dCl//PGHXxuHw8GuXbvYuHEjeXl5tLS00NTUxNixY5k/fz4VFRUUFhYy\n",
              "btw4Tp06RXp6OqWlpQBs2rSJu+++27deWlpKenr6BetubGzkxIkTfou3tT32iEj7aLeDRDk5ORQX\n",
              "FwNQXFzMU0895Xdb9H907tyZ7du3s2HDBlJTUykpKSEhIYH6+npfm38+k/bt2xe73U5dXR1ut5ug\n",
              "oCBGjx4NwNChQ+nevTvl5eWkpqZSXl7On3/+ydatW3n11VcpLS3F7XbTpUsXoqKiLlhzQUEBXbt2\n",
              "9VsqfmuvPSJy5dotoJmZmWzZsoXDhw/z8ccfM3ny5Dbb2mw2EhMTycvLY/PmzYSGhrJlyxbf4yEh\n",
              "Ib6/g4ODaWlpabMfODPjDho0iLVr19KpUyfS0tKoqKjgyy+/ZMSIEW3WkZ+fT0NDg9+ScPN/HLjI\n",
              "VdRuAY2IiODhhx9mwoQJOJ1Obr/99gu2++mnn6ioqPCtezwejh07Rq9evS7af58+fWhtbWXTpk0A\n",
              "fPvtt9TV1eF0OgFIT0/n5ZdfZsSIEQQFBZGYmEhhYWGbb2/hTLDDw8P9lmB98SQGueSjuJciJyeH\n",
              "4cOHX/SgzOnTp5k1axZ1dXV06tQJy7J47bXXfEFryw033EBJSQl5eXnMnj2bkJAQPvnkE0JDQ4Ez\n",
              "AZ03b54vkCNHjqSkpIS0tLT2Gp5Ih9NlN8+hy26KScx6JYqIHwVUxGAKqIjBFFARgymgIgZTQEUM\n",
              "poCKGEwBFTGYAipiMAVUxGAKqIjBFFARgymgIgZr19PNrgc3jp5FfGFhoMsQATSDihhNARUxmAIq\n",
              "YjAFVMRgCqiIwRRQEYMpoCIGU0BFDKaAihhM18U9R+jowUQ81vbtIkQuVU32a1fch2ZQEYMpoCIG\n",
              "U0BFDKaAihhMARUxmAIqYjAFVMRgCqiIwRRQEYMpoCIGU0BFDKaAihhMARUxmAIqYrAOC+htt91G\n",
              "ZGQkzc3Nvm1fffUVNpuNmTNnXna/TqeTkydPtkOFIubp0Bk0NjaW9evX+9ZXrlzJoEGDrqjP8vJy\n",
              "wsLCrrQ0ESN1aECzs7MpLi4GoKGhgR07dnD//fcD4PV6mTNnDv3796d///7MmDGDpqYmPB4PkZGR\n",
              "NDU1+frJysqiqKgIAJvNxvHjxwE4ePAgDz30EIMHDyYhIYGlS5detJ7GxkZOnDjht+DV+etijg4N\n",
              "aGpqKlVVVfz66698+OGHjB8/nuDgYABWrFjB7t27+f777ykvL6eyspIlS5YQExOD0+n0zbynTp1i\n",
              "/fr1TJo0ya9vr9fLxIkTWbx4Mbt372bHjh2+PttSUFBA165d/Zam/9VevR0g8h91+EGiJ554glWr\n",
              "VlFcXMzkyZN920tLS8nKysLhcGC325k6dSqbNm0Czsy8LpcLgLVr1zJ8+HBuuukmv37dbjf79+/n\n",
              "sccew+l0kpKSwsmTJ/nxxx/brCU/P5+Ghga/5Ya4W67CqEUuT4ff3ezJJ58kKSmJ+Ph4evfu3WY7\n",
              "m83m+/uRRx4hLy+P2tpaVq1axdy5c89rb1kW3bp1o7y8/JJrcTgcOBwO/43Btgs3FgmADp9Bo6Ki\n",
              "KCgo4PXXX/fbnp6ezurVq2lqaqKlpYX33nuPUaNGARASEsL48eNZsGABlZWVvs+tZ+vTpw/h4eG+\n",
              "mRbg0KFD1NfXX90BiVxFAbk/aHZ29nnbcnNzqaysJCkpCYC0tDS/r1+ys7NJTk5m3rx5vs+tZ7Pb\n",
              "7Xz++efMnDmTJUuW4PV6ufnmm/nggw+u2jhErjZddvMcuuymtBdddlPkOqeAihhMARUxmAIqYjAF\n",
              "VMRgCqiIwRRQEYMpoCIGU0BFDKaAihhMARUxmAIqYjAFVMRgATndzGS5/e6hsB3OQhBpD5pBRQym\n",
              "gIoYTAEVMZg+g56lsbGRjRs34vV6L3hZFTnD6/Wya9cukpOTtZ/acCn7qGfPnjz77LMX7UeXPDnL\n",
              "iRMn6Nq1Kw0NDYSHhwe6HGNpP/279tpHeosrYjAFVMRgCqiIwRTQszgcDubPn3/+1ebFj/bTv2uv\n",
              "faSDRCIG0wwqYjAFVMRgCqiIwRTQvx08eJCUlBTi4+MZPHgw+/fvD3RJxvnrr7/IyMggPj6eO++8\n",
              "k5EjR3Lo0KFAl2Usl8uFzWbjs88+u+w+FNC/Pf300+Tm5nLgwAHmzZtHVlZWoEsyUm5uLm63mx9+\n",
              "+IExY8YwZcqUQJdkpKqqKt59912GDBlyRf0ooMDRo0cpKytj0qRJAIwbNw6Px6PZ4RwhISE8+OCD\n",
              "vpsrDxkyhKqqqsAWZaDW1lamTJnCW2+9dcVfsyiggMfj4ZZbbsFuP3PugM1mIzY2lurq6gBXZrai\n",
              "oiLGjBkT6DKMU1hYSGpqKgMHDrzivnQ2i1yWhQsXcujQITZv3hzoUoyyb98+1q1bx7Zt29qlPwUU\n",
              "iImJoba2lpaWFux2O5ZlUV1dTWxsbKBLM9Kbb75JSUkJpaWldO7cOdDlGGX79u1UVVXRu3dvAOrq\n",
              "6sjNzaW2tpbp06f/9w4tsSzLsoYNG2a5XC7Lsixr7dq11sCBAwNbkKEWL15sJSUlWfX19YEu5Zow\n",
              "bNgw69NPP73s5+unfn9zu91kZWXx+++/Ex4ejsvlYsCAAYEuyyg1NTXExMTQq1cvwsLCgDO/Od25\n",
              "c2eAKzNXWloaM2fOJCMj47Ker4CKGExHcUUMpoCKGEwBFTGYAipiMAVUxGAKqIjBFFARgymgIgZT\n",
              "QEUMpoCKGEwBFTHY/wFer9OI1WjP/gAAAABJRU5ErkJggg==\n",
              "\">\n",
              "        \n",
              "      </div>\n",
              "      <script></script>\n",
              "      <script type=\"text/javascript\">\n",
              "        (() => {\n",
              "          const chartElement = document.getElementById(\"chart-aae91547-57f8-40a7-b79b-6666bdb3ace1\");\n",
              "          async function getCodeForChartHandler(event) {\n",
              "            const chartCodeResponse =  await google.colab.kernel.invokeFunction(\n",
              "                'getCodeForChart', [\"chart-aae91547-57f8-40a7-b79b-6666bdb3ace1\"], {});\n",
              "            const responseJson = chartCodeResponse.data['application/json'];\n",
              "            await google.colab.notebook.addCell(responseJson.code, 'code');\n",
              "          }\n",
              "          chartElement.onclick = getCodeForChartHandler;\n",
              "        })();\n",
              "      </script>\n",
              "      <style>\n",
              "        .colab-quickchart-chart-with-code  {\n",
              "            display: block;\n",
              "            float: left;\n",
              "            border: 1px solid transparent;\n",
              "        }\n",
              "\n",
              "        .colab-quickchart-chart-with-code:hover {\n",
              "            cursor: pointer;\n",
              "            border: 1px solid #aaa;\n",
              "        }\n",
              "      </style>"
            ]
          },
          "metadata": {}
        },
        {
          "output_type": "display_data",
          "data": {
            "text/plain": [
              "import numpy as np\n",
              "from google.colab import autoviz\n",
              "df_6487048226881495117 = autoviz.get_df('df_6487048226881495117')\n",
              "\n",
              "def categorical_histogram(df, colname, figsize=(2, 1.2), mpl_palette_name='Dark2'):\n",
              "  from matplotlib import pyplot as plt\n",
              "  import seaborn as sns\n",
              "  _, ax = plt.subplots(figsize=figsize)\n",
              "  bars = df[colname].value_counts()\n",
              "  plt.barh(bars.index, bars.values, color=sns.palettes.mpl_palette(mpl_palette_name))\n",
              "  plt.title(colname)\n",
              "  ax.spines[['top', 'right',]].set_visible(False)\n",
              "  return autoviz.MplChart.from_current_mpl_state()\n",
              "\n",
              "chart = categorical_histogram(df_6487048226881495117, *['title'], **{})\n",
              "chart"
            ],
            "text/html": [
              "      <div class=\"colab-quickchart-chart-with-code\" id=\"chart-5293f998-9471-4763-9a57-b84f84e2d192\">\n",
              "        <img src=\"data:image/png;base64,iVBORw0KGgoAAAANSUhEUgAAANoAAACWCAYAAAC4h5bMAAAAOXRFWHRTb2Z0d2FyZQBNYXRwbG90\n",
              "bGliIHZlcnNpb24zLjcuMSwgaHR0cHM6Ly9tYXRwbG90bGliLm9yZy/bCgiHAAAACXBIWXMAAA9h\n",
              "AAAPYQGoP6dpAAAOpUlEQVR4nO3de1BU5f8H8Pcui1j8uAhIoCjOIuhAwyIXo1ITvBVj46Uxc0jx\n",
              "ikw52S+7SBTm/TvWYE7m+K0hdMoYCx0zE0ocKMpSKi5dRkMaQEbM8oKItiD7/P5g3F/rLgRyeM7u\n",
              "8f2a2Rl3z9njZ8+cN8+ec55nH50QQoCI+pVe7QKI7gQMGpEEDBqRBAwakQQMGpEEDBqRBAwakQQM\n",
              "GpEEDBqRBAzaHWDPnj0YNWpUt+uUlpZCp9Phxo0bkqq6szBoGjRx4kS88sor1uepqak4deqU9fnC\n",
              "hQvx5JNPqlHaHYtBI5JBkKYsX75c6PV64e7uLjw9PYWnp6fIy8sTQ4cOFUIIsXHjRmEwGITBYLAu\n",
              "r6+vFyUlJQKAaG9vt25r9+7dIjo6Wnh7e4vIyEiRn5+v1sdyeQyaBj300EMiKyvL+vyfQRNCiLS0\n",
              "NJGammrznluDlpeXJ4YNGybKy8tFR0eHKCsrE15eXqKsrEzOh9AYfnUkh3JycpCVlYX4+Hjo9XqM\n",
              "GzcOc+fOxa5du9QuzSUxaORQTU0NVq1aBV9fX+sjPz8fZ8+eVbs0l2RQuwBSnl7f/d/Pf1sOAEFB\n",
              "QVi7di0WLFigVFl3NLZoGhQUFITffvut2+W1tbXo6Ojocp1nn30W69evR3l5OSwWC8xmM8rLy/HD\n",
              "Dz/0R8max6Bp0KpVq3Dq1CkMGjQIvr6+dsvT09MBAAEBAfD19UVDQ4PdOitXrsRrr72GjIwM+Pn5\n",
              "YejQoXjhhRfQ2tra3+Vrkk4I/mYIUX9ji0YkAYNGJAGDRiQBg0YkAYNGJAGDRiQBg0YkgeaCtm3b\n",
              "NrVLILKjuaDV19erXQKRHc0FjcgZMWhEEmiur2N0ijfunz9I7TJIA/47T7nTELZoRBIwaEQSMGhE\n",
              "EqgStL///hszZ85EREQETCYTpkyZgtOnTwMANm3ahFGjRkGv1+PAgQNqlEekONVatPT0dJw6dQpV\n",
              "VVWYMWMGli5dCgCYPHkyCgsLMWHCBLVKI1KcKkEbOHAgUlJSoNPpAACJiYmoq6sDAIwdOxZGo7FH\n",
              "2zGbzbhy5YrNw2LR1EVU0ginOEfbtm0bZsyY0ev3bd68GT4+PjaPP2vb+qFCor5RPWibNm3C6dOn\n",
              "sXnz5l6/NzMzE83NzTaPwWED+qFKor5R9Xcd33jjDezfvx/FxcW4++67e/1+Dw8PeHh42Lym1+uU\n",
              "Ko9IMaoFLScnB/n5+SguLnb4k2hEWqJKF6zGxkYMGzYMRqMRXl5eADpbp+PHj2PDhg3YuXMn/vzz\n",
              "T3h5eWHgwIGoqKjA4MGDe7RtdsEipSjZBYt9HYm6wL6ORC5Gc5NcTB69FDnzctQug8gGWzQiCRg0\n",
              "IgkYNCIJNHeO1rr7e5wrel3tMkgDgn59QbFtsUUjkoBBI5LAKYNWVFSE+Ph4REdHIzExEVVVVWqX\n",
              "RNQnTneOdunSJaSmpuKrr75CVFQUysrKkJqaip9//lnt0ohum9O1aLW1tfD390dUVBQAYPz48Who\n",
              "aMCPP/6ocmVEt8/pghYeHo4LFy7g2LFjAICDBw+ipaXFOgL7nxyNsO4QFskVE/07pwuaj48PCgoK\n",
              "kJmZibi4OHzxxReIjIyEwWD/LdfRCOvK62dUqJqoe07fe99sNiMoKAjl5eUYOXKk3TKz2Wzz2nMj\n",
              "UrAhqPc/i0B0KyXvozndxRAAaGpqQnBwMABg/fr1SE5OtgsZ4HiEtZvO6RppIuf76ggA2dnZGD16\n",
              "NEaOHIn6+nrk5uaqXRJRnzhli/buu++qXQKRopyyRSPSGgaNSAKn/OrYF55p8QjKUe5qEZES2KIR\n",
              "ScCgEUng9Deseys+diaSH1qqdhmkAVu2TldsW2zRiCRg0IgkYNCIJOhV0LqbEnfRokWIjo5GTEwM\n",
              "EhIScPToUYfbqKurg5ubG2JiYqyP2tpa6/LXX38d9957LyIjIzFr1ixcvnz59j8dkZPo9X209PR0\n",
              "PPLII9DpdNi+fTuWLl2K0tJSbN261TorTEVFBSZNmoS//voLer19lr28vFBZWWn3+pEjR5CXl4fj\n",
              "x4/Dy8sLGzZsQFZWFt5+++1efzAiZ9KrFq27KXH/OfVSc3PzbRVTVVWFcePGWWeYSUlJwfvvv9/l\n",
              "+o4GfgoLB36S8+nTOdqtU+KuXr0aYWFhmD17Nvbt22dtzbKzs7Fz507req2trUhISEBsbCzWrVuH\n",
              "jo4OAEBcXByKi4tx7tw5CCGwZ88etLS04OLFiw7/f0cDP5v++K0vH4moX9z2fbRNmzbh008/xdGj\n",
              "R+1m6ywuLkZmZia++eYbDBhgO9Wt2WxGc3MzAgMDcfHiRcydOxdTpkzBiy++CADYsWMH3nvvPbi5\n",
              "uWHWrFnW6XO9vb3tanA08DNpwpOYlJR+Ox+JyIbq99FuTolbWFjocErcyZMno6WlBT/99JPdMg8P\n",
              "DwQGBgIA/Pz8sHjxYpSVlVmXP/XUU/j+++9x/PhxTJw4ESEhIQ5DdnNb3t7eNg+dg3NCIrX1+qi8\n",
              "OSXukSNHrOdl7e3t1quPAHDixAmcP38eRqPR7v3nz59He3s7gM4Waf/+/RgzZox1eVNTEwDg2rVr\n",
              "yM7OtrZ0RK6sV1cdGxsbsWrVKhiNRiQlJQHobFVKSkqQlpaG5uZmGAwGeHp6oqCgAIMGdc68mZ2d\n",
              "jSFDhiAjIwNff/01srOz4ebmhhs3biA5ORlZWVnW/2Pq1KmwWCxoa2vD/PnzsWLFCgU/LpE62NeR\n",
              "qAuqn6MRUe9obuDnhIlGbMlR7i8RkRLYohFJwKARScCgEUmguauOi6J0yEzg3w/qu4hdHYpti0ck\n",
              "kQQMGpEEigXtwoULNoM5IyIiYDAY7HreX716FdOmTUNAQIDN0JqbOPCTtEixoPn7+6OystL6uDlA\n",
              "1M/Pz2Y9d3d3vPTSSyguLrbbxs2Bn99++y1+/fVXxMXF2XTPInJV/fbVMTc3F0uWLLF73cPDA8nJ\n",
              "yQ5bs94O/CRyFf0StGPHjuHSpUuYPr2zh8atAz+70tuBnw6n1uUAa3JC/dIFKzc3FwsWLLBOh7tu\n",
              "3boevS8pKQnPP/88pk+fbh34CcDhtLpA5wjrtWvX2rxmCuhD4UT9RPH7aFevXkVwcDDKy8sxevTo\n",
              "Lterq6tDTExMtxc7vvvuO8yZMwdnzjiel9rRCOsV9/nglft4MZX6Tsn7aIq3aHv37oXJZOo2ZN25\n",
              "Oa1uTwZ+OpxalxkjJ6T4YenoIsit52jR0dG4//77ceXKFYSEhGD+/PnWZVOnTkVUVBRMJhPGjRvH\n",
              "gZ+kCeyCRdQFdsEicjEMGpEEmhthPWja/yIiJ0ftMohssEUjkoBBI5JAc1cd/2daAnyfmKR2GaQB\n",
              "jYv+o9i22KIRScCgEUnAoBFJIC1oU6dOtU69O378eFRUVKC9vR0zZ86EyWTC7NmzcePGDQCdU/hO\n",
              "mDABly5dklUeUb+SFrSPPvoI1dXVqKysxHPPPYeFCxfi888/h5+fH6qqquDr64uioiIAwPr167Fi\n",
              "xQrrJBlErk7aDetbp97V6XRwd3fHtWvXAHRO0zRgwABUV1fj5MmT2Lhx479u09EwGXRo6iIqaYTU\n",
              "niELFixASUkJAODw4cOIiopCQUEBTCYTEhMTkZycjIcffhi7du3q0fYcDfx0Nw5RumyiPlPlPtru\n",
              "3buxd+9eHD582Ob1N998EwaDAdOnT8fLL78Ms9mMp59+GsnJyQ6346hFGzI7Gb6pk/utdrpzKHkf\n",
              "TZW+jmlpacjIyMCFCxfg7+8PAKivr8fhw4dRVFSEtLQ0pKenIy4uDomJifjll18cbsfRwE+46fq7\n",
              "fKJek3Ix5PLlyzh79qz1+YEDB+Dv72/zU3QrV67E1q1bodfr0draCp1OZ/03kauT0qI1Nzdjzpw5\n",
              "uH79OvR6PQYPHoxDhw5Bp+tsfT788EOYTCZERUUBAFavXo1ly5ahra0Nr776qowSifoV+zoSdYF9\n",
              "HYlcjOYGfqZHjUeOgn+JiJTAFo1IAgaNSAIGjUgCTZ2jmc1mFBYWoqOjA25ubmqX45Q6Ojpw4sQJ\n",
              "jB07lvuoGz3ZT6GhoVi5cmWPtqepy/tXrlyBj48Pmpub4e3trXY5Ton7qGeU3k/86kgkAYNGJAGD\n",
              "RiSBpoLm4eGBNWvW2PfoJyvuo55Rej9p6mIIkbPSVItG5KwYNCIJGDQiCVwyaDU1NXjggQcQERGB\n",
              "hISELn/qIDc3F+Hh4QgLC8OyZcvQ3t4uuVL19GQflZaW4q677kJMTIz1cf36dRWqVc8zzzyDESNG\n",
              "QKfTobKyssv1+nwsCReUlJQk8vLyhBBCfPzxxyI+Pt5und9//10EBweLpqYmYbFYxKOPPiq2b98u\n",
              "uVL19GQflZSUCJPJJLcwJ/Pll1+KM2fOiNDQUFFRUeFwHSWOJZcL2h9//CG8vLxEe3u7EEIIi8Ui\n",
              "7rnnHlFTU2Oz3pYtW8Ty5cutzz/77DPx4IMPSq1VLT3dRwza/+suaEocSy731fHMmTMIDg6GwdDZ\n",
              "H1qn02H48OFoaGiwWa+hoQGhoaHW5yNGjLBbR6t6uo8AoLa2FrGxsUhISMCOHTtkl+oSlDiWNNV7\n",
              "n3onNjYWjY2N8PHxQWNjI1JSUhAQEIDHH39c7dI0x+VatGHDhqGpqck6IYYQAg0NDRg+fLjNesOH\n",
              "D0d9fb31eV1dnd06WtXTfeTt7Q0fHx8AQEhICObNm4eysjLp9To7JY4llwtaYGAgYmNj8cEHHwAA\n",
              "9u3bh5CQEIwcOdJmvcceewwHDx7EuXPnIITAzp078cQTT6hRsnQ93UdNTU2wWCwAgJaWFhw6dAhj\n",
              "xoyRXq+zU+RYut2TRzWdPHlSJCYmivDwcBEXFyeqq6uFEEIsWbJEfPLJJ9b13nnnHWE0GoXRaBSL\n",
              "Fy8WbW1tapUsXU/20VtvvSUiIyNFdHS0iIyMFGvWrBEWi0XNsqVLT08XQ4cOFW5ubiIwMFCEhYUJ\n",
              "IZQ/ltjXkUgCl/vqSOSKGDQiCRg0IgkYNCIJGDQiCRg0IgkYNCIJGDQiCRg0IgkYNCIJGDQiCf4P\n",
              "TxHTseHXDG0AAAAASUVORK5CYII=\n",
              "\">\n",
              "        \n",
              "      </div>\n",
              "      <script></script>\n",
              "      <script type=\"text/javascript\">\n",
              "        (() => {\n",
              "          const chartElement = document.getElementById(\"chart-5293f998-9471-4763-9a57-b84f84e2d192\");\n",
              "          async function getCodeForChartHandler(event) {\n",
              "            const chartCodeResponse =  await google.colab.kernel.invokeFunction(\n",
              "                'getCodeForChart', [\"chart-5293f998-9471-4763-9a57-b84f84e2d192\"], {});\n",
              "            const responseJson = chartCodeResponse.data['application/json'];\n",
              "            await google.colab.notebook.addCell(responseJson.code, 'code');\n",
              "          }\n",
              "          chartElement.onclick = getCodeForChartHandler;\n",
              "        })();\n",
              "      </script>\n",
              "      <style>\n",
              "        .colab-quickchart-chart-with-code  {\n",
              "            display: block;\n",
              "            float: left;\n",
              "            border: 1px solid transparent;\n",
              "        }\n",
              "\n",
              "        .colab-quickchart-chart-with-code:hover {\n",
              "            cursor: pointer;\n",
              "            border: 1px solid #aaa;\n",
              "        }\n",
              "      </style>"
            ]
          },
          "metadata": {}
        },
        {
          "output_type": "display_data",
          "data": {
            "text/plain": [
              "import numpy as np\n",
              "from google.colab import autoviz\n",
              "df_7985672002828111059 = autoviz.get_df('df_7985672002828111059')\n",
              "\n",
              "def categorical_histogram(df, colname, figsize=(2, 1.2), mpl_palette_name='Dark2'):\n",
              "  from matplotlib import pyplot as plt\n",
              "  import seaborn as sns\n",
              "  _, ax = plt.subplots(figsize=figsize)\n",
              "  bars = df[colname].value_counts()\n",
              "  plt.barh(bars.index, bars.values, color=sns.palettes.mpl_palette(mpl_palette_name))\n",
              "  plt.title(colname)\n",
              "  ax.spines[['top', 'right',]].set_visible(False)\n",
              "  return autoviz.MplChart.from_current_mpl_state()\n",
              "\n",
              "chart = categorical_histogram(df_7985672002828111059, *['director'], **{})\n",
              "chart"
            ],
            "text/html": [
              "      <div class=\"colab-quickchart-chart-with-code\" id=\"chart-de3f1f1e-36ad-4823-9eea-0614719499c6\">\n",
              "        <img src=\"data:image/png;base64,iVBORw0KGgoAAAANSUhEUgAAARwAAACWCAYAAAAMqDfqAAAAOXRFWHRTb2Z0d2FyZQBNYXRwbG90\n",
              "bGliIHZlcnNpb24zLjcuMSwgaHR0cHM6Ly9tYXRwbG90bGliLm9yZy/bCgiHAAAACXBIWXMAAA9h\n",
              "AAAPYQGoP6dpAAAaIElEQVR4nO3de1RVZfrA8e+Bk0YK4oxaAsER8BIkHg4XEUFHcoRcagxddDRT\n",
              "tEGHmanGmvHyUyHTnNLMBpfLLqiVuHIRSS5T85I42uCgCNkNAgXFEEtCROV2YP/+YLnHIxfBOW4u\n",
              "Pp+1WEv2fvd+n/N6eHj35uz30SmKoiCEEBqwae8AhBB3D0k4QgjNSMIRQmhGEo4QQjOScIQQmpGE\n",
              "I4TQjCQcIYRmJOEIITQjCUcIoRlJOKLTMpvN6HQ60tLSOHz4MD179qSurq69wxItkIQjuoTQ0FCu\n",
              "XLmCra3tHesjPj6ekJCQO3b+u4EkHHFXqKmpae8QVLW1te0dQruRhCM6jZ9++omoqCgcHR1xd3dn\n",
              "27Zt6r60tDR0Oh1msxn472xkyZIlODk5YTQaAcjJyWHChAncf//9ODs7Exsby9WrV9Xz/PLLL8TG\n",
              "xjJgwADs7e0ZMmQIn3/+OUlJSbz66qukp6fTs2dPevbsyeHDhwFIT08nNDSU3r17M2DAABYsWEB1\n",
              "dbV6ToPBQFxcHBEREdjb2/PGG29oMFodk769AxCitZ5++mlsbGw4ffo0AM8880yL7Y8ePcq4ceM4\n",
              "ffo09fX1XLx4kdDQUBYtWkRKSgoVFRVMmTKFF154gXfffRdFUYiMjKRnz54cOnSIBx98kIKCAqqq\n",
              "qggPDycvL4/9+/dz5MgRtY+zZ88yduxYVqxYwYEDBzhz5gyRkZFUVVWxdu1atd3bb7/N9u3bCQoK\n",
              "orKy8o6MT6egCNEJnDt3TgGUkydPqttOnjypAMrBgweVgwcPKoBSW1urKIqixMXFKU5OTkp9fb3a\n",
              "/o033lCCgoIsznvkyBGlW7duitlsVo4dO6bodDrlp59+ajKGuLg4ZeTIkRbbXn31VcVoNFps++ST\n",
              "TxQ7Ozu1bzc3N2XBggW3/+K7EJnhiE7h3LlzAAwYMEDdduO/m+Lm5oZOp1O/z8vLIzMzE0dHR3Wb\n",
              "oijodDpKSkooKCigd+/e9O3bt9VxFRUV4eHhYbHN09OTyspKfv75Z/r169eqWO8Wcg9HdAouLi4A\n",
              "FBYWqttu/HdTbGws394PPPAAISEhXLp0Sf0qLy+nqqoKZ2dnDAYDZWVlXLx4sVXnA3jwwQfVS7zr\n",
              "Tp06hZ2dnUXiaurYu5GMgugUnJ2deeSRR/j73/9OWVkZZWVlLFq0qE3niI6OJisri/Xr13Pt2jUU\n",
              "RaGoqIjU1FQA/P39CQ4OJjo6Wp1RFRQU8P333wMNCevs2bNUVVWp55w6dSq5ubkkJCRQU1PDqVOn\n",
              "WLJkCc8++6zF7Eo0kIQjOo0tW7bQrVs3DAYDJpOJyZMnt+l4V1dX0tPT2bdvHx4eHjg6OhIeHs7X\n",
              "X38NgE6n49NPP6V///6MGDECe3t7xo8fT1FREQCTJ09m8ODBODk54ejoyJEjR3Bzc2Pv3r1s27aN\n",
              "fv36ERYWxqOPPsrrr79u9dffFegURdY0FkJoQ2Y4QgjNSMIRQmhGEo4QQjOScIQQmpGEI4TQjCQc\n",
              "IYRmJOEIITQjCaeLeuutt9o7BCEakYTTRZ05c6a9QxCiEUk4QgjNSMIRQmhG1sPpoq6+f5ySPava\n",
              "OwzRRTzw3d+sch6Z4QghNCMJRwihGUk4QgjNSMIRQmimXRKOwWBg8ODBGI1GBg8ezD/+8Y9WHafT\n",
              "6bh06dL/3H9aWhp79uxpdn98fDwvvPBCm855O8fcHEdxcTGhoaFtOocQnUm7/ZVq27ZtGI1Gfvzx\n",
              "R7y8vAgLCyMwMPCO92s2m0lLS+PSpUtERETc8f5acnMcTk5OanE1Ibqidr+kcnZ2ZsiQIeonY/Pz\n",
              "8xk7diw+Pj4YjUZ1gevrVq9eja+vL4MGDSIpKUndfuzYMcLCwvD398fX15fk5GSgYWV/R0dH5s+f\n",
              "j8lkYt26dWzYsIGkpCSMRiPLli1rdawzZ860KG720ksvER8f36jdd999x8MPP8zu3bvVmAMDAzGZ\n",
              "TERERHDmzBmys7MbxXE91uvS09MJCQlh2LBh+Pj48Omnn7Y6ViE6onb/HE5OTg6lpaX85je/AWDa\n",
              "tGnMmjWLOXPmkJeXR1BQEL6+vri5uQENl1VZWVmcPn0af39/Ro4ciaOjIzExMezatYv+/ftz8eJF\n",
              "TCYTwcHBAJSXl+Pt7c1rr70GoJYIuTF5WEtaWhqxsbFs2bIFk8nE1q1byc3NJT09HVtbWz788ENi\n",
              "Y2P57LPPmDt3rkUcN5Y9+eWXX4iMjOTjjz8mNDSU+vr6Zi8nq6urLUrLAtQp9VZ/bUL8r9ot4Uye\n",
              "PBkbGxtyc3N588036du3LxUVFZw4cYIvv/wSgIEDBxISEsLhw4fVhPPss88C4O7uzqhRo/jXv/5F\n",
              "nz59OH36NI8++qhFH7m5ubi7u3PPPffw9NNP3/HX9MUXX7Bnzx727t2Lq6srAKmpqRw7dgw/Pz8A\n",
              "6urqWnWu9PR0Bg8erN7TsbGx4Ve/+lWTbVeuXMnLL79ssc3vXtfbfRlC3DHtfg9n//79TJw4kbCw\n",
              "MAwGQ6N2t6rto9PpUBQFb29v/v3vfzfaX1hYyH333WeVQmR6vd4iYVRVVdGzZ0/1e09PT3Jycjh6\n",
              "9KiacBRFYeHChcTExPzP/Tdn4cKFzJs3z2LbPMP4O9afELer3e/hjB07lj/+8Y8sXrwYe3t7TCYT\n",
              "mzZtAhru5xw5coRRo0ap7a/vKyws5PDhw4SGhhIcHExBQQH79+9X22VnZ1NTU9Nknw4ODpSXl7c5\n",
              "Vk9PTzIyMgAoLS1l165dFvtdXV05cOAAy5cvV+OMjIxkw4YN/PLLLwDU1taSlZV1yziCg4PJy8tT\n",
              "byLX19er57hZ9+7dcXBwsPiy1bX7f60QjbT7PRyAJUuW4OnpSWZmJklJScydO5d169ah0+l47733\n",
              "1NkCNFyS+Pr6cvXqVf75z3+qs6LPPvuMl156iRdffJHa2lpcXV0b3XC+7ne/+x0ffvghRqORqKgo\n",
              "li5d2qhNYmIiH3/8sfr9vHnziImJ4YknnuChhx7C3d2doKCgRsf179+fL774goiICCoqKnjuueco\n",
              "LS1lzJgxQMNfyWbNmoWvr2+jOJ555hn1PL1792b79u28+OKLVFRUYGNjwyuvvMLEiRNvZ4iF6BCk\n",
              "EF4XNefXo3j5fklOwjrk4U0hRKcjCUcIoRlJOEIIzUjCEUJopkP8lUpYX48Z/jywxjo3+oSwFpnh\n",
              "CCE0IwlHCKEZSThCCM3IB/+6KH9TJGGjn23vMEQX8fqbE6xyHpnhCCE0IwlHCKEZSThCCM1IwhFC\n",
              "aKbDJ5xPPvkEPz8/jEYjQ4YMISwsjPr6huUzDQYD2dnZ7Rrfpk2b0Ol0rV78vCPELER76dCfND5/\n",
              "/jwxMTFkZmaqS4yeOHHilqsAaikxMZFHHnmExMRETUq8mM1m9PoO/d8mRLM69AznwoUL2NraWqzl\n",
              "azKZLBLOJ598wogRIxgwYADLly9Xt69Zs4aAgACMRiMBAQGkp6er+wwGA0uXLm3yuJKSEp566ikC\n",
              "AwMZOnQoixcvbja+3NxcCgoK+OCDD0hNTeXy5cvqvtZUXEhISGDkyJH8/PPPLfZrMBiYP38+gYGB\n",
              "zJgxow0jKETH0qF/Vfr4+BASEoKbmxujR48mODiYqVOn4uzsrLa5dOkS6enpXLx4EQ8PD6Kjo3F2\n",
              "dmb69OnqOr9Hjx5l5syZ5OTk3PK4GTNmsGjRIkaPHo3ZbGbChAkkJyfz5JNPNoovMTGR6dOn4+Tk\n",
              "RFhYGB999BExMTG3rLhQX1/PvHnz1GVR7ezsCA8Pb7Hf0tJS/vOf/zQ5u2uqaoNSL1UbRMfToROO\n",
              "jY0NKSkp5OTkcOjQIXbv3s2KFSs4fvw4np6eAEydOhWAPn364O7uTkFBAc7OzmRlZbFixQpKS0vR\n",
              "6/Xk5uZSWVmJnZ1ds8c5Ojpy4MABLly4oMZw5coVcnNzG8VmNpv54IMPOHToEACzZs3ilVdeISYm\n",
              "5pYVF2JiYvD19SUlJQUbGxuuXr16y35nzpzZ7KVkU1Ub+j8wuJWjLIR2OnTCuW7IkCEMGTKEOXPm\n",
              "EBERwY4dO9TZy7333qu2s7W1xWw2U1NTQ1RUFAcPHiQgIIDLly/Tq1cvqqur1YTT1HHXP3R99OhR\n",
              "i/1N2blzJ5cuXSI8PBxoqM5QXFzMN998c8vXM3r0aPbt20dJSQlOTk6t6vfG6hA3a6pqw5hRd74s\n",
              "jhBt1aHv4fz4449qjSqAsrIyCgoK8PDwaPG4qqoqampq1MXXExISWtVfz549GTNmjEWt8+LiYs6d\n",
              "O9eobWJiImvXrqWwsJDCwkLOnDnDvHnzSExMvGXFhenTp7N06VLCwsIoKChoU79Naapqg84KZXGE\n",
              "sLYO/a40m80sW7aMQYMGYTQaCQ0NZcaMGTz22GMtHufg4MDy5csJDAzEz8+Pbt26tbrPpKQk8vPz\n",
              "efjhhxk6dChRUVGUlpZatCkuLubAgQON7utMmzaNLVu20KNHD7Zv386CBQvw8fHBZDJZJE6AJ554\n",
              "gjfeeINx48aRk5PTqn6F6Ozk4c0uSh7eFNYkD28KITodSThCCM1IwhFCaEYSjhBCM53iczii7Ub9\n",
              "xp3X11jnRp8Q1iIzHCGEZiThCCE0IwlHCKEZ+eBfFxXtrWNhgPw+EdYxaHOdVc4j70ghhGYk4Qgh\n",
              "NCMJRwihGUk4QgjNSMIRQmimQyec2tpaXn75ZYYMGYK3tze+vr5ERkaqZVZ27NjBX//6VwDS0tIw\n",
              "Go0AFBYW4ujoaJUYUlNTOXr0aItttm3bhr+/P4MHD8bPz4+JEyfy9ddfA6DT6SzWMxbibtahH22I\n",
              "jo7mypUrpKen07t3bwD2799Pbm4uRqORSZMmMWnSpDvWv9lsJjU1FaPRSFBQUJNtNm3axMqVK0lN\n",
              "TcXLywuAzMxMiouLGTp06B2LTYjOqMPOcPLy8ti+fTsbN25Ukw3A2LFjmTx5MgCbN28mMjKy2XO8\n",
              "9NJL+Pj44O3tzf79+9Xtn3/+OSEhIfj5+REYGMjBgweBhlmSt7c3s2fPxmg0kpSUxI4dO1i1ahVG\n",
              "o5H33nuvUR9xcXGsXbtWTTYAfn5+6lrHAOvXrycwMJABAwawadMmi/iul7IZNWqUxaLpOp2OV199\n",
              "tcnjblZdXc3ly5ctvuqkaIPogDrsDCcrKwtPT0+LagdtUV5ezkMPPcTq1as5evQokyZN4tSpU/z8\n",
              "88/Ex8fz+eef4+DgQH5+PqGhoRQWFgLw/fffs379ehITEwE4ePAgRqORF154oVEfP/30E0VFRYwY\n",
              "MaLFWLp3705GRgY5OTkEBAQwffp09Ho98+fPZ/Xq1QB89NFHPP/88+zZs+eWx92sqaoNw/q0ZbSE\n",
              "0EaHTTg3O3XqFI8//jiVlZUEBwe3+BsfQK/XM3PmTACCgoJwcnIiKyuLb775hvz8fEaNGqW2tbGx\n",
              "4ezZswC4u7szevRoq8Y+bdo0oKH6hF6vp6SkBBcXF/bt20dCQgIVFRWNFlpv6bibNVW14c/De1n1\n",
              "NQhhDR024fj6+pKfn09ZWRm9e/fGw8OD7OxsNm/eTGpq6m2dU6fToSgKv/3tb9m6dWuj/T/++GOL\n",
              "5Vhu1q9fP1xcXEhPT2f8+PHNtmuqJM3Zs2f585//zLFjx/Dw8ODkyZMWSbC545rSvXt3unfvbrHN\n",
              "tsNeLIu7WYd9Ww4cOJDHHnuM2bNnW/yV5+rVq6063mw28+GHHwKQkZFBcXExRqOR8PBw9u/fz8mT\n",
              "J9W2GRkZzZ7HwcGB8vLyZvfHx8czb948i6qeWVlZ7N27t8X4ysvLueeee+jfvz+KorBu3bpWvS4h\n",
              "OrMOO8OBhpvCK1asYPjw4ej1enr37k3fvn2ZP3/+LY/t1asX33zzDcOGDcNsNrN161bs7e2xt7dn\n",
              "69atzJkzh2vXrlFTU4Ovr2+TMx5oqCE1c+ZMUlNT+dOf/sSzz1pWQpg9ezZ2dnZMmzaNK1euoNfr\n",
              "8fDwYOXKlS3GN3ToUKZMmYK3tze//vWvW7z5LURXIU+Ld1HytLiwJnlaXAjR6UjCEUJoRhKOEEIz\n",
              "Hfqmsbh9vcP/yqA1a9o7DCEsyAxHCKEZSThCCM1IwhFCaEY+h9NF9QwPwHHKI+0dhugizkX/wyrn\n",
              "kRmOEEIzknCEEJqRhCOE0IwkHCGEZiThCCE006aEYzAY1IoJWtPpdGpVhus2bdqETqdj7dq1AGzY\n",
              "sIFVq1a1eJ4bqzu0xa2O27dvH6NGjcLd3R1/f38CAwN555132tyPEF3ZHX20wWw2N7kG7+3S6/Vk\n",
              "Zmbi5+cHwMaNG/H391f3z50712p9tcXevXuZOXMmH3/8McHBwQCcO3eOd999t8n21h4XITqL27qk\n",
              "ys/PZ+zYsfj4+GA0Gi2W/NTpdMTFxREQEMDChQs5f/4848aNw8vLi3HjxjFlyhTi4+OBhrpTCxYs\n",
              "IDAwEKPRyFNPPUVZWVmz/UZHR7Nx40YAfvjhB2pra/H29lb3x8fHWyx2/tprrzF06FCGDRtGUFAQ\n",
              "165dAxp+4GNjYxk2bBje3t4cP35cPaa5ig4tWbZsGUuXLlWTDYCLi4vFwuY3j8vXX39NSEgIJpMJ\n",
              "Ly8vli9f3uzrWLdunbo+c1OaqtpAnXy8SnQ8t5Vwpk2bxpNPPsnJkydJTk5m9uzZnDlzRt1va2vL\n",
              "sWPHWLVqFc899xwjRozgu+++44MPPiAtLU1tt2rVKnr06EFGRgbZ2dkMHTqUxYsXN9tvVFQUu3bt\n",
              "oqqqio0bNxIdHd1s2/fff5+UlBSOHDnCV199xe7du9V1f3NycpgxYwZfffUVf/nLX/i///s/AE6f\n",
              "Pk18fDy7du0iMzOTrVu3MnXqVKqrq1scjxMnTjB8+PBbjtuN42IwGDhw4AAnTpwgMzOTlJSUWxbc\n",
              "a87KlSvp1auXxVdNwfnbOpcQd1Kb5/UVFRWcOHGCL7/8EmhYezgkJITDhw/j5uYGwKxZs9T2Bw4c\n",
              "UEuhPPDAA0yYMEHdl5qaSnl5OSkpKQDU1NRgMBia7dvOzo7w8HCSk5NJTk4mKyuL9PT0Jtvu3LmT\n",
              "uXPn0qtXQ/WCG2tbeXp6qglixIgRanx79uxpsaJDa02bNo1vv/2WkpISfvjhBxwcHADLcamsrCQ2\n",
              "Npbs7GxsbGwoKioiOzu72YJ7LWmqaoNTVFibzyPEnWaVGwk6nc7i+5YqH9zYVlEUEhISGDduXKv7\n",
              "io6OZsKECURERKg/yG3VXDWEW1V0aI6vry8ZGRn4+voCkJSUBDS81vr6/1aku3FcFi1aRJ8+fcjK\n",
              "ykKv1xMVFUVVVRXQcK+qru6/Szpe396cpqo2YKtrurEQ7ajNl1T29vaYTCa1LlR+fj5HjhxpVOLk\n",
              "urCwMDZv3gzAhQsX2Llzp7ovMjKSN998U723cu3aNb799tsW+x8+fDiLFy9m4cKFLbabNGkSGzZs\n",
              "UCsuXLp0yeKHuCltrehw3ZIlS1i2bJnFJdGtqkuUlZXh4uKCXq8nNzeXffv2qfs8PT05fvw4dXV1\n",
              "XLt2TZ0BCtHZtWmGYzabuffee0lKSmLu3LmsW7cOnU7He++9h6ura5PHvPXWW8yYMQMvLy+cnJwY\n",
              "Pnw4jo6OAMyfP5/q6mqGDx+uznzmz59vcSO4Kc8///wtY50+fTrFxcUEBwej1+vp0aOHRbnfpnh6\n",
              "eraposN1ERERJCYm8re//Y3i4mL69u1Lt27dSEhIwN7evsljFi9ezPTp03n//ffx8PAgLOy/l0BR\n",
              "UVEkJyfz0EMP4eLigq+vr5qUhejMWv20+Pnz5xk8eDAlJSXcd999re6gsrKSe+65B71eT2lpKUFB\n",
              "QWzZsqVVN1nF7ZOnxYU1Wetp8VbNcNasWcPbb7/N6tWr25RsAPLy8njmmWdQFIWamhpiY2Ml2Qhx\n",
              "l5L1cLoomeEIa5L1cIQQnY58vr6LivEOZY2VfisJYS0ywxFCaEYSjhBCM5JwhBCakXs4XVB1dTW7\n",
              "d++mrq4OW1vb9g6nw6qrqyMjI4PAwEAZpxbcapzc3Nxa9WFckD+Ld0mXL1+mV69elJeX3/bzZncD\n",
              "GafWseY4ySWVEEIzknCEEJqRhCOE0IwknC6oe/fuxMXFNV4jR1iQcWoda46T3DQWQmhGZjhCCM1I\n",
              "whFCaEYSjhBCM5JwOrG8vDyCg4MZNGgQAQEBza4HnZiYyMCBA/Hw8OAPf/gDtbW1GkfavlozTmlp\n",
              "adjZ2WE0GtWvysrKdoi2fTz33HMYDAZ0Ol2L1XX/5/eSIjqtMWPGKJs2bVIURVGSk5MVf3//Rm1O\n",
              "nz6t9O/fXzl//rxSX1+vTJw4UVm3bp3Gkbav1ozTwYMHlWHDhmkbWAdy6NAhpaioSHFzc1OysrKa\n",
              "bGON95IknE7qwoULir29vVJbW6soiqLU19cr999/v5KXl2fR7vXXX1fmzJmjfv/ZZ58pI0eO1DTW\n",
              "9tTacbrbE851LSUca7yX5JKqkyoqKqJ///5qjXKdToerq2ujon1nz55VCxQCGAyGNhf268xaO04A\n",
              "p06dwmQyERAQwPr167UOtcOzxntJnhYXAjCZTJw7d45evXpx7tw5xo8fT58+fXjqqafaO7QuRWY4\n",
              "ndSDDz7I+fPnLaqGnj17tlF9MFdXV4u674WFhc3WEOuKWjtODg4OalloFxcXfv/733P48GHN4+3I\n",
              "rPFekoTTSfXr1w+TycSWLVsASElJwcXFBU9PT4t2jz/+ODt27KCkpARFUdiwYQNTpkxpj5DbRWvH\n",
              "6fz582pZ5oqKCnbu3KmWbhYNrPJeut2bS6L95eTkKEFBQcrAgQMVPz8/5eTJk4qiKMrs2bOVTz/9\n",
              "VG33zjvvKO7u7oq7u7sya9Yspaampr1CbhetGaeEhATFy8tL8fHxUby8vJS4uDilvr6+PcPWVExM\n",
              "jOLs7KzY2toq/fr1Uzw8PBRFsf57SZ6lEkJoRi6phBCakYQjhNCMJBwhhGYk4QghNCMJRwihGUk4\n",
              "QgjNSMIRQmhGEo4QQjOScIQQmpGEI4TQjCQcIYRm/h/mRF7j9s8AdwAAAABJRU5ErkJggg==\n",
              "\">\n",
              "        \n",
              "      </div>\n",
              "      <script></script>\n",
              "      <script type=\"text/javascript\">\n",
              "        (() => {\n",
              "          const chartElement = document.getElementById(\"chart-de3f1f1e-36ad-4823-9eea-0614719499c6\");\n",
              "          async function getCodeForChartHandler(event) {\n",
              "            const chartCodeResponse =  await google.colab.kernel.invokeFunction(\n",
              "                'getCodeForChart', [\"chart-de3f1f1e-36ad-4823-9eea-0614719499c6\"], {});\n",
              "            const responseJson = chartCodeResponse.data['application/json'];\n",
              "            await google.colab.notebook.addCell(responseJson.code, 'code');\n",
              "          }\n",
              "          chartElement.onclick = getCodeForChartHandler;\n",
              "        })();\n",
              "      </script>\n",
              "      <style>\n",
              "        .colab-quickchart-chart-with-code  {\n",
              "            display: block;\n",
              "            float: left;\n",
              "            border: 1px solid transparent;\n",
              "        }\n",
              "\n",
              "        .colab-quickchart-chart-with-code:hover {\n",
              "            cursor: pointer;\n",
              "            border: 1px solid #aaa;\n",
              "        }\n",
              "      </style>"
            ]
          },
          "metadata": {}
        },
        {
          "output_type": "display_data",
          "data": {
            "text/plain": [
              "<google.colab._quickchart_helpers.SectionTitle at 0x7b1b1fd72dd0>"
            ],
            "text/html": [
              "<h4 class=\"colab-quickchart-section-title\">2-d categorical distributions</h4>\n",
              "<style>\n",
              "  .colab-quickchart-section-title {\n",
              "      clear: both;\n",
              "  }\n",
              "</style>"
            ]
          },
          "metadata": {}
        },
        {
          "output_type": "display_data",
          "data": {
            "text/plain": [
              "import numpy as np\n",
              "from google.colab import autoviz\n",
              "df_2887978767571325417 = autoviz.get_df('df_2887978767571325417')\n",
              "\n",
              "def heatmap(df, x_colname, y_colname, figsize=(2, 2), mpl_palette_name='viridis'):\n",
              "  from matplotlib import pyplot as plt\n",
              "  import seaborn as sns\n",
              "  import pandas as pd\n",
              "  plt.subplots(figsize=figsize)\n",
              "  df_2dhist = pd.DataFrame({\n",
              "      x_label: grp[y_colname].value_counts()\n",
              "      for x_label, grp in df.groupby(x_colname)\n",
              "  })\n",
              "  sns.heatmap(df_2dhist, cmap=mpl_palette_name)\n",
              "  plt.xlabel(x_colname)\n",
              "  plt.ylabel(y_colname)\n",
              "  return autoviz.MplChart.from_current_mpl_state()\n",
              "\n",
              "chart = heatmap(df_2887978767571325417, *['show_id', 'type'], **{})\n",
              "chart"
            ],
            "text/html": [
              "      <div class=\"colab-quickchart-chart-with-code\" id=\"chart-f5c8b236-3240-4afb-bca1-2112665622e2\">\n",
              "        <img src=\"data:image/png;base64,iVBORw0KGgoAAAANSUhEUgAAAOEAAADSCAYAAAC8Xad5AAAAOXRFWHRTb2Z0d2FyZQBNYXRwbG90\n",
              "bGliIHZlcnNpb24zLjcuMSwgaHR0cHM6Ly9tYXRwbG90bGliLm9yZy/bCgiHAAAACXBIWXMAAA9h\n",
              "AAAPYQGoP6dpAAAcKUlEQVR4nO3dfVSUVR4H8O8D4viSQCYhOgwICJwVeZVS8CUVEXUlEnxNz6Ki\n",
              "uO5GZ7X0GBG+VGjarrnpCoHmamCG7DaZ2gbJLqzVEScQRFQQBFxFTGSQYGBm7v7BNuuEDjPwPI4z\n",
              "8/ucc08yz8P93aczP+597vNyOcYYAyHEaKyM3QBCLB0lISFGRklIiJFREhJiZJSEhBgZJSEhRkZJ\n",
              "SIiRURISYmSUhIQYGSUhsVgJCQlwdXUFx3EoLi5+6D41NTV44YUXYGdnB39//27bMzIyMHr0aLi7\n",
              "u2PVqlXo7Ow0uB2UhMRixcTEoLCwEC4uLo/cx9bWFm+//TYyMzO7bauurkZSUhIKCgpQWVmJhoYG\n",
              "pKWlGdwOSkJisSZPngyxWKxzn6FDh2LixIkYPHhwt23Z2dmIjIzE8OHDwXEc1qxZg6ysLIPb0c/g\n",
              "3yDkCadQKKBQKLQ+E4lEEIlEvMapra3V6kVdXV1RW1trcD2UhP/j9sEfjd0E8j/XXl2nc7v6lqfO\n",
              "7Sn7l2DLli1anyUnJ2Pz5s19bZogKAmJyelkSp3bN23ahHXrtBOZ714QACQSCaqqqjQ/19TUQCKR\n",
              "GFwPnRMSk6OESmcRiUSwtbXVKkIkYXR0NKRSKW7dugXGGPbv349FixYZXA8lITE5KsZ0Fn3Fx8dD\n",
              "LBajvr4eM2fOhIeHBwAgLi4OUqkUAPDTTz9BLBZj/vz5KC8vh1gsxqZNmwAAbm5u2LJlC0JDQ+Hh\n",
              "4QEHBwfEx8cbfDwcPVnfhc4Jnxw9nRP++B/dM5rPjKjnszmCo3NCYnI6mdrYTeAVJSExOeaVgpSE\n",
              "xAR1mNkZFCUhMTmd4IzdBF5REhKTozavjpCSkJieDjO7skZJSExOJ6MkJMSoVNQTEmJc1BMSYmSd\n",
              "zLy+tuZ1NMQiqOgSBSHG1cmsjd0EXlESEpPTQcNRQoxLTbOjhBhXBw1HCTEumh0lxMhUjGZHCTEq\n",
              "6gkJMTK6REGIkZnbvaOP5WjOnz+Pw4cPAwCamppw8+bNxxGWmKlOZq2zmBrBk3Dfvn1YsWKF5u3H\n",
              "d+/exZIlS4QOS8wYJaGB0tLS8N1338HW1hYA4O7ujsbGRqHDEjOmZlY6i6kR/JxQJBJh4MCB2kH7\n",
              "0ako6T1T7O10ETwbHBwccOXKFXBc17Wdjz/+uFfv6yfkZ5SEBtq9ezcWL16MiooKODs7w9bWFidO\n",
              "nBA6LDFjKhMccuoieBJ6eHjg+++/x+XLl8EYg5eXF6ytzesvGXm8qCfUU2trKwYPHgy5XA4AGDly\n",
              "pOZzAJqJGkIMpaQk1M+kSZMgk8lgb28PjuPAGNP6r0qlEio0MXN076ieZDIZAECtNreVA4ixKdXm\n",
              "1RMKfob75z//Gffu3RM6DLEgncxKZ9FXQkICXF1dwXEciouLH7lfRkYGRo8eDXd3d6xatQqdnZ0A\n",
              "gPz8fAwcOBD+/v6a0tbWZvDxCJ6EMpkM7u7uWLBgAU6dOgVaDpH0FV8X62NiYlBYWAgXF5dH7lNd\n",
              "XY2kpCQUFBSgsrISDQ0NSEtL02z38vJCcXGxpvzymrg+BE/CgwcPora2FrNmzcKOHTvg4uKCxMTE\n",
              "R+6vUCggl8u1ikKhELqZxIT01BPq+x2aPHkyxGLdC45mZ2cjMjISw4cPB8dxWLNmDbKysng9nsdy\n",
              "wWXw4MFYvnw5jh49itmzZ2P79u2P3DclJQV2dnZaJSUl5XE0k5gIpdpaZ+HzO1RbW6vVU7q6uqK2\n",
              "tlbzc1VVFQIDAxEcHIx9+/b1Kobg1wmVSiWkUikOHDiAc+fOYf78+fj+++8fuf+mTZuwbp32cski\n",
              "kUjoZhITou7hvaOP6zsUGBiI+vp62NnZob6+HrNnz8awYcOwYMECg+oRPAlHjhyJgIAAxMbG4vjx\n",
              "4z3+zxCJRJR0RKeeZkf5/A5JJBJUVVVpfq6pqdHcdvngtW6xWIzFixejoKDA4CQUfDh6/vx5nD59\n",
              "GosWLaLkIrxQMiudhU/R0dGQSqW4desWGGPYv38/Fi1aBAC4efOm5hJcS0sLTpw4gYCAAINjCJ6E\n",
              "w4cPx86dOxEeHo7w8HDs2rULSqVS6LDEjKkZp7PoKz4+HmKxGPX19Zg5cyY8PDwAAHFxcZBKpQAA\n",
              "Nzc3bNmyBaGhofDw8ICDgwPi4+MBAMePH8fYsWPh5+eH8ePHY8aMGVi+fLnBx8Mxga8ZJCQkoKqq\n",
              "CqtWrQLHcUhPT8eoUaOwZ88eIcMazO2DPxq7CeR/rr26Tuf2uQWv6Nz+xaQ/89kcwQl+Tpifn4/i\n",
              "4mJYWXV1unPmzEFgYKDQYYkZ43vIaWyCJyFjDGq1WpOEjDG6YE/6xJAhpykQPAkjIiIQHh6O2NhY\n",
              "AMBf//pXRERECB2WmDGlmnpCg+zYsQNpaWmQSqXgOA7z58/H6tWrhQ5LzBj1hHr65cVSZ2dnAMDl\n",
              "y5exfv16/PGPNBFCeoeerNfT7t27ERwcjIiICM35ICF8UNFwVD95eXk4cOAAMjMzsWDBAqxYsQLu\n",
              "7u5ChSMWxNyGo4L9SZk6dSoOHz6M8+fPQyKR4OWXX8bUqVN13jdKiD5UaiudxdQI3mJbW1u8+OKL\n",
              "ePHFF1FRUYGKigqhQxIzp2KczmJqBBuOqlQqSKVSZGRk4Pr161i2bBlkMhmcnJyECkksBDPBRNNF\n",
              "sCQcOXIkJBIJli9fjtDQUABAY2Oj5hX4vr6+QoUmZk6lpiTUy4ABA9DY2Ij33ntP85a1n3Ech2vX\n",
              "rgkVmpg5tQme9+kiWBLW1NQIVTWxcOY2O0orsxCTo6bhKCHGRT0hIUZGs6OEGBmj4SghxkXnhIQY\n",
              "Gw1HCTEuZmZrDFESEpND54SEGJm5zY4afP/PzZs3kZ+fD6DrFfcdHR18t4kQ3Rinu5gYg5IwOzsb\n",
              "48eP17y06eLFi4iKihKgWYTooO6hmBiDkjAlJQUymQxPP/00AMDPzw/Xr18XpGGEPJKZ9YQGnRNa\n",
              "W1vjmWee0fqsf//+vDaIkJ5Y9OzokCFD0NDQAI7r+muTl5eHoUOHCtIwQh6Fs+TZ0R07dmDWrFm4\n",
              "du0aJk6ciOrqanz55ZdCtY2QhzOzF7gblITjxo3DmTNncPbsWTDGEBISAnt7e4GaRsgjmFlPaPAl\n",
              "iubmZvz4449oampCS0uLEG0iRDeeZkcTEhLg6uoKjuNQXFz8yP0yMjIwevRouLu7Y9WqVejs7NRr\n",
              "m74MSsLMzEwEBAQgJycH2dnZCAwMxNGjRw0OSkif8DQ7GhMTg8LCQq016X+puroaSUlJKCgoQGVl\n",
              "JRoaGpCWltbjNkMYlIRbt25FUVERcnJy8Le//Q3nzp3D5s2bDQ5KSF9wat1FX5MnT4ZYLNa5T3Z2\n",
              "NiIjIzF8+HBwHIc1a9YgKyurx22GMOiccNCgQRg1apTmZ1dXVwwaNMjgoIT0BdfDxIxCoYBCodD6\n",
              "rLfr2NfW1mr1lK6urqitre1xmyEMSsI5c+Zg8+bNiIuLA2MMBw8exNy5cyGXywF0vehXCI9jFd2e\n",
              "VoclT5AehpwpKSnYsmWL1mfJyclP7KjNoCR85513AHQNSx+0bds2cBwHlUrFX8sIeZQehpybNm3q\n",
              "tipYb3pBAJBIJKiqqtL8XFNTA4lE0uM2Qxh0TqhWqx9ZKAHJ49LTOaFIJIKtra1W6W0SRkdHQyqV\n",
              "4tatW2CMYf/+/Vi0aFGP2wxhUBKmpqaira3N4CCE8Ir1UPQUHx8PsViM+vp6zJw5Ex4eHgCAuLg4\n",
              "SKVSAICbmxu2bNmC0NBQeHh4wMHBAfHx8T1uMwTHDFhA/uWXX0ZeXh4WL16M3/3ud5pGC43OCcmD\n",
              "PN77k87tlRv+8Jhawg+DesJPPvkEJSUleOaZZzB9+nTMmjULJ0+eFKpthDwUX5conhQG3zHj6OiI\n",
              "N998E4cOHcLFixexdOlSeHt7Iy8vT4j2EdIdT8PRJ4VBs6Pt7e04cuQI9u7di0GDBmHnzp2IiYnB\n",
              "Dz/8gJiYGFp/gjwWptjb6WJQEg4ePBhLlixBWloagoODAQB37tzBuHHjMGPGDEEaSMgvWXQSenh4\n",
              "4PDhw1qfhYeHQyaT4aOPPuK1YYRYCr2SsKOjA+3t7RgwYABaWlo0aw02NzejtbVV0AYS8kvm1hPq\n",
              "NTGTkpICe3t7lJWVwc7ODvb29rC3t8fYsWOxdOlSodtIiDZLfNFTcnIy1Go1Vq9erXWXzL1795CU\n",
              "lCR0GwnRwjHdxdQYdE74l7/8Rah2EKI3cxuO0hu4iemhJCTEuExxyKmLwXfM6OvIkSO4deuWUNUT\n",
              "S2aJEzO9cebMGTz//PMYM2YMEhISIJVKNQ//EtIX5nbvqGDD0YyMDADAlStX8NVXX+HVV19FfX19\n",
              "r95GRciDzG04KlgSVlZWIjc3F19//TUuXLiA4OBgvPHGG0KFI5bEBHs7XQRLQk9PT4SEhODtt9/G\n",
              "lClTNK/OJ6SvqCfU04kTJ5Cbm4v169dj0KBBmD59OmbMmIHQ0FChQhILQUmop9mzZ2P27Nlob2/H\n",
              "Z599hrfeegvbtm2jd9GQvqPhqH62b9+O3NxcFBcXY9y4cVi7di3CwsKECkcsiCnOgOoiWBK2tLQg\n",
              "MTERoaGhtIYh4RUNR/X0zjvv4KeffkJRUREAwN/fn97WTXhBPaGezp49i+joaDg6OoLjODQ0NOD4\n",
              "8eOYMGGCUCGJpaAk1M+6deuQnZ2tmQ09e/Ys/vCHP+C7774TKiSxEDQc1VNbW5vW5YiQkBC0t7cL\n",
              "FY5YEE5tXlko2L2jTz31FHJzczU/5+XlYfDgwUKFIxaE7h3V0wcffIDo6GhYW1sD6FrHIicnR6hw\n",
              "xJKYV0coXBKOGzcOlZWVuHz5MgDAy8sLNjY2QoUjFsQUeztdBH2o19raGkOHDoVSqcTNmzcBoFdL\n",
              "RxHyIEpCPX388cdISEiAjY0NrKy6Tj05jsPt27eFCkkshLnNjgo2MbNt2zacO3cOP/74IxobG9HY\n",
              "2EgJSHjBqZnOYoirV68iJCQEnp6eCA4OxsWLF7vto1ar8dprr8HHxwfe3t5YuXIlOjo6AHQtDGpt\n",
              "bQ1/f39NeXDhUH0IloTDhg2Dl5eXUNUTC8apdBdDxMfHY/Xq1bhy5Qo2btyI2NjYbvtkZGRAJpNB\n",
              "JpPh0qVLsLKywgcffKDZPmTIEBQXF2uKu7u7QW3gPQnlcjnkcjmioqKwe/du3L59W/MZvd6C8IKn\n",
              "VZlu376NoqIizQuso6OjUVdXh8rKSq39SkpKEBYWhv79+4PjOMyaNavbchB9wfs5ob29PTiO07wq\n",
              "/8G1w/VZ116hUEChUGh9xpRKcP3oxXCkS09Dzod9h0QiUbcls+vq6uDk5IR+//tucRwHiUSC2tpa\n",
              "rQVwg4KCkJqait///vcYOHAgjh07prUCWWtrK4KDg6FSqRAVFYXExETNpTl98N4T/rx+fW/XtU9J\n",
              "SYGdnZ1Wufc1rX1I/q+ni/UP+w6lpKT0Ol5sbCwiIiIwZcoUTJkyBZ6enprEdXJywo0bN3Du3Dnk\n",
              "5uaioKAA77//vmHHY8hy2b1x79495Ofnw93dHWPHju1x/4f9FfP7aL/gPSEtl206Jr20S+f23KOv\n",
              "6NUT3r59Gx4eHrh79y769esHxhicnJxQWFiocyn4o0ePYu/evSgoKOi2LSsrC5mZmfjiiy/0Ph7e\n",
              "e8Jly5ahuLgYQFcC+vr64o033sD06dNx8ODBHn9fJBLB1tZWq9BQlDyop9nRh32HfpmAAPDss88i\n",
              "MDAQR44cAQAcP34cYrG4WwK2t7ejqakJQNd6nNu3b8eGDRsAdCXyz28QVCgUyMnJQUBAgEHHw3sS\n",
              "nj9/Hv7+/gC61rgfPXo0ysvLUVRUhD179vAdjlggPu8dTU1NRWpqKjw9PbF9+3ZNRxEXFwepVAqg\n",
              "awnAkJAQjBkzBpMmTcKaNWswd+5cAEBhYSECAgLg5+eHwMBADB8+HImJiQa1gfcuZsCAAZp/FxQU\n",
              "4KWXXgJAd8oQHvH4FIWXlxe+/fbbbp+np6dr/u3o6IhLly499PfnzZuHefPm9akNvPeEKpUKzc3N\n",
              "UCqVKCgowKRJkzTb6FEmwgd6iqIHv/3tbxEYGAhbW1u4ubnBz88PAFBaWgpHR0e+wxELZG7PE/Ke\n",
              "hGvWrEFwcDDq6+sRHh6u+bx///7405/+xHc4YonMKweFuYE7KCgIQUFBWp/RLWyEL5zKvLKQ5v6J\n",
              "yeGEvbT92FESEtNjZueEvM+ONjY28l0lIVr4fJTpScB7Eo4aNQrR0dE4deoUBL4jjlgoc7tEwXsS\n",
              "VldXIyQkBK+//jokEgnefPNNXLt2je8wxJKpme5iYnhPQgcHB6xfvx5lZWX47LPP0NjYiKCgIEyb\n",
              "Ng2ZmZl8hyMWiFOrdRZTI9iT9QAwfvx4pKamQiaT4f79+1i2bJmQ4YilUPdQTIxgSahSqSCVShEV\n",
              "FYWAgAB4eXkhL4+eCyR9Z249Ie+XKMrLy3HgwAEcOXIEzs7OWLFiBQ4dOgQ7Ozu+QxFLRRfrdZs0\n",
              "aRKWLl2Kr776SnPfKCF8oov1PZgxY4bWm6gI4Z0JDjl14T0Jr1y5wneVhGij4SghxkXD0R5cuHAB\n",
              "Q4cO7fY5Ywwcx+Hu3bt8hySWRkXDUZ28vLxw8uRJvqsl5P/onFA3kUgEFxcXvqsl5P9oOKob3bRN\n",
              "BKfHS6RNCe9J+MMPP/BdJSHa6JyQECMzs9EWJSExPTQxQ4iR0TkhIUZGw1FCjItRT0iIkdHsKCFG\n",
              "RhMzhBiXuQ1HBX3HDCGCUKl1FwNcvXoVISEh8PT0RHBwMC5evNhtH7Vajddeew0+Pj7w9vbGypUr\n",
              "0dHRodl+4sQJeHt7Y/To0Zg3bx7kcrlBbaAkJKaHqXUXA8THx2P16tW4cuUKNm7ciNjY2G77ZGRk\n",
              "QCaTQSaT4dKlS7CystI8uH7//n2sXLkSf//733H16lWMGDEC27ZtM6gNlITE5DCVSmfR1+3bt1FU\n",
              "VISlS5cCAKKjo1FXV4fKykqt/UpKShAWFob+/fuD4zjMmjULhw8fBgCcOnUKAQEB8Pb2BgCsXbsW\n",
              "WVlZBh0PJSExOT0loUKhgFwu1yoKhaJbPXV1dXByckK/fl1TIxzHQSKRoLa2Vmu/oKAgSKVSyOVy\n",
              "dHZ24tixY6ipqQEA1NbWaj015Orqips3b0KpVBpwQGaovb2dJScns/b2dpOsn2L0TXJyMkPXKoaa\n",
              "kpyc3G2/oqIi5unpqfVZcHAwy8vL0/pMrVaz5ORk5u/vzyZMmMCSkpLY008/zRhjbNeuXWz16tWa\n",
              "fVtbW5mVlRXr7OzUu71mmYTNzc0MAGtubjbJ+ilG37S3t7Pm5mat8rA/Ag0NDWzIkCGahFGr1czR\n",
              "0ZFdvXpVZ/1ZWVls4sSJjDHGjh07xmbOnKnZdvHiRTZy5EiD2kvDUWJ2RCIRbG1ttYpIJOq237PP\n",
              "PovAwEAcOXIEAHD8+HGIxWJ4eHho7dfe3o6mpiYAwJ07d7B9+3Zs2LABABAREQGZTIaKigoAwL59\n",
              "+7Bo0SKD2kvXCYlFS01NRWxsLN59913Y2tri4MGDAIC4uDhERkYiMjISzc3NeOGFF2BlZQW1Wo1X\n",
              "X30Vc+fOBQAMGTIE6enpiIqKglKphI+PDw4dOmRQGzjGzOxuWAByuRx2dnZobm6Gra2tydVPMSyL\n",
              "WQ5HRSIRkpOTHzoEMYX6KYZlMcuekBBTYpY9ISGmhJKQECOjJCTEyMwyCe/fv4+ZM2di2LBhsLe3\n",
              "573+0tJSTJ48Gd7e3vDx8cGKFSvQ1tbGa4zq6moEBQXB398fPj4+mD9/vuZalRBiY2PBcRzu3bvH\n",
              "a701NTWwtraGv7+/plRVVfEaw9SZZRLa2Nhg48aNyM3NFaT+AQMG4MMPP0RFRQVKSkrQ2tqKHTt2\n",
              "8BpjxIgRKCwsRHFxMcrKyjBixAhs3ryZ1xg/y8nJgY2NjSB1A13X0oqLizXF3d1dsFimyOQv1re1\n",
              "tSE2NhalpaWwsbGBo6Mj/vGPf2DatGmam2yFqP9n1tbWCA4ORllZmWAxVCoVWltb8dRTT/Eeo6Gh\n",
              "Ae+++y7OnDmD9PT0Xtf/qBhpaWl9qtMSmHwSnj59Gvfu3UN5eTkA8L7qU0/1t7a2Ij09HSkpKbzH\n",
              "6OjowHPPPYfr16/D19cXUqmU9xirVq3Ce++9hyFDhvS6bl0x5HI5WltbERwcDJVKhaioKCQmJsLa\n",
              "2rrP8cyFyQ9H/fz8cOnSJaxduxaffvop78MqXfV3dHRg4cKFCA8Px0svvcR7jP79+6O4uBgNDQ3w\n",
              "9vZGamoqrzHS09MhkUgwbdq0XtfbUwwnJyfcuHED586dQ25uLgoKCvD+++/zEs9sGHS79xOqpaWF\n",
              "ff755+yVV15hEomE3b17lzHGWHV1NbOzsxOk/o6ODhYVFcXi4uKYWq0WJMaDvv32W+bj48NrjNmz\n",
              "ZzOxWMxcXFyYi4sLA8CcnZ2ZTCYT7DgyMzPZr3/96z4dh7kx+SSsq6tj9+/fZ4wxplAomLOzMysp\n",
              "KWGM8ZOEj6p/3rx5bMWKFbwk4MNi5Ofns9bWVsYYYyqViq1bt44tWbKE9+N4EADW1NTEa4x//vOf\n",
              "rKOjgzHW9YhRTEwMS0pK6nUMc2Ty54SlpaXYtGkTGGNQKpVYtmwZfH194evri8bGRsjlcojFYkyd\n",
              "OlXzSoK+1l9aWoqcnBz4+voiICAAABAaGoq9e/fydgxyuRzjx48H0PWiocDAQOzZs6dX9T8qhq+v\n",
              "b6/r0zfGnTt3EBAQAGtrayiVSkybNg2JiYm8xjV1dO8oIUZm8hMzhJg6SkJCjIySkBAjoyQUSH5+\n",
              "Pvz9/R9rzLfeeguffPLJQ7d9+OGHD32xLTE+k58dJf+3detWYzeB9AL1hDxoa2vDwoUL8atf/Qp+\n",
              "fn4IDw8HACiVSqxduxZ+fn4YM2YMioqKNL9z+PBhzaWUOXPm4MaNGwCAkJAQnD17FgCwYcMGjBw5\n",
              "UvM7bm5u3V5M+6DY2Fjs3r0bANDS0oKFCxfCy8sLEydORGlpKd+HTXhCSciDB++ZLCkpwdGjRwEA\n",
              "FRUV+M1vfoOSkhK88sormutjZWVleP3113Hq1ClcuHABISEhiIuLAwCEhYVpnv745ptvIBaLUV5e\n",
              "jqqqKvTr1w8SiUSvNm3duhUikQgVFRX48ssv8a9//UuAIyd8oCTkwaPu/fTw8MDzzz8PAJgwYYLm\n",
              "ObozZ84gIiJC08utXbsW33zzDVQqlSYJ79y5g379+mHBggXIzc1Fbm4upk+frneb8vLysHLlSnAc\n",
              "Bzs7OyxZsoTnoyZ8oSTkgZubG8rLyxEREYF///vf8PHxQVNTEwYMGKDZ5+c7Rh6G4zjNvydMmICy\n",
              "sjJ8/vnnmDZtmiYpDU1CXTHIk4WSkAf19fXgOA6RkZHYtWsXGGOoq6t75P5Tp07F6dOn8Z///AcA\n",
              "sH//fkyfPh3W1tawsbHB+PHjsW3bNoSFhcHX1xfl5eXIz8836GmHsLAwHDx4EIwxyOVyg1cKIo8P\n",
              "zY7ywND7Mn18fLBz505EREQAAJydnfHRRx9ptoeFhSE/Px+hoaHgOA7PPfccLl++jKFDh+rdpqSk\n",
              "JMTFxcHb2xsODg6YOHHiQ1cmIsZH944SYmQ0HCXEyCgJTczJkye13lz2c/n000+N3TTSSzQcJcTI\n",
              "qCckxMgoCQkxMkpCQoyMkpAQI6MkJMTIKAkJMTJKQkKMjJKQECP7L7RScTBHcRKCAAAAAElFTkSu\n",
              "QmCC\n",
              "\">\n",
              "        \n",
              "      </div>\n",
              "      <script></script>\n",
              "      <script type=\"text/javascript\">\n",
              "        (() => {\n",
              "          const chartElement = document.getElementById(\"chart-f5c8b236-3240-4afb-bca1-2112665622e2\");\n",
              "          async function getCodeForChartHandler(event) {\n",
              "            const chartCodeResponse =  await google.colab.kernel.invokeFunction(\n",
              "                'getCodeForChart', [\"chart-f5c8b236-3240-4afb-bca1-2112665622e2\"], {});\n",
              "            const responseJson = chartCodeResponse.data['application/json'];\n",
              "            await google.colab.notebook.addCell(responseJson.code, 'code');\n",
              "          }\n",
              "          chartElement.onclick = getCodeForChartHandler;\n",
              "        })();\n",
              "      </script>\n",
              "      <style>\n",
              "        .colab-quickchart-chart-with-code  {\n",
              "            display: block;\n",
              "            float: left;\n",
              "            border: 1px solid transparent;\n",
              "        }\n",
              "\n",
              "        .colab-quickchart-chart-with-code:hover {\n",
              "            cursor: pointer;\n",
              "            border: 1px solid #aaa;\n",
              "        }\n",
              "      </style>"
            ]
          },
          "metadata": {}
        },
        {
          "output_type": "display_data",
          "data": {
            "text/plain": [
              "import numpy as np\n",
              "from google.colab import autoviz\n",
              "df_5390532894542974365 = autoviz.get_df('df_5390532894542974365')\n",
              "\n",
              "def heatmap(df, x_colname, y_colname, figsize=(2, 2), mpl_palette_name='viridis'):\n",
              "  from matplotlib import pyplot as plt\n",
              "  import seaborn as sns\n",
              "  import pandas as pd\n",
              "  plt.subplots(figsize=figsize)\n",
              "  df_2dhist = pd.DataFrame({\n",
              "      x_label: grp[y_colname].value_counts()\n",
              "      for x_label, grp in df.groupby(x_colname)\n",
              "  })\n",
              "  sns.heatmap(df_2dhist, cmap=mpl_palette_name)\n",
              "  plt.xlabel(x_colname)\n",
              "  plt.ylabel(y_colname)\n",
              "  return autoviz.MplChart.from_current_mpl_state()\n",
              "\n",
              "chart = heatmap(df_5390532894542974365, *['type', 'title'], **{})\n",
              "chart"
            ],
            "text/html": [
              "      <div class=\"colab-quickchart-chart-with-code\" id=\"chart-aa7e7831-30db-4514-8b3c-b93c38fc2ba5\">\n",
              "        <img src=\"data:image/png;base64,iVBORw0KGgoAAAANSUhEUgAAAOEAAADRCAYAAAA6ydXXAAAAOXRFWHRTb2Z0d2FyZQBNYXRwbG90\n",
              "bGliIHZlcnNpb24zLjcuMSwgaHR0cHM6Ly9tYXRwbG90bGliLm9yZy/bCgiHAAAACXBIWXMAAA9h\n",
              "AAAPYQGoP6dpAAAfHUlEQVR4nO3de1QUR74H8G8DgfiAQSBKFAFRkOBrZhASUUGFRIm7qMEnSRQD\n",
              "ClmfF4mKiYKJR8xNzF33gfh2ibvkCGpk1VWDURY3m0SDaOIrohCUMCAGZlDDY5i6f7DOMoANg9O0\n",
              "zfw+59Q5TldNV7WH31T1q4pjjDEQQkRjIXYDCDF3FISEiIyCkBCRURASIjIKQkJERkFIiMgoCAkR\n",
              "GQUhISKjICREZBSExGwtXboU7u7u4DgO+fn5rZYpKirCuHHjIJPJIJfLW+Tv2rULnp6eGDhwIBYs\n",
              "WID6+nqj20FBSMzW9OnTcfbsWbi5uT22jJ2dHTZs2IC//e1vLfIKCwuxdu1a5ObmoqCgAGVlZdi+\n",
              "fbvR7aAgJGYrMDAQLi4uvGUcHBwwZswY9OjRo0VeZmYmwsLC4OzsDI7jEBsbi/T0dKPbYWX0Nwh5\n",
              "ytXW1qK2ttZgm42NDWxsbExaT3FxsUEv6u7ujuLiYqP3I4kg9NjyidhNEMWtZXFiN+GppFUN4s1P\n",
              "Tn0D69evN9iWmJiIpKQkAVvVcZIIQkKaamA63vyEhATExRn+gJm6FwQAV1dX3Lx5U/+5qKgIrq6u\n",
              "Ru+HzgmJ5GjRwJtsbGxgZ2dnkIQIwvDwcGRlZUGlUoExhtTUVMyePdvo/VAQEsmpZzre1F4xMTFw\n",
              "cXHBnTt3MHHiRAwa1DjMjY6ORlZWFgDg4cOHcHFxwYwZM3DlyhW4uLggISEBAODh4YH169dj9OjR\n",
              "GDRoEJ577jnExMQYfTycFN6sp3NC0tS9n/mvaDr2vdNJLTENOickkmNMbycFFIREcrpWCFIQEgmq\n",
              "e/rPoIxCQUgkpx6c2E0wKQpCIjm6rtURdv4tinv37nV2laSLqYMFb5KaTm+xQqHo7CpJF1PPLHiT\n",
              "1AgyHH10o7M1NTU1QlRJzEiDBHs7PoIE4bRp0xAUFITWngOorq4WokpiRqTY2/ERJAg9PT2xe/du\n",
              "uLu7t8jr378/73dbew2FabXgrOgaEmlUz7rW34IgPynz5s1DRUVFq3mxsbG8301OToZMJjNIVV+c\n",
              "EqKZRKIawPEmqXnqnh1trSccsSPVLHtCena0dScKfXjzJw640kktMQ1BesJbt25h/Pjx8PDwQFxc\n",
              "nMHFmFGjRvF+t7XXUMwxAMnj1TEr3iQ1ggTh22+/jenTpyMjIwMVFRUIDg7WX5Chq6PkSelgwZuk\n",
              "RpAWl5eXY9GiRfD19UVaWhomT56M4OBgqNVqcJz0xuzk6VLHLHmT1AjSd//6668Gn9esWQNra2uD\n",
              "HpGQjqKro+3wwgsv4Pjx4wbb4uPjERERYTAnByEd0cA43iQ1gvykfPbZZ61uj4uLw6xZs4SokpiR\n",
              "rtYTCnI0fJPq9OvXT4gqiRmpl+B5H5+u9ZNCzAI9O0qIyKgnJERkFISEiExHb1EQIi7qCQkRGQUh\n",
              "ISJroOEoIeKintBIVVVVsLKyQs+ePYWuipgJbRcLQkH6dY1Gg8WLF0Mmk8HR0REymQxubm5ISUkR\n",
              "ojpiZujZ0XaYP38+lEolzpw5g3379qFPnz4ICgrCunXrUFlZiXfffVeIaomZ0OqoJ2zT9evX8e67\n",
              "70KhUGDz5s04dOgQXnzxRRw6dAhpaWlCVEnMiKnmHV26dCnc3d3BcRzy8/MfW27Xrl3w9PTEwIED\n",
              "sWDBAtTX1wMAzpw5g27dukEul+tT89f42kOQIOQ4Dg8fPgTQ+IKvVqsFAHTv3h3W1tZCVEnMiI5Z\n",
              "8Kb2mj59Os6ePQs3N7fHliksLMTatWuRm5uLgoIClJWVYfv27fr8wYMHIz8/X5+6detm9PEIEoRz\n",
              "586Fv78/YmNjERAQgKioKACASqWiN+vJE2urJ6ytrYVGozFIzScPA4DAwEC4uPAvOJqZmYmwsDA4\n",
              "OzuD4zjExsYiPT3dpMcjSBC+8847+P3vfw9PT0/s3LlTP82hs7MzLl26JESVxIxodZa8qbVpM5OT\n",
              "kztUV3FxsUFP6e7ujuLiYv3nmzdvQqlUws/Pr8MXHgW7RRESEoKQkBChdk/MmK6NuUUTEhIQF2c4\n",
              "XSTfO64dpVQqcefOHchkMty5cwevvvoqnJycMHPmTKP2I0hPWFhYqP83Ywwff/wxpkyZgqSkJP1J\n",
              "LSEd1VZP2Nq0mR0NQldXV/z000/6z0VFRXB1dQUA2NnZQSaTAQBcXFwwZ84c5ObmGl2HIEEYHh6u\n",
              "//eGDRtw8uRJzJkzB1euXEF8fLwQVRIzomUWvMmUwsPDkZWVBZVKBcYYUlNTMXv2bABAaWkpdLrG\n",
              "xburq6tx5MiRDq06JshwtOmk3ocPH0Z2djbs7e0xbdo0jBw5UogqiRnRmeiGfExMDI4ePQqVSoWJ\n",
              "EyfC1tYWBQUFiI6ORlhYGMLCwuDh4YH169dj9OjRAIBx48YhJiYGAHDgwAFs3boVVlZW0Gq1mDFj\n",
              "BubPn290OwSZBl+pVCIvLw8A8OKLL+Kbb77R5ykUCly4cMGo/Xls+cSk7ZMKmga/db/NXcKb//ex\n",
              "f+yklpiGID3hpUuX4ODgAMYYHj58iIqKCjg5OUGr1ervGRLSUaYecopNkCBsPrfoo5PXyspKvP/+\n",
              "+7zfpaXRSFtMNRx9Wgjyk+Lm5maQnnnmGQDAc889h2nTpvF+l5ZGI23R6ix4k9QI3uKmj/i09rm5\n",
              "hIQEqNVqg2T/crCQTSQS06Cz4E1SI/gYr6SkhPdzczY2Ni3u6dBQlDTV1s16qRH8r3v9+vW8nwkx\n",
              "lhR7Oz6dcjRarRYXLlyAWq3ujOpIF9fVhqOCtPjLL7+Eo6MjnJyckJOTg4CAAERERGDgwIHIyckR\n",
              "okpiRnSM401SI8hwNCEhAadOnUJVVRXCw8Oxf/9+TJgwAd9++y1WrFjRoefrCHlEilNY8BEkCOvq\n",
              "6iCXywEA9vb2mDBhAgDA398f9+/fF6JKYkakOOTkI0gQPnqoFQBmzJhhkNfQ0CBElcSMmP5BS3EJ\n",
              "8pPi6+sLjUYDAAYvU968eRN2dnZCVEnMiE5nwZukRpCecPfu3a1ud3NzQ3Z2thBVEjPSoOta54SC\n",
              "/GzcunUL48ePh4eHB+Li4lBTUwMAsLKywvjx44WokpgRxjjeJDWCBOHbb7+N6dOnIyMjAxUVFQgO\n",
              "DkZ1dTUA6AOSkI7qarcoBAnC8vJyLFq0CL6+vkhLS8PkyZMRHBwMtVpNs62RJ8Z0HG+SGkHOCZtP\n",
              "gLpmzRpYW1sb9IiEdJQUh5x8BAnCF154AcePH8ekSZP02+Lj42FhYdGhOWbM9Q1zmlGgdToJ9nZ8\n",
              "BAnCzz77rNXtcXFxmDVrlhBVEjMixSEnH0GCkG96uX79+glRJTEnXexmPb2oRySHekJCREZBSIjo\n",
              "KAgJEZeu7SJSYvTN+tLSUpw5cwZA4xvzdXV1pm4TIby62s16o4IwMzMTL730EiIjIwEAly9fxtSp\n",
              "UwVoFiE8WBtJYowKwuTkZOTl5aFXr14AgBEjRhisWENIZ+B0HG+SGqOC0NLSEo6Ojgbb2rP89enT\n",
              "pzF06FB4eHhg7969RjWQkBZ0HH+SGKOC0NbWFmVlZfqHsE+dOgUHB4cW5ZrPqpaSkoJvvvkG33//\n",
              "PT766KMnaC4hMO/h6IcffojQ0FDcunULY8aMwdy5c7F58+YW5cLCwpCZman/bG1tjby8POTl5emn\n",
              "xCekw3RtpHZaunQp3N3dwXEc8vPzH1tu165d8PT0xMCBA7FgwQKDhW758trLqCAcOXIkTp8+jfT0\n",
              "dKxZswaXL1/WT+jU1MmTJ5Gfn48ZM2bg559/xsaNG7Fjxw5s2bIFO3bsMLqRhDRlqnPC6dOn4+zZ\n",
              "swZr0jdXWFiItWvXIjc3FwUFBSgrK9Mv5cCXZwyj7xPKZDKEhobylrGxscGGDRvw/fffY968eZg2\n",
              "bRrS0tKMbhwhrTLRkDMwMLDNMpmZmQgLC4OzszMAIDY2Fhs3bsSiRYt484zRrp6wV69ecHBwaJEe\n",
              "bW9Op9Ph2LFjKCsrw/Hjx1FfX49Jkybh2rVrbdZVW1sLjUZjkJovlUbMG8f4kyn/hoqLiw16Snd3\n",
              "dxQXF7eZZ4x29YR84+XWzJw5EzKZDA8fPsTBgweRkpKCqVOnYvny5ZDL5UhMTHzsd5OTk1usV5GY\n",
              "mIikpCSj2kC6sDaGnFL7G2pXED6K9g0bNuC9994zyGttW0FBgT5wH50zurm54dChQ0hPT+etKyEh\n",
              "AXFxhi918r0aRcxQG8NRU/4Nubq6Gix6W1RUBFdX1zbzjGHUhZmDBw+2a9uAAQMQHR2NiIgI+Pv7\n",
              "G+TNmTOHtw4bGxvY2dkZJApC0hSn40+m/BsKDw9HVlYWVCoVGGNITU3F7Nmz28wzRrt6whMnTuD4\n",
              "8eMoKSkx+IV53CpLGRkZOHHiBKytrRESEgKgcansR0/aEPIkOBM9wB0TE4OjR49CpVJh4sSJsLW1\n",
              "RUFBAaKjoxEWFoawsDB4eHhg/fr1GD16NABg3LhxiImJAQDePKOOh7G2JxXPycnBmTNnkJqaitjY\n",
              "WP12Ozs7TJs2De7u7gblL168iHnz5sHCwgKffvopVq5cidOnT8PJyQlHjhzB8OHDjW6oOaI5Zlo3\n",
              "6H//jze/YOX/mLI5gmtXTxgUFISgoCBMnToVI0aMaLP80qVLkZSUhKqqKrz66qvYsGEDjh49is8/\n",
              "/xzx8fE4efLkEzecmC9T9YRPi3YFYXp6OubMmYOcnJxW1xdcunSpwWeNRqN/u2LdunV48803AQBT\n",
              "p059aq9QEQmR4KNpfNoVhI/u7504cQK9e/c2yLt7926LIGw6wm0+7X07Rr+E8DLLnvDRPZfS0lIc\n",
              "PXrUIE+pVLYo36dPH2g0GtjZ2eEvf/mLfntpaSmeffbZJ2kvIeYZhHV1daipqUFDQwOqq6v1vZla\n",
              "rcaDBw9alD9x4kSr++nevTsyMjKeoLmEdD3tuk+YnJwMe3t7/PDDD5DJZLC3t4e9vT2GDRuGN954\n",
              "o92VyWSyDt3MJKSptu4TSk27gjAxMRE6nQ4LFy6ETqfTp6qqKqxdu1boNhJiyESvMj0tjHqLYuvW\n",
              "rUK1g5B247rYtT2a8pBIjhSHnHwoCIn0UBB2Pnp8izRFw1FCxEY9ISHionNCQkRGw1FCxEY9oXGq\n",
              "qqpgZWWFnj17Cl0VMRNdrSc0elWm9tBoNFi8eDFkMhkcHR0hk8ng5uaGlJQUIaojZqat2dakRpCe\n",
              "cP78+VAqlThz5gz27duHPn36ICgoCOvWrUNlZSXeffddIaol5oKGo227fv06Dhw4AABQKBQYNWoU\n",
              "Vq5ciUOHDkGhUFAQkifS1a6OCjIc5TgODx8+BACUl5dDq9UCaHyVqT2rOBHCh4aj7TB37lz4+/tj\n",
              "zJgxyM7ORnx8PABApVLpV3QipKO6Wk8oSBC+8847UCgUuHjxImbPno1x48YBAJydnXHp0iUhqiTm\n",
              "hIKwfUJCQvRzjhJiSlIccvIR5JyQz7x58zq7StLFcDrGm6Sm05+YOX36dGdXSboYOidsh9aWSwMa\n",
              "pzusrq7m/W5tbW2LZayYVgvOip6wI/8hvc6OlyB/2ZaWljh16hRkMpnBdsaYft7+x2ltWSv7ia+g\n",
              "V+hEk7eTSBP1hO3g6+uLX375pdU1J5ycnHi/29qyViN2pJq0fUTaKAjb4cCBA3jmmWdazbt48SLv\n",
              "d21sbFosY0VDUdIUXR1thx49etCTMUQwprw6euPGDQQEBMDLywt+fn64fPlyizI6nQ7x8fEYOnQo\n",
              "vL29ERUVhbq6OgCNC4NaWlpCLpfrU9OFQ9tD8FsU27dv5/1MiLG4Bv5kjJiYGCxcuBA//vgjVq1a\n",
              "hcjIyBZldu3ahby8POTl5eHq1auwsLDAli1b9Pm2trbIz8/Xp4EDBxrVBsGDsKSkhPczIUZjbaR2\n",
              "Ki8vx/nz5/WzyIeHh+P27dsoKCgwKHfx4kWEhITA2toaHMchNDQUn376qUkOBRAoCKuqqvT/bn6l\n",
              "s/lnQozV1nC0trYWGo3GIDW/7QUAt2/fxvPPPw+r/1xz4DgOrq6uKC4uNijn6+uLrKwsaDQa1NfX\n",
              "Y//+/SgqKtLnP3jwAH5+flAqlXj//ffR0GBcdyxIEPbu3RtTpkzB3//+d+h0XexSFhFdW2tRJCcn\n",
              "QyaTGaTk5OQO1xcZGYlJkybpF8v18vLSB+7zzz+PkpISnDt3DtnZ2cjNzcXmzZuN2r8gQThgwAAE\n",
              "BgZi1apVcHFxwerVq/Hjjz8KURUxQ229ypSQkAC1Wm2QEhISWuynf//+KC0t1b9qxxhDcXFxi0WL\n",
              "OI5DUlISLly4gK+++go+Pj4YMmQIgMar+Y/W7HRwcMBbb72F3Nxco45HsKujK1aswJUrV5CZmYmK\n",
              "igqMHDkSgYGBSEtLE6JKYkbaGo7a2NjAzs7OIDW/7QU0jtiUSiX27dsHoPHWmouLCwYNGmRQrqam\n",
              "BpWVlQCAiooKbNq0CStXrgTQeF5ZX18PoPFpr4MHD0KhUBh1PIJfmAkICMDOnTtRWlqKefPm0dVR\n",
              "8sRMuTTatm3bsG3bNnh5eWHTpk3Ys2cPACA6OhpZWVkAGtfhDAgIwJAhQzB27FjExsbit7/9LQDg\n",
              "7NmzUCgUGDFiBJRKJZydnY2eOYJjAqxfrVAocOHCBZPtj6bBJ00FTf5f3vycoys7qSWmIcijKKdO\n",
              "nRJit4QAoMfW2uVxb1EQYgpSfGeQDz2USaSna8UgBSGRHq6ha0UhBSGRHBqOEiI201/QFxUFIZEc\n",
              "6gkJERmdExIitq4VgxSERHq4LvZmDgUhkRwajhIiNro6SojIqCckRFx0TkiI2Gg4SojIaDjafvn5\n",
              "+SgqKoKVlRV8fHzg4eEhZHXETNBwtB0uXbqE119/HcXFxbh//z58fHxQUlKC4OBg7Nq1C3Z2do/9\n",
              "Lq3KRNrUxR5bE2SOmdjYWGzduhVqtRqHDh3C+PHjoVKpMHjwYCxZsoT3u61NV1f1Bb2pT5rQ6fiT\n",
              "xAgyx4xcLkd+fr7+s5+fH86dOwcA8PLy4p3+sLWecMSOVLPsCWmOmdaFesTz5v/j1sed1BLTEOQv\n",
              "+5lnnsG1a9fg7e2Nr7/+Gj169NDnWVpa8n6XVmUibWLS6+34CPLX/cEHH2DMmDFwcnLCvXv3kJmZ\n",
              "CQBQqVQYO3asEFUSc9JAQdimSZMmoaCgADdv3oSnp6f+QoyzszPNO0qenATP+/gINs6zt7eHr6+v\n",
              "ULsn5oxu1hMiMiNXPXraURAS6aFzQkLExejqKCEio56QEJHROSEh4mJd7BaF4OsTEmJyDTr+ZIQb\n",
              "N24gICAAXl5e8PPzw+XLl1uU0el0iI+Px9ChQ+Ht7Y2oqCjU1dXp848cOQJvb294enritddeg0aj\n",
              "MaoNFIREclhDA28yRkxMDBYuXIgff/wRq1atQmRkZIsyu3btQl5eHvLy8nD16lVYWFhgy5YtAID7\n",
              "9+8jKioKn3/+OW7cuIG+ffvigw8+MKoNFIREepiOP7VTeXk5zp8/jzfeeAMAEB4ejtu3b6OgoMCg\n",
              "3MWLFxESEgJra2twHIfQ0FB8+umnAIB//OMfUCgU8Pb2BgD87ne/Q3p6ulGHQ0FIJKetnrC2thYa\n",
              "jcYgNX8zBwBu376N559/Hlb/eUGA4zi4urqiuLjYoJyvry+ysrKg0WhQX1+P/fv3o6ioCABQXFwM\n",
              "Nzc3fVl3d3eUlpZCq9W2+3gkcWFGrFd6amtrkZycjISEhBZvdnRlT/txf6HL4M1PSkrC+vXrDbYl\n",
              "JiYiKSmpQ/VFRkbip59+QlBQELp164aQkBCcPHmyQ/tqFSOPpVarGQCmVqvFbkqnkvpx19TUMLVa\n",
              "bZBqampalCsrK2O2trasvr6eMcaYTqdjffr0YTdu3ODdf3p6OhszZgxjjLH9+/eziRMn6vMuX77M\n",
              "+vXrZ1R7aThKuhwbGxvY2dkZpNZ69N69e0OpVGLfvn0AgAMHDsDFxQWDBg0yKFdTU4PKykoAQEVF\n",
              "BTZt2oSVK1cCaHxjKC8vD9euXQMApKSkYPbs2cY12KiQNTNS7xE6ypyO+9q1a+yll15inp6ezNfX\n",
              "l126dIkxxlhUVBQ7fPgwY4wxlUrFvL29mY+PD/P29mZbt2412Mfhw4fZ4MGD2cCBA9mUKVNYVVWV\n",
              "UW0QZHqLrkKj0UAmk0GtVvNOTtXVmOtxi4WGozxsbGyQmJj4VF6cEJK5HrdYqCckRGTUExIiMgpC\n",
              "QkRGQUiIyMwiCN3d3dG7d2/U19frt50+fRocx2H58uUd3q9cLkd1dbUJWtixuuVyOXx8fGBpaan/\n",
              "PGvWLDg4OOCHH34wKF9eXo4ePXqgrKysxb5SU1MxfPhwyOVyeHt74/XXX9fncRyHqqoqoQ/HvD35\n",
              "nZann5ubG/P19WWZmZn6ba+//jobOXIkW7ZsmXgNM4HCwkImk8kMti1evJjFxcUZbPvoo4/Y1KlT\n",
              "W3z/3LlzbMCAAezevXuMscanRr777jt9PgBWWVlp8naT/zKLnhAA5s+fj927dwMA1Go1vv76a0ya\n",
              "NAkA0NDQgHfeeQdDhw7F0KFDsWTJEtTV1eH27dvo3bu3wbtjkZGR+tdYmvYSN27cwOTJk+Hn54fh\n",
              "w4fjT3/6U+ceYBNRUVHYt2+fQc+/Z88eREVFtSh7584d2NrawtbWFkDjMSmVSoMyKSkp8Pf3x4AB\n",
              "A7Bnzx799vPnzyMgIADDhw+Hv78//vWvfwEA1qxZg40bNwIAjh07Bo7j9EsfvPXWW0hLSzPtAUud\n",
              "2L8CncHNzY1duHCB+fj4sJKSErZ161a2evVqlpiYyJYtW8ZSUlJYUFAQq6mpYfX19Sw0NJRt2rSJ\n",
              "McbYyy+/zDIyMhhjjFVXV7NevXqxiooKxth/ewmtVst8fX3Z1atXGWOMPXjwgA0bNox9++23gh9b\n",
              "az0hY4wplUp26NAhxhhj//73v1nfvn2ZVqttUe7Bgwds9OjRzNnZmc2cOZP98Y9/ZL/88os+HwD7\n",
              "+OOPGWOMXb16lfXs2ZPV19ez2tpa1r9/f3b8+HHGGGO5ubmsT58+rLq6mp06dYqNHz+eMcbY8uXL\n",
              "2ahRo9if//xnxhhj/fv3ZyUlJab8L5A8s+kJAeDNN9/E3r17sXv3brz11lv67dnZ2YiMjISNjQ2s\n",
              "rKywYMECfPHFFwAae9BHv/4ZGRmYMGECHB0dDfZ7/fp1XL58GbNnz4ZcLkdAQACqq6tx5cqVzju4\n",
              "ZqKiovQ9/+7duzFv3rxW1wHp3r07cnNzcezYMYwePRoHDx7E8OHD8csvv+jLPDpH9Pb2hpWVFVQq\n",
              "Fa5fvw4LCwtMnDgRADBmzBj06dMH+fn5GD16NPLz8/Hrr78iJycHGzZsQHZ2Nq5fv44ePXqgb9++\n",
              "nfA/IB2SeJXJVObOnQulUgkvLy94eno+thzHcfp/T5s2DUuXLkVpaSn27t2rf3C3KcYYHBwcDFai\n",
              "EltERARWr16NW7duYf/+/Th//vxjy3IcB4VCAYVCgSVLlsDHxwdnzpzBa6+9BgB49tln9WUtLS0f\n",
              "+67co/83GxsbjBw5EhkZGejWrRvGjRuHhQsX4sSJEwgODjbhUXYNZtUT9u3bF8nJyfjwww8NtoeE\n",
              "hCAtLQ11dXXQarXYuXMnXnnlFQCNf4AzZsxAUlISbt68qT+PbGrw4MGws7MzOF8qKCgw6E06m729\n",
              "PcLCwjBr1izI5fIWbwY8cu3aNVy6dEn/+fbt27h7926bqyoPHjwYOp1OP2L46quvoFKpIJfLATT+\n",
              "n65btw7BwcGwsLCAQqHAJ598gpCQENMcYFci9ni4Mzw6J2zu0TmhVqtlK1asYEOGDGFDhgxhixYt\n",
              "YrW1tfpy3377LQPAVq1aZfB9NLlyWFBQwH7zm9+wYcOGMR8fHxYYGMju3Lkj5GExxh5/TsgYY19+\n",
              "+SUDwNLS0h77/e+++44FBgYyLy8vNmLECDZ8+HC2Y8cOfT6aXR11dHRkhYWFjLHGK6ujRo1iw4YN\n",
              "Y35+fiw3N9dgvwBYTk4OY4yxbdu2MQsLC7rS2gp6dpQQkZnVcJSQpxEFISEioyDsZElJSaipqRG7\n",
              "GeQpQueEnYzjOFRWVsLe3l7sppCnBPWEnSg2NhYAMHbsWHh5eYHjODx8+FCfHxERga1btwJoDNb3\n",
              "3nsPCoUCXl5e+Otf/6ovd+7cOUyYMAEjR46EQqFARgb/FIDkKSfuxVnzgyaX/CMiIti2bdsYY42T\n",
              "CT333HOsurpaX+69995jjDF28+ZN1qtXL1ZYWMgqKyuZXC5nP//8M2OMsbt377L+/ft3yu0QIgyz\n",
              "emLmabNs2TIsWLAACxcuxI4dOzBnzhz07NlTnx8dHQ0A8PDwQGBgIP75z3/CyckJt27dQmhoqMG+\n",
              "rl+/jn79+nVq+4lpUBCKyN/fH927d8fp06exfft2ZGdn85bnOA6MMQwZMgRfffVVJ7WSCI3OCTuZ\n",
              "ra0t1Gq1/vOyZcswd+5cvPDCC/Dy8jIo++gxuKKiIuTm5mLs2LEICAhAYWGhQcDm5+cbvG5FpIWC\n",
              "sJOtWLECL7/8MuRyOcrLyzF9+nTcv38fixcvblG2oaEBCoUCr7zyCv7whz/A3d0dvXr1wtGjR7Fx\n",
              "40aMGDECPj4+WL16NXRdbOFMc0K3KER2/vx5RERE4Nq1a7Cw+O9vIt3KMB90Tiii6OhonDx5Ejt3\n",
              "7jQIQGJeqCckRGT080uIyCgICREZBSEhIqMgJERkFISEiIyCkBCRURASIjIKQkJERkFIiMj+Hy97\n",
              "NtM1eckeAAAAAElFTkSuQmCC\n",
              "\">\n",
              "        \n",
              "      </div>\n",
              "      <script></script>\n",
              "      <script type=\"text/javascript\">\n",
              "        (() => {\n",
              "          const chartElement = document.getElementById(\"chart-aa7e7831-30db-4514-8b3c-b93c38fc2ba5\");\n",
              "          async function getCodeForChartHandler(event) {\n",
              "            const chartCodeResponse =  await google.colab.kernel.invokeFunction(\n",
              "                'getCodeForChart', [\"chart-aa7e7831-30db-4514-8b3c-b93c38fc2ba5\"], {});\n",
              "            const responseJson = chartCodeResponse.data['application/json'];\n",
              "            await google.colab.notebook.addCell(responseJson.code, 'code');\n",
              "          }\n",
              "          chartElement.onclick = getCodeForChartHandler;\n",
              "        })();\n",
              "      </script>\n",
              "      <style>\n",
              "        .colab-quickchart-chart-with-code  {\n",
              "            display: block;\n",
              "            float: left;\n",
              "            border: 1px solid transparent;\n",
              "        }\n",
              "\n",
              "        .colab-quickchart-chart-with-code:hover {\n",
              "            cursor: pointer;\n",
              "            border: 1px solid #aaa;\n",
              "        }\n",
              "      </style>"
            ]
          },
          "metadata": {}
        },
        {
          "output_type": "display_data",
          "data": {
            "text/plain": [
              "import numpy as np\n",
              "from google.colab import autoviz\n",
              "df_2562922071673232461 = autoviz.get_df('df_2562922071673232461')\n",
              "\n",
              "def heatmap(df, x_colname, y_colname, figsize=(2, 2), mpl_palette_name='viridis'):\n",
              "  from matplotlib import pyplot as plt\n",
              "  import seaborn as sns\n",
              "  import pandas as pd\n",
              "  plt.subplots(figsize=figsize)\n",
              "  df_2dhist = pd.DataFrame({\n",
              "      x_label: grp[y_colname].value_counts()\n",
              "      for x_label, grp in df.groupby(x_colname)\n",
              "  })\n",
              "  sns.heatmap(df_2dhist, cmap=mpl_palette_name)\n",
              "  plt.xlabel(x_colname)\n",
              "  plt.ylabel(y_colname)\n",
              "  return autoviz.MplChart.from_current_mpl_state()\n",
              "\n",
              "chart = heatmap(df_2562922071673232461, *['title', 'director'], **{})\n",
              "chart"
            ],
            "text/html": [
              "      <div class=\"colab-quickchart-chart-with-code\" id=\"chart-b76ec78b-72d7-450f-bb81-0a2fdc85ffcd\">\n",
              "        <img src=\"data:image/png;base64,iVBORw0KGgoAAAANSUhEUgAAATkAAADRCAYAAAC3gcWqAAAAOXRFWHRTb2Z0d2FyZQBNYXRwbG90\n",
              "bGliIHZlcnNpb24zLjcuMSwgaHR0cHM6Ly9tYXRwbG90bGliLm9yZy/bCgiHAAAACXBIWXMAAA9h\n",
              "AAAPYQGoP6dpAAAp4klEQVR4nO3dfVwVZfo/8M8cUHQT8AH8qrDE8qAECuccBBEBjVDUJSTUtNQE\n",
              "JWDZ/WmRG1Iq4HNf3dTVdWlX1FbRTDEiLR8wcTUxMsDUFEFBVAQS4UDgAQ7n/v5BzK8ROA8GIsP1\n",
              "fr3u18szc8/MNWe3i/ueOXMNxxhjIIQQkZJ0dQCEENKZKMkRQkSNkhwhRNQoyRFCRI2SHCFE1CjJ\n",
              "EUJEjZIcIUTUKMkRQkSNkhwhRNQoyRFCOs2iRYtgbW0NjuOQm5vbZp+ioiJMmDABpqamkEqlrdYn\n",
              "JSXB3t4etra2ePPNN9HY2KhXDJTkCCGdZsaMGTh37hyef/75dvuYmJhg9erV2LdvX6t1hYWFWL58\n",
              "Oc6ePYuCggKUlZXhX//6l14xUJIjhHQaHx8fWFpaauwzcOBAeHl54bnnnmu17tChQwgMDMSQIUPA\n",
              "cRwiIyOxf/9+vWIw1Ks3IaTHq6+vR319vWCZkZERjIyMOvxYxcXFglGgtbU1iouL9doHJTny1Nhs\n",
              "+bBT939rcXSn7r+nUJXaaVy/LnEuEhISBMvi4uIQHx/fiVE9OUpyhBCBJqbWuD42NhbR0cI/KJ0x\n",
              "igMAKysr3Lx5k/9cVFQEKysrvfZB1+QIIQIqNGlsRkZGMDExEbTOSnLTp09HWloaSktLwRhDYmIi\n",
              "Zs+erdc+KMkRQgQamVpj00dERAQsLS1x9+5d+Pv7w86ueSocFhaGtLQ0AEBdXR0sLS0xc+ZM/Pjj\n",
              "j7C0tERsbCwAwMbGBgkJCRg3bhzs7Oxgbm6OiIgIvWLgqDIweVromlz3UFGi+W7ooGF3n1IkHYOu\n",
              "yRFCBPQdrT3rKMkRQgTEleIoyRFCHtMgsitYlOQIIQKN4Lo6hA5FSY4QIqAW10COkhwhRKhBZL8s\n",
              "oyRHCBFoZJTkCCEi1kQjOUKImIltJCeqs2lsbERCQgIcHBzg5OQEmUyGoKAgviJpWloa3n77bQBA\n",
              "RkYGX4W0qKgI/fv375AYUlNTceHCBY19Dhw4gNGjR2PEiBFwdXXFyy+/jMuXLwMAOI5DVVVVh8RC\n",
              "yJNoZIYaW3fT/SLWIDQ0FD///DMyMzMxYMAAAEB6ejry8vIglUoRGBiIwMDATju+SqVCamoqpFIp\n",
              "PDw82uyza9curFu3DqmpqXB0dAQAfP/99ygpKcGoUaM6LTZCdNUksp+QiGYkl5+fj88++ww7d+7k\n",
              "ExwA+Pn5YdasWQCA3bt3IygoqN19LFmyBM7OznByckJ6ejq//Pjx4/Dy8oKrqyvc3d1x+vRpAM2j\n",
              "QScnJyxcuBBSqRTJyclIS0vDhg0bIJVKsWPHjlbHiIuLw+bNm/kEBwCurq7w9/fnP2/fvh3u7u74\n",
              "wx/+gF27dgnic3Nzg1QqhY+PD/Ly8vh1HMdh7dq1bW5HiD4amYHG1t2IZiSXk5MDOzs7DBw48Im2\n",
              "VygUeOGFF7Bx40ZcuHABgYGBuHnzJn766SfEx8fj+PHjMDExQUFBAby9vVFUVAQAuHbtGrZv346k\n",
              "pCQAwOnTpyGVSvHWW2+1OkZ5eTnu3LmDsWPHaozFyMgIWVlZuH79Otzc3DBv3jwYGhoiJiYGGzdu\n",
              "BAB88sknWLx4MY4dO6Z1O0L00dANp6SaiOtsfuXmzZuYPn06Hj16BE9PT60jG0NDQ4SEhAAAPDw8\n",
              "MGzYMOTk5ODKlSsoKCiAj48P31cikfAlmG1sbDB+/PgOjX3OnDkAAAcHBxgaGqK0tBSWlpY4efIk\n",
              "tm7dipqaGqjVajx8+FCn7R73NMtXk+5HLZ4JHgARTVdlMhkKCgpQWVkJALC1tUVubi5iY2P5Zfri\n",
              "OA6MMUycOBG5ubl8u3fvHuzt7QEA/fr103l/gwcPhqWlJTIzMzX269OnD/9vAwMDqFQqFBcX4y9/\n",
              "+Qv27t2LK1eu4JNPPoFSqdS6XVvWrVsHU1NTQVu3bp3O50HErYEZaGzdjWiSnL29PaZNm4aFCxcK\n",
              "7k7W1tbqtL1KpcKePXsAAFlZWSgpKYFUKoW/vz/S09Pxww8/8H2zsrLa3Y+JiQkUCkW76+Pj4xEd\n",
              "HY3r16/zy3JycnDixAmN8SkUCvTq1QtDhw4FYwzbtm3T6bzaEhsbC4VCIWgtRQoJoburz7Ddu3dj\n",
              "zZo1GDNmDAwNDTFgwACYm5sjJiZG67ampqa4cuUKXFxcoFKpsG/fPhgbG8PY2Bj79u1DREQE6urq\n",
              "0NDQAJlM1uY7IgFg3rx5CAkJQWpqKv785z8jLCxMsH7hwoXo27cv5syZg59//hmGhoawtbXVOpIa\n",
              "NWoUZs+eDScnJwwaNEjjDRRtaGpKNGli4rq7SpWByVNDlYG7h503vDSuXzD83FOKpGOIaiRHCPnt\n",
              "uuPPRDShJEcIEaBnVwkhokYjOUKIqFGSI4SImlpkVUgoyRFCBGgkRwgRNUpyhBBRa6LpKiFEzGgk\n",
              "RwgRNRUlOUKImInt2VVKcoQQAZVaXCM5cV1hJIT8Zo1MorHpY9GiRbC2tgbHcfwLpdqSlJQEe3t7\n",
              "2Nra4s0330RjYyOA5lcM9O3bF1KplG+PHj3SKwZKcoQQATWTaGz6mDFjBs6dO4fnn3++3T6FhYVY\n",
              "vnw5zp49i4KCApSVleFf//oXv37EiBGCorV9+/bVKwZKcoQQAW0jufr6elRXVwva4+X0W/j4+LRZ\n",
              "gv/XDh06hMDAQAwZMgQcxyEyMhL79+/vsPOha3LkqRFDvbfOrokHdP33pO2a3Lp165CQkCBYFhcX\n",
              "h/j4+Cc6XnFxsWCkZ21tzb9DBWh+X4tcLoeBgQFCQ0MRFRWl1/4pyRFCBNRa3rsaGxuL6GhhIu6s\n",
              "StNyuRx3796Fqakp7t69i6lTp8LMzAyvvvqqzvugJEcIEdA2kuvo8vlWVla4efMm/7moqAhWVlYA\n",
              "mt+Z0sLS0hKvvfYazp49q1eSo2tyhBABFZNobB1t+vTpSEtLQ2lpKRhjSExMxOzZswEA9+/fh1qt\n",
              "BgDU1NTgyJEjkMlkeu2fkhwhREDNOI1NHxEREbC0tMTdu3fh7+8POzs7AEBYWBjS0tIANL+7OCEh\n",
              "AePGjYOdnR3Mzc0REREBAEhJScGoUaPg4uICDw8PTJw4EaGhoXrFQC+yIUQPPeHGw8tn/5/G9V94\n",
              "b31KkXQMuiZHCBHojClpV6IkRwgR0HdK+qyjJEcIEVCpaSRHCBGxJkpyhBAx0/Zj4O6GkhwhRIBG\n",
              "coQQUaMkRwgRNbq7SggRNbGVP+/Ucam1tbXGaqCdieM4SKVSwbJdu3aB4zhs3rwZAJCYmIgNGzZo\n",
              "3E9GRkar/ehC23YnT56Ej48PbGxsMHr0aLi7uwsKBRLSVZrUEo2tu3mmRnIqlQqGhh0XkqGhIb7/\n",
              "/nu4uroCAHbu3InRo0fz6yMjIzvsWPo4ceIEQkJCcOjQIXh6egIA7t69i3//+99t9u/o74UQTcT2\n",
              "oOdTScsFBQXw8/ODs7MzpFIpUlNT+XUcxyEuLg5ubm6IjY3F/fv3MWnSJDg6OmLSpEmYPXs2X4yv\n",
              "sbERS5cuhbu7O6RSKV599VVUVla2e9zQ0FDs3LkTAHDjxg00NjbCycmJXx8fH4+33nqL//zBBx8I\n",
              "Hgauq6sD0JxkoqKi4OLiAicnJ1y8eJHf5vjx4/Dy8oKrqyvc3d1x+vRprd/HypUrsWLFCj7BAc1l\n",
              "ZH5diPDx7+Xy5cvw8vKCXC6Ho6MjVq9e3e55bNu2DSEhIVrjIKQtarVEY+tunsrwYM6cOViwYAEi\n",
              "IiKQn58PDw8PyGQyvhqogYEBvvvuOwDAzJkzMXbsWCQkJKC0tBRSqRQODg4AgA0bNuC5555DVlYW\n",
              "AGDVqlVYtmwZ/vGPf7R53ODgYGzcuBFKpRI7d+5EaGgoMjMz2+z78ccfIyUlBefOnYOpqSkqKyv5\n",
              "mlnXr19HUlIStm/fjsTERLz//vs4fvw4bt26hfj4eBw/fhwmJiYoKCiAt7c3ioqKNH4f2dnZ2LpV\n",
              "+0POv/5eampqcOrUKRgZGeHRo0fw9PSEn58fPDw8tO6HEH00qcV1TU6vJNfU1ITU1FRMnz5d521q\n",
              "amqQnZ2Nb775BgBgb28PLy8vnD17lk9yCxYs4PufOnUKGzduBAAMGTIEAQEB/LrU1FQoFAqkpKQA\n",
              "ABoaGmBtbd3usfv27Qt/f38cPHgQBw8eRE5OTrtJ7siRI4iMjISpqSkAYMCAAfw6Ozs7jBkzBgAw\n",
              "duxYPr5jx46hoKAAPj4+fF+JRCIo3ayLOXPm4OrVqygtLcWNGzf4QoG//l4ePXqEqKgo5ObmQiKR\n",
              "4M6dO8jNzX2iJFdfX9+qJn9HF0Ik3RcT2Y0HvZKcgYEB1qxZo1eSawvHCb/Efv366dSXMYatW7di\n",
              "0qRJOh8rNDQUAQEBmDx5sqDKqD769OnD/9vAwAAqlYqPZ+LEidi3b1+rbe7du9fu/mQyGbKysvji\n",
              "f8nJyQCaz7WlQCAg/F7ee+89mJmZIScnB4aGhggODoZSqQTQfO2xqamJ79uyvD0dXaOfiIvYfkKi\n",
              "9wRbLpfj3LlzOvc3NjaGXC7Hrl27ADRfnzt37pxg9PNrvr6+2L17NwCgrKwMR44c4dcFBQVh06ZN\n",
              "/LWyuro6XL16VePxx4wZg2XLliE2NlZjv8DAQCQmJkKhUAAAqqqqBImjLf7+/khPT8cPP/zAL2uZ\n",
              "SmuyfPlyrFy5EhcuXOCX1dbWatymsrISlpaWMDQ0RF5eHk6ePMmvs7Ozw8WLF9HU1IS6ujp+pNue\n",
              "2NhYKBQKQdP2/ZCeg6k5ja270fua3IULF7B7927Y2NgIRhrZ2dmt+qpUKvTp0wfJycmIjIzEtm3b\n",
              "wHEcduzYwddwf9yWLVswf/58ODo6YtiwYRgzZgz69+8PAIiJiUF9fT3GjBnDj/BiYmIENxPasnjx\n",
              "Yq3nNW/ePJSUlMDT0xOGhoZ47rnnkJ6ernEbOzs77Nu3DxEREairq0NDQwNkMlmbI7tfmzx5MpKS\n",
              "kvDXv/4VJSUlMDc3R+/evbF161YYGxu3uc2yZcswb948fPzxx7C1tYWvry+/Ljg4GAcPHsQLL7wA\n",
              "S0tLyGQy/g9BW2hqSjQR23RV78rAZ86caXP5+PHjBZ/v37+PESNGoLS0FL/73e903v+jR4/Qq1cv\n",
              "GBoaoqKiAh4eHti7dy9/TYyQrtQTKgPbHlijcf3NWe8/pUg6ht4juZZkVlJSAgAYNmxYqz4ffvgh\n",
              "PvroI2zcuFGvBAcA+fn5eOONN8AYQ0NDA6KioijBEfIUdccpqSZ6J7lr165hxowZfJKztLTEwYMH\n",
              "+Z95AEB0dHSr9zLqytnZucuekiCEAOjpPwaOiorC+++/j8rKSlRWVuL999/Hn/70p86IjRDSBcR2\n",
              "40HvJFdZWYnXX3+d/zx79myNTx0QQrqXHp/kDAwM8OOPP/Kff/zxRxgYaH7jNiGkO+G0tO5F72ty\n",
              "a9euhY+PD5ydnQEAly9f5n/MSggRAbX2Lt2J3knO398f165dw7fffgsA8PDwgJmZWYcHRgjpGt1x\n",
              "SqrJE914MDc3R0BAAAICAmBmZoaoqKjOiI0Q0hWYltbNPNETD487f/58hwRDCOl6nMhGcjonuQMH\n",
              "DuCTTz5BYWEhgoOD+eUKhULjA/aEkG6mpyY5BwcHTJs2DdnZ2Zg2bRq/3MTEBC+99FKnBEcI6QLd\n",
              "cEqqic5JzsXFBS4uLvjjH/8Ic3PzzoyJENKVOvDu6qJFi5CWlobbt28jJyen3feeJCUlYf369VCr\n",
              "1fD19cX27dvRq1cvret0ofeNh/nz56OiooL//ODBA0FhS0JI98apOY1NHzNmzMC5c+f4ArltKSws\n",
              "xPLly3H27FkUFBSgrKyMf6mTpnW60jvJlZSUYNCgQfxnMzMz/jlWQogIdODdVR8fH1haWmrsc+jQ\n",
              "IQQGBmLIkCHgOA6RkZHYv3+/1nW60vvualNTk+DtUQ0NDWhoaNB3N4SQZxSnJZF1dPn84uJiwUjP\n",
              "2tqaf4WApnW60jvJTZkyBTNnzuQLUW7ZsgVTp07VdzfkGdMT6qR1BDGcg1ZapqTdrXy+3kluzZo1\n",
              "WLt2Ld59910AzWXDY2JiOjwwQkgX0TKSi42NbVVK7bdUmrayssLNmzf5z0VFRXzlcE3rdKX3Nble\n",
              "vXohLi4OWVlZyMrKwrJly/S600EIebZxas3NyMgIJiYmgvZbktz06dORlpaG0tJSMMaQmJiI2bNn\n",
              "a12nK72T3J07dxAQEMDfCs7NzcWmTZv03Q0h5BmlLcnpIyIiApaWlrh79y78/f1hZ2cHAAgLC0Na\n",
              "WhoAwMbGBgkJCRg3bhzs7Oxgbm6OiIgIret0Ph993/EwdepUvP7669iwYQMuXboElUoFmUyGy5cv\n",
              "63Vg8myha3Kkhd3/ah60FLz79lOKpGPoPZIrLy/H3LlzIZE0b2poaMjfaSWEdH8dOZJ7FuidnQwN\n",
              "DfHrwV9lZSX0HAwSQp5lIvvPWe+R3MyZMxEREYHq6mrs2LEDEydORFhYWGfERgjpAj1+JPfOO+9g\n",
              "//79UCgUOHHiBKKjowXvfCCEdG/dMZFpoleSa2pqgr+/P9LT0/Haa691VkyEENJh9EpyBgYGqKur\n",
              "g1qt5m88EELEpUeP5ADAzc0NAQEBmDt3rqBYZmBgYIcGRgjpIj09yf3www8AgH//+9/8Mo7jKMkR\n",
              "IhLaHtDvbvROcqdPn+6MOAghz4geO13Nz8+Hvb09P5J7XMt7WDuDtbU1jIyM0LdvXzx69AihoaFY\n",
              "unSp1u04jkNlZSX69+//m46fkZEBpVKJyZMnt7k+Pj4eVVVV2Lx5s877fJJtHo+jpKQEs2bNwtmz\n",
              "Z3XeByFa9dQk9/bbb+PIkSOC9zu04DgOt27d6tDAHnfgwAFIpVLcu3cPjo6O8PX1hbu7e6ceEwBU\n",
              "KhUyMjJQVVXVbpJ7Wh6PY9iwYZTgSIcT23RV51uk27dvR3FxMTIyMnDmzBm+ZWRkICMjoxNDFLKw\n",
              "sICDgwNu374NACgoKICfnx+cnZ0hlUqRmpoq6L9x40bIZDIMHz4cycnJ/PLvvvsOvr6+GD16NGQy\n",
              "GQ4ePAiguZRL//79ERMTA7lcjm3btiExMRHJycmQSqVYuXKlzrGGhIQIRmpLlixps+bWjz/+iJEj\n",
              "R+Krr77iY3Z3d4dcLsfkyZNx+/Zt5ObmtoqjJdYWmZmZ8PLygouLC5ydnfH555/rHCshPLWW1s3o\n",
              "PJJzdXUFxzUX06uoqEDv3r0BNFcGNjMzQ1lZWedE+Jjr16+joqICEyZMAADMmTMHCxYsQEREBPLz\n",
              "8+Hh4QGZTMZXE+U4Djk5Obh16xZGjx6NcePGoX///ggPD8eXX36JoUOH4sGDB5DL5fD09ATQ/JpF\n",
              "JycnfPDBBwCAqqoqvaeWusrIyEBUVBT27t0LuVyOffv2IS8vD5mZmTAwMMCePXsQFRWFo0ePIjIy\n",
              "UhBHUVERv5+HDx8iKCgIhw4dgre3N9RqNaqqqjo8XiJ+Pfaa3E8//QQAiImJgZ2dHRYuXAgA2Llz\n",
              "p6CoXWeZNWsWJBIJ8vLysGnTJpibm6OmpgbZ2dn45ptvAAD29vbw8vLC2bNn+STX8siZjY0NfHx8\n",
              "8N///hdmZma4desWpkyZIjhGXl4ebGxs0KtXL8ydO7fTz+nrr7/GsWPHcOLECb4QYGpqKr777ju4\n",
              "uroCaP4Bti4yMzMxYsQIeHt7AwAkEgkGDhzYZt+2ylczlQocFVog6MHT1RbHjx/Hm2++CYlEAolE\n",
              "grCwMBw7dqwzYhM4cOAArl27hhMnTmDp0qXtlnZqGW22h+M4MMbg5OSE3NxcvhUXF8PX1xcA8Lvf\n",
              "/a5DfuxsaGgoSFJKpVKw3s7ODhKJBBcuXOCXMcYQGxvLx3X58uUOL2O1bt06mJqaClrVyVMdegzS\n",
              "jYlsuqr3f8kNDQ3Iy8vjP9+4caPVqKAz+fn54U9/+hOWLVsGY2NjyOVy7Nq1C0Dz9blz587Bx8eH\n",
              "79+yrqioCGfPnoW3tzc8PT1RWFiI9PR0vl9ubm67L+QxMTGBQqHQO1Y7OztkZWUBaJ7if/nll4L1\n",
              "VlZWOHXqFFavXs3HGRQUhMTERDx8+BAA0NjYiJycHK1xeHp6Ij8/n78RoVar+X08LjY2FgqFQtD6\n",
              "T6QXhJNmHNPcuhu95yfr16/HuHHj4OLiAqD5x8E7d+7s8MA0Wb58Oezs7PD9998jOTkZkZGR2LZt\n",
              "GziOw44dOwQ14JuamiCTyVBbW4u///3vsLa2BgAcPXoUS5YswTvvvIPGxkZYWVm1umnR4pVXXsGe\n",
              "PXsglUoRHByMFStWtOqTlJSEQ4cO8Z+jo6MRHh6OGTNm4IUXXoCNjQ08PDxabTd06FB8/fXXmDx5\n",
              "MmpqarBo0SJUVFTgxRdfBNB8d3fBggWQyWSt4njjjTf4/QwYMACfffYZ3nnnHdTU1EAikWDVqlV4\n",
              "+eWXWx2zrTcr0VSVtOiOiUwTvSsDA83X51qmWGPHjoWZmVmHB0aeLqoMTFq4LNJcGfjS37tXZeAn\n",
              "+vNtbm7e5giBENL99di7q4SQnkFs01VKcoQQARrJEULEjZIcIUTMaLpKCBE1Ti2uLEdJjhAiQNfk\n",
              "CCHiJq6BHCU5QogQjeQIIaJGSY4QImpiu7tKL08lhAhwaqax6Ss/Px+enp4YPnw43NzccPXq1VZ9\n",
              "1Go1lixZgpEjR8LBwQELFy7kqwIVFRXBwMAAUqmUb/rUsKQkRwgR4Jo0N31FREQgPDwcN27cQExM\n",
              "DEJCQlr1SUpKQnZ2NrKzs3Ht2jVIJBJs2bKFX29sbCyo/2hra6vz8SnJEUKEmJamh/Lycly8eJGv\n",
              "tD19+nTcuXMHBQUFgn6XLl2Cn58fevfuDY7jMGXKFOzZs+c3nwpASY4Q8hht09X6+npUV1cLWnuF\n",
              "c+/cuYOhQ4fC8Jd6hRzHwcrKCsXFxYJ+rq6uSEtLQ3V1NRobG/Hpp58K3mFSW1sLNzc3yOVyrFy5\n",
              "UufXAgB044H8gmq9PTu6uraftrur69atQ0JCgmBZXFxcm2+i01VISAhu376N8ePHo2/fvvDz88OJ\n",
              "EycANBeWvXfvHgYPHoyHDx9i1qxZ+Nvf/oZ3331Xp33TSI4QIqCt/Hlb5fNjY2Pb3Nfvf/973L9/\n",
              "HyqVCkDzO0yKi4sF1buB5hFefHw8cnJycP78eTg6OsLJyQlAcyXrwYMHAwAGDhyIBQsW6PW+YUpy\n",
              "hBABbdNVIyMjmJiYCNrj5fRbDB48GHK5HHv37gUApKSkwNLSEnZ2doJ+SqUSlZWVAIAHDx5g/fr1\n",
              "/EitvLwcjY2NAJrfNHf48GHIZDKdz4emq4QQgY7+MfBHH32EkJAQrF27FiYmJvxLm8LCwhAYGIjA\n",
              "wEAoFApMmDABEokEarUaixcv5quPnzt3DitWrICBgQFUKhV8fX3x/vvv634+T/KOB0JI5+nqa3Lj\n",
              "//i/Grc9c1S3a2HPChrJEUIE6LEuQoioUT05Qoi4iSvHUZIjhAhxTeLKcpTkCCECNF0lhIibyH5w\n",
              "QUmOECJAIzlCiKjRNTlCiLiJK8dRkiOECHFqcf0aWFQP6B8+fBiurq6QSqVwcHCAr68v1L/8D2Zt\n",
              "bY3c3NwujW/Xrl3gOE7nCgrPQsyk5+GamMbW3YhmJHf//n2Eh4fj+++/x/PPPw8AyM7OBsdxXRzZ\n",
              "/5eUlISXXnoJSUlJ8Pb27vTjqVQqvlghIToT2d1V0YzkysrKYGBggIEDB/LL5HK5IMkdPnwYY8eO\n",
              "xR/+8AesXr2aX/7hhx/Czc0NUqkUbm5uyMzM5NdZW1tjxYoVbW5XWlqKV199Fe7u7hg1ahSWLVvW\n",
              "bnx5eXkoLCzEf/7zH6SmpqK6uppfl5mZCS8vL7i4uMDZ2Rmff/55q+23bt2KcePG4aefftJ4XGtr\n",
              "a8TExMDd3R3z58/X4xsk5BdNTHPrZkTzZ97Z2RleXl54/vnnMX78eHh6euL111+HhYUF36eqqgqZ\n",
              "mZl48OABbG1tERoaCgsLC8ybNw/R0c1VGS5cuICQkBBcv35d63bz58/He++9h/Hjx0OlUiEgIAAH\n",
              "Dx7EzJkzW8WXlJSEefPmYdiwYfD19cUnn3yC8PBwPHz4EEFBQTh06BC8vb2hVqtRVVXFb6dWqxEd\n",
              "HY3CwkKkp6ejb9++8Pf313jciooKfPvtt8/UKJZ0H2K7JieaJCeRSJCSkoLr16/jzJkz+Oqrr7Bm\n",
              "zRpcvHiRL9D3+uuvAwDMzMxgY2ODwsJCWFhYICcnB2vWrEFFRQUMDQ2Rl5eHR48eoW/fvu1u179/\n",
              "f5w6dQplZWV8DD///DPy8vJaxaZSqfCf//wHZ86cAQAsWLAAq1atQnh4ODIzMzFixAh++iqRSASj\n",
              "0fDwcMhkMqSkpEAikaC2tlbrcUNCQjQmuPr6+lY1+Y2MjNotfEh6GJFNV0WT5Fo4ODjAwcEBERER\n",
              "mDx5MtLS0vhRWp8+ffh+LQX4GhoaEBwcjNOnT8PNzQ3V1dUwNTVFfX09n+Ta2q6lDN+FCxcE69ty\n",
              "5MgRVFVVwd/fH0BzCeiSkhJcuXJF6/mMHz8eJ0+eRGlpKYYNG6bTcfv166dxn51Ro5+ISDeckmoi\n",
              "mmty9+7dwzfffMN/rqysRGFhodb3MyqVSjQ0NPA157du3arT8fr164cXX3wR69ev55eVlJTg7t27\n",
              "rfomJSVh8+bNKCoqQlFREW7fvo3o6GgkJSXB09MT+fn5/B1XtVqNhw8f8tvOmzcPK1asgK+vLwoL\n",
              "C/U6bnv0qdFPeh5OrdbYuhvRJDmVSoWVK1di+PDhkEql8Pb2xvz58zFt2jSN25mYmGD16tVwd3eH\n",
              "q6srevfurfMxk5OTUVBQgJEjR2LUqFEIDg5GRUWFoE9JSQlOnTrV6jrdnDlzsHfvXjz33HP47LPP\n",
              "sHTpUjg7O0MulwuSNQDMmDEDf/vb3zBp0iRcv35dp+Nqok+NftIDqZnm1s1Q+XNCnjFdXf58ir3m\n",
              "8uZf5Wsuj/6sEd01OULIb9TU/aakmlCSI4QIMUpyhBAxo5EcIUTUuuEdVE0oyRFChER2L5KSHCFE\n",
              "qKmpqyPoUJTkCCFCdE2OECJmjO6uEkJEjUZyhBBRo2tyhBAxYyL7CYloHtAnhHSQJrXmpqf8/Hx4\n",
              "enpi+PDhcHNzw9WrV1v1UavVWLJkCUaOHAkHBwcsXLgQDQ0N/PojR47AwcEB9vb2CA4OFlTW1oaS\n",
              "HCFEgDU1aWz6ioiIQHh4OG7cuIGYmBiEhIS06pOUlITs7GxkZ2fj2rVrkEgk2LJlC4DmorALFy5E\n",
              "amoq8vPzMWzYMKxatUrn41OSI4QIMbXmpofy8nJcvHgRc+fOBQBMnz4dd+7cQUFBgaDfpUuX4Ofn\n",
              "h969e4PjOEyZMgV79uwBAHz11VeQyWRwcHAAAERFRWH//v06x0BJjhAioG0kV19fj+rqakF7vJx+\n",
              "izt37mDo0KH8W+M4joOVlRWKi4sF/VxdXZGWlobq6mo0Njbi008/RVFREQCguLiYfwMf0Pyypvv3\n",
              "70OlUul4QoToSalUsri4OKZUKukYXXyMp3EOj4uLi2MABC0uLq7NvhcvXmTDhw8XLHNzc2OnTp0S\n",
              "LFOr1SwuLo5JpVI2duxYtnz5cjZgwADGGGMbN25k4eHhfN/a2lomkUhYY2OjTvFSkiN6UygUDABT\n",
              "KBR0jC4+xtM4h8cplUqmUCgErb0kW1ZWxoyNjfmEpFar2f/8z/+w/Px8jcfYv38/8/LyYowx9umn\n",
              "nzJ/f39+3dWrV5mFhYXO8dJ0lRCiF33K5w8ePBhyuRx79+4FAKSkpMDS0pJ/g14LpVKJyspKAMCD\n",
              "Bw+wfv16vPtuc4XiyZMnIzs7m39N6Pbt2zF79myd46XfyRFCOtVHH32EkJAQrF27FiYmJti1axcA\n",
              "ICwsDIGBgQgMDIRCocCECRMgkUigVquxePFivPzyywAAY2Nj7NixA0FBQVCpVBg5ciQ+/vhjnY9P\n",
              "73ggemt5baNCoYCJiQkdowuP8TTOobuj6SrRm5GREeLi4jr1DV90jGdj/2JAIzlCiKjRSI4QImqU\n",
              "5AghokZJjhAiapTkiEZKpRJBQUEYPnw4XFxcMHHiRP65w7Vr12LEiBGQSCRITU3Ve/vQ0FA4OztD\n",
              "KpXCzc0Np06danMfRUVFMDAwgFQq5dvNmzf59Rs2bMDIkSPh6OiIV155BVVVVYLtJ02axB/H29sb\n",
              "OTk5aGxsRFBQEFxcXBAcHMw/IqRUKuHj48P/ZqstFRUVgliGDx8OQ0NDPHz4UNDv559/hr+/P8zM\n",
              "zNC/f/9W+9EWty6OHTuG0aNHw9nZGR4eHrh06ZLe+xA9nX82THqkR48esaNHjzK1Ws0YY2zr1q1s\n",
              "/PjxjDHGvv32W3bz5k02fvx49tlnn+m9fWVlJd8vOzubDRgwgDU1NbXaR2FhITM1NW1z/ydOnGAv\n",
              "vPACq66uZowxtmrVKhYVFSXo8+vjHD58mDk7O7MvvviChYaGMsYYCw0NZV988QVjjLH33nuPHThw\n",
              "oN3voy0bNmxgAQEBrZYrlUp26tQplpOT0yp+XeLW5uHDh2zgwIHsypUrjDHG/vvf/zInJye99tET\n",
              "0EiOaNSnTx9MnToVHMcBADw8PPgHp93d3WFjY/PE2/96dKNQKJ4ovkuXLsHLywvGxsYAgKlTp/LV\n",
              "K1o8fhyO49CrVy/U1dUBAOrq6tC7d2/88MMPuH79Ol599VW9YkhKSsLChQtbLTcyMoKvr2+bozhd\n",
              "4tbm5s2bGDRoEJycnAAA3t7eKC4uRnZ2tl77ETtKckQvW7ZswbRp0zps+6VLl8LW1hbBwcFISUmB\n",
              "RNL8f8kVK1YgMTGR71dbWws3NzfI5XKsXLkSTb/UNXN1dUV6ejpKS0vBGENycjJqampaTR3feOMN\n",
              "/P73v8fy5cuxZ88eTJw4EcbGxnBxcYGpqSl8fX0RHR3N1zDT1fnz51FZWYmAgIA2426PrnFrYm9v\n",
              "j4qKCpw/fx4AkJaWhpqaGv6PCPlFVw8lSfexZs0a5uHhwWprawXLNU1XddmeMcZOnjzJRo8ezerr\n",
              "61utUyqVrKysjDHGWEVFBfPz82MffPABv/4f//gHc3V1Ze7u7mzdunUaH1jfvXs3mzJlSqvlmzZt\n",
              "Ylu3bmWFhYXstddeY8HBwa0qZbRlwYIF7K9//avGPu1Nt/WJuz1ff/018/HxYXK5nP35z39mjo6O\n",
              "7PPPP9drH2JHSY7oZMOGDczV1VVwfauFLklO0/YtRowYwS5evKg1ln379rV5DYwxxjIzM5mlpaXG\n",
              "7fv06cMePHjAfy4qKmITJ05kTU1NbO7cuez06dOsurqaOTo6atxPTU0N69evH7t27ZrGfpquKeoT\n",
              "tzZKpZL1799fa4WPnoamq0SrDz/8EPv378fJkyfbvL70JNs3NjYKqsNmZWWhvLy8zWt85eXlaGxs\n",
              "BADU19fj8OHDkMlk/Pr79+8DaL62tmLFCr56BQBUVVWhpKSE/5yamopBgwZh4MCB/LLFixdj06ZN\n",
              "kEgkqK2tBcdx/L81OXDgAFxcXPiKtfrSFLe++wCAVatWwdfXt1WFjx6vq7MsebbduXOHAWA2NjbM\n",
              "xcWFubi4MHd3d8ZY8x1BCwsL1rt3bzZo0CBmYWHBysvLddq+traWeXp6MicnJ+bi4sI8PT0F08Pl\n",
              "y5ezf/7zn4wxxlJSUpiTkxNzdnZmjo6O7C9/+YugftnIkSOZo6Mjs7OzYwkJCfydXMaaR2lubm5s\n",
              "5MiRzNnZmb300kssJyeHX5+cnMxWrFjBf/7222+Zs7Mzc3BwYDt27ND43YwdO5bt3LlTsOzXcTPG\n",
              "2KhRo9iQIUMYx3HMwsKCzZ07V6e4dRUWFsZGjBjBbG1t2dy5czWOlHsqenaVECJqNF0lhIgaJTlC\n",
              "iKhRkiOiFB8fD6VSCaD5t2vJyckAgIyMDBw7dozvV1RU9EQ3U0j3QdfkiChxHIfKyspWCSw+Ph5V\n",
              "VVXYvHkzgOYkJ5VKn+i5UdI90DseiOhERkYCaH7MycDAAMOGDcOkSZMwYcIEJCYmoqmpCRkZGQgO\n",
              "DsYbb7wh2Pa7775DTEwMqqur0dTUhPfeew8zZ87sitMgHYRGckSUfj2SCwkJgVQqxVtvvaVxJFdV\n",
              "VYUXX3wRX375JYYOHYoHDx5ALpcjMzMTFhYWXXtC5InRSI6QX5w/fx63bt3ClClTBMvz8vIoyXVj\n",
              "lOQI+QVjDE5OTvwD70Qc6O4qESVjY+M2yzeZmJi0W9bJ09MThYWFSE9P55fl5uaioaGh0+IknY+S\n",
              "HBGld955BxMnToRUKkV5eTm//JVXXkFubi6kUilWrlwp2GbAgAE4evQo1q5dCxcXFzg6OmLp0qVQ\n",
              "q9VPO3zSgejGAyFE1GgkRwgRNUpyhBBRoyRHCBE1SnKEEFGjJEcIETVKcoQQUaMkRwgRNUpyhBBR\n",
              "oyRHCBE1SnKEEFGjJEcIEbX/A1kJkd87qry6AAAAAElFTkSuQmCC\n",
              "\">\n",
              "        \n",
              "      </div>\n",
              "      <script></script>\n",
              "      <script type=\"text/javascript\">\n",
              "        (() => {\n",
              "          const chartElement = document.getElementById(\"chart-b76ec78b-72d7-450f-bb81-0a2fdc85ffcd\");\n",
              "          async function getCodeForChartHandler(event) {\n",
              "            const chartCodeResponse =  await google.colab.kernel.invokeFunction(\n",
              "                'getCodeForChart', [\"chart-b76ec78b-72d7-450f-bb81-0a2fdc85ffcd\"], {});\n",
              "            const responseJson = chartCodeResponse.data['application/json'];\n",
              "            await google.colab.notebook.addCell(responseJson.code, 'code');\n",
              "          }\n",
              "          chartElement.onclick = getCodeForChartHandler;\n",
              "        })();\n",
              "      </script>\n",
              "      <style>\n",
              "        .colab-quickchart-chart-with-code  {\n",
              "            display: block;\n",
              "            float: left;\n",
              "            border: 1px solid transparent;\n",
              "        }\n",
              "\n",
              "        .colab-quickchart-chart-with-code:hover {\n",
              "            cursor: pointer;\n",
              "            border: 1px solid #aaa;\n",
              "        }\n",
              "      </style>"
            ]
          },
          "metadata": {}
        },
        {
          "output_type": "display_data",
          "data": {
            "text/plain": [
              "import numpy as np\n",
              "from google.colab import autoviz\n",
              "df_1974506720746063052 = autoviz.get_df('df_1974506720746063052')\n",
              "\n",
              "def heatmap(df, x_colname, y_colname, figsize=(2, 2), mpl_palette_name='viridis'):\n",
              "  from matplotlib import pyplot as plt\n",
              "  import seaborn as sns\n",
              "  import pandas as pd\n",
              "  plt.subplots(figsize=figsize)\n",
              "  df_2dhist = pd.DataFrame({\n",
              "      x_label: grp[y_colname].value_counts()\n",
              "      for x_label, grp in df.groupby(x_colname)\n",
              "  })\n",
              "  sns.heatmap(df_2dhist, cmap=mpl_palette_name)\n",
              "  plt.xlabel(x_colname)\n",
              "  plt.ylabel(y_colname)\n",
              "  return autoviz.MplChart.from_current_mpl_state()\n",
              "\n",
              "chart = heatmap(df_1974506720746063052, *['director', 'cast'], **{})\n",
              "chart"
            ],
            "text/html": [
              "      <div class=\"colab-quickchart-chart-with-code\" id=\"chart-91d2ea9f-602e-4979-a822-9e8129842182\">\n",
              "        <img src=\"data:image/png;base64,iVBORw0KGgoAAAANSUhEUgAABFIAAAEpCAYAAACwZwavAAAAOXRFWHRTb2Z0d2FyZQBNYXRwbG90\n",
              "bGliIHZlcnNpb24zLjcuMSwgaHR0cHM6Ly9tYXRwbG90bGliLm9yZy/bCgiHAAAACXBIWXMAAA9h\n",
              "AAAPYQGoP6dpAACfUElEQVR4nOzdeVxO6f8/8NfdoiyFxjJIktJ6L62UNhWFkSaN7LLFGPsWZijG\n",
              "YDCyzQwGMcgY6xjCR2RsoShCk6KYEEZpQet9/f7od59vd3VvKcm8n4/HedBZrnOd61znOue+znVd\n",
              "h8cYYyCEEEIIIYQQQgghCqnVdwQIIYQQQgghhBBCGgqqSCGEEEIIIYQQQghRElWkEEIIIYQQQggh\n",
              "hCiJKlIIIYQQQgghhBBClEQVKYQQQgghhBBCCCFKoooUQgghhBBCCCGEECVRRQohhBBCCCGEEEKI\n",
              "kqgihRBCCCGEEEIIIURJVJFCCCGEEEIIIYQQoiSqSCGEEEIIIYQQQkiDMHXqVBgaGoLH4yExMbHa\n",
              "dTIyMuDu7o7mzZtDJBJVWb5t2zaYmJigS5cuGD9+PEpKSlSKA1WkEEIIIYQQQgghpEEICAjAxYsX\n",
              "0alTJ5nr6OrqYunSpYiMjKyyLD09HQsXLsSFCxeQlpaGZ8+eYcuWLSrFgSpSCCGEEEIIIYQQUm+K\n",
              "ioqQl5cnNRUVFVW7rqurK/T19eWGp6enB2dnZzRt2rTKsgMHDsDX1xeffvopeDweJk6ciL1796oU\n",
              "Xw2V1iaEEEIIIYQQQj5gRuvW1Nu+H0ybWW/7/pCJs7rKXb5801AsXrxYal5oaCjCwsJqPS6PHj2S\n",
              "as1iaGiIR48eqRQGVaQQQgghhBBCCCGkzpSwUrnL58+fj5kzpSuhtLS06jJK74QqUgghhBBCCCGE\n",
              "EFJnxGBylzfW0npvFScGBga4f/8+93dGRgYMDAxUCoPGSCGEEEIIIYQQQkidKWFlcqf3aeDAgTh6\n",
              "9CiysrLAGMOmTZswePBglcKgihRCCCGEEEIIIYTUmRKI5U6qmDBhAvT19ZGZmQlvb28YGxsDAMaN\n",
              "G4ejR48CAN68eQN9fX188cUXuHv3LvT19TF//nwAgJGRERYvXowePXrA2NgYrVu3xoQJE1SKA48x\n",
              "Jr+NDSGEEEIIIYQQ0kDQYLMfnhdPOshd3rr94/cUk9pBY6QQQgghhBBCCCGkzpR8ZO03qCKFEEII\n",
              "IYQQQgghdaaYKlIIIYQQQgghhBBClKPaKCgfPqpIIYQQQgghhBBCSJ0pYbz6jkKtoooUQgghhBBC\n",
              "CCGE1Jnij+yDwVSRQgghhBBCCCGEkDojphYphBBCCCGEEEIIIcophnp9R6FWUUUKIYQQQgghhBBC\n",
              "6kwJ+7i69nxcR0MIIYSoYP369Xj+/Hl9R6PelJSUYN26dcjNza3vqBBCCCHkI1bG1ORODU3DizEh\n",
              "hJCPhqGhIUxNTSEUCmFsbIwBAwbg8uXLtb6fcePGISYmRmqepBKlTZs2NQqTx+OBz+dDJBLBzMwM\n",
              "U6ZMQVlZGQBg06ZNWLVqldztz507B5FIVO2yJ0+ewMXFpUbxqi7cjIwMtGjRQmpecXExxo8fDz6f\n",
              "j+bNmysMNywsDIWFhTWKU2VBQUHo0KEDRCIR+Hw+XF1d8ffff79TmPHx8QgMDARQ9Xh5PB5evXr1\n",
              "TuEXFxcjJCQExsbGMDc3B5/Px86dO98pzJoqKSnB1KlTYWlpCaFQCAsLC6xZs6Ze4lJbRo0aBV1d\n",
              "Xbx+/fqdwqmY/9/lOjp27Bjs7e1hamoKIyMjTJw4EXl5eTLXz8jIwKZNm6Tm9e3bFykpKTXaPwAw\n",
              "xrBy5UqYmZnB3NwcZmZmWL16NRhjCretjeu1pukXFBQEHo+HhIQEbl5+fj6aNWum8rkxNDREYmKi\n",
              "ynFQZbt9+/bBzs4OpqamsLW1Rf/+/ZGUlKTyPt+3c+fOoXHjxhCJRBCJRLC0tMQvv/zyzuHWZllP\n",
              "SEUlUJc7NTRUkUIIIaRe7du3Dzdv3kRaWhpGjRqFvn374urVq7W6j61bt6Jnz57c3yUlJdDW1sbS\n",
              "pUvfKdwLFy4gMTERt27dwvnz53Hy5EkAwMSJEzFnzpwah9u+fXtcuHCh2mWlpaU1DreiRo0aYceO\n",
              "HfDw8FBq/cWLF9fo4VpWfOfMmYPExEQkJSWhb9++WLhwocphV2RnZ4d9+/a9UxjyBAUFIS0tDTdv\n",
              "3kRycjL+/PNPrFixAtu2bauzfQKAWCyGWCyWmrdu3To8efIEN2/exM2bN3Hjxg14e3urHLak4k+i\n",
              "tvKWqvLy8vDnn39CKBRi//79tRauvOtInpMnT2LChAnYsmULUlJScO/ePWhqauKzzz6rthKjtLS0\n",
              "2oqUqKgomJqa1jj+X3/9NY4ePYqLFy8iOTkZFy9exJEjR7Bo0SKF29b0eq2opukHALa2tti+fTv3\n",
              "9759+2Bubl4rYdemiIgILFy4EL/++itSUlJw/fp1hIWF4cmTJyqFU1/XjqmpKRITE5GYmIhTp05h\n",
              "8uTJyM/Pf6cwayPvEFIdapFCCCGE1BF/f39MnDgRq1evBlBe4TFv3jw4ODhAJBJh0KBByMnJAVD+\n",
              "wzY4OBheXl7o3LkzxowZg2vXrsHd3R1GRkaYOXMmF667uzuOHDkCAIiMjISzszN+/vlnCIVC/Pnn\n",
              "n1LrzZ49Gy4uLujSpQsmTpyoVLzfvn2LoqIitGzZEkD5G73p06dzy7///nvw+XwIhUJ0794db968\n",
              "AVD+8D1p0iQIhUJYWloiPj4eQPUtKkJDQ2Fvb4/58+erlqjViIuLg4eHB+zs7GBtbS314/X48eOw\n",
              "t7eHUCiESCTC1atXuXRwcXGBSCTC8+fP8fz5c/j7+4PP58PKygqbN2/mwjA0NERISAgcHBwwatQo\n",
              "uXFhjCEvL49LOwDYtWsXBAIBBAIB+vXrh8ePHwMAduzYAS8vLwwZMgR8Ph92dnZ48OABAPktfCqa\n",
              "PXs27O3tIRKJ4OrqqlSLgdTUVBw5cgRbtmxB06ZNuWP84YcfsHjxYm6dHj16QCgUgs/n45tvvgFQ\n",
              "3pJlzpw5sLKyglAohI+PDwAgKSkJzs7OsLGxgYWFhVSlXlhYGAYOHAhvb29YWVnh6dOnUvHJzMxE\n",
              "mzZtoKFRPtSdtrY2LC0tpdKvW7dusLGxgaurK27evMmlX8+ePTFw4EDw+Xxcu3atSt5SFK/AwED0\n",
              "798fFhYW8PDwQHZ2NoDyShnJcVpZWWHKlCkoLi5WmLYAsHfvXnh5eWHmzJlSFVNRUVHc23aRSARt\n",
              "bW3s3LkTpaWl8Pb2hp2dHSwtLTF06NBqW7JUvo6GDRsGOzs7Ll9lZWVVG5+lS5fi66+/hrW1NQBA\n",
              "Q0MDP/zwAx48eMC1bKucxydOnIiUlBSIRCL4+vpy6yQmJuL58+dSx9GqVSuMHj1abpoUFBRgzZo1\n",
              "2LJlC1q1agUAaNWqFbZs2YLVq1dzx6vs9RoZGYlu3brB2tpaqty7dOkS+Hy+1L7d3d3xxx9/VEm/\n",
              "U6dOwcbGBgKBAG5ubrh7967M+Pv7++PYsWMoKioCUF5hMWbMGJnnJjY2Fs7OzhAKhRAIBPjjjz+4\n",
              "ZYcOHYKjoyM6d+4slR+zsrIwaNAgODg4SF1zqggNDcXatWthYWHBzbO1teUqJmXlGUn8Q0JCYGNj\n",
              "g40bN8Ld3R2zZs2Cq6srDAwMsHDhQkRFRcHZ2RmGhoZSrcZSU1PRr18/2NvbQyAQYOPGjdwyHo+H\n",
              "ZcuWwcHBAZ07d0ZERIRSx5KXl4emTZtCU1NTYfrIKgdVLesJUcXH1iIFjBBCCKknnTp1YgkJCVLz\n",
              "Dh06xMzNzRljjH333XdsyZIl3LIlS5awSZMmMcYYGzVqFOvevTt7+/YtKyoqYl26dGF+fn6suLiY\n",
              "FRQUsDZt2rDbt28zxhhzc3Njhw8fZowx9u+//zKxWMwYY+zBgwesTZs2rLCwkFvPz8+PlZSUsDdv\n",
              "3jBDQ0N2+fLlauMOgFlZWTGBQMCaNGnCRowYwS0LDQ1l06ZNY4wxtmPHDmZvb89evXrFGGMsOzub\n",
              "lZaWspiYGKaurs6uXLnCGGPs559/Zr1792aMMZaens6aN28uta/FixcrlaYxMTFMW1ubCYVCbjI3\n",
              "N+fCy8nJYSKRiD158oQxxtiLFy9Yx44dWWZmJktJSWGtW7dmycnJjDHGiouLuXgDYDk5Odx+Bg0a\n",
              "xObNm8cYY+zZs2dMX1+fxcbGMsbKz+vYsWO5dK5s1KhRrH379kwoFLL27duzjh07svT0dMYYY0lJ\n",
              "Saxt27YsMzOTMcbY0qVLmY+PD2OMsYiICKarq8sePHjAGGMsJCSEBQcHc8ctFAplpp8k7s+fP+fm\n",
              "7927l3l7eytM03379jGBQFBlfnZ2NgPAnj9/zqZOncqWLVvGLXv58iVjjLGwsDDm6+vL5THJ/vPy\n",
              "8rh5b968YSKRiEu/0NBQ1q5dO5aVlVVtfG7fvs309fWZmZkZGzduHNu7dy8rLS1ljDF28eJF1qdP\n",
              "Hy7s8+fPMwsLCy79GjduzP7++2+ptKmYtxTFq1OnTuzff/9ljDEWGBjIHfNPP/3E3NzcWGFhISsp\n",
              "KWF9+vRhK1asUJi2jDFmb2/PTpw4wYqLi1nbtm2l4iexa9cuJhKJWF5eHhOLxVwcxGIxmzhxIlu+\n",
              "fDljTH4+qHjuly9fziZMmFBtfBo3bsxu3LhRZb6vry9buXIlY6xqHq+4X4nqyrfbt2+zTp06saSk\n",
              "JNkJwhi7evUq09XVrXaZrq4uu3btmkrXa8VyLz09nbVt25Y7zyYmJiwuLo4xxtj9+/fZp59+ykpK\n",
              "SqTS79mzZ0xPT4/dunWLMcbY7t27mbm5ebXX+KhRo1h4eDgbP348++2331hycjJzdHSUeW5evnzJ\n",
              "2rRpw86fP88YY6ysrIy7fjp16sSmTJnCGCsvq3R1dbmyoXfv3uzcuXOMMcZKSkqYt7c3+/3337nt\n",
              "Kqd9Zc+ePWMAWHZ2tsx1ZOWZ9PR0BoDt3LmTW+7m5sYGDhzISktLWXZ2NtPV1WVfffUVE4vFLDMz\n",
              "kzVt2pTl5OSw0tJSZmtry523169fMz6fz65du8YYKz93q1evZowxlpyczJo1a8ZKSkqqxK1iWW9u\n",
              "bs4aNWrENm/ezC2Xlz7yykFVyvoPWee1P9TbRKp35L5Q7tTQ0Fd7CCGEfFBYhabzR44cQW5uLg4e\n",
              "PAig/O2+oaEht3zAgAHQ1tYGAPD5fHh7e0NTUxOampqwsLBAamqq1Jt6AHj48CFGjx6Nly9fQlNT\n",
              "E7m5uUhPT4eZmRkAIDAwEBoaGtDQ0IBIJML9+/fh6OhYbVwvXLiAFi1a4M2bNxg4cCA2bNiAKVOm\n",
              "SK1z7NgxTJw4kRuHpGLLC2NjY3Tr1g0A4OjoyLXEqU7Ft7mKSJp7S2RkZHCtNS5fvowHDx6gT58+\n",
              "UtukpKQgOTkZPj4+XFpoamrKHD8lOjoa169fBwC0adMG/v7+iI6ORvfu3QH83zgJssyZM4drtRMR\n",
              "EYGAgADEx8cjJiYGPj4+6NChAwBg0qRJWLJkCdcNRfJmWvL/DRs2KJ0uAHD69Gls2LAB+fn5EIvF\n",
              "XIuKd+Xq6oo5c+agoKAAbm5u8PLyAlB+/r///ntoaWkBAFq3bg2gvBXTpEmTkJiYCDU1Nfzzzz9I\n",
              "TEzk0q9v375o27ZttfuytLTE/fv3cfHiRVy+fBmhoaHYtWsXjh8/jj/++AM3b97k8hUAZGdn4+3b\n",
              "twAAJyenKt1NKuYtRfHy8fHBJ598AqA8/SVjSURHRyMoKIg7zvHjx+PHH39ESEiI3HRLSkrC06dP\n",
              "0bt3b6ipqWH48OHYvn07vv/+e26ds2fPIiwsDOfPn4eOjg7EYjHCw8Nx/PhxlJaWIjc3F05OTnL3\n",
              "A5S3Rtu1axcKCwtRWFjItfSoKUV5vLInT55gwIAB2L59O6ysrBSuryjs06dPK329pqenY9iwYcjM\n",
              "zISGhgays7O5cm/06NGIiIiAnZ0ddu7ciWHDhnGtnSSuXr0KPp/PtV4ZNmwYvvrqKzx+/Bj6+vrV\n",
              "7nPMmDFYtGgRhEKh3BY4sbGxMDU15cZMUVNTg56eHrd86NChAMpb5BgZGSE9PR0tWrTAmTNn8OzZ\n",
              "M269goKCdxqTpjry8oympiaGDx8utX5AQADU1dXRsmVLGBkZ4bPPPgOPx0OHDh3QunVrZGRkoFGj\n",
              "Rrhz5w4GDx7MbZefn4+7d+/C3t4eQHn6AoCZmRk0NDSQlZVVbTpXLOszMzPRo0cPbrwXeemjSjmo\n",
              "qKyXKCoq4logSWhpaXFlAiFlTPnysiGgihRCCCEflLi4OO5HBmMMGzZsQO/evatdV1KJAgDq6upV\n",
              "/q6u33pgYCDWrFmD/v37Ayiv2KjYH1yZMCpr0qQJ+vfvj+PHj1epSJFHlX01a9ZM6XDlYYzB0tKy\n",
              "2kF9k5OTaxxu5R99qsQ3MDAQY8aMwYsXLxSGW5PzI/Ho0SNMnjwZcXFx6NKlC27dugVXV1eF21lb\n",
              "WyM1NRUvX77kKhGA8h+AHTt2ROvWrTFw4EA4OTnh9OnT2LhxI9auXYuoqCiZYS5YsACtWrVCQkIC\n",
              "NDQ04O/vL5UPFaVfo0aN4OHhAQ8PD4wbNw7t2rVDdnY2GGMYNWoUli1bVu121YVbcZ6ieCmb/spW\n",
              "MGzbtg35+fkwMjICUN6dTywW47vvvoOGhgZu376NMWPG4Pjx42jfvj2A8h+3Z8+exV9//QVdXV2s\n",
              "X78eZ8+elbufixcvYv369YiNjUWbNm1w9OhRmWON2NjYIDY2luvaA5RX4l6/fh1Tp07l5qmSx/Pz\n",
              "8/HZZ58hLCxMqXGJLCwsUFhYiLt370p1O7l79y6Ki4thYWGBa9euKb3/wYMHY8WKFQgICAAA6Onp\n",
              "ced11KhREAqFWL16NX799VccO3ZM6XDl6d69O548eYLk5GTcvXuX+zGuqurynKTC/cqVK1LLVdGm\n",
              "TRvo6+sjNjYWffv2rbJcUZ5p0qQJ1NSkR0lQ5p6kqakJPT09uYPh1qSc09fXR7du3XDmzBl07doV\n",
              "QPXpU9NyUELWtb18+XKuq6NEaGgowsLClA6bfNxKPrI2HDRGCiGEkA/GH3/8gZ9//hmzZs0CAPj5\n",
              "+SE8PJwbU+TNmze4c+fOO+3j5cuX3A+y3bt3v/PXXIDy8SHOnTtX7cCSvr6+2LRpE/eJ4VevXlUZ\n",
              "5FNVjx8/5t5Cq8rJyQnp6emIjo7m5iUmJqK4uBje3t44deoU9wWdkpISLt46OjpSn0n28vLivhDx\n",
              "4sULHDp0CL169apRnM6cOYNWrVrhk08+Qc+ePXHy5ElusMdNmzbB09MT6urv3n86NzcXmpqaaNeu\n",
              "HRhjUuMSAMDIkSNx+PDhKtuZmJigf//+CA4O5vJiRkYGZs2axQ2Sm5qairZt22LkyJFYuXIlrly5\n",
              "AqD8/K9bt457UyupLMrJyYG+vj40NDSQkpKC06dPK30c58+flxo35fr169DT00OLFi3g6+uL3bt3\n",
              "49GjRwDKB6uVjL2jjJrGy8vLC7/++iuKi4tRWlqKrVu3chWghw8fxsiRI6tsU1xcjN27d+PKlSvI\n",
              "yMhARkYGHj9+DAMDAxw/fhyPHz+Gn58fIiIipFqW5eTkoFWrVtDV1UV+fj527Nih1HHp6Ojgk08+\n",
              "QXFxsdxxHhYsWIClS5dyP3RLS0sxa9YsGBoayqwE0dXVlfkZ8dLSUgQEBCAgIKBKC4b58+dXyYdA\n",
              "eSXNtGnTMGHCBPz7778AysuuCRMmYObMmWjatKlK12tOTg7Xkmv37t3cWFNA+cCv9vb2mDFjBtq0\n",
              "aVOlFR9QXimSlJSE27dvAwB+++03dOjQgWs5Jsu6deuwevVq6OjoyFzHyckJqamp3OCzyrQUa9as\n",
              "GXr27IkVK1Zw8548eYLMzMwq627cuFHm2FJhYWGYOXOm1FfDEhIS8L///U+lPKMKU1NT6OrqSo19\n",
              "kpaW9s6t43Jzc3H9+nWYmprKTR9F5WBNy/r58+cjNzdXaqqNMb3Ix6OYqcudGpqPq1qIEEJIgxMY\n",
              "GAhtbW28fv0aFhYWiIqK4rolhISEoKioCN26dePegoWEhFT7oK+s8PBwDBw4EC1btoSHhwcMDAxq\n",
              "HJaLiwvU1dVRXFwMoVCI0NDQKuuMGDECT548gZOTEzQ0NNC0aVOpSoyaePz4cZWm98pq2bIljh8/\n",
              "jtmzZ2PWrFkoKSmBgYEBjhw5AmNjY0RERGD48OEoKSmBuro6Nm3aBAcHB8yaNQu9evVCkyZN8L//\n",
              "/Q/r16/Hl19+CT6fD8YYvv76a6nuJIqsWrUKO3bsAGMMWlpaOHDgANTU1GBlZYVVq1Zxg7J27Nix\n",
              "Vj7pCZR3/xo8eDAsLS3xySefwM/PT2p5fHy8VIuDin799Vd888034PP5aNSoEdTV1TFnzhyuW8yB\n",
              "Awewe/duNGrUCGKxmPuCS0hICL7++mvY2NhAU1MT7du3R1RUFL755huMGDECO3fuRJcuXZT+ehJQ\n",
              "/kZ5+vTpKCwsRKNGjdCsWTP88ccfUFNTg4uLC1auXInPP/8cpaWlKC4uRr9+/WBnZ6dU2DWNV3Bw\n",
              "MO7fvw8bGxsA5QOWSrpupaamQldXt8o2R44cQadOnapUCg4bNgzbtm1DYmIiXrx4gRkzZnDLlixZ\n",
              "gpEjR+KPP/6AqakpWrduDRcXFzx8+FBu/Hx8fLB7926Ymprik08+gZeXFzeIcWV9+/bFzz//jLFj\n",
              "x6KgoAAlJSXw8vLC8ePHZb6NFwgEsLS0hJWVFYyMjHD06FFu2aVLlxAdHY1nz57h999/B1BewbZk\n",
              "yRLcvHkTtra21Ya5fPlyrFy5Ek5OTlBXV4dYLMbYsWO5L4Kpcr2uW7cOAQEBaNGiRbXl3ujRozFo\n",
              "0CD8/PPP1caldevW2LNnD0aOHInS0lK0bNkS+/fvV9jyyNPTU+5yoLxMOnz4MGbNmoX8/Hyoqanh\n",
              "22+/5VoNyrJnzx7MnDkTVlZW4PF4aNq0KTZv3lylC8zdu3e5Fk+VjR07Fo0bN8awYcNQUFAADQ0N\n",
              "dOnSBcuXL0fXrl2VzjOq0NDQwLFjxzB9+nSEh4ejrKwMrVq1QmRkpMphSQY4Bsq71gwfPpwb7FhW\n",
              "+giFQrnlYE3LeurGQxQRf2RtOHiMKfExekIIIYR8MFatWoV27dpVebtNau7FixcYOnSoSi1DiHL8\n",
              "/Pywdu1aqfGNSHlLtu7du+Pq1atVuoiQ2uPs7IwTJ07IbRVDPj5G69YoXqmOPJg2U/FK/0Fb77nI\n",
              "XT6ua/1/El0VVJFCCCGEEEIIIeSjQRUpH56fUnrKXT7JNOY9xaR2UNceQgghhBBCCCGE1BkxfbWH\n",
              "EEIIIYQQQgghRDkf21d7Pq6jIYQQQgghhBBCyAelpAF+mUceqkghhBBCCCGEEEJInSkDde0hhBBC\n",
              "CCGEEEIIUUqJ+OOqevi4joYQQgghhBBCCCEfFOraQwghhBBCCCGEEKIk+moPIYQQQgghhBBCiJKo\n",
              "RQohhBBCCCGEEEKIkqgihRBCCCGEEEIIIURJ1LWHEEIIIYQQQgghREkfW4sUtfqOACGEEEIIIYQQ\n",
              "Qj5epWJ1uZMqpk6dCkNDQ/B4PCQmJspcb9u2bTAxMUGXLl0wfvx4lJSUAADOnTuHxo0bQyQScdPb\n",
              "t29VigNVpBBCCCGEEEIIIaTOiMGTO6kiICAAFy9eRKdOnWSuk56ejoULF+LChQtIS0vDs2fPsGXL\n",
              "Fm65qakpEhMTualx48YqxYEqUgghhBBCCCGEEFJnSsTqcqeioiLk5eVJTUVFRdWG5erqCn19fbn7\n",
              "O3DgAHx9ffHpp5+Cx+Nh4sSJ2Lt3b60dD42RQgghhBBCCCHko/Fg2sz6jkK9MFq3pt72rSjNS5n8\n",
              "NhzLly/H4sWLpeaFhoYiLCysRvF59OiRVIsVQ0NDPHr0iPv7/v37sLGxgbq6OkaPHo1JkyapFD5V\n",
              "pBBCCCGEEEIIIaTOKPpqz/z58zFzpnRljJaWVp3ExcbGBpmZmWjevDkyMzPRt29ftGrVCoMGDVI6\n",
              "DKpIIYQQQgghhBBCSJ1RNKCslpZWrVacGBgY4P79+9zfGRkZMDAwAADo6upy8/X19TFkyBBcuHBB\n",
              "pYoUGiOFEEIIIYQQQgghdaaUqcmdatvAgQNx9OhRZGVlgTGGTZs2YfDgwQCAp0+fQiwWAwDy8/Nx\n",
              "7NgxWFtbqxQ+VaQQQgghhBBCCCGkzogZT+6kigkTJkBfXx+ZmZnw9vaGsbExAGDcuHE4evQoAMDI\n",
              "yAiLFy9Gjx49YGxsjNatW2PChAkAgIMHD4LP50MoFKJ79+7o1asXRo8erVIceIwxptIWhBBCCCGE\n",
              "EEII+aB8yIPN9js/Ve7y467razM6dY7GSCGEEEIIIYQQQkidqYvuO/WJKlIIIYQQQgghhBBSZ1Tt\n",
              "vvOho4oUQgghhBBCCCGE1JlSMbVIIYQQQgghhBBCCFFKGXXtIYQQQgghhBBCCFEOde0hhBBCCCGE\n",
              "EEIIUVIZde0hhBBCCCGEEEIIUQ5VpBBCCCGEEEIIIYQoibH6jkHtoooUQgghhBBCCCGE1JmPbbDZ\n",
              "j+toPlKGhoYwNTWFSCTipqSkJAAAj8fDq1evAAB9+/ZFSkoKAGDcuHGIiYlRGLa7uzuOHDmicL3R\n",
              "o0dj6dKl3N+7d+8Gj8dDRkYGN8/Hxwfbtm1T/sDkuH37NgwNDZVat2IayJKRkYEWLVq8c7wA4P79\n",
              "+wgICEDnzp1ha2sLBwcHbN26VeF2O3bsQPPmzSESiWBlZYWePXvi3r17Crc7evQoZsyYAQA4d+4c\n",
              "RCIRgNo5porh1RWRSIT8/HwAwJUrV8Dn82FtbY1Tp069c9g//vgjrKysYG5uDhsbGwwZMgSPHj16\n",
              "53BVVdvnBZCfz4KCgrB27Vqlw6pYNsgSFhaGwsLCd4kygPLyKjEx8Z3DqSwoKAgdOnSASCSCmZkZ\n",
              "JkyYgJKSEgDKlQENxfXr1+Hj4wMjIyPY2dmhR48eMsvoJ0+ewMXFpcb7io+PR2BgYI237dOnD5c/\n",
              "ra2tpe4RdZUPasLd3R2NGjXC8+fPuXkPHjyAmpoa/Pz8ahTmjh078Pfff3N/VyynVREWFobp06fX\n",
              "KA7KOHbsGNzd3ess/IyMDKirq0s9n2zatOmdwpQV53HjxnH7aNSokdRzkeQeU1ltlWvVUaZcrQtu\n",
              "bm4wNjYGq/BqtzafcSq6fPky3NzcYGJiAiMjIwwZMgRPnz6t9f0oS9ln1sqUfSauC/Hx8Vw+NTAw\n",
              "4J4DRSIRVq1aVav7qpwPHj16BDMzM6xZs6ZW90NITZWJeXKnhoYqUhqIffv2ITExkZv4fH6VdaKi\n",
              "omBqagoA2Lp1K3r27Flr++/ZsyfOnTvH/R0TE4Nu3bpx80pLS3Hx4kV4eHjU2j4/RFlZWXB2doa3\n",
              "tzfS09Nx/fp1nDp1CqWlpUpt37NnTyQmJuL27duwtbVV6gHa19cX4eHh7xjz+pOYmAgdHR0AwM6d\n",
              "OzF06FAkJCTA29tb6TCqS9/Q0FDs3r0bJ0+eRHJyMm7cuIFx48YhKyur1uJeX941n0mIxWKIxWKp\n",
              "skGWxYsX19kPDlXJOs45c+ZIlYPv+oPtfVN0/u7cuQNvb2989dVXePDgAeLj47F//37k5uZWG1b7\n",
              "9u1x4cKFGsfHzs4O+/btU3m7pKQk+Pj44KuvvuLy55kzZ5CXl1fjuNSUJI8rIhAIsGvXLu7v7du3\n",
              "w9bWtkb7LCsrq1KR0tDL6Xeho6MjdV1OnDhRarmq5ZYsW7du5fbRvn17qeciyT2msros15QpVyt7\n",
              "17RITU1FamoqtLS08Ndff71TWIrcunULvr6+WLRoEVJTU/HgwQOIRCK4u7vjzZs3dbrv2lbbz8SV\n",
              "yTuvdnZ2XD5dsmQJ9xyYmJiIOXPm1Fmc/v77b7i5uSEkJAQzZ86ss/0QogrGeHKnhoYqUj4iFd8A\n",
              "Vqy1j4yMRLdu3WBtbQ2hUIg///xTaruLFy/CxcUFXbp0qfIAJNGzZ0/ExsaiuLiY22b+/PlcRUpc\n",
              "XBxatWqFzp07Iy0tDV5eXhAIBBCJRFJvD06dOgUbGxsIBAK4ubnh7t273LKwsDCYmJjA1tYWv/32\n",
              "W43SID4+Hk5OThAIBHBwcMClS5ekloeGhsLW1hbGxsaIiori5vN4PCxbtgwODg7o3LkzIiIiqg3/\n",
              "xx9/hIuLC8aPH8/Na9mypcx0k8fT0xMPHz7k/t61axe6desGGxsbuLq64ubNmwDK33wqemu6evVq\n",
              "BAcHc3+/evUKrVq1QnZ2tkpxOnXqFJydnbkWEJI3OOfOnYOVlRUmTZoEoVAIS0tLxMfHA/i/NyDy\n",
              "0vbVq1dYsWIF9u3bh40bN0IkEuHVq1dITU1Fv379YG9vD4FAgI0bN0ptFxoaCnt7e8yfP18qnq9f\n",
              "v8bKlSuxbds26OvrS6Wpg4MDl54CgQACgQD9+vXD48ePufT08vLCkCFDwOfzYWdnhwcPHig8Tnnp\n",
              "I0tNz4sy+Sw5ORmenp7o2rUr/P39uWszLCwMAwcOhLe3N6ysrPD06VOpsmHp0qUwNzfn3og9fPiQ\n",
              "C9fFxQUikQjPnz/H8+fP4e/vDz6fDysrK2zevJnbt6GhIebMmcOd78pv1Q4dOgRHR0d07txZqpVC\n",
              "VlYWBg0aBAcHB/D5fHzzzTdSYYaEhMDBwQGjRo2Smz7a2tpwc3Or9m1w5ZYQdnZ2XDnl7u6OWbNm\n",
              "wdXVFQYGBli4cCGioqLg7OwMQ0NDqbd2hoaG+Oabb+Dk5ISOHTti06ZNiIiIgKOjIwwNDaXKqLi4\n",
              "OHh4eMDOzg7W1tbYv38/gP+7NkJCQmBjYyOVv6uzYsUKjBkzBv379+fmtW/fnksPd3d3TJ06FY6O\n",
              "jujdu7fU28e3b98iMDAQFhYWEAqF6N27N4D/y9MjR46ElZUVbG1tufSpriWVrOu4ou+//x7jxo3D\n",
              "Z599xs3T09PDypUrq11f1j3hu+++w+TJk7n1CgoKoKenhxcvXgAov34cHBxgY2MDHx8frrysLo8r\n",
              "MmrUKOzcuRNAeeXLvn37MHToUG55VlYWevbsCVtbW1haWmLy5MlcBc2OHTvQs2dPDBw4EHw+H8uW\n",
              "LUN8fDxmzJgBkUiEqKgoqXJaUTmijKSkJDg7O8PGxgYWFhZS11FYWBgCAwPRv39/WFhYwMPDgytT\n",
              "SkpKMGnSJJiYmFQpoxQdY8X7zLu2ZAkKCsKYMWPg6uoKKysrALLvcfLirIzZs2fD3t4eIpEIrq6u\n",
              "XLlQXbkm73mourIRAGJjY+Hs7AyhUAiBQIA//vgDgHRZI++5p/K9LD8/H+PHj4eDgwMEAgGCg4O5\n",
              "8luR7du3Y/jw4Rg3bpzcFsDDhg2DnZ0dd/+TvGBQ5TpfuXIlxowZA09PT25eSEgImjdvzpV/7u7u\n",
              "mDJlCuzt7WFsbIxZs2ZxLWXkLVN0L1i0aFG19xBA9jOrvHSt+EwcFBSE4OBgeHl5oXPnzhgzZgyu\n",
              "XbsGd3d3GBkZSVU61NY9qzplZWWYM2cOrKysYGVlhSlTpnDxVSWO1bl+/Tp69eqF8PBwjB49mjsW\n",
              "ede/rOciQPa1S4iqysRqcqcGh5EPXqdOnVjXrl2ZUCjkpjdv3jDGGAPAcnJyuPUSEhIYY4y5ubmx\n",
              "w4cPM8YY+/fff5lYLGaMMZaens7atm3LCgsLufX8/PxYSUkJe/PmDTM0NGSXL1+uNh5dunRh58+f\n",
              "Zw8fPmTdu3dnb968YSYmJowxxr777js2evRoxhhjDg4ObNOmTYwxxu7du8f09PRYRkYGe/bsGdPT\n",
              "02O3bt1ijDG2e/duZm5uzsRiMTt27BizsLBgubm5TCwWs2HDhrFOnToplT6SNCgqKmIdO3ZkJ0+e\n",
              "ZIwxduHCBda2bVuWn5/P0tPTGQB24MABxhhjJ06cYF27dpUKY/Xq1YwxxpKTk1mzZs1YSUlJlX31\n",
              "6dOHrVmzRql4VRYREcEGDBjAGGOsrKyMjR8/ni1ZsoQxxtjFixdZnz59uPNy/vx5ZmFhUWW7mJgY\n",
              "JhQKGWPl57J58+aMMcZycnJY69atubywZs0aNmbMGIVxqhje/fv3Wffu3Vlubi5jjLHU1FT26aef\n",
              "ssLCQhYTE8PU1dXZlStXGGOM/fzzz6x3795cPBSlrSReo0aNYuHh4YwxxkpLS5mtrS1LTk5mjDH2\n",
              "+vVrxufz2bVr17jtFi9eXG28r169ynR1dWUeV1JSEmvbti3LzMxkjDG2dOlS5uPjwxgrT09dXV32\n",
              "4MEDxhhjISEhLDg4mEsPWcepKH1q87woymejRo1iDg4O7PXr16y0tJQ5OTmxyMhIxhhjoaGhrF27\n",
              "diwrK4tbX1I2ZGdns+bNm3Plx+vXr9nbt28ZY9LniTHGBg0axObNm8cYY+zZs2dMX1+fxcbGcuGN\n",
              "GDGCicVi9uLFC9axY0d26dIlbtmUKVMYY4y9ePGC6erqcuehd+/e7Ny5c4wxxkpKSpi3tzf7/fff\n",
              "ue3Gjh3LlVXVHbMk72RnZzM+n8+2b99eJe4Vy0HGGLO1tWUxMTGMsfLybuDAgay0tJRlZ2czXV1d\n",
              "9tVXXzGxWMwyMzNZ06ZNpcKZPn06Y6z8XGtra7Nvv/2WMcbYtWvXWKtWrRhj5edYJBKxJ0+ecMfc\n",
              "sWNHlpmZyV0bO3fulHkuKzI3N2eHDh2SudzNzY15e3uz4uJixph0Xjt06BCXVxlj7OXLl4yx8jwN\n",
              "gEVHRzPGGNu3bx8zNTVlYrG4Sr6Vdx2rEk/GpM+DrHvCo0ePWOvWrblyb/v27czf358xxtiePXvY\n",
              "uHHjWGlpKWOMsV9//ZX17duXMVZ9HpdHcj/s1asXu3LlCjtx4gQbPHiwVNn69u1blp+fzxgrL5v6\n",
              "9evH9u7dyxgrLzMaN27M/v777yphSlQup2WVI5WFhoayadOmVZmfl5fHpcubN2+YSCTirr/Q0FDW\n",
              "qVMn9u+//zLGGAsMDGTLli1jjDG2ceNG5uHhwYqKilhRURFzd3dnbm5uSh2jJP6MMfbnn39y28mT\n",
              "np7O1NTUpJ5PHj16xEaNGsUEAgHLy8tjjMm/x8mLsywV89fz58+5+Xv37mXe3t7c35XLNVnPQ7LK\n",
              "xpcvX7I2bdqw8+fPM8bK792Sa0uZPC6JQ8V72fjx47kyQSwWs7Fjx7KVK1cqTOvS0lLWrl07lpyc\n",
              "zF68eMGaN2/OXr16xR2LpCyonCbLly9nEyZM4NZ71+t86tSpbNKkSYyx8uvAw8ODFRcXs9evXzNb\n",
              "W1u2Z88ehcsU3Qtk3UPkPbPKS9eK1+uoUaNY9+7d2du3b1lRURHr0qUL8/PzY8XFxaygoIC1adOG\n",
              "3b59W6l4yrtnVafidfbTTz8xNzc3VlhYyEpKSlifPn3YihUrVI5jRenp6UxTU5Pp6upyz8ISiq5/\n",
              "Wc9F8q7dygoLC1lubq7UJNmOvD+d1/5Qb5MiZofC5E4NDQ0220Ds27evxmNZpKenY9iwYcjMzISG\n",
              "hgays7ORnp4OMzMzAEBgYCA0NDSgoaEBkUiE+/fvw9HRsUo4ku49nTp1gpubGxo3bow2bdogPT0d\n",
              "586dw4gRI5Cfn48bN25wLUFMTEzg7OyMCxcuoHnz5uDz+Vy3pGHDhuGrr77C48ePcebMGQwaNAi6\n",
              "uroAgAkTJuDixYsqHWdKSgrU1NS4LiPOzs5o27YtEhMToa+vD21tbfj7+wMAHB0dcf/+fanthw0b\n",
              "BgAwMzODhoYGsrKypFo71IaYmBiIRCI8evQIenp6uHr1KgDgjz/+wM2bN9GtWzdu3ezsbLx9+1ap\n",
              "cFu0aIGAgABs374dM2bMwM8//6xyk/2TJ08iLS0Nrq6u3Dw1NTVuzBFjY2Mufo6Ojli9ejW3nqK0\n",
              "rU5KSgru3LmDwYMHc/Py8/Nx9+5d2NvbAwDGjBmj0jFIxMTEwMfHBx06dAAATJo0CUuWLEFZWRkX\n",
              "x86dO3P/37BhA7etrONUlD7VqY3zIsvnn3+OJk2aAAAcHByk0rxv375o27ZtlW10dXVhYmKC4cOH\n",
              "o3fv3ujXr5/MPB4dHY3r168DANq0aQN/f39ER0eje/fuAICxY8eCx+OhVatW3DInJycA4N70t2rV\n",
              "CkZGRkhPT0eLFi1w5swZPHv2jNtHQUGBVKuSoKAg8Hiym3auWrUKO3bsgJqaGgICAhAUFKRMUkkJ\n",
              "CAiAuro6WrZsCSMjI3z22Wfg8Xjo0KEDWrdujYyMDK6slYwfYmxsDG1tbQQEBAAob+WSnZ2NV69e\n",
              "4fLly3jw4AH69OkjtZ+UlBQYGRlBU1MTw4cPVzmesgwfPhyamppV5guFQiQnJ2PSpElwc3ND3759\n",
              "uWWGhobcW+VBgwYhODgY//zzT5UwanIdA+Vdrk6fPo0XL17gf//7HywtLbll8u4Jw4cPh7W1NY4e\n",
              "PYovvvgCO3bs4Jq6HzlyBHFxcVz3G8m1KyErj8szZswYbNu2DTk5OQgODuZaqQHlrVRCQkJw8eJF\n",
              "MMbw/PlzWFlZceWTk5OTSt045JWXynj79i0mTZqExMREqKmp4Z9//kFiYiJ3/fn4+OCTTz7hwpeM\n",
              "m3bmzBmMHDkSjRo1kjpmZY6xpiRdeyr74osvuC438u5x8uKsjNOnT2PDhg3Iz8+HWCyW2+JP1vOQ\n",
              "iYlJtWXjmTNnYGpqyo1FpKamBj09Pakw5eXxTp06ccckceTIEcTGxnIt4N6+fQt1dXWFxxkVFQVD\n",
              "Q0Pu2c3LywuRkZH48ssvq6wbGRmJXbt2obCwEIWFhWjVqhW3rKbXuSwjR46EpqYmV9ZFR0dz94Dq\n",
              "lg0YMEDhvaC6e4jkfi7rmVWVdB0wYAC0tbUBAHw+H97e3lw8LSwskJqaCkNDw3e+Z8kTHR2NoKAg\n",
              "aGlpAQDGjx+PH3/8ESEhIUrHsWJZK6GtrQ1PT0/8+OOP6NmzJ3ddKbr+ZT0Xybt2GzduLLXv5cuX\n",
              "Y/HixVLzQkNDERYWVqM0Ih+fhth9Rx6qSPkPGDx4MFasWMH9CNDT05PqMywpqAFAXV1dZl/Pnj17\n",
              "YuvWrejUqRP3A8PNzQ3/+9//cOnSJZndYWpyk6npjUleOFpaWtzf6urqVR7MlUkHW1tbxMbG1mhQ\n",
              "QaA8DY8cOYI3b94gICAAkyZNwr59+8AYw6hRo7Bs2bIahQsAU6dOha+vL8zNzdG6dWtYW1urtD1j\n",
              "DL169UJkZGSVZY8fP5abPorSVtb+9PT05A5I2axZs2rnW1hYoLi4GHfv3oWFhYXCfVXOT/KORdYy\n",
              "RekjS03OizL5TN4xyEo3dXV1XLlyBZcvX8a5c+fQvXt37N27V6kBSxVdkxWXVxc39v+bdF+5ckVq\n",
              "eUWy4i0xZ84cheMKaWhoSOW/yuMjVI6bKnlB8jePxwOPx+OOy9LSEpcvX64Sl4yMDDRp0gRqaso1\n",
              "V5Wc988//1zmOrLSyMjICHfv3sXZs2cRHR2NuXPnyry2JPGvTNnr2NraGteuXePiKenaZWhoyA0A\n",
              "LE/FfY8ZMwYRERGwtbVFWloafHx8AJRfb/Pnz5fqGleRorxSHT8/P4SEhEBLSwuenp749ddfuWVr\n",
              "1qzB8+fPcfXqVWhra2PmzJlSeUfV/Sl7X5VlwYIFaNWqFRISEqChoQF/f/8a3bcrprW8Y1R03dRE\n",
              "xTRT5R6nyv3/0aNHmDx5MuLi4tClSxfcunVLqrK7MlnPQ7LKxpqqfAyV0+LgwYPo2rWrSmFu27YN\n",
              "9+7d4wbif/v2LTIyMqpUpFy8eBHr169HbGws2rRpg6NHj2LRokXccmWvcxsbm2rLo9jYWEyYMEFm\n",
              "POWdPx6Pp9S9oKb3aGXTVZn7QG3cs1Sh6DlF2WteTU0N+/btw+DBg+Hv74+DBw9CS0tLYRknL12V\n",
              "vXbnz59fpduRpKKIEAAQf2QVKQ2wMxJRVU5ODlfLvHv3buTk5NQonJ49e+LKlSv466+/4OzsDKC8\n",
              "IuWHH35Ahw4d0KFDB+jo6MDGxoarVElLS8PFixfh6uqK7t27IykpCbdv3wYA/Pbbb9x2Xl5e2L9/\n",
              "P/Lz88EYw5YtW6T27enpiWvXrsmNn6mpKcRiMU6fPg2gfLT5rKysWv0qzaRJk/DXX39JVRq9evVK\n",
              "avwIZTRp0gRbt25FVFQUEhIS4Ovri927d3OtG8Riscp96s3MzGBkZITg4GCpcQceP37MvcGSx9vb\n",
              "G9HR0bh16xY3T1GavwtTU1Po6upKpWVaWppS47o0a9YMs2fPxvjx46UqMWJiYnDt2jX07NkTJ0+e\n",
              "xJMnTwAAmzZtgqenp1Jv/WSpafrU5LzUVj6rLD8/H8+ePYOLiwsWLlwIZ2dnJCQkACh/q1xxUFMv\n",
              "Ly/88ssvAIAXL17g0KFD6NWrF7d8x44dAMrfTB0+fFiqH311mjVrhp49e2LFihXcvCdPniAzM/Od\n",
              "jqkyY2NjrqXXtWvX6vyrGk5OTkhPT0d0dDQ3LzExUeaYB9euXZOZVnPnzsX27dtx/Phxbl5WVhY3\n",
              "toc8mZmZ4PF48PX1xerVq8EY41qdZGRkcONOHDhwAG3btn2n1nZz587FL7/8IjW2QnFxcbUP9vLu\n",
              "CUB55UZcXByWL1+O4cOHQ0NDg5u/adMmqbE/JHm1OvPnz1c4Bo22tjbCw8Oxfv36KpVbOTk5+PTT\n",
              "T6GtrY2srCxunBtZdHV1qx0EuLbk5ORAX18fGhoaSElJ4e5rinh5eWH37t0oKSlBcXGxVBki7xiN\n",
              "jY1x69YtvH37FqWlpVUqjM3MzORWGCsi7x4nL86K5ObmQlNTE+3atQNjrEoeqFyuyXoeklU2Ojk5\n",
              "ITU1lRvUuboWL4ryeGV+fn74/vvvueslJycHaWlpAICNGzdWGRMMAJ49e4YzZ84gLS0NGRkZyMjI\n",
              "wNOnT/HkyZMq41Xk5ORAR0cHn3zyCYqLi2t835g9eza2bduGM2fOcPNWrlyJnJwcDBkyhJsnOXdv\n",
              "375FZGQkvLy85C6rq3uBvHStiZrEU5XrxMvLC7/++itXdm7dupUb2+pdaWpqYt++fWjcuDH8/PxQ\n",
              "WFiochknocrzqZaWFnR1daUmqkghFTExT+7U0FBFSgMRGBgo9XlBZQZjk9Rur1u3DgEBAbC2tkZC\n",
              "QgIMDAxqFId27drBwMAAbdq04WrhJT8iKn6tZ8+ePdi3bx+EQiECAgKwdetWGBgYoHXr1tizZw9G\n",
              "jhwJgUCAn3/+Gfv37wePx0Pfvn0REBAAGxsb2NnZScWxrKwMN2/erPbBX3LD1NLSQqNGjXDo0CGE\n",
              "hoZCIBBg+vTpOHDgQK2+MWjXrh0uXryIY8eOoXPnzhAIBPD09OSa2h89ehTjxo1TKqz27dtj9uzZ\n",
              "WLRoEVxcXLBy5Up8/vnn3OCENRlwd/z48SgtLeXetgHlP9glP04qKy0t5d5CGBsbIzIyEhMmTIBQ\n",
              "KIS5ublKn9hVlYaGBo4dO4ZDhw5BIBDA0tISY8eOVbo705IlSzBo0CB4e3vD3NwcFhYW+OWXX9Cu\n",
              "XTtYWVlh1apV8PHxgUAgwIULF7hKgZp6l/RR9bwoymc1lZubyw0gKxAIUFJSwg2SN2vWLPTq1Ysb\n",
              "lHH9+vVITk4Gn89Hz5498fXXX0s17W3dujU36O7kyZO5bj3y7NmzB2lpabCysgKfz4e/vz9evnz5\n",
              "TsdU2dKlS/Hjjz9CKBRi+/bt1TZ9rk0tW7bE8ePHsWzZMgiFQlhYWGDevHkyvySTkZFRpTm0BJ/P\n",
              "x4kTJ7Bu3ToYGRlxadSyZUuF8UhKSkKPHj0gFAphbW2NESNGQCAQAAAsLS2xY8cO8Pl8LF++HHv3\n",
              "7n2nVn9CoRBRUVFYt24dOnfuDAcHB/Ts2RNffvlltW+DZd0TgPKye9CgQdi6dSs3KCJQ3tUyKCgI\n",
              "PXv2hFAohEgkwtmzZ2XG6ebNm/j0008Vxt3f359r9VLRtGnTcPXqVVhaWmLEiBFSPwarExwcjGXL\n",
              "lnGDzb4LyaDZkmnNmjX45ptvEBERAYFAgHnz5in9Rbzx48fDxMQEFhYWcHZ2lnqRIO8Yu3fvjr59\n",
              "+8LKygru7u4wMTHhlj1//hwvX76s0qVFFfLucfLirAifz8fgwYNhaWkJe3v7Ks83lcs1Wc9DssrG\n",
              "li1b4vDhw5g3bx4EAgFsbGyqDGIPyM/jlYWHh6Nx48YQiURc2Z6RkQEAuHv3Ltdlq6KdO3eid+/e\n",
              "Up+2VVNTw+DBg6t0g/Lx8YGpqSnXJammL5NEIhH++OMP7kMAnTt3xvXr13Hu3DmuWykAmJubo0eP\n",
              "HuDz+XBxcZHqKiZrWV3cC+Sla02pEk9Vr5Pg4GDY2NjAxsYGIpEIhoaGtfopdA0NDezduxe6uroY\n",
              "MGCAymWcRG09nxICAIzJnxoaHmMNMdpEEUtLS2zZsgU9evSo76i8s7i4OGzevBlbt26tdtnAgQPl\n",
              "jlPxXzJ58mS0bdsWCxcu5OatWrUK7dq1q3achlWrViEpKUmqiTupfaqelw+doaEhjhw5Uqutvf4r\n",
              "vvrqKwwZMoRr1VfXzp07h+nTp8vtQtfQlZWVoXv37rh69arS3aiI8vbv34+UlBSpL5aQuuHs7IwT\n",
              "J07I/Jzzh8bd3R3Tp0+v9suC8pZ9jOg6IR8Ko3VrFK9URx5Mk/9FqS6/ye8idn/wgtqMTp2jMVI+\n",
              "QqampjA3N+cGpWvo7O3tucFHK5o9ezaioqIUNuf+L3jy5Ak8PDygp6eHU6dOSS2TDN5YmZubGwoL\n",
              "C7Fr1673EcX/pJqcF/Jx+/HHH+s7Ch8ddXV1xMXF1Xc0PlpffPFFfUfhP0PVQfbJh4OuE0IUY9U3\n",
              "1m2wqEUKIYQQQgghhBDSwH3ILVI671kud3n6sKpjRH3IqEUKIYQQQgghhBBC6kxDHFBWHqpIIYQQ\n",
              "QgghhBBCSN35yD5/TBUphBBCCCGEEEIIqTsf2YAiVJFCCCGEEEIIIYSQuvORde1R+TuB1X3G7L/y\n",
              "aTNCCCGEEEIIIYSohonlTw2Nyi1SHj16VGXegwcPaiUyhBBCCCGEEEII+cj8V8dI2bx5MzZt2oR7\n",
              "9+7BxsaGm5+bmwtLS8s6iRwhhBBCCCGEEEIaNl4DbHUij9IVKT4+PjA1NcWXX36J8PBwbr6uri4E\n",
              "AkGdRI4QQgghhBBCCCEN3Ec2RorSFSmdOnVCp06dkJyczM3Lzc3FP//8A3V19TqJHCGEEEIIIYQQ\n",
              "Qhq4j+yrPSoPNuvj44NXr16hoKAAQqEQn332GRYtWlQXcSOEEEIIIYQQQkhDJ+bJn1QwdepUGBoa\n",
              "gsfjITExUeZ627Ztg4mJCbp06YLx48ejpKREqWXKULki5dmzZ2jRogWioqIwYMAApKam4vDhw6oG\n",
              "QwghhBBCCCGEkP8Anlj+pIqAgABcvHgRnTp1krlOeno6Fi5ciAsXLiAtLQ3Pnj3Dli1bFC5TlsoV\n",
              "KZKamvPnz6NXr17Q1NSEhobKH/8hhBBCCCGEEEIIQVFREfLy8qSmoqKiatd1dXWFvr6+3PAOHDgA\n",
              "X19ffPrpp+DxeJg4cSL27t2rcJmyVK4BsbKyQp8+fZCcnIyVK1fizZs3qgZBCCGEEEIIIYR8dIzW\n",
              "ram3fT+YNrPe9q0IT0H3neXLl2Px4sVS80JDQxEWFlaj/T169EiqxYqhoSEePXqkcJmyVK5I2bFj\n",
              "B06ePAmhUIgmTZrg8ePHWL58uarBEEIIIYQQQggh5L9AQfed+fPnY+ZM6YogLS2tOozQu1G5IkVb\n",
              "Wxt+fn7c3x06dECHDh1qM06EEEIIIYQQQgj5SPAUfLVHS0urVitODAwMcP/+fe7vjIwMGBgYKFym\n",
              "LJXHSElNTUWfPn3Qvn176OnpcRMhhBBCCCGEEEJIFWIFUy0bOHAgjh49iqysLDDGsGnTJgwePFjh\n",
              "MmWpXJEyfvx4BAUFoWXLlvjrr78QEBCA2bNnqxoMIYQQQgghhBBC/gN4Yp7cSRUTJkyAvr4+MjMz\n",
              "4e3tDWNjYwDAuHHjcPToUQCAkZERFi9ejB49esDY2BitW7fGhAkTFC5T+ngYYwoa2UizsbHBjRs3\n",
              "wOfzkZSUBMYYunXrhmvXrqm0Y0IIIYQQQggh5GNCg81Wz/j7cLnL00JmvKeY1A6VW6RoamoCAHR0\n",
              "dJCRkYGioiL8+++/tR4xQgghhBBCCCGENHw8sfypoVF5sFlXV1e8fPkSkydPhq2tLRo1aqRyfyJC\n",
              "CCGEEEIIIYT8NzTEyhJ5alSRoq6ujqFDh8LFxQXp6enIz8+vi7gRQgghhBBCCCGkoVNpQJEPn8oV\n",
              "KQsXLkRiYiIAoGPHjtDX14etrS369etX23EjhBBCCCGEEEJIA6fo88cNjcoVKZXxeDyUlZXVRlwI\n",
              "IYQQQgghhBDykfnYuvaoPNisjo4OLl++zP196dIl6Ojo1GqkCCGEEEIIIYQQ8pFgCqYGRuUWKStX\n",
              "rsTnn38OMzMzAEBqaioOHz5c6xEjhBBCCCGEEEJIw/extUhRuSLF0dERycnJiI2NBQA4OTmhRYsW\n",
              "tR0vQgghhBBCCCGEfAT+8xUpANCyZUv07du3tuNCCCGEEEIIIYSQj00D7L4jj8pjpKjC0NAQiYmJ\n",
              "GDduHGJiYt45vCVLlsDKygpCoRBmZmaYM2cOAODVq1dYsWLFO4dfn4KCgrB27Vru7+XLl8PS0hKP\n",
              "Hz+uUXibNm3CqlWrVN4uKSkJHh4eEAqFsLKygr29PW7fvl2jONQHHo+HV69eAQBycnLg6OiI6dOn\n",
              "gzHZV25GRgY2bdpUo/3t2LEDzZs3h0gkglAohEAgwB9//FGjsOrK2rVrkZWVxf0dFhaG6dOn1zi8\n",
              "iIgI8Hg8XLhwoRZiVzNisRiurq7YsmULN6+kpAQikQgHDhyo1X2dO3cOIpGoyvwnT57AxcWl1vZT\n",
              "uQx4V4sWLcKePXtqLTwJSbleFypev/JUvO4sLS3Rp08fPHr0CAAgEomQn58PoGreP3fuHE6ePPlO\n",
              "cZSVHz4GGRkZUFdXh0gk4qZNmzYplZfc3d1x5MiRapfVdt6ubcrmO1mUvSbc3d3RqFEjPH/+nJv3\n",
              "4MEDqKmpwc/PT+H2BQUFmD59OoyNjcHn8yEUCjF8+HCkp6fXOO6KvOu5UyVt09LS8MUXX6Bz586w\n",
              "traGUCjEnDlzUFRUpPJ+7ezscO7cOYXr1cczz7sc57vm1cqUfVasrtzLyMhQqkW6suup6vr16/Dx\n",
              "8YGRkRHs7OzQo0cPmWXQ+/au90l55Wllv/32G+zt7WFiYgI7Ozu4uLjg4MGDAKo+pyibf/r27YuU\n",
              "lJSaRJ0QuXhi+VND885f7VHG1q1b3zmMAwcO4MSJE4iLi0Pjxo1RWlqKO3fuAPi/ipR58+apHG5p\n",
              "aSk0NN5LMihtzpw5OH/+PM6fP49PPvmkRmFMnDixRtsNGTIE3377LT7//HMAwD///AMtLa0ahVWf\n",
              "nj59Cm9vb3zxxRdYuHCh3HUlFSk1TbOePXtyN7wrV66gf//+GDBgQI3Cqk1icXmJtHbtWri7u+PT\n",
              "Tz+tlXC3bdsGT09PbNu2rUYVCbVxzampqWHHjh1wdnaGt7c3OnXqhCVLlsDS0hIBAQHvFLay2rdv\n",
              "X6+VSYosWbKk2vmSfKGmVqf16HWu4nU3bdo0zJgxAwcPHpR6eK2c98+dO4dXr17Bx8enHmKsnPq+\n",
              "J+no6NRZRdm7+FjyrUAgwK5duzBr1iwAwPbt22Fra6twO8YY+vbtC3NzcyQlJaFx48YQi8U4cOAA\n",
              "7t+/j86dO9d11OvU06dP4ezsjO+++w779+8HALx+/Rpr1qxBfn5+nT2HvO9nnvo6zuqUlpbW+Lmn\n",
              "vt25cwfe3t6IiIhA//79AZRXGpw+fVqlcOq7vH1XW7duxerVq3Ho0CFYWFgAAFJSUnD06FEANX9O\n",
              "iYqKqtV4EsKhFimqq1izGhQUhODgYHh5eaFz584YM2YMrl27Bnd3dxgZGWHmzJnVhpGZmQk9PT1o\n",
              "a2sDADQ0NCAUCgGUVxrk5+dDJBLBzs6uyj4BICAgADt27ODiMGbMGLi6usLKygoAEBoaCmNjY9jb\n",
              "2+Obb76BoaEht+2pU6fg7OwMW1tbODg4cK1rUlNT0aNHDwiFQvD5fHzzzTcAgD///BMCgQAikQhW\n",
              "VlZKt1AoKyvDuHHjkJCQgDNnznCVKHFxcfDw8ICdnR2sra25m+/48eOxevVqbvv09HR8+umnKCkp\n",
              "kWp1sGPHDnh5eWHIkCHg8/mws7PDgwcPZKZzhw4duL87duyINm3aSKWbk5MTunbtilGjRuHt27cA\n",
              "gMjISHTr1o17u/Lnn39yYTx+/BgBAQHg8/kQCARcxUZ+fj7Gjx8PBwcHCAQCBAcHo7i4GPHx8TAz\n",
              "M5NqReLk5IQTJ04olY7p6elwdXXFxIkTuX2VlpbC29sbdnZ2sLS0xNChQ/H69WsA5fknJSUFIpEI\n",
              "vr6+AMrPbb9+/WBvbw+BQICNGzcqte9Xr16hZcuW3N/x8fFwcnKCQCCAg4MDLl26BAB48eIFevfu\n",
              "zaXJ6NGjueOUfBVr7ty5UufCyMiIe+u+atUqWFpags/nY9iwYcjNzQVQ3tpk4MCB8Pb2hpWVFb79\n",
              "9ls8efIEgYGBEIlE3A+kp0+fon///rCwsICHhweys7OVOr6UlBSkp6fj119/xZEjR5CXl8ctW7Nm\n",
              "Dezt7SESiWBvb8+NowSUv50JCQmBg4MDRo0ahYKCAowZMwZWVlawsrLC4sWLuXXd3d0xe/ZsuLi4\n",
              "oEuXLjIf9IyMjBAaGoqxY8ciPj4eu3btwsaNG2WmOQDs2rULAoEAAoEA/fr1q3GLL0D6LVtUVJTU\n",
              "W3xtbW3s3LlTbr5T1pkzZ+Do6Ahra2tYWlpi27Zt3DJ512TFN8mV88XTp08xe/Zs7ny5urrW6O2T\n",
              "vHOenJwMb29vLr0lrb7S0tLg5eXFlZGV37qtXr0a1tbW6Nq1q9Itary9vbn4S964LVmypEre37Rp\n",
              "E/bs2QORSIQlS5bIvA5rQt65rvw29/bt29w9RpKPQkJCYGNjg40bNyIrKwuDBg2Cg4OD1L0FKL+W\n",
              "Fi1aBEdHR3Tu3BlLly7llqla1iqrYl6Sd3+7ePGizOv21q1bCvMpAMyePRthYWEAqubb2NhYtGjR\n",
              "AqGhobC1tYWxsbHUA7+se6Uq5F0XsbGxcHZ2ltv6cMOGDejRowdevHhRbfijRo3Czp07AZRXDu3b\n",
              "tw9Dhw6VWiciIoJr5WhnZ4eMjAycOXMGGRkZ2LhxIxo3bgygvFJp0KBB8PLyAlDeKm/evHlwcHCA\n",
              "SCTCoEGDkJOTA+Dd8wAAueX20qVLYW5uzpWBDx8+5Jb99NNPcHBwQOfOnREREVFt2D/++CPc3d0x\n",
              "duxYbl7Tpk2xcOFCtGrVCoD88uby5ctcnhw9ejRKS0uVOiZ5zzzynmvc3d0xa9YsuLq6wsDAAAsX\n",
              "LkRUVBScnZ1haGiINWvW1Pg4FZWRAJCYmCh1z9HV1eXOx7Bhw2BnZ8fd5ySt8qora961hWpFyl5/\n",
              "staTxE/W9V3RihUrMGbMGK4SBSivNBg1ahQA1Z5HZF03T548Qdu2bfHmzRtu26FDh+Lnn39WKV1q\n",
              "cp+s6ODBgxAKhbh//36VZWFhYVi7di1XiQIApqamXIt9ea2BDA0NMWfOHC6tK7ZMqtiiRtlnMkKU\n",
              "8bG1SAGrQ506dWIJCQnMzc2NHT58mDHG2KhRo1j37t3Z27dvWVFREevSpQvz8/NjxcXFrKCggLVp\n",
              "04bdvn27SlhPnz5l5ubmzNDQkI0YMYJt27aNvXnzhjHGWHp6OmvevLnU+hX3yRhjAwcOZBEREVwc\n",
              "BAIBy8vLY4wxduzYMWZpacny8vKYWCxmQUFBrFOnTowxxu7fv8+6d+/OcnNzGWOMpaamsk8//ZQV\n",
              "FhayqVOnsmXLlnH7ePnyJWOMMYFAwC5fvswYY6ysrIzl5OQoTKtRo0axTz75hLm5ubHCwkJufk5O\n",
              "DhOJROzJkyeMMcZevHjBOnbsyDIzM9mlS5eYpaUlt+6iRYvYzJkzGWOMhYaGsmnTpjHGGIuIiGC6\n",
              "urrswYMHjDHGQkJCWHBwcLXxWL16NWvSpAnz8PBgCxYsYDdu3JCKo4WFBcvLy2OlpaXss88+Y999\n",
              "9x1jjLF///2XicVixlj5+Wjbti13HO7u7lLp9Pz5c8YYY+PHj2c7d+5kjDEmFovZ2LFj2cqVKxlj\n",
              "jDk5ObFTp04xxhi7ceMGMzY25sKXBwD75JNP2KZNm6Tmi8Vi9u+//3L/nzhxIlu+fDljjLGYmBgm\n",
              "FAq5dUtLS5mtrS1LTk5mjDH2+vVrxufz2bVr16rsT5K2QqGQmZiYsCZNmrA///yTMcZYUVER69ix\n",
              "Izt58iRjjLELFy6wtm3bsvz8fLZmzRqpcyDJOwsXLmSLFy9mjDFma2vLHBwc2J07d1haWhozMTFh\n",
              "jDEWFRXFzMzMuHw1fvx4NnHiRMZY+Xlv164dy8rK4sKWXIcSoaGhrFOnTlx6BAYGSp0feebMmcNC\n",
              "QkIYY4x9/vnnbPPmzdwyyXlljLHY2FhmamoqFYexY8dy53Du3Lls6NChrKysjBUUFDCRSMR+++03\n",
              "xlj5tevn58dKSkrYmzdvmKGhIXc9VcfHx4e1aNGCnThxQm6aJyUlsbZt27LMzEzGGGNLly5lPj4+\n",
              "Co+5cv6QqK7cYYyxXbt2MZFIxJUnsvJdZaNGjWLh4eFV5mdnZ7PS0lLGWHk+MTAwYP/88w+3jaxr\n",
              "smJ41eWLiudr7969zNvbW2FaMCadn2Sd85KSEmZiYsIiIyO55S9evGCMMebg4MBdn/fu3WN6enos\n",
              "IyODMVZ+/X7zzTeMsfKyt2XLliw9Pb1KHCIiItiAAQMYY+XXa1BQEBs5ciQXhuTaqC7vS8pFxpjM\n",
              "61AeWflBlTImKSmJu8ekp6czAFxZyBhjvXv3ZufOnWOMlaelt7c3+/3337ljmjJlCmOsPE11dXW5\n",
              "PF2Tsrai9PR0pqamxoRCITc9evRIKi/Jur/Ju26VzaeMMTZr1iwWGhrKGKuabyVpdeDAAcYYYydO\n",
              "nGBdu3ZljMm/VypSMc/Iui5evnzJ2rRpw86fP88duyS/dOrUiV2/fp3NmDGD+fn5cc8mlUmeS3r1\n",
              "6sWuXLnCTpw4wQYPHiyVn2NiYpihoSF3HK9fv2avX79m33//PfP19ZV7HN999x1bsmQJ9/eSJUvY\n",
              "pEmTGGPK54HKKp4fWeV2dnY2a968OXfcr1+/Zm/fvuXSdvXq1YwxxpKTk1mzZs1YSUlJlf306dOH\n",
              "rVmzRm5cZJU3RUVFTF9fn50+fZoxxtipU6cYABYTE6Pw+OQ988h7rnFzc2MDBw5kpaWlLDs7m+nq\n",
              "6rKvvvqKicVilpmZyZo2bVrts58yx6mojKwc7tmzZ1mXLl24vF4xnZYvX84mTJjAHUPlsqZymShL\n",
              "TEwM09bWliobzM3NuXugvOuv4r1S0Xqyru/KzM3N2aFDh2TGV5XnEXnXzdChQ7nnnKysLNa6dWuW\n",
              "n5+vML3e9T4pKSt++OEH5uzszN1bKnr27BkDwLKzs2XGo/JzSuX744gRI5hYLObOw6VLl6rEX9Vn\n",
              "MlKu89of6m36kFnNWiN3amjqpT3bgAEDuJYlfD4f3t7e0NTUhKamJiwsLJCamgpLS0upbT799FMk\n",
              "JSXh6tWruHTpEn766Sds2LABV69erVEcvvjiC+jo6AAof+Nb8e+xY8dyrU5OnjyJtLQ0uLq6ctuq\n",
              "qanh0aNHcHV1xZw5c1BQUAA3NzfurZCnpyemTZuGgIAA9O7dW+n+9O7u7jh//jwuXrwIT09PAOVv\n",
              "WR48eIA+ffpIrZuSkgIPDw+UlpYiLi4OdnZ2+PXXX6XemFQkeXsp+f+GDRuqXW/WrFkYPnw4zp49\n",
              "i/Pnz8PFxQXbtm1DYGAgAGDQoEFS6bR+/XosWLAA6enpGDZsGDIzM6GhoYHs7Gykp6dDX18fFy9e\n",
              "xKlTp7h9tG7dGgBw5MgRxMbGcm9u3r59C3V1dQDlTfU3btyI3r1748cff8SkSZPA4/GUSsd+/fph\n",
              "+/btGDx4MJo3bw6gvFl0eHg4jh8/jtLSUuTm5sLJyana7VNSUnDnzh0MHjyYm5efn4+7d+/C3t6+\n",
              "yvoVuxjcvn0bXl5euHHjBl6+fAk1NTV4e3sDAJydndG2bVskJiaie/fuCA8P595oSboaeHl54Ztv\n",
              "vsGkSZOgoaGBL774AtHR0dDS0uLyRHR0NAIDA7m3DF9++SW++OILLj59+/ZF27Zt5aaRj48P1+LJ\n",
              "0dERSUlJipIVpaWl+PXXX/HXX38BAMaMGYNvv/0WwcHBAICEhAR89913ePnyJTQ0NJCSkoK3b99y\n",
              "b0+DgoK4cxgdHY0ffvgBampqaNq0KUaOHInTp09z+SwwMBAaGhrQ0NCASCTC/fv34ejoWG28Zs+e\n",
              "jenTp8PHxwdJSUky0zwhIQE+Pj7c28dJkyZhyZIlKCsr4/Lduzp79izCwsJw/vx56OjoQCwWK53v\n",
              "ZHn58iXGjh2Le/fuQUNDAy9fvsTt27ehr68PQPY1WVnlfHH69Gls2LAB+fn5EIvFSrdKqkjWOX/w\n",
              "4AEKCwsxZMgQbt1WrVohPz8fN27c4FoJmZiYwNnZGRcuXECnTp0AAOPGjQNQ3uLI1dUV58+fl2oh\n",
              "KBETE8OVrTY2Nvjhhx9Ujr+s67AmVCljKtPU1MTw4cMBlDfzP3PmDJ49e8YtLygokGoZIWnB0KpV\n",
              "KxgZGSE9PR3NmzevUVlbmaKuPfLub/KuW2XzaWWV8622tjb8/f0BlJddkre08u6VFVscKCLruoiN\n",
              "jYWpqSnXnVFNTQ16enrcdsHBwbC2tsbBgwcVdj8aM2YMtm3bhpycHAQHB0u1jDt+/DhGjBiBdu3a\n",
              "AQCaNGlSbRgXLlzAlClTUFBQgKFDh2LJkiU4cuQIcnNzufERiouLuWtHlTwgi6xyOyAgACYmJhg+\n",
              "fDh69+6Nfv36ceUTUN5CAgDMzMygoaGBrKwsqeXVCQ8Px86dO5GdnY0tW7bAx8dHZnmTmpoKDQ0N\n",
              "7hmsd+/eMDIyUuqY5D3zyHquMTMzA1De0lldXR0tW7aEkZERPvvsM/B4PHTo0AGtW7dGRkaGwue/\n",
              "ysfZo0cPhWVkRbdv38bo0aNx7NgxLp9HRkZi165dKCwsRGFhIdfSBZAua1RlamoqVTZUPD5511/F\n",
              "c6FoPVnXt6pUeR6Rd91MmzYN48ePR3BwMH755RcMGTIEzZo1q5W4yLpPSixduhRt27bF6dOnud9M\n",
              "ivTs2RP//vsviouLlWplOnbsWPB4PLRq1Qr+/v6Ijo6u9r6l7DNZUVFRlbF+tLS0GuQQAaSOfGRd\n",
              "e+qlIqVigaCurl7lb1lNMtXV1eHk5AQnJydMnToVbdu2xe3bt6UeZiQ0NDRQVlbG/V1YWCi1XF5B\n",
              "WPEHO2MMvXr1QmRkZJX1TExM4OTkhNOnT2Pjxo1Yu3YtoqKisGbNGty5cwcxMTEYNWoUhg0bhrlz\n",
              "58rcn4SzszOmTp2KgIAA7NmzB7169QJjDJaWllx3j8pGjx6NiIgIFBQUoFWrVlxXpcqUTWMAaNu2\n",
              "LYYMGYIhQ4agU6dO2LNnD/cDtzJJWg0ePBgrVqzgxqfQ09OrkuaVMcZw8OBBdO3atcoyf39/zJ07\n",
              "FwkJCTh69KhUFyZF1q1bh9DQUHh5eeH06dNo0aIFIiMjcfbsWfz111/Q1dXF+vXrcfbsWZnx0tPT\n",
              "q9E4AVZWVjAwMMClS5e4h62KJOnl6OiIxMREREdH49ChQ1i4cCESEhLg6OiI27dv448//oCHhwe8\n",
              "vLywcOFCaGlpKTwHEsrc5FXJDxLHjh3Dq1evuEoKxhiePHmC27dvo2vXrvD390dMTAzs7e2Rl5eH\n",
              "5s2bo6ioiHtwUfaaUzV+6urqcn8QyKqAU7ZiTlm3b9/GmDFjcPz4cbRv3x4AVMp3skycOBF9+/bF\n",
              "wYMHwePxYGNjI/faknVcFdP/0aNHmDx5MuLi4tClSxfcunVLqrJYGcXFxTLPuSoUnQdZyytWYNaU\n",
              "rOuwJhVr8s61ovtRkyZNuB/f7P93abxy5YrMh2dVr195Za2q5N3fVImX5LxWlzYV82rlckNLS4vb\n",
              "Vl1dndtW0b1SGe9yXbi5ueH06dPIysrirn9Z/Pz8EBISwlWQ//rrrwrDt7a2xsaNG1FSUgJNTU24\n",
              "uLggMTERYWFh3OCRjDFs2LABvXv3rrJ9beYBiYrn4cqVK7h8+TLOnTuH7t27Y+/evVylkzL5wtra\n",
              "GteuXeP+njFjBmbMmAF3d3cUFhaqXN6oUr7LeuZR9FxTk2dZRcepyrE8efIEfn5+iIiI4J79Ll68\n",
              "iPXr1yM2NhZt2rTB0aNHsWjRIm6bimVNbZJ3/WVkZCi9nqzruzJbW1vExsZyY9tUJC+vVPc8Iu+6\n",
              "cXBwQJMmTRATE4MtW7YgOjpafkKoEBdFunXrhv/973948OCBVNcdiTZt2qBDhw64du0a91wWExOj\n",
              "VAWeLLLymrJl+/Lly6W6/AHlQydIumsSwvvIKlIazKht8fHxUjXTf//9N0pKStCxY0fo6uri7du3\n",
              "Uv19jY2NudYq6enpuHjxosywPTw8cPDgQRQUFIAxhu3bt3PLvL29ER0djVu3bnHzJDfB1NRUtG3b\n",
              "FiNHjsTKlStx5coVLm6WlpaYPHkyvvzyS27+xo0bMX/+fLnH6erqikOHDmHYsGE4deoUnJyckJ6e\n",
              "LlV4JyYmcsc6YsQI7N+/H5s2bcKYMWPkJ6ISDh8+jJKSEgDlLRBu3bqFLl26cMsPHDiAgoIClJWV\n",
              "ISIignsDlJOTw7V42b17N9cvu1mzZnB1dZV6WyzpO+7n54fvv/+eK5BzcnKQlpYGoPzheuLEifD1\n",
              "9cXnn38u1cfT09NT6kGkOuvWrYOzszM8PT2Rk5ODnJwctGrVCrq6usjPz+fGywEAXV1dbowRoPyt\n",
              "i66urlRf7rS0NKXe2GdmZiI1NRVdu3aFqakpxGIxN/jZ5cuXkZWVBZFIhPT0dDRr1gyDBg3Chg0b\n",
              "cO/ePRQUFEBTUxPdu3fHt99+y/WRvnv3Ls6dOwcPDw8A5a1Wfv/9d258ks2bN1f7ACDr+OR5/Phx\n",
              "tRVAQPkgs2vXrkVGRgYyMjLw8OFDzJw5E9u2beMedA0MDABAZosnCS8vL2zbtg2MMbx+/Rq7du2S\n",
              "ewzKkpfmPXv2xMmTJ/HkyRMA5V8r8PT0hLq6utzjVsbjx4+5B9qKrenk5Ttl5eTkoFOnTuDxeDh/\n",
              "/jxu3rwptVzWNSlPbm4uNDU10a5dOzDGqowBNHLkSBw+fFhuGPLOuampKZo0aYK9e/dy8/7991/o\n",
              "6OjAxsaGu7bS0tJw8eJFqR+rkmUZGRm4cOHCO30ZqXLer/y3rOuwJvlB3rk2MjLCw4cPubJv165d\n",
              "MsNp1qwZevbsKfUluidPniAzM1Pu/mta1qpK1v1NEVn51NjYmCvPX758WeNBDhXdK5W5b8i7Lpyc\n",
              "nJCamsoN3Fi5FdeIESOwaNEieHh4KPyKjra2NsLDw7F+/foqP2r79++P3bt34+nTpwCAN2/e4M2b\n",
              "N/Dy8kLHjh0xbdo0bnwZAFJjLvn5+SE8PJwb0+HNmzfcoPzy8oAyzyaA7HI7Pz8fz549g4uLCxYu\n",
              "XAhnZ2ckJCQoDK+ir776CmfOnJG6bsRiMVe5IK+8MTMzQ2lpKdeSODo6Wup5Ud7xyXvmkfVc8y4U\n",
              "HacyZSRQ3kq2X79+WLx4MXr27MnNz8nJgY6ODj755BMUFxdj8+bNSsftXe6Diq4/VddTZO7cudi+\n",
              "fTuOHz/OzcvKysLOnTtVfh6Rd90A5a1SRo4cCXNzc6mKyLq6T0r06tUL27dvR//+/XHjxo1qw1+0\n",
              "aBFmzJiBv//+m5unyjhsknyYnZ2Nw4cPcy2fa2r+/PnIzc2VmpQpW8h/x8c2RkqdVqSUlpYq3RxN\n",
              "kZcvX2LYsGEwMzODtbU1xo4di8jISLRu3Rp6enoYOXIkBAIBN9js3LlzERMTAz6fj/nz56Nbt24y\n",
              "w/7ss88wYMAAbiCoFi1acD/cjY2NERkZiQkTJkAoFMLc3JwbGO/AgQPg8/mwtrZGYGAgN0jUggUL\n",
              "YGlpCWtra+zatYurib17965SX+FxdnbG4cOHMWLECFy5cgXHjx/HsmXLIBQKYWFhgXnz5nFfMGjf\n",
              "vj0cHBxw9OhRqeaBNXXo0CFYWVlBIBBAKBRCS0tLqnbZ3t4e3t7eMDc3R4sWLbhBytatW4eAgABY\n",
              "W1sjISGBu2kA5T8a4uPjYWlpCZFIxD2choeHo3HjxhCJRBAIBPD09JR6czF27Fg8fvwYkydP5uaV\n",
              "lZXh5s2bCpsFS8J3d3eHp6cnfH198ebNG5iamqJPnz5SP84EAgEsLS1hZWUFX19faGho4NixYzh0\n",
              "6BC3bOzYsVIPrxVJuhiIRCJ4e3tz56pRo0Y4dOgQQkNDIRAIMH36dBw4cADNmjXDuXPnYGtrC5FI\n",
              "BCcnJ6xatYrrhuTl5YXnz5+jR48e4PF4cHBwgIGBAdfyqk+fPhg9ejQcHR3B5/ORl5eH5cuXy0yH\n",
              "qVOnYvz48VKDzcry+PHjakewf/LkCdcFrqJhw4Zh9+7d0NbWxtKlS+Hg4ABbW1s0atRI7n4WLlwI\n",
              "TU1N8Pl8dOvWDb6+vhg0aJDcbZQhL82trKywatUq+Pj4QCAQ4MKFC/jll1/kHrfE3bt3oa+vz02V\n",
              "02Hr1q148eIFZsyYweWFo0ePYuTIkTLzXXXCwsKk9rN//37ui2QikQjbt2+vUpbJuibl4fP5GDx4\n",
              "MCwtLWFvby91vQLlFdcdO3asdltJua6rqyvznGtoaOCPP/5AREQE95lWSbPpPXv2YN++fRAKhQgI\n",
              "CMDWrVul9l9WVgZra2v07t0b69evr7Zbj7Iq5/3PP/+cG6RxyZIlMq/DmuQHeee6ffv2mDt3Lhwc\n",
              "HNC9e/dqW1FWtGfPHqSlpcHKygp8Ph/+/v54+fKlwuOtaVmrCln3N0Vk5dPg4GC8ePEC5ubmGDly\n",
              "JLp3716jeLVs2VLmvVLefUNSsaClpSX3umjZsiUOHz6MefPmQSAQwMbGRmoga6C8q8cPP/yA3r17\n",
              "S/2wqY6/v3+1XclcXV0RGhoKb29vCIVCuLm54cWLF+DxeDhx4gQ0NDS4e3SPHj2QlZXFda8MCQmB\n",
              "vb09unXrBoFAgO7du3Nlvrw8IO/ZpOJznKxyOzc3F/7+/twgxyUlJdygn8qSfF3kzz//hKGhIWxt\n",
              "beHs7Aw3Nze4uLjILW8aNWqEffv2YcaMGeDz+YiMjOQ+RqDo+OQ988h7rqkpRccJKC4jJfH++++/\n",
              "sWrVKqlPlfv4+MDU1JTrhqZKywRF5Z488q6/mqynCJ/Px4kTJ7Bu3ToYGRlx5WTLli3l5pXqyLtu\n",
              "gPLruqCgQOpZFKjb+6SEi4sLfvvtNwQEBFQpb4Dy8vPrr7/G8OHDuVbyU6ZMwY8//qgoCQGUd/+U\n",
              "fEhj8uTJKnc9rkxLSwu6urpSE3XrIVKYgqmB4THG6iTaT58+hampKbKysmT28f2Q5OfnQ0dHB4wx\n",
              "zJo1C2/fvlV5ZG5FnJ2dceLECa6feEMTFBQEkUhUayO8K3LgwAH8/PPPOHPmDDcvLi4OmzdvrpVP\n",
              "apOqVq1ahXbt2tW4D3VD1VCPuy6uyRcvXmDo0KHVfkayoZXrNdVQ8wOpnrz7RlxcHAYOHMh9Ee2/\n",
              "SNazSVlZGWxsbBAeHs61iGyIGvqz1/tC5V714uPjMXToUPz9999cC7KP4T5paGiII0eO1LgbEJHP\n",
              "aF31X+56Hx5Mq/4LuB8C0ZRwucsTN8x4TzGpHXUyRsqaNWuwefNmrF69+oMuRCoaOXIkMjIyUFhY\n",
              "CEtLy2o/Qfau5HUvItJ8fHxw7969Ks0m7e3tqx3wldQOySfz/mv+q8ddndatW1f7cNgQy/Waovzw\n",
              "cZF135g9ezaioqKU/rz9x6q6Z5MLFy4gODgYLi4uUl1HGiJ69lIOlXtVjRs3Dv/73/+wdetWqW54\n",
              "dJ8kpGYaYvcdeeqsRQohhBBCCCGEEPJfQi1Sqmc9SX6LlISfqEUKIYQQQgghhBBCCICPr0UKVaQQ\n",
              "QgghhBBCCCGkzlBFCiGEEEIIIYQQQoiyPrIBRagihRBCCCGEEEIIIXWGJ/64alKoIoUQQgghhBBC\n",
              "CCF1hrr2EEIIIYQQQgghhCiJ93E1SKGKFEIIIYQQQgghhNQdapFCCCGEEEIIIYQQoiSqSCGEEEII\n",
              "IYQQQghRFvu4+vao1XcECCGEEEIIIYQQ8vHiieVPqkhNTYWTkxO6du0Ke3t73Llzp8o6YrEYs2fP\n",
              "hpWVFczMzDB27FgUFxcDADIyMqCurg6RSMRN9+/fVykOVJFCCCGEEEIIIYSQOsMrkz+pYsKECQgO\n",
              "Dsa9e/cQEhKCoKCgKuts27YNN27cwI0bN5CcnAw1NTWsW7eOW66jo4PExERu6tKli0pxoIoUQggh\n",
              "hBBCCCGE1Bkekz8p6/nz54iPj8fw4cMBAAMHDsQ///yDtLQ0qfVu3rwJLy8vNGrUCDweD3369MGu\n",
              "Xbtq7XioIoUQQgghhBBCCCF1hidmcqeioiLk5eVJTUVFRVXC+eeff9CuXTtoaJQP98rj8WBgYIBH\n",
              "jx5JrWdra4ujR48iLy8PJSUl+P3335GRkcEtf/36Nezt7WFjY4MlS5agrEy1ZjE02CwhhBBCCCGE\n",
              "kFpltG5Nve37wbSZ/8l9f8gUjYOyfPlyLF68WGpeaGgowsLCarS/oKAgPHz4EG5ubmjcuDG8vLzw\n",
              "v//9DwDQrl07PH78GG3atEF2djYCAwPxww8/YO7cuUqHTy1SCCGEEEIIIYQQUncYkzvNnz8fubm5\n",
              "UtP8+fOrBNOxY0c8ffoUpaWl/z9YhkePHsHAwEBqPR6Ph7CwMCQkJODy5cuwsLCApaUlAEBLSwtt\n",
              "2rQBAOjp6WHMmDG4cOGCSodDFSmEEEIIIYQQQgipM4q+2qOlpQVdXV2pSUtLq0o4bdq0gY2NDXbv\n",
              "3g0AOHjwIPT19WFsbCy1XmFhIXJycgAA//77L1asWMG1OHn+/DlKSkoAAEVFRTh06BCsra1VOh7q\n",
              "2kMIIYQQQgghhJA6wytTYURZBTZv3oygoCAsW7YMurq6iIiIAACMGzcOvr6+8PX1RW5uLtzd3aGm\n",
              "pgaxWIxp06ahf//+AICLFy9i0aJFUFdXR2lpKTw8PPD111+rdjyMsdo7IkIIIYQQQggh/3n/1TFS\n",
              "SPXc+q6Uu/yvKOXHJ/kQUIsUQgghhBBCCCGE1Bme+ONqv0EVKYQQQgghhBBCCKkzir7a09BQRQoh\n",
              "hBBCCCGEEELqDO8jG1GEKlIIIYQQQgghhBBSZ2pzsNkPAVWkEEIIIYQQQgghpO7QGCmEEEIIIYQQ\n",
              "QgghyuF9XPUoVJFCCCGEEEIIIYSQukNdewghhBBCCCGEEEKURV17CCGEEEIIIYQQQpRDX+0hhBBC\n",
              "CCGEEEIIUdZH1rVHrb4jQAj5eIlEIohEIlhYWEBdXZ37OzAwUKntb9++DUNDw2qXFRQUgMfjydz2\n",
              "+vXr8PHxgZGREezs7NCjRw8cOXIEAODu7s79/334559/4OvrCz6fDz6fD5FIhLNnzwIAzp07h5Mn\n",
              "TyoVzrlz5yASiQAAGRkZaNGiRY3iEx0dDRcXF3Tp0gV2dnbw9PTEhQsXAACGhoZITEysUbi1reLx\n",
              "SrzLcVfE4/Hw6tWrdw5Horo8FRQUhLVr1wIANm3ahFWrVgEAjh49ihkzZigMs7aO9UNX8Vzk5OTA\n",
              "0dER06dPB5Pz5qpi2ipr06ZNXBmkp6eHDh06cH/HxMS8wxHUnYrXY2FhIQYMGIAvvvgCxcXF7z0u\n",
              "73LN7NixA35+fkqtW5Nzu2jRIuzZs0epePB4PISHh0vNd3Nzq/HxKXts1ZVndUXePac+1Xa5W9sy\n",
              "MjKknlXMzMywdOnSdw5X2fypinHjxtWo3JJ1j69peISogicWy50aGmqRQgipM5KbdUZGBkQi0Xv7\n",
              "gX7nzh14e3sjIiIC/fv3BwA8efIEp0+ffi/7r+zLL7+Ep6cnjh49CgD4999/8ebNGwDlD9evXr2C\n",
              "j4/Pe4lLdHQ0RowYgYMHD8LJyQkAkJqaips3b76X/f9XTZw4kfu/r68vfH196zE20kpLS6GhUf+P\n",
              "A0+fPoW3tze++OILLFy4sNbDnzhxIncegoKCIBKJMH369FrfT13Iz8+Hr68vTExMsGnTJqip0Xuw\n",
              "ipYsWaL0utbW1ti5cydXmZmWloa3b9/WaL+lpaU12q6uybvnEPl0dHS4Z5Xc3FyYmpri888/h6Wl\n",
              "ZY3DVCV/Kmvr1q0fdHiEVOsj69pDd2JCyHt36tQpODs7w9bWFg4ODlJvQcLCwmBiYgJbW1v89ttv\n",
              "Uttt3rwZJiYmsLa2rvJGsaIVK1ZgzJgxXCUKALRv3x6jRo3i/r548SLXKqPij9zIyEh069YN1tbW\n",
              "EAqF+PPPP7ll7u7umD17drXbyZOZmYkOHTpwf7dq1QoGBgZITEzEpk2bsGfPHohEIu5hS176yDJs\n",
              "2DDY2dlBIBCgX79+yMrKqna9xYsXY+HChVwlCgCYmJggICCA+/vQoUNwdHRE586dpd7GVW51ERAQ\n",
              "gB07dgAo/2E6YcIEeHp6omvXrvD39+femufn5yMwMBBmZmZwcXHBhAkTEBQUpPCYlBEXFwcPDw/Y\n",
              "2dnB2toa+/fvB/B/rTlCQ0Nha2sLY2NjREVFVRtGamoq+vXrB3t7ewgEAmzcuBEAsHr1agQHB3Pr\n",
              "vXr1Cq1atUJ2drbK8QwLC+N+tKvydl4WWed7wYIFWLZsGQAgKioKPB4P9+7dAwCMGTMGv/76K4Dy\n",
              "N8OhoaGwt7fH/PnzkZ+fj/Hjx8PBwQECgQDBwcHc+ZOX73NzczFu3DhYWVlBKBRizJgxAICSkhLM\n",
              "mzcPDg4OEIlEGDRoEHJycmQeT3p6OlxdXTFx4kSuEqWsrAxz5syBlZUVrKysMGXKFKmWGMnJydXm\n",
              "N1U9f/4c/v7+4PP5sLKywubNm7llhoaG+Oabb+Dk5ISOHTti06ZNiIiIgKOjIwwNDaXKKB6Ph+++\n",
              "+w7dunWDoaEhjhw5guXLl8POzg4mJiY4d+4cAGDy5MncOQKAlJQUdOzYUeaP8pcvX8LDwwPdunXD\n",
              "li1boKamVqV1Q8XWe6WlpfD29oadnR0sLS0xdOhQvH79GkB5xa2VlRUmTZoEoVAIS0tLxMfHq5xm\n",
              "8fHxcHJygkAggIODAy5dugQAePHiBXr37g0+nw+BQIDRo0dz2xQUFGDIkCHg8/mws7PDgwcPVNrn\n",
              "mTNn4OjoCGtra1haWmLbtm3cMlVasRgYGKB169aIi4sDAGzfvl0qngAwe/Zs2NvbQyQSwdXVFSkp\n",
              "KdyyytdORU+ePIG9vT22b9+u0rGtXr0aDg4OsLGxgY+PDx4+fAhA9etIQtY9B5AuiwBg48aNXHl8\n",
              "5coV2NraQiQSwcrKCj///DOAurkvViTvnrdq1SpYWlqCz+dj2LBhyM3N5Y4jMDAQ/fv3h4WFBTw8\n",
              "PLiyuaSkBJMmTULXrl3RvXt3zJo1C+7u7irH6/Xr12CMQVdXFwBqXE5WzJ+K8nFwcDC8vLzQuXNn\n",
              "jBkzBteuXYO7uzuMjIwwc+ZMbt2K92N5919lVQ5P2XgQogpeGZM7NTRUkUIIea8ePHiAsLAwREVF\n",
              "4fr164iMjMTQoUNRVFSE48ePY//+/bh+/Tri4+ORkZHBbXf79m2Ehobi/PnzSEhIkPsG8fr163B0\n",
              "dJQbj/v37yMmJga3b9/GqVOnEBsbCwDw9vbGlStXkJCQgD/++APjx49HUVGRwu3kCQkJwdixY9Gj\n",
              "Rw/MmjUL58+fB1De9WnixIkYNmwYEhMTsWjRIrnpI8/atWsRHx+PW7duwcXFBWFhYTVOm1evXiE2\n",
              "NhZxcXFYtWoVHj9+rPAYgfIWSH/++SeSk5Px7NkzHDx4EED527jGjRsjOTkZUVFRuHz5slLhAeU/\n",
              "MiXNrEUiEfr27SsVz+DgYOzZswfx8fE4ffo0Zs2axcU3NzcXAoEA169fx8aNG6vtTlNWVoYhQ4bg\n",
              "hx9+QFxcHK5cuYItW7YgLi4O48aNw5EjR7im6BERERgwYAD09PSqjeuMGTOk4ip5G1wXZJ1vLy8v\n",
              "REdHAwBOnz4NR0dH7u/o6Gh4eXlxYairq3PneNasWXBxccG1a9dw8+ZNiMVirFu3jltXVr6fPn06\n",
              "GjVqhFu3buHmzZv4/vvvAZT/+GnatCmuXbuGxMRE8Pl8fPPNNzKPp1evXpg9ezYmTZrEzZOch+vX\n",
              "ryMxMRH379+XqkCVld9UNWXKFJiamiIpKQlnz57F0qVLceXKFW7569evcfnyZcTExGDGjBl4/Pgx\n",
              "YmNjsX//fkyZMkUqrGbNmuHq1avYtm0bhg8fjnbt2iE+Ph7Lli3DnDlzuP1t2bIFZWVlAICffvoJ\n",
              "wcHBMlsFBQYGwsvLCytWrFDqeNTV1REZGYn4+Hjcvn0bzZs3x4YNG7jlf//9N0aNGoWbN29iypQp\n",
              "+Prrr1VKr+LiYvj7+yM0NBS3bt3CmjVrMHDgQBQUFGD37t3o3LkzkpKScOvWLfzwww/cdnFxcVi2\n",
              "bBmSkpLg5eXF5RVl2djY4OLFi0hISMCFCxewZMkSZGZmqhSGxOjRo7F9+3aUlZXh999/x5AhQ6SW\n",
              "h4SEIC4uDomJiZg0aRKmTZsmtbzitSORlJSEXr164bvvvuMqFJURGRmJlJQUxMbG4saNGxg2bBh3\n",
              "Hah6HVWMf3X3HEWWL1+O2bNnIzExEbdv38bgwYMB1M19UULePe/EiRPYvn07Ll26hKSkJDRt2hTz\n",
              "5s3jtr169Sp27NiBu3fvok2bNlwl6JYtW5Camoo7d+7gwoULuHXrltLxyc/Ph0gkAp/PR+fOnREc\n",
              "HIyOHTsCQI3LyYoU5eOkpCQcO3YMKSkpOH/+PJYvX47Tp08jKSkJe/bswZ07d6qNd22Vh+8Sj6Ki\n",
              "IuTl5UlN7ANttUXqiVgsf2pg6r8tLyHkP+XkyZNIS0uDq6srN09NTQ2PHj3CmTNnMGjQIO7tz4QJ\n",
              "E3Dx4kUAwNmzZ9GnTx+0a9cOQHnT5eXLl9c4HoGBgdDQ0ICGhgZEIhHu378PR0dHpKenY9iwYcjM\n",
              "zISGhgays7ORnp4OMzMzudvJM2TIEPj4+CAmJgaXLl3CgAEDsGDBAu6HlbLpI09kZCR27dqFwsJC\n",
              "FBYWolWrVjVIlXJDhw4FUP4W08jICOnp6VJvN2X5/PPP0aRJEwCAg4MD7t+/D6D8DVx4eDh4PB50\n",
              "dHQQGBiItLQ0peJiamoq1SVM0k0MAC5fvowHDx6gT58+UtukpKTAyMgI2tra8Pf3BwA4Ojpy8am8\n",
              "7p07d7gfDED5g/Tdu3dhb2+PgIAAbN++HTNmzMDPP/+Mffv2yYxreHi4VEuT2mp1Ux1Z57tHjx5I\n",
              "TEzE27dv8ddff2H16tXYuHEjPD090bRpU7Rv354Lo+KPvSNHjiA2NhZr1qwBALx9+xbq6urccln5\n",
              "/tixY7h69SrX1aR169ZceLm5udzDfHFxsczxjgCgX79+2L59OwYPHozmzZsDKK/4CQoKgpaWFgBg\n",
              "/Pjx+PHHHxESEgJAdn5TVXR0NK5fvw4AaNOmDfz9/REdHY3u3btzxw4AxsbG0NbW5lpv2dnZITs7\n",
              "G69eveLGspGsa2dnh9evX3P5ysHBAampqQDK87SFhQX++OMPeHt7Y+/evUhKSpKbNgcOHMCkSZO4\n",
              "H3TyMMYQHh6O48ePo7S0FLm5uVIt0IyNjdGtWzcA5dfF6tWrlU4roPyaUVNTg7e3NwDA2dkZbdu2\n",
              "RWJiIrp3747w8HDMmjULrq6uUl0WJa3cJP+vWLmjjJcvX2Ls2LG4d+8eNDQ08PLlS9y+fRv6+voq\n",
              "hQMA/v7+WLBgAQ4fPoxu3bpVGYvo9OnT2LBhA/Lz8yEWi6u0QqtcUXLnzh34+vriyJEjEAqFKsXl\n",
              "yJEjiIuLg62tLQBwFWySZapcRxKq3HMq6tmzJ7799lukpqbCw8MDzs7OAFAn90UJefe86OhoBAYG\n",
              "cufnyy+/xBdffMGt5+Pjg08++QRAeZ6SXEdnzpzB8OHDoampCQAYNWqU0l1XKnbtyc7OhqenJ+zt\n",
              "7bnzW5NysiJF+XjAgAHQ1tYGAPD5fHh7e0NTUxOampqwsLBAampqtd2Maqs8lKhJPJYvX47FixdL\n",
              "zWvh3Rst+3i/U1zIR+Qj69pDFSmEkPeKMYZevXohMjJS4bryBpOVt8zW1haxsbH4/PPPZa4jeUAA\n",
              "yt8uSprVDx48GCtWrOB+LOnp6aGwsFDhdoq0bNkS/v7+8Pf3h729vdQb6orkpY+sliEXL17E+vXr\n",
              "ERsbizZt2uDo0aNYtGhRtetK0sba2lpmXGUdo4aGhtRDfsV0kbddZfLOnSoYY7C0tKy2hUtGRga0\n",
              "tLS4famrq0vFvWIYenp6MsfvmTp1Knx9fWFubo7WrVvLTbf3Rd751tLSgp2dHfbv34/GjRvD3d0d\n",
              "wcHBOHXqFDw9PaXCadasGfd/xhgOHjyIrl27VrtPVfM9YwwbNmxA7969lTqmdevWITQ0FF5eXjh9\n",
              "+nS1g+xWzjc1vRYVUbQfyd88Hg88Hk9qv5Jlkh9XFf+uuN60adPw/fff48WLF+jVqxfatm0rMz4z\n",
              "ZsyAUCiEu7s7YmJiYGBgIPdajIyMxNmzZ/HXX39BV1cX69evlxpotC7STZJmjo6OSExMRHR0NA4d\n",
              "OoSFCxciISGhVvY7ceJE9O3bFwcPHgSPx4ONjU2VMkhZ2tra6NOnD7788ssqXUgfPXqEyZMnIy4u\n",
              "Dl26dMGtW7ekfuQD0tcOUN51tKioCGfPnlW5IoUxhvnz50t1I6y4TJXrqCJZ9xx5eWf69OkYMGAA\n",
              "oqOjsWDBAlhZWeGnn36qs/ui5Bhr+kxQ1/ccPT099OrVC6dOnYKvr2+tlJOK8rGs8kZemMruWxU1\n",
              "icf8+fOrdPsR/rLpneJBPi4NsfuOPNS1hxDyXnl7eyM6Olqqqe21a9cAlHdL2L9/P/Lz88EYw5Yt\n",
              "W7h1PDw8cPLkSW4siE2bZN+c586di+3bt+P48ePcvKysLOzcuVNh/HJycri3prt371aqPzoAHD58\n",
              "GCNHjqx22bFjx7iB/hhjSEhIQJcuXQAAurq6XJ9vQH76yIuzjo4OPvnkExQXF0uN8VDZwoULq3Rd\n",
              "uH//Pg4cOKDwGI2NjXH16lUA5W8oJa2FFPHw8MDOnTvBGENBQQF+//13btnjx4+5t5qqcnJyQnp6\n",
              "Otd1BShv3qxK33BTU1Po6uoiIiKCm5eWlsa9gTYzM4ORkRGCg4MxefLkGsVTETMzM6W7TwGKz7eX\n",
              "lxcWLVoET09PqKmpwdraGmvWrJHq1lOZn58fvv/+e+7hOCcnR6lWQ76+vli9ejXE/79J7osXL7jw\n",
              "wsPDuXz/5s0bmU3SJdatWwdnZ2d4enoiJycHXl5e+PXXX1FcXIzS0lJs3bpVqR+U165dq1JpJI+X\n",
              "lxd++eUXLv6HDh1Cr169lN6+Jnr37o2srCwsXbpUqXw1c+ZMTJkyBe7u7nj48CGMjIzw8OFDLr13\n",
              "7drFrZuTk4NWrVpBV1cX+fn53DhGyvD09FRY3piamkIsFnODd1++fBlZWVkQiURIT09Hs2bNMGjQ\n",
              "IGzYsAH37t1DQUGB0vuXJycnB506dQKPx8P58+dlDpCt7PmfOXMmQkJC4OHhITU/NzcXmpqaaNeu\n",
              "HRhj3JhJ8rRs2RKnT5/GkSNHVB5Y1M/PD5s2bZIa30NS+STvOqrpPcfY2Bjx8fEoKyvDmzdvpLqA\n",
              "pKSkoHPnzhg/fjwWLFjA3Sdqel9UhqJngt9//x15eXkAysdJU6YM8PDwQGRkJEpKSlBSUsKNDSWh\n",
              "bJlbVFSES5cuwdTUFEDNy8mKlM3HDZGWlhZ0dXWlJt4HMJA5+YCUieVPDQxVpBBC3itjY2NERkZi\n",
              "woQJEAqFMDc35wZh69u3LwICAmBjYwM7OztucDwAsLKyQlhYGFxcXGBtbc01968On8/HiRMnsG7d\n",
              "OhgZGYHP58Pf3x8tW7ZUGL9169YhICAA1tbWSEhIkIqDPKmpqVyXpMr++usv2Nracp+iTEtL4x7O\n",
              "P//8cyQmJnKDzcpLH1l8fHxgamoKU1NTuLi4yP3EZu/evREREYHZs2fD2NgYfD4fwcHB+PTTTxUe\n",
              "49y5cxETEwM+n4/58+dz3QMUWbRoEfLz82Fubg4fHx8IhUKuxcHjx49r/MWYli1b4vjx41i2bBmE\n",
              "QiEsLCwwb9487ke9MjQ0NHDs2DEcOnQIAoEAlpaWGDt2rNQYPOPHj0dpaanUgLy15fnz53j58qXM\n",
              "cVfy8vKgr6/PTY6OjgrPt5eXFx4+fMhVnPTq1Qv//POP3MEWw8PD0bhxY4hEIggEAnh6ekqNUSRv\n",
              "u6KiIu4TqwsWLABQPkaDvb09unXrBoFAgO7duyv11a7w8HC4u7vD09MTgwYNgo2NDWxsbCASiWBo\n",
              "aKjUV3YyMjLQuHFjhetJrF+/HsnJyeDz+ejZsye+/vprpfN2TfF4PIwdOxZt2rRRugvE9OnTMX36\n",
              "dLi5uaGoqAhz586Fg4MDunfvLpV/Ro4ciTdv3sDU1BR9+vSBi4uLUuGXlZXh5s2b1XaVkfxw1NLS\n",
              "QqNGjXDo0CGEhoZCIBBg+vTpOHDgAJo1a4Zz585xg5U6OTlh1apVXFctVYSFhUnl+/3792PFihWY\n",
              "N28eRCIRtm/fLvMcKXv+TUxMMHv27CqtFfh8PgYPHgxLS0vY29srfQ/Q0dHByZMncfnyZZldaO7e\n",
              "vSt1XF988QWGDRuGoKAg9OzZE0KhUOpTxfKuo5rec/z9/dG+fXuYm5vjs88+k2plt3HjRlhaWsLa\n",
              "2hrffPMNN8ZNTe+L1bG0tJRKA3n3vD59+mD06NFwdHQEn89HXl6eUl16J0yYAENDQ1hYWKBHjx7o\n",
              "0qULd89RVOZKxkiRTEKhEF9++SWAmpeTwP+1ilE2H9clb29vqXNQ07GGCFEZY/KnBobHWAOMNSGE\n",
              "fGD8/Pywdu1apfqv/9eUlJSgrKwM2traeP36Nby9vTFlyhQEBgZi1apVaNeuHYYPH17f0ZRp8uTJ\n",
              "aNu2bZ18knf//v1ISUlRagBJopyvvvoKQ4YM4cZ3+FB99tlnCAwMxIgRI+o7KgDKB4PdvHlztWNJ\n",
              "xMXFYeDAgQrHavoQNJTz/67oniNffn4+dHR0UFJSgmHDhsHW1hYhISH1Uub27dsXw4YNw7Bhw97b\n",
              "Pj8URuvW1Nu+H0yjrwt9aPoYyx+n6UTaKrnLPzRUkUIIIaROPX/+HH369EFZWRkKCwsxYMAArFix\n",
              "otbGSqkrT548gYeHB/T09HDq1Cno6OjUd5TIRyA+Ph6DBw+GhYUFDh8+LDVY5Ydo9uzZiIqKwooV\n",
              "K+Dr61vf0SFEKd26dUNRUREKCwvh7OyMDRs2qNRSrbZ4eXmhqKgIUVFR/8l7CFWkkIr6dJZ/Tk6k\n",
              "119+qQmqSCGEEEIIIYQQUquoIoVU1MdwhtzlJzLC31NMageNAEQIIYQQQgghhJC60wAHlJWHKlII\n",
              "IYQQQgghhBBSd1T4GEBDQBUphBBCCCGEEEIIqTtUkUIIIYQQQgghhBCiJKpIIYQQQgghhBBCCFEO\n",
              "Kyur7yjUKqpIIYQQQgghhBBCSN0Rf1wfC6aKFEIIIYQQQgghhNQdapFCCCGEEEIIIYQQohzq2kMI\n",
              "IYQQQgghhBCiLPZxde1Rq+8IEEIIIYQQQggh5CNWViZ/UkFqaiqcnJzQtWtX2Nvb486dO1XWEYvF\n",
              "mD17NqysrGBmZoaxY8eiuLiYW37s2DGYmZnBxMQE/v7+yMvLUykOVJFCCCGEEEIIIYSQOsPKyuRO\n",
              "qpgwYQKCg4Nx7949hISEICgoqMo627Ztw40bN3Djxg0kJydDTU0N69atAwAUFBRg7NixOHLkCFJT\n",
              "U9G+fXt8++23KsWBKlIIIYQQQgghhBBSZ5iYyZ2KioqQl5cnNRUVFVUJ5/nz54iPj8fw4cMBAAMH\n",
              "DsQ///yDtLQ0qfVu3rwJLy8vNGrUCDweD3369MGuXbsAACdOnIC1tTXMzMwAAJMmTcLevXtVOh4a\n",
              "I4UQQgghhBBCSK16MG1mjbctKirC8uXLMX/+fGhpadVirGjf9bXv02X75C4PCwvD4sWLpeaFhoYi\n",
              "LCxMat4///yDdu3aQUOjvCqDx+PBwMAAjx49grGxMbeera0tNm/ejMmTJ6Nx48b4/fffkZGRAQB4\n",
              "9OgROnXqxK1raGiIp0+forS0lAtXEWqRQgghhBBCCCHkg1FUVITFixdX2yKB9v3x7RsA5s+fj9zc\n",
              "XKlp/vz5NQ4vKCgIPj4+cHNzg5ubG7p27ap0JYkyqCKFEEIIIYQQQggh9UZLSwu6urpSU3UtYzp2\n",
              "7Mi1HgEAxhgePXoEAwMDqfV4PB7CwsKQkJCAy5cvw8LCApaWlgAAAwMDPHz4kFs3IyNDqpWLMqgi\n",
              "hRBCCCGEEEIIIR+8Nm3awMbGBrt37wYAHDx4EPr6+lLdegCgsLAQOTk5AIB///0XK1aswNy5cwEA\n",
              "Pj4+uHHjBv7++28AwE8//YTBgwerFA8aI4UQQgghhBBCCCENwubNmxEUFIRly5ZBV1cXERERAIBx\n",
              "48bB19cXvr6+yM3Nhbu7O9TU1CAWizFt2jT0798fAKCjo4OtW7fCz88PpaWlsLKyws6dO1WKA1Wk\n",
              "EEIIIYQQQgj5YGhpaSE0NPS9D7hK+66ffavK1NQUsbGxVeZv3bqV+3/btm2RnJwsMwxJhUtN8Rhj\n",
              "rMZbE0IIIYQQQgghhPyH0BgphBBCCCGEEEIIIUqiihRCCCGEEEIIIYQQJVFFCiGEEEIIIYQQQoiS\n",
              "qCKFEEIIIYQQQgghRElUkUIIIYQQQgghhPyHlJWVYcSIEfUdjQaLPn9MCCGEEEIIIaTeicViZGVl\n",
              "obS0lJtnYGBQp/scPXo0eDxelfnbt2+v0/1K/Pnnn3BxcUGLFi0AADk5Obh8+TL69etXp/tVV1fH\n",
              "vXv36nQfHzP6/DEhhBBCCCGEkHq1Y8cOTJ06FZqamlBTK+84wePx8Pz58zrd748//sj9v7CwEAcP\n",
              "HoSNjQ02btxYp/uVEIlESExM5P5mjMHW1hY3btyo833PmzcP2dnZCAoKQrNmzbj5AoGgzvfd0FFF\n",
              "CiGEEEIIIYSQetWlSxdERUXB1NS0XuPx5s0b+Pr6Ijo6+r3sr3JFCgAIhULcvHmzzvfduXPnKvN4\n",
              "PB4ePHhQ5/tu6KhrDyGEEEIIIYSQetWqVat6r0QBAG1tbWRmZr63/eno6ODy5ctwcnICAFy6dAk6\n",
              "OjrvZd/p6envZT8fI2qRQgghhBBCCCGkXi1fvhyNGzfG0KFDoa2tzc3X1dWt0/3OnDmT+39ZWRni\n",
              "4+PRrl07HDhwoE73KxEbG4vPP/8cZmZmAIDU1FQcPnwYDg4O72X/Bw8eREpKChYsWIAnT57g5cuX\n",
              "4PP572XfDRlVpBBCCCGEEEIIqVeScVGA8u4ljDHweDyUlZXV6X4XL17M/V9DQwPGxsbw9/eHpqZm\n",
              "ne63opycHMTGxgIAnJycuIFn69qiRYsQFxeH+/fv4969e3j69CkGDhyIy5cvv5f9N2RUkUIIIYQQ\n",
              "QgghhPzHCIVC3LhxA3Z2dkhISABQPtDsrVu36jlmHz4aI4UQQgghhBBCyH/WtWvXkJiYiMLCQm7e\n",
              "1KlT63Sfbm5u+Ouvv9CyZUupzy9LWuJkZ2fX6f4BoHHjxlBXV5eaR+0slEMVKYQQQgghhBBC6lVq\n",
              "aiqmTp2KmzdvSlVo1HWFwrJly3DgwAE8evQIbm5uOH36NDw9Peu8IuW3334DgCpf7HmfOnXqhAsX\n",
              "LoDH46GkpATLli2DSCSqt/g0JGqKVyGEEEIIIYQQQurO+PHjERQUhJYtW+Kvv/5CQEAAZs+eXef7\n",
              "jYyMxOXLl6Gvr4+DBw8iLi5OaryWutKuXTsAwK5du9CpUyepadeuXXW+fwBYv349vvvuOyQlJaFp\n",
              "06a4fPkywsPD38u+GzqqSCGEEEIIIYQQUq/y8vIQGBgINTU18Pl8bN68GUeOHKnz/Wpra0NbWxti\n",
              "sRiMMZiamuL+/ft1vl+JQ4cOKTWvLmhoaODkyZPIzc1FTk4OTp069V66FH0MqGsPIYQQQgghhJB6\n",
              "JflKjo6ODjIyMvDpp5/i33//rfP9Nm7cGCUlJRCJRJg9ezb09fXr/EtBAHDq1CmcPHkSjx8/lvoE\n",
              "c25ubp3vW8LPzw9nzpxBkyZNAAAPHz5E//79kZKS8t7i0FBRixRCCCGEEEIIIfXK1dUVL1++xOTJ\n",
              "k2Fra4vOnTtjwIABdb7fn3/+GcXFxfjhhx+Ql5eHS5cuvZeuNdra2mjRogXU1NTQvHlzbrKysnpv\n",
              "LVIGDRqEIUOGAACePn0KHx8f6tqjJPr8MSGEEEIIIYSQD8Y///yD3NxcWFlZ1el+ysrKsGDBAnz/\n",
              "/fd1uh95bt68CaFQWG/7nzVrFgoKCnD16lUsXLgQAwcOrLe4NCTUIoUQQgghhBBCSL0Ti8V48uQJ\n",
              "GGPQ1dXFo0eP6nR/6urqiImJqdN9KKKnp4fPPvuM+1pOYmJinbcKuXXrFjcNHz4cN27cQK9evWBi\n",
              "YoJbt27V6b4/FtQihRBCCCGEEEJIvdqxYwemTp0KTU1N7qs5PB4Pz58/r9P9hoWFQVNTE6NHj0az\n",
              "Zs24+bq6unW6X4m+ffti6NChWLVqFW7evInS0lJYW1sjKSmpzvbZuXNnmct4PB4ePHhQZ/v+WFBF\n",
              "CiGEEEIIIYSQetWlSxdERUXB1NT0ve634qeOeTweGGPg8XjvZcBZALCzs0N8fDysra2RkJAAAFL/\n",
              "Jx8m6tpDCCGEEEIIIaRetWrV6r1XogDl3YkkU1lZGffv+6KhoYGKbRtycnLwvto6/Pnnn3j16pXU\n",
              "vo8fP/5e9t3QUUUKIYQQQgghhJB6kZeXh7y8PPj5+WHt2rV4/vw5Ny8vL++9xaOgoIDb5/vstPHF\n",
              "F19gwoQJyMvLw9atW9GrVy+MHTv2vex74cKFaNGiBfd3ixYtsHDhwvey74aOuvYQQgghhBBCCKkX\n",
              "ampqXJcaiffRxWbr1q14/PgxQkNDAQDt2rXDs2fPwOPxsHHjRnz55Zd1st/q7N27F0eOHAFjDH5+\n",
              "fhg6dOh72a9IJEJiYqLUPKFQiJs3b76X/Tdk1CKFEEIIIYQQQki9qNil5n12sdm6dSvGjx/P/f3p\n",
              "p59CLBYjLy8P+/btq7P9Vnbq1CkMGTIE+/btw++//46hQ4di48aN72XfOjo6uHz5Mvf3pUuXoKOj\n",
              "81723dBRRQohhBBCCCGEkHpx584dnD59usr86OhoJCcn19l+xWIx2rdvz/1taWkJAGjatCmKi4vr\n",
              "bL+VzZ49W6oFyM6dO/9fe3ceFPV5x3H8sxyKBg9CUCNNNEiaqIAsFhXTigei49hqqFqj1ouOcRo0\n",
              "VpsajSfRZqxH1bQd2wIaDdRqjLfRjMYrEYMKxBsP8KbGorNKjbq7bP9w3JF4kcTf/sB9v2aY2X0e\n",
              "+H2+u//xnefQ4sWLPZL9pz/9SUlJSWrfvr3i4+PVp08fzZkzxyPZVR1bewAAAAAApujRo4emTJki\n",
              "q9Vabjw/P19TpkzRqlWrDMkNDw/XiRMn7jv34osv6vjx44bkftvhw4fVp08fbdy4UdnZ2Zo2bZo+\n",
              "++wzBQcHeyT/ypUrys7OliS1bdtWgYGB8vPz80h2VcaKFAAAAACAKS5cuHBPE0W6fX7HyZMnDcsN\n",
              "DQ3Vl19+ec94Tk6Onn32WcNyv61Zs2b661//qsTERE2dOlWffvqpx5ookhQUFKRu3bqpcePGSk1N\n",
              "VWhoqMeyqzJaTQAAAAAAU5SWlj5wzuFwGJY7YcIEJSUlacqUKWrVqpWk202U1NRUpaenG5Z7x+jR\n",
              "o8u99/f3V3h4uGbMmCFJHtliU1paqqVLlyotLU15eXkaPXq0Nm/ebHjuk4BGCgAAAADAFIGBgSoo\n",
              "KNBLL71UbrygoEBPPfWUYbmdO3fWwoUL9e6772rUqFGSpJiYGKWlpSkxMdGw3Dvq1KlT7n1SUpLh\n",
              "mXd88cUXSk9P18qVK9WpUydNnDhRb7zxht577z2P1VDVcUYKAAAAAMAU//73vzV58mTNmzdPbdq0\n",
              "kSRlZ2dr9OjRmjRpkvr27WtyhU8eHx8fJSQkaPHixWrQoIEkKSwsTIWFhSZXVnWwIgUAAAAAYIpf\n",
              "/epXun79uoYNG6Zz585Jkn70ox9p8uTJXtFESU1Nve/4pEmTDMtMT09XRkaGYmNjNXDgQA0ePNiw\n",
              "rCcVK1IAAAAAAKa7dOmSJCkkJMTkSjznrbfecr++ceOGNmzYoLi4OH344YeGZxcUFCgjI0OLFy+W\n",
              "zWbTvHnz1KtXLwUFBRmeXdXRSAEAAAAAoBIoKSnR4MGDtXbtWo9lOp1OrVu3Tunp6frss88eegAw\n",
              "bqORAgAAAABAJdG8eXMdOnTIlOzi4mKPXv9cVXFGCgAAAADAq1itVlkslgfO5+bmeqSO+fPnu187\n",
              "nU7l5OS4D4A1A02UiqGRAgAAAAAwVUZGhoYOHfrIscdl7ty5hjz3u8rLy3O/9vPzU3R0tF5//XUT\n",
              "K0JFsLUHAAAAAGCqmJiYe1aBtGzZUvv27TM8226368yZM2rSpInhWRUxd+5cjRo1yuwy8BCsSAEA\n",
              "AAAAmCInJ0fZ2dm6dOlSuW0uNptNN2/eNDx/27Zt6tevn/z8/HTmzBnt2bNH8+bN88itOQ8yZ84c\n",
              "jzVSVqxYoYKCAo0fP17nz5/X5cuXFRkZ6ZHsqszH7AIAAAAAAN6puLhY+fn5un79uvLy8tw///3v\n",
              "f7Vo0SLD899++23t3LlTwcHBkqTY2Nhy223M4KlNI5MmTVJaWpr7e/bx8WFbUQWxIgUAAAAAYIoe\n",
              "PXqoe/fuyszM1MCBAz2e73Q679nSU61aNY/XcbeHHYL7OK1evVq5ubn6yU9+Iun2QbNcfVwxNFIA\n",
              "AAAAAKbx9fXV3LlzTWmkBAQEqLS01N28OHDggGrUqGF47ujRo+877nK5ZLPZDM+XpBo1asjX1/ee\n",
              "fDwajRQAAAAAgKliYmL0+eef66c//alHcydOnKjExESdP39eAwYM0ObNm5WVlWV4bp06dR4496Am\n",
              "y+PWqFEj7dy5UxaLRXa7XX/84x8VHR3tkeyqjlt7AAAAAACmioiI0NGjRxUWFqbAwED3+Ldv8jFC\n",
              "UVGRNm7cKJfLpS5dulSa23uMdvHiRQ0aNEhbtmyRxWJRhw4dlJmZqWeeecbs0io9GikAAAAAAFNt\n",
              "3779vuPx8fEersT7XL9+XS6XS0899ZTZpVQZNFIAAAAAAKaz2+06c+aMR1eE5Obmavz48SosLJTD\n",
              "4XCPFxYWeqwGMxUXF6uoqKjcZ2/Xrp2JFVUNNFIAAAAAAKbatm2b+vXrJz8/P505c0Z79uzRvHnz\n",
              "9OGHHxqaGxkZqZSUFMXFxZU7eLV58+aG5lYG06dP18yZMxUWFub+7BaLRTk5OSZXVvnRSAEAAAAA\n",
              "mKpNmzbKzMxUr169lJeXJ+l2M+PQoUOG5kZHRys/P9/QjIeZNm2aJkyY8MgxIzRp0kQ5OTkKDg42\n",
              "POtJ42N2AQAAAAAA7+Z0Ou/Z0lOtWjXDc1955RXt3bvX8JwH+fjjjys0ZoT69evTRPmeuP4YAAAA\n",
              "AGCqgIAAlZaWymKxSJIOHDigGjVqGJZntVrd1/7+85//VHh4uAICAtzzRt8WtGnTJm3cuFHnz58v\n",
              "d92xzWYzNPdunTt31qhRo9SvX79ynz0qKspjNVRVNFIAAAAAAKaaOHGiEhMTde7cOQ0YMECbN29W\n",
              "VlaWYXlz58417NkVERAQoLp168rHx0d16tRxjz/33HOaOHGiR2pYvHixJGn16tXuMYvF4jUH7f4Q\n",
              "nJECAAAAADBdUVGRNm7cKJfLpS5dunjk9p4bN26oevXq7pUwZWVlunXrVrkVGkZxOp36y1/+ojff\n",
              "fNPwLDxenJECAAAAADBdvXr1FBkZqRYtWqhBgwYeyezYsaOuXr3qfn/t2jUlJCR4JNvX11dLlizx\n",
              "SNbD3Lx5U1evXnX/4NFopAAAAAAATLVlyxaFhYVp5MiRSklJUZMmTbR161bDc69fv15ua02dOnVU\n",
              "WlpqeO4dCQkJyszM9Fje3Xbv3q2mTZuqZs2aCgoKcv/g0TgjBQAAAABgqlGjRmnNmjVq3bq1JCkn\n",
              "J0fJyck6cOCAobllZWUqLS1VYGCgJOnq1atyOByGZt7t73//u2w2m5KTk1WzZk25XC5ZLBZdvnzZ\n",
              "8Ow333xTixYt0vDhw7Vjxw7Nnz/fI1uangQ0UgAAAAAApvLx8XE3USSpVatW8vX1NTy3f//+SkhI\n",
              "0PDhwyVJCxYs0KBBgwzPvSM/P99jWd9mt9vVunVrORwO1apVS++8845iY2M1ZswY02qqKmikAAAA\n",
              "AABMlZiYqEWLFrmbGEuWLFFiYqLhuWPHjlWDBg20fv16SVJKSooGDBhgeO4djRo1UnFxsQoKCtS+\n",
              "fXs5HA6VlZV5JNvf31+SFBwcrNzcXD333HO6dOmSR7KrOm7tAQAAAACYIigoSBaLRS6XSzabzf3P\n",
              "vd1uV926dT2yxcVMH330kcaMGSOLxaJTp07pq6++0rhx47RhwwbDs//85z9r4MCB2rdvn375y1/K\n",
              "brdr2rRp+v3vf294dlVHIwUAAAAAYIrTp08/dL5Ro0aG5M6ePVtjxozR7373O/fVx3ebM2eOIbnf\n",
              "1rJlS3366adKSEhQXl6eJKl58+Y6dOiQR/LvsNvtunHjhmrVquXR3KqKrT0AAAAAAFMY1Sh5lDuH\n",
              "y9atW9eU/Dt8fX0VHBxcbqxatWoeyy8uLlZRUVG5A3bbtWvnsfyqikYKAAAAAMAUVqv1vitC7sjN\n",
              "zTUk9/XXX5ckTZ482ZDnV1StWrV08eJF93ewZcsWPf300x7Jnj59umbOnKmwsDD3wb4Wi0U5OTke\n",
              "ya/K2NoDAAAAADDF9u3bHzofHx9vSO78+fMfOj9y5EhDcr9t7969GjZsmAoLCxUREaGioiKtX79e\n",
              "0dHRhmc3adJEOTk596yIwaPRSAEAAAAAeBUfHx/FxsaqefPm+va/xBaLRRkZGR6rxWazadeuXXK5\n",
              "XGrbtq3Hthu1bdtWu3bt8kjWk4atPQAAAAAAU4wZM0azZ8/Wq6++et8tPh9//LEhuenp6Vq4cKGO\n",
              "HDmioUOH6rXXXnOfm+JpNptNJSUlslgsunbtmuGNlP3790uSOnfurFGjRqlfv34KCAhwz0dFRRma\n",
              "/yRgRQoAAAAAwBRr167Vz3/+c33wwQf3nR80aJCh+cePH1dGRoY++ugjvfLKK3r77bf18ssvG5p5\n",
              "t6ysLI0YMULx8fFyuVz6/PPP9f7776tv376GZb7wwgsPnLNYLCosLDQs+0lBIwUAAAAA4LVu3bql\n",
              "ZcuWafTo0Zo4caJGjBjhseyXX35Zn3zyibu5cerUKXXt2lVHjx71WA347tjaAwAAAAAwxf79+1VQ\n",
              "UKDevXtLkpKTk3XlyhVJ0tixY9W6dWvDsvPy8pSenq5PPvlEXbp00bp169SqVSvD8u6nZs2a5VaI\n",
              "NG7cWDVr1vRoDYWFhVqzZo3Cw8PVvXt3j2ZXVaxIAQAAAACYIikpSSkpKerYsaOk2ys0xo0bp//9\n",
              "73/asmWLVqxYYUhuTEyM/Pz8NGTIECUlJalGjRrl5mvXrm1I7h1Xr16VJM2cOVO+vr76zW9+I5fL\n",
              "pYULF8rpdGrq1KmGZSckJGjWrFmKjo7WhQsXFBERodatW6uoqEhDhgzR2LFjDct+UtBIAQAAAACY\n",
              "omXLltq3b5/7vdVqVV5eniSpXbt22rFjhyG5Pj4+7td3H3LrcrlksVjkdDoNyb0732Kx3HNj0J16\n",
              "jMxv2rSpjhw5IkmaNWuWvvjiC61cuVJXrlxRfHy8+zBaPBhbewAAAAAAprh161a593evQLmzxccI\n",
              "ZWVlhj27suffvfpm165d6tatmyQpKChIfn60CCrC59G/AgAAAADA4+dwONzbXCQpLCxM0u0rge12\n",
              "u1lledTZs2eVlZWlrKwsnT9/3vA8Hx8fnTt3TqWlpdq+fbvi4+Pdc9evXzc8/0lAIwUAAAAAYIq+\n",
              "fftq8ODBstls7jGbzabk5GRDrwCuLFavXi2r1aply5Zp+fLlslqtWrt2raGZ48ePl9Vq1YsvvqgO\n",
              "HTroxz/+saTbq1MaN25saPaTgjNSAAAAAACmcDgcGjx4sFavXq3w8HBJ0okTJ9SjRw8tWrToid9q\n",
              "EhMTo2XLlpX77H369FFubq6huf/5z3908eJFRUVFuc+IuXDhghwOh55//nlDs58ENFIAAAAAAKY6\n",
              "ceKE+5BZq9Xqbiw86Vq0aKGvvvqq3Fh0dLTy8/PNKQgVwtYeAAAAAICpwsPD1bt3b/Xu3dujTRSb\n",
              "zaaUlBR1795dknT48GH961//8lh+vXr1lJaWprKyMpWVlSk9PV0hISEey8f3w4oUAAAAAIBX6tu3\n",
              "ryIiIrR06VIdPHhQ33zzjeLi4jy2IuTkyZPq37+/ezVOTEyMMjMz3YfuonJiRQoAAAAAwCsdO3ZM\n",
              "EyZMkL+/v6TbVwN7cq1BkyZNtHv3bpWUlKikpETZ2dnlDt5F5UQjBQAAAADglapVq1bu/TfffOOx\n",
              "RsrevXu1YsUKlZSUKDAwUKdPn1bPnj2VmJjokXx8fzRSAAAAAABeqUOHDpo+fbpu3LihzZs3q1ev\n",
              "XkpKSjI8d8aMGUpISNDMmTMVFxen999/X7GxsQoPD9fx48cNz8cPwxkpAAAAAACv5HA4NHPmTK1a\n",
              "tUoul0s9e/bU2LFj5evra2hu06ZNtWXLFjVs2FBHjx5VRESENm3apE6dOhmai8eDRgoAAAAAAB5k\n",
              "tVrdB8xKUrNmzXT48GETK8J34Wd2AQAAAAAAmCE1NfWesbp16youLk6xsbGG5d64cUMHDhxwn8fi\n",
              "crnKvY+KijIsGz8cK1IAAAAAAF7ptdde07Zt29S9e3dZLBatW7dObdq00cGDB5WSkqKRI0caktu4\n",
              "cWNZLJb7zlksFhUWFhqSi8eDFSkAAAAAAK905coV5efnq379+pKkixcv6te//rV2796tn/3sZ4Y1\n",
              "Uk6dOmXIc+EZ3NoDAAAAAPBK586dczdRJKl+/fq6cOGCnn76afn7+5tYGSozGikAAAAAAK8UGhqq\n",
              "qVOn6uzZszp79qxSU1PVsGFDOZ3OB269AWikAAAAAAC80gcffKBDhw4pOjpaVqtVBw8e1KJFi2S3\n",
              "27V48WKzy0MlxWGzAAAAAACv43Q6NX78eM2YMcPsUlDFsCIFAAAAAOB1fH19tXXrVrPLQBXEihQA\n",
              "AAAAgFeaMmWK/P39NWTIEAUGBrrHa9eubWJVqOxopAAAAAAAvJKPz72bNCwWi5xOpwnVoKqgkQIA\n",
              "AAAAAFBBfmYXAAAAAACAWc6ePaudO3dKkuLj4xUaGmpyRajsOGwWAAAAAOCVVq9eLavVqmXLlmn5\n",
              "8uWyWq1au3at2WWhkmNrDwAAAADAK8XExGjZsmUKDw+XJJ04cUJ9+vRRbm6uyZWhMmNFCgAAAADA\n",
              "KzmdTncTRZLCw8NVVlZmYkWoCmikAAAAAAC8Ur169ZSWlqaysjKVlZUpLS1NISEhZpeFSo6tPQAA\n",
              "AAAAr3Ty5En1799feXl5km5v9cnMzFRYWJjJlaEyo5ECAAAAAPAq+/fvL/f+6tWrkqTatWsrICBA\n",
              "zz//vAICAswoDVUAjRQAAAAAgFd54YUX3K8tFku5ObvdrmvXrmn27NlKTk72dGmoAmikAAAAAABw\n",
              "l+LiYnXs2FFHjhwxuxRUQhw2CwAAAADAXZ599lkNGzbM7DJQSbEiBQAAAAAAoIJYkQIAAAAAgKRn\n",
              "nnlGp06dUrdu3VRQUPDYnpufn6+lS5c+tufBXDRSAAAAAAC4y4YNG/TSSy/dM+5wOL7X835II+X7\n",
              "ZsI4NFIAAAAAAF5pzZo1atq0qaKiovSHP/zBPd64cWPl5+dLktq3b6+RI0cqLi5OiYmJkqRZs2ap\n",
              "VatWiomJUdeuXXX69GlJ0q1bt/TWW28pIiJCLVq0UNeuXfX1119r0qRJ2rp1q6KjozV8+HBJ0qZN\n",
              "mxQTE6OoqCjFx8fr8OHDkqRt27apefPmSk5OVnR0tFauXOnBbwQV4Wd2AQAAAAAAeNrXX3+tIUOG\n",
              "aOfOnWrWrJn+8Y9/qKSk5L6/e+zYMe3YsUP+/v7KyspSQUGBsrOz5evrqyVLlui3v/2t1q9fr/fe\n",
              "e0/Hjh3Tvn37VL16dV26dEkhISFKTU3VqlWrtGrVKnd2v379tG3bNkVGRiozM1O9evXSoUOHJElH\n",
              "jhzR3/72N6Wnp3vq68B3QCMFAAAAAOB1du/eraioKDVr1kySlJycrBEjRtz3dwcMGCB/f39J0qpV\n",
              "q7Rnzx61bNlSkuR0Ot2/t27dOs2YMUPVq1eXJIWEhNz3eV9++aUiIyMVGRkpSerfv7/eeOMNnT9/\n",
              "XpIUFham+Pj4x/ApYQQaKQAAAAAAr2exWB44FxgY6H7tcrk0btw4Q69HvjsPlQ9npAAAAAAAvE5c\n",
              "XJz279+vo0ePSpIyMjJ069atR/5dz549tWDBAl2+fFmSZLfblZeXJ0n6xS9+oXnz5unmzZuSpEuX\n",
              "LkmSateuLZvN5n5GmzZtdODAAR08eFCStHTpUoWGhio0NPTxfUAYhhUpAAAAAACvExISooyMDL36\n",
              "6quqVq2aunbtquDg4Ef+Xf/+/VVSUqIOHTpIun2rztChQ2W1WjV27Fi98847iomJkb+/vxo2bKgN\n",
              "GzaoU6dOmjVrlqKiotS2bVstWLBAmZmZGjhwoBwOh4KCgrR8+fKHropB5WFxuVwus4sAAAAAAACo\n",
              "CtjaAwAAAAAAUEE0UgAAAAAAACqIRgoAAAAAAEAF0UgBAAAAAACoIBopAAAAAAAAFUQjBQAAAAAA\n",
              "oIJopAAAAAAAAFQQjRQAAAAAAIAKopECAAAAAABQQTRSAAAAAAAAKuj/pbGkwBo4aXoAAAAASUVO\n",
              "RK5CYII=\n",
              "\">\n",
              "        \n",
              "      </div>\n",
              "      <script></script>\n",
              "      <script type=\"text/javascript\">\n",
              "        (() => {\n",
              "          const chartElement = document.getElementById(\"chart-91d2ea9f-602e-4979-a822-9e8129842182\");\n",
              "          async function getCodeForChartHandler(event) {\n",
              "            const chartCodeResponse =  await google.colab.kernel.invokeFunction(\n",
              "                'getCodeForChart', [\"chart-91d2ea9f-602e-4979-a822-9e8129842182\"], {});\n",
              "            const responseJson = chartCodeResponse.data['application/json'];\n",
              "            await google.colab.notebook.addCell(responseJson.code, 'code');\n",
              "          }\n",
              "          chartElement.onclick = getCodeForChartHandler;\n",
              "        })();\n",
              "      </script>\n",
              "      <style>\n",
              "        .colab-quickchart-chart-with-code  {\n",
              "            display: block;\n",
              "            float: left;\n",
              "            border: 1px solid transparent;\n",
              "        }\n",
              "\n",
              "        .colab-quickchart-chart-with-code:hover {\n",
              "            cursor: pointer;\n",
              "            border: 1px solid #aaa;\n",
              "        }\n",
              "      </style>"
            ]
          },
          "metadata": {}
        },
        {
          "output_type": "display_data",
          "data": {
            "text/plain": [
              "<google.colab._quickchart_helpers.SectionTitle at 0x7b1b1eca8a00>"
            ],
            "text/html": [
              "<h4 class=\"colab-quickchart-section-title\">Faceted distributions</h4>\n",
              "<style>\n",
              "  .colab-quickchart-section-title {\n",
              "      clear: both;\n",
              "  }\n",
              "</style>"
            ]
          },
          "metadata": {}
        },
        {
          "output_type": "display_data",
          "data": {
            "text/plain": [
              "import numpy as np\n",
              "from google.colab import autoviz\n",
              "df_7259095837761676408 = autoviz.get_df('df_7259095837761676408')\n",
              "\n",
              "def violin_plot(df, value_colname, facet_colname, col_width=.3, col_length=3, mpl_palette_name='Dark2', **kwargs):\n",
              "  from matplotlib import pyplot as plt\n",
              "  import seaborn as sns\n",
              "  plt.figure(figsize=(col_length, col_width * len(df[facet_colname].unique())))\n",
              "  sns.violinplot(df, x=value_colname, y=facet_colname, palette=mpl_palette_name, **kwargs)\n",
              "  sns.despine(top=True, right=True, bottom=True, left=True)\n",
              "  return autoviz.MplChart.from_current_mpl_state()\n",
              "\n",
              "chart = violin_plot(df_7259095837761676408, *['release_year', 'show_id'], **{'inner': 'stick'})\n",
              "chart"
            ],
            "text/html": [
              "      <div class=\"colab-quickchart-chart-with-code\" id=\"chart-defe22ac-6698-4c16-a7bd-10a44759e655\">\n",
              "        <img src=\"data:image/png;base64,iVBORw0KGgoAAAANSUhEUgAAASgAAACnCAYAAACilsGgAAAAOXRFWHRTb2Z0d2FyZQBNYXRwbG90\n",
              "bGliIHZlcnNpb24zLjcuMSwgaHR0cHM6Ly9tYXRwbG90bGliLm9yZy/bCgiHAAAACXBIWXMAAA9h\n",
              "AAAPYQGoP6dpAAAU/klEQVR4nO3de1CU5R4H8O8KiKCuWqJ5zYMgiusuqHA0LwhGgjHaeCyS8n7Q\n",
              "xiyb6pwjnemQx4KpTLudcbxM2eSYaEel1KwYUSs1LUXXozYpoZBQhMh1uf/OH47vsLG77BK7+8J+\n",
              "PzM7w+57eX68u/Pl2Yf3fR+NiAiIiFSoi7sLICKyhgFFRKrFgCIi1WJAEZFqMaCISLUYUESkWgwo\n",
              "IlItBhQRqRYDiohUy9vdBRCRuokIampqAADdunWDRqNxWdvsQRGRTTU1NYiOjkZ0dLQSVK7CgCIi\n",
              "1WJAEZFqMaCISLUYUESkWgwoIlItBhQRqZbLA6qyshIzZsxA37590bt3b1c3T0QdiMsDysfHB//4\n",
              "xz+QlZXl6qaJqINx6pnkJpMJixYtgtFohI+PD/r3748vvvgCMTExyMvLs2sftbW1qK2tNXvN19cX\n",
              "vr6+TqiYiNTEqT2oQ4cO4datW7h48SLOnTuHnTt3OryP9PR09OrVy+yRnp7uhGqJSG2c2oMyGAy4\n",
              "dOkSVqxYgaioKMycOdPhfaSkpODZZ581e429JyLP4NQeVGBgIC5evIi4uDh888030Ol0KC0tdWgf\n",
              "vr6+0Gq1Zg8GFJFncGpAFRQUQKPRYNasWVi3bh1EBPn5+c5skog6EacGlNFoxKRJk2AwGBAeHo75\n",
              "8+dDr9dDr9dj4sSJKC8vx+DBgzF//nxnlkFEHZSGMwsTkS0mkwnR0dEAgOzsbPj5+bmsbZ5JTkSq\n",
              "xYAiItViQBGRajGgiEi1OEhORDa5c9IEBhQRqRannSKCe3sJZB3HoIjg3qmVyDoGFBGpFgOKiFSL\n",
              "AUVEqsWAIiLVYkARkWoxoIhItVweUEajEVOnTsXIkSOh0+mwZMkSmEwmV5dBRB2AywOqW7duePfd\n",
              "d3H58mWcO3cOVVVVePXVV11dBhF1AG6ZduoOLy8vRERE4MKFC1b3wWmniDyXW6edqqqqwtatWzF7\n",
              "9myr++C0U0Sey6kXC+fm5mLatGlISEhQpp3q2bMnAKCurg5z5sxBYGAg3n77bav7YA+KXMGdt7Ul\n",
              "69wy7VR9fT0SExMxYMAAvPXWWzb3wWmniDyXW6adevTRR3HXXXdh8+bNvGqciKyye5B88eLFNsPk\n",
              "vffea/Ga0WhESkoKRAQNDQ2YP38+jEYj9uzZA71ej/DwcADApEmT8J///KcN5RNRZ2Z3QI0fPx7A\n",
              "7dA5duwYkpKSoNFo8NFHH2HKlCkWt4mPj0d8fHyL1x977LE2lktEnsTugHryyScBAFOnTsXJkyeh\n",
              "1WoBAE899RQSEhKcUx0ReTSHx6CKi4uVcAIArVaL4uLidi2KiAhow4maBoMBixYtwtKlSwEA77//\n",
              "PgwGQ7sXRkTkcA9q69atCAgIwDPPPINnnnkGAQEB2Lp1qzNqIyIPx1ldiMBJE9TK7oD66KOPMG/e\n",
              "PKtnfT/99NPtWhgRkd1jUJcvXwYAnD17tsUy/rVxPv6FJ0/U7l/xdu/ejYcffrg9d0ngtWLkmdr9\n",
              "UhfeaYCI2ku7BxTH3ImovbR7QHFshIjaCydNICLV4lc8IlIthwOqoKDA5vK0tLQ2F0NE1JzD1+JF\n",
              "RUXBx8cH06dPx/Tp0xETE4PevXsryy3dXqW5n376CXPnzkVjYyMaGhowatQobN68GX369HG4eCLq\n",
              "3BzuQV29ehUHDx6EwWDAzp07ERISgsjISLu3HzhwIL7++mvk5OTgwoULGDhwIF566SVHyyAiD9Cm\n",
              "aafq6uqUyQy0Wi2Cg4MtrtfatFONjY2oqqpCjx49rLbFSROIPJfDATV48GAMGTIEjzzyCF5++WWM\n",
              "GTPG6rrNp50CgJs3bwK4HXCRkZG4du0a9Ho9PvnkE6v7SE9Px5o1a8xeS01NZa+LyAM4/BUvKSkJ\n",
              "DQ0N2LVrFzIyMnDkyBHU19dbXNdgMODSpUtYsWIFMjIy4OPjAwDo2rUrcnJy8Msvv2DkyJHYtGmT\n",
              "1fZSUlJQVlZm9khJSXG0bCLqgNp8LV5JSQkyMzOxdu1aFBcXo7Ky0uJ6lZWVOHz4MLKyspCZmYmc\n",
              "nByzAfGTJ08iOTkZRqOxbb+Bh+C1eOSJHP6Kd/LkSWRlZSErKwtGoxETJkzA/fffb3HdgoIC9OnT\n",
              "B7NmzUJcXBz27duH8+fPIyIiAv7+/mhqasLu3buh1+v/8C9CRJ2PwwH13HPP4f7778fatWsxceJE\n",
              "eHtb34WlaafKy8sxYcIEAEBTUxPGjh1rc2ZhIvJcbf6Kd2czXnvnGvyKR57I4UHywsJCzJw5E35+\n",
              "fvD390dCQgIKCwudURsReTiHA2rZsmWYPHkyioqKUFhYiMmTJ2PZsmXOqI2IPJzDY1D5+fn49NNP\n",
              "leerV69GWFhYe9ZERASgDT0oEUFRUZHyvKioiHcwICKncLgH9fzzzyM8PFy5KPjQoUN4/fXX270w\n",
              "MtetWzdkZ2crPxN5gjb9F+/ChQs4cuQIACA6OhqjR49u77qIiDhxpy2c6onIvRz+infmzBm88MIL\n",
              "yM3NRUNDg/J6bm5uuxamBjU1NTz3iMiNHA6ohQsXYuXKlZg4cSK8vLycURMREYA2BJSXlxeWL1/u\n",
              "jFqIiMw4fJrBpEmT8N133zmjFiIiM3b3oMLDw6HRaFBfX48tW7YgKCjI7N/dZ86ccUqBROS57A6o\n",
              "N998s8VrpaWlKCgosHlXTSKitrI7oKKiogAAcXFx2LlzJ7y9vaHT6QAACxYsUJYTEbUXh8egfvnl\n",
              "F/Tu3RsHDx7E7Nmz8eOPP2Lv3r1tanzRokXQaDS4detWm7Ynos7N4YC6c//xY8eOITY2Fj4+Pm06\n",
              "3WDPnj3KPcqJiCxxOKB0Oh3i4+Oxf/9+xMTEoLq62uoZ1iaTCYmJiQgNDYXBYMADDzwA4HYvLC0t\n",
              "DevXr2+1vdraWpSXl5s9fj8NFRF1Tg4H1LZt27B8+XJkZ2fD398fpaWlSE9Pt7hu82mnzp07h507\n",
              "dwIAkpOT8dprr6Fnz56ttpeeno5evXqZPay1R0Sdi1OvxcvNzcW0adOQkJCAqKgozJw5ExkZGcjJ\n",
              "ycG77757uwCNBqWlpWbTpzfnzok7eZtdIvdyuAfliMDAQFy8eBFxcXH45ptvoNPpsHfvXmRmZmLY\n",
              "sGEYNmwYAECv1+Ps2bMW9+Hr6wutVmv24KzCRJ7BqT2oO9NOde/eHXV1dQgKCsL+/fvNpplqrQfl\n",
              "TuxBEbmXw9fiOcLStFOcA4+I7OXUgIqPj1fuvGkNb0dFRNY4dQyKiOiPYEARkWoxoIhItRhQRKRa\n",
              "DCgiUi3O6mIDZ3Uhcq9OGVAMFqLOoVN+xbszXVR0dLQSVETU8XTKgCKizoEBRUSqxYAiItViQBGR\n",
              "ajGgiEi1GFBEpFouD6i8vDx4eXkhLCxMeVy9etXVZRBRB+DU+0FZ07NnT+Tk5LijaSLqQJwaUCaT\n",
              "CYsWLYLRaISPjw/69++PzZs3O7QPd06aQETu5dSveNamnaqqqkJERATGjh2Lf//732hsbLS6D047\n",
              "ReS5XD7tVNeuXVFWVoZ+/frh5s2bSExMRGxsLP7+979b3EdbelCc7ICoc3D5tFPV1dXo168fAOCu\n",
              "u+7CkiVL8NVXX1ndB6edIvJcTg2ogoICaDQazJo1C+vWrYOIwGg0or6+HsDt3tGePXsQHh7uzDKI\n",
              "qINy+bRTv/32G8LDw+Hl5YWGhgbExMTgn//8pzPLIKIOqlPeD4pjUESdA88kJyLVYkARkWoxoIhI\n",
              "tRhQRKRaDCgiUq1O+V88zupC1Dl02B5UbW0tXnrppRaXwQCARqOBn58f/Pz8VBNOtupVI9brXKzX\n",
              "Ph22B1VeXo5evXqhrKwMWq3W3eW0ivU6F+t1LnfV22F7UETU+TGgiEi1GFBEpFodNqB8fX2Rmpra\n",
              "YW69wnqdi/U6l7vq7bCD5ETU+XXYHhQRdX4MKCJSLQYUEamWywOqpqYGDz30EEaMGAGDwYDY2Fhc\n",
              "uXIFAPDrr78iLi4OwcHB0Ol0OHbsmLKdrWV//vOflUlAdTodNBoNzp8/b7F9jUaDMWPGKOvbuh/6\n",
              "H6k3LS0NISEh6NKlC/bt22e2T1vb/d7+/fsxcuRIBAcHY86cOSgvL3d5vYsXL1b2N2nSJJw+fdpq\n",
              "+2o4vtOmTcOf/vQnpYYNGzZYbV8Nx1eNn19b73l1dTXmzZuHoKAgjBgxAh9//LHV9r/99lsYDAaM\n",
              "GDECMTEx+Pnnn23W24K4mMlkkgMHDkhTU5OIiLzzzjsSFRUlIiKLFy+W1NRUERE5deqUDBo0SOrq\n",
              "6lpd1tzu3btFp9NZbR+AlJaWOr3eb7/9Vq5evSpRUVGyd+9es33a+7tUVFRIv3795NKlSyIi8uST\n",
              "T8rzzz/v8nozMzOlvr5eREQ+/fRTuffee622r4bja+k1S9RyfJtTy+fX1nu+Zs0aWbhwoYiI5Obm\n",
              "SkBAgPz2228t2m5sbJThw4fL4cOHRUTk9ddfl7lz59pdu4iIywPq906fPq388t27d5fCwkJlWURE\n",
              "hHz55ZetLmsuLi5ONmzYYLU9R9/gttZ7h6UPpL2/y65du2TGjBnK8//9738yaNAgl9fbXHFxsXh7\n",
              "eysf3t9Tw/G1N6DUeHzV9vkVafmeh4aGyokTJ5TlDz/8sGzZsqXFdqdOnZKQkBDleXl5ufj6+orJ\n",
              "ZLK7XrePQb311luYPXs2SkpKUF9fj3vuuUdZNmzYMFy/ft3msuby8/Nx9OhRPP744zbbnD59OgwG\n",
              "A5599llUVVW1e722OLLd9evXce+995qtV1hYiIaGBpfVa2l/M2fOhLe39fk23Hl871i9ejXGjBmD\n",
              "xMRE5ObmWlxHbcdXrZ/f37/nlo6bPZ/fnj17QqvV4saNG3bX69aASktLw5UrV9ptpuBt27YhISEB\n",
              "ffv2tbrOtWvX8P333+P48eMoLi7G3/72N7v33971Olt717t9+3bs2rXL5vT1aji+H374IS5fvozz\n",
              "589jypQpSEhI+EP7s8YTPr/2vOfO5LaAWrduHfbs2YPPPvsM/v7+uPvuu+Ht7Y2ioiJlnby8PAwd\n",
              "OtTmsjtEBO+//z6WLl1qs90723Tv3h0rVqxodZCxLfXa4sh2Q4cOxbVr18zWGzBggM3eS3vXe0dG\n",
              "RgbWrFmDL7/8Ev3797e6nruPLwAMGTIEwO0B5ZUrVyI3NxclJSUWa1XL8VXj59fae27puNnz+a2o\n",
              "qEBZWRkGDhxoV80AXD9ILiLyxhtvyNixY+XmzZtmry9cuNBs0G7gwIHKoJ2tZSIiWVlZMmTIEGls\n",
              "bLTa7s2bN6WqqkpEbg/grVq1SubPn++Ueu+wNOZgz3Yit7+zBwQEmA3iPvfccy6vNyMjQ4KCgiQv\n",
              "L89mu2o4vvX19VJUVKQ8//jjj2Xo0KEW21XL8RVR3+fX1nuempraYpC8uLi4xXqNjY0SGBhoNkj+\n",
              "l7/8pdV6m3N5QOXn5wsACQwMFIPBIAaDQSIjI0VEpKioSGJjYyUoKEhCQ0OVX6y1ZSIi8+bNk3/9\n",
              "618t2tu4caO8+OKLIiJy/PhxGTNmjOj1egkNDZXHH39cSkpKnFLv2rVrZdCgQdK1a1e5++67ZdCg\n",
              "QfLrr7+2ut2LL74oGzduVJ5nZmZKSEiIDB8+XGbPni23bt1yeb3e3t4yePBgZX8Gg0H5r43ajm9l\n",
              "ZaWMGzdOdDqd6PV6iYmJkZycHFUfXxH1fX5tveeVlZXyyCOPSGBgoAQHB0tGRobFepvXHBwcLFFR\n",
              "UXL9+nWb9f4er8UjItVy+3/xiIisYUARkWoxoIhItRhQRKRaDChq1bRp01pc4ErkCgwocujSjs6O\n",
              "x0JdGFAeSqPRIDU1FREREUhJSUFFRQWSk5MRGRkJvV6PZcuWoa6ursV2ttZbv349IiIiEBYWhoiI\n",
              "CJw4cQIA0NTUhJUrV2LUqFEwGAwYN26cMvPz559/jsmTJ2PcuHGIjIxEdna21Zpv3LiB/v37o7q6\n",
              "WnktKSkJGzduBACcPn0aMTExGD9+PMLDw7F7924At0NnxowZGD9+PEaPHo2kpCTlGrYjR45g9OjR\n",
              "WLp0KcLCwrB37952OLrUbhw6a4o6DQCyZs0a5XlycrJ88MEHIiLS1NQkS5culddee01EzM9+trVe\n",
              "8xMPT5w4oVzJfubMGRk5cqRylvStW7eksbFRrl69KhMmTJCysjIREfnxxx/lnnvukZqaGqt1JyUl\n",
              "yaZNm0Tk9omGAQEBUlFRIaWlpRIWFiY3btwQkdtX4A8ZMkQKCgqkqalJOcmwqalJnnjiCUlPTxcR\n",
              "kezsbNFoNHLkyJG2HkpyotYvOqJOa8mSJcrP+/btw4kTJ7B+/XoAgMlkgpeXV4ttbK139uxZvPLK\n",
              "KygpKYG3tzd++OEHmEwmBAYGoqGhAUuWLEF0dDQefPBBdOnSBYcOHcKVK1cwdepUZf9dunTB9evX\n",
              "ERwcbLHmVatWITk5GcuWLcOWLVswb9489OjRAwcPHkRubi7i4+PN1v/hhx8wYMAAbNiwAQcOHEBD\n",
              "QwPKyspw3333KesEBgYiKiqqjUeRnIkB5cF69Oih/Cwi+O9//4sRI0bY3MbaenV1dZgzZw6ys7MR\n",
              "ERGhTJVdW1uL3r1748KFCzh69Ciys7ORkpKCY8eOQUQQGxuLHTt22F1zZGQk/P39kZ2djc2bNyMr\n",
              "K0upa/To0Th+/HiLbbZv347Dhw/j6NGj0Gq1ePvtt3H48GGLx4HUhWNQBAB46KGH8OqrryqDxKWl\n",
              "pcqtYe1Zr6amBnV1dcpV7e+8846yTXFxMaqqqvDAAw8gLS0Nw4YNw8WLFzFjxgxkZWWZ3d721KlT\n",
              "rda6atUqLFiwAKNGjVKC8r777sNPP/2kBBYA5OTkoK6uDqWlpejbty+0Wi0qKiqwbds2xw8QuQUD\n",
              "igAAGzZsgJ+fH8LCwqDX6zF9+nTk5eXZvZ5Wq8XLL7+MyMhIjBs3Dl27dlW2yc/PR2xsLPR6PXQ6\n",
              "HXQ6HeLj4xEUFIQdO3Zg+fLlMBgMGDVqFN58881Wa507dy4qKyuxcuVK5bU+ffrgwIEDSEtLg8Fg\n",
              "QGhoKFavXo2mpiYsWLAA1dXVCAkJQXx8PKZMmdIeh4xcgBcLU4fz3XffISkpCZcvX0aXLvwb25lx\n",
              "DIo6lL/+9a/44osvsHXrVoaTB2APilTn4MGDeOGFF1q8npKSgsTERDdURO7CgCIi1WIfmYhUiwFF\n",
              "RKrFgCIi1WJAEZFqMaCISLUYUESkWgwoIlKt/wP9RTMBn+PwfgAAAABJRU5ErkJggg==\n",
              "\">\n",
              "        \n",
              "      </div>\n",
              "      <script></script>\n",
              "      <script type=\"text/javascript\">\n",
              "        (() => {\n",
              "          const chartElement = document.getElementById(\"chart-defe22ac-6698-4c16-a7bd-10a44759e655\");\n",
              "          async function getCodeForChartHandler(event) {\n",
              "            const chartCodeResponse =  await google.colab.kernel.invokeFunction(\n",
              "                'getCodeForChart', [\"chart-defe22ac-6698-4c16-a7bd-10a44759e655\"], {});\n",
              "            const responseJson = chartCodeResponse.data['application/json'];\n",
              "            await google.colab.notebook.addCell(responseJson.code, 'code');\n",
              "          }\n",
              "          chartElement.onclick = getCodeForChartHandler;\n",
              "        })();\n",
              "      </script>\n",
              "      <style>\n",
              "        .colab-quickchart-chart-with-code  {\n",
              "            display: block;\n",
              "            float: left;\n",
              "            border: 1px solid transparent;\n",
              "        }\n",
              "\n",
              "        .colab-quickchart-chart-with-code:hover {\n",
              "            cursor: pointer;\n",
              "            border: 1px solid #aaa;\n",
              "        }\n",
              "      </style>"
            ]
          },
          "metadata": {}
        },
        {
          "output_type": "display_data",
          "data": {
            "text/plain": [
              "import numpy as np\n",
              "from google.colab import autoviz\n",
              "df_4329126952889734821 = autoviz.get_df('df_4329126952889734821')\n",
              "\n",
              "def violin_plot(df, value_colname, facet_colname, col_width=.3, col_length=3, mpl_palette_name='Dark2', **kwargs):\n",
              "  from matplotlib import pyplot as plt\n",
              "  import seaborn as sns\n",
              "  plt.figure(figsize=(col_length, col_width * len(df[facet_colname].unique())))\n",
              "  sns.violinplot(df, x=value_colname, y=facet_colname, palette=mpl_palette_name, **kwargs)\n",
              "  sns.despine(top=True, right=True, bottom=True, left=True)\n",
              "  return autoviz.MplChart.from_current_mpl_state()\n",
              "\n",
              "chart = violin_plot(df_4329126952889734821, *['release_year', 'type'], **{'inner': 'stick'})\n",
              "chart"
            ],
            "text/html": [
              "      <div class=\"colab-quickchart-chart-with-code\" id=\"chart-f4b6588f-dc7c-49c3-a1c0-f82d97310a18\">\n",
              "        <img src=\"data:image/png;base64,iVBORw0KGgoAAAANSUhEUgAAAUEAAABiCAYAAADOQWEdAAAAOXRFWHRTb2Z0d2FyZQBNYXRwbG90\n",
              "bGliIHZlcnNpb24zLjcuMSwgaHR0cHM6Ly9tYXRwbG90bGliLm9yZy/bCgiHAAAACXBIWXMAAA9h\n",
              "AAAPYQGoP6dpAAAalElEQVR4nO3deXAT5/kH8O/uypIt25J8pxwGuwabI7aMDyjQggETSJuUBAjF\n",
              "TQlHoO2Ua6YzDc6kNUxT3KQFh6YkDaSBEpcpgZCEBmjKYUKmkAIFhiH5QQK+sWyDMbJsWZJ39/39\n",
              "IWsj+cISPtHzmdnRsYffVxIP7+77vO9yjDEGQgjxU3x/F4AQQvoTBUFCiF+jIEgI8WsUBAkhfo2C\n",
              "ICHEr1EQJIT4NQqChBC/RkGQEOLXKAgSQvyaqr8LQAjxD4wx2Gw2AEBgYCA4juvnEjlRS5AQ0ids\n",
              "NhuysrKQlZWlBMOBgIIgIcSvURAkhPg1CoKEEL9GQZAQ4tcoCBJC/BoFQUKIX+uVIGg0GmE0GjF2\n",
              "7FgIgqC8XrRoEcLDw3H16lWP7WtraxEcHIyampp2x/rLX/6C5ORkGI1GJCUl4cc//rGyjuM43Lt3\n",
              "rzeqQAjxE72SLH358mUAQGlpKYxGo/IaANasWYNdu3Zhy5Ytynt79uzB7NmzERMT43GcCxcu4NVX\n",
              "X8WFCxcQHh4OxhguXbrUG0UmhPipPj8dXrFiBQoLC9HS0qK8t2vXLqxYsaLdtpWVlQgNDUVoaCgA\n",
              "Z8tvwoQJHtu88cYbyMzMRFxcHHbt2qW8f+HCBUyePBnJycnIzMzEf/7zHwDAiy++iM2bNwMAjhw5\n",
              "Ao7j8NVXXwEAli9fjj179nRYbrvdjoaGBo/Fbrc/wCdBCBkI+jwIGo1GDBs2DIcPHwYAfP7557h3\n",
              "7x7mzp3bbtvZs2cjNDQUsbGxWLRoEf785z+jvr7eYxuNRoNz587h6NGjWLt2LURRhMPhwNNPP428\n",
              "vDxcuXIFW7duxfz589HY2IhZs2bh+PHjAIBjx47hO9/5jvL6+PHjmDVrVoflzs/Ph16v91jy8/N7\n",
              "8qMhhPQH1otKSkqYXq9v9/727dvZE088wRhjbOXKlSw3N7fTY8iyzC5evMi2bdvGsrKy2LBhw1hd\n",
              "XR1jjDEAzGQyKdsaDAZWUVHBrly5wkaMGOFxnOTkZPbZZ58xm83GwsLCmNVqZampqezEiRPsqaee\n",
              "YteuXWNJSUmdlsNmszGz2eyx2Gw2Lz4NQvyb1WplEydOZBMnTmRWq7W/i6PwuiVoMplw6tQpAFBa\n",
              "Xd7KycnBqVOnUFxcjPfeew/Lly/vdFuO45Camoq1a9fixIkTCAkJUf4+4ByI7SIIAkRR7PQ4gLPl\n",
              "mJ6ejv379yMoKAjTp0/HlStX8Mknn2DmzJmdlkOj0UCn03ksGo3Gy5oTQgYar4LggQMHMGnSJCxd\n",
              "uhQA8MUXX2DevHle/1GDwYAnn3wSixYtgtFoREJCQofbXbt2DVeuXFFeV1RU4Pbt24iPj+/y+ImJ\n",
              "iZBlGceOHQMAnDlzBtXV1TAajQCAWbNm4Te/+Q1mzpwJnueRmpqKrVu3dnoqTAh5eHkVBPPz83Hx\n",
              "4kWEhYUBAFJSUlBWVubTH16xYgUuXLjQYYeIi9VqxZo1a5CYmAij0YgnnngCv//975Vg1hm1Wo2D\n",
              "Bw8iLy8PycnJWL9+PQ4cOICQkBAAziBYVlamBL3s7GxUVFRg+vTpPtWFEDJ4cYwx1t2NMzMzce7c\n",
              "OaSmpiqpKu7PCSGkM83NzcjKygIAFBUVISgoqJ9L5ORVSzA0NBQ1NTXK9bUTJ04gPDy8VwpGCCF9\n",
              "watk6VdeeQVz585FcXExpk6dipKSEiXVhRBCBiOvgmB6ejqKiopw5swZMMYwefJkGAyGXioaIYT0\n",
              "Pq9TZMxmM+rq6lBfXw+LxdIbZSKEkD7jVRDcu3cvUlNTcfDgQRw4cAATJkzAP/7xj94qGyGE9Dqv\n",
              "eoeTkpJw9OhRxMXFAXBOkDBnzhxcu3at1wpICHk4sAF6tzmvrglqtVolAALAyJEjodVqe7xQhJCH\n",
              "D8dxAyYtxp1XLcFf//rXEAQBzz//PBhj2LVrFyRJwi9/+UsAgE6n67WCkocDYwx2ux0WiwVNTU1o\n",
              "bm6G1WpFc3MzJEmCKIqQZRmunyXHcRAEASqVCgEBAdBoNAgMDERQUBC0Wi2Cg4Oh1WrB8zQ/MPGN\n",
              "V0Gwqx8ax3GQJKlHCkUGJ4vFApPJBJPJhOrqatTV1eHOnTu4e/cu7t69i/r6epjNZp/Gm3eF4ziE\n",
              "hoZCp9NBr9fDYDB4LFFRUYiMjERERASioqIQHBw8YE7FSP/zKggSYjabUVpaioqKClRUVKCyshIV\n",
              "FRUwmUxeZQtwYNDwDBpBRgDHcMcRgGGBDqh4Bp4DXCGKAZAZIDEOEgNaGAeHzMEh83DIHCTmfTAL\n",
              "DAxEZGQkoqKilKWj12q12utjk8HHqyD41ltvYcmSJQPyvJ70HMYYamtrUVJSoiylpaUoKyuD2Wzu\n",
              "ct9gQYI+QEKVTY2JYY0wqGWEqiSEqGSEqGRoBRlBggwNz+BqjEkMeOmLIXh5XBUEL2IaY4DIAJvE\n",
              "o1niYW1dmkQeTRKPhhYeZ++GIE5rR6PEw9IiwCZ3/7RZr9cjMjJSaUW6HsPDw5UlLCwMOp2OTscH\n",
              "Ma86Rk6fPo28vDwsXrwYv/jFLzqd/YUMDq5gV1xcjOLiYpSWlqK4uBglJSWwWq2d7mcIEBGplhCh\n",
              "ERGpFhGuFhGhlhCmlqDmmRLUnhjS4FVQ8xbHAQEcEMDLCA2Q262XGHD2bghWxNUp5XDIHCwtPBpE\n",
              "AQ3Ko6C8NrcIsIgCRMbBbDbDbDbj5s2bXZaD5/l2E+7q9XrodDqEhoYiJCREeQwODkZISAhCQkKg\n",
              "1Wqh1WqhUvXKXS5IN3n16f/9739HTU0Ndu7ciZkzZ2Ls2LFYs2YNHn/88d4qH+kBoijCZDKhrKwM\n",
              "paWlHq27zoIdD4ZIjYhojYio1sdoTQsiNc5AN1ipeYYIjYQITefXrxkDrBIHS2uAtIh863MejaKA\n",
              "RpFHY+t7NpmHLMuor69vN+t5d2k0GiUgBgUFKZ0+7o+dPQ8MDFSCq2vRaDR0zdMLXv8XFBMTg5de\n",
              "eglTp07FkiVL8OyzzyI6Ohrbt2/vclJS0rtkWcadO3dQWVmJyspKlJeXo6KiAuXl5aisrPS4p4s7\n",
              "92AXoxERE9iCaI2ICLUIlZ+e4XEcEKxiCFaJeCSw40l6XSQG5fTbKn5zSm4VeTTLPJpFzvko8bBJ\n",
              "HGwyD7vEwS7zEFuvZ9rtdtjtdp+DaFuCIHi0OF0t0eDgYOWePa5WqmuCYFfLNSQkxO9apl7V1maz\n",
              "obCwENu3b4dWq8Uf/vAHLFiwAJcuXcKCBQtQWlraYwUbOXIkrFYrbt26hYCAAADO6XdmzJiBdevW\n",
              "4bXXXvPpuEajEZ999ply86bBwuFw4M6dO6itrUVtbS2qq6tRXV0Nk8mEqqoqmEymLntdVRxDlEZE\n",
              "lKaltVUn+n2w6wkCB+gCZOg6OB2/H1EG7K2dPHaZcy4SjxbGtQZKDi2yM2A6Wte7dwrZJA63bGqE\n",
              "ChIcrR1GDM4sDdfNwHzh3tPu3uPu/lqn08FgMCivg4KCBm3r06sgGBwcjJycHOzYsQMZGRkAgDt3\n",
              "7iA9PR3Z2dk9XrjY2FgcOnQI8+fPBwD89a9/RXp6+gMd0/32n/3FlSvX2NgIi8UCs9mMhoYGmM1m\n",
              "3Lt3Tzm1qqurU5bu3F+ZB0OYWkKEWkS4WkJU6zW7KI0IfYAEfnD+Rh9aKh5Q8QzB8C21zHXt9YWk\n",
              "Ggicsxe9ReZgkznYJF55tMtca0uUR7PkfN6sdCZxSqeSvbXTyGKxwGKx4NatW92vi0qltCrdW5qu\n",
              "564WqeuU3fXclesZFBTUb51LXgXBhIQEvPvuux7vzZ49GxcvXsTOnTt7tGAAsGzZMrzzzjuYP38+\n",
              "zGYzPv/8cyxevBgWiwWSJGHDhg04evQoACArKwtbtmxBTU0N0tLSUFlZqaQ4LF26FKmpqVi3bh04\n",
              "jkN9fT0MBgO+/vprrF+/HrW1tbDb7Vi1ahVWr17dYVlcpyzuNBpNt+4z8tFHH+H9999HU1MTmpqa\n",
              "0NjY2Om9ULoicAx6lbP31aCWYAiQEBYgIaw16OkDpF7tiCADG88BGoFBIzDofWiZSgzf9LKLzgBp\n",
              "9XjdwXOJh8Q4iKKo5IP6ypUE7764kuNd/9bUajVCQ0PxzDPPIDo62ue/5a5bQdDhcMBmsyEwMBAW\n",
              "i0XJ5jebzWhqauqRgnRkypQpeOONN1BVVYVDhw5h4cKFEAQBALBjxw6cP38e//vf/yAIAp588kkU\n",
              "FBTghRdegNFoxKFDh7BgwQI0Njbi0KFDHjd7BwBJkrB48WIUFhYiKSkJVqsVkyZNwsSJE5VWrrv8\n",
              "/Hxs2rTJ4728vDxs3LjxvvUoLCxERUVFh+s4MIQFSNCqZAQLMrStqSQhgoRglYxQlYzQAAk6lQSt\n",
              "8E1aCSE9TeCgpDKhm/cQY625m1bRGTDdW5nNbVqg7q1Tq+TsWHJns9lgs9m6dW2UMYY1a9b4Us12\n",
              "utX+zM/Ph8FgwNWrVz0y8h999FE8++yzPVKQzvzkJz/B7t278c4773jcle748eNYunQpNBoNVCoV\n",
              "Vq5cqdxYadmyZcqN2Pfv348ZM2YgIiLC47jXr1/HF198gR/96EcwGo2YPHkyLBYLvvzyyw7LkZub\n",
              "q6RMuJbc3Nxu1cEVuDvCwKG+RcBdxzdLnV1AnUOFuw4V6hxC66MKDSIPafB2zJKHTIsMNIi8x+/V\n",
              "9Vutcwios3v+hu+6PbYNgN7qyUT2brUE8/LykJeXh5///Od48803e+yPd8eSJUswYcIEjB49GqNG\n",
              "jep0O/eLsk899RTWrl0Lk8mE3bt341e/+lW77RljCA8P7/Y1wu6e+nZkzZo1+Pjjj5XTYdfS0NAA\n",
              "u90OBg5WSYBVEoD7jCjjwBCqkhGmlmAIEFtPh51LeIAIg5pOiYl3pNaEc+X01+101/30uKnN6bDo\n",
              "w2idtlzpQW1TgNqeCgcGBkKtViu3vu3JPgivrgn2dQAEgCFDhiA/Px9JSUke78+aNQt79uxBTk4O\n",
              "eJ7H22+/jdmzZwNwXltYuHAhNm7ciJs3b2LOnDntjpuYmAidToddu3Zh2bJlAIAbN24oIwF60pQp\n",
              "UzBlypQO1zkcDqVTxL1jxDXW1jX+1rVIkuRM7BUFlKH9/4bunSORbh0jURoROpVMp9MPIVEGbMzZ\n",
              "AeKehmOTW9NyJB42uW2nyDfPvRlF05YgCEoPsXuvsqtTxLW4p+u4d5AMhHSc/i9BN7iClLtVq1bh\n",
              "5s2bmDBhAgBg+vTpWL9+vcc+mZmZeOGFFzo8HVWpVPj444+xfv16FBQUQJIkREZGYu/evb1Wj46o\n",
              "1WplaNb9SJKE+vp61NTUoKamRpmswGQy4datW6iqqoLD4Wg9HVHhq8Y2f4uXlcTnmNbk52iNiDA1\n",
              "9Rz3FfceXLvklhrTGrgcrWkwrrQY96VtqoxNcgavjf83pEfKFhwc7JEG0/Z5R4tWqx20qTEuNIHC\n",
              "Q8SVMO2a3KC8vFxZbt261eksPyqOKQExJtAZHGMeIDh6OxbY17HD/XVcwNkhYJM5NIo8mkQBTa1j\n",
              "lt1PF12tLVcrzJWuwtA7QSMoKMhj5EhHCdPuaStt01kGQqusP/hnrR9SPM8jOjoa0dHRSEtL81jX\n",
              "0tKCyspKZbicaykrK4PdbkeVTY0qmxpwmx/BlWAdrWlRWpBRrQnWAQ9pgrXEgEaRV8YTu8YZW0Tn\n",
              "BAwW0Tl0rqk1NcRXrlEd7nly7tfGtFotAgMDlUfXNu7D5tznUwwKCuqyA450joKgnwgICEBcXJzH\n",
              "zOCA8xS7qqoKJSUlykQKJSUlKCsrg8PhgMkWAJMtwGMfDgyGAAmRGufECRGtkyiEq515i6oBOLa4\n",
              "7XjghtagZnZNpNAa9BpF3quWWkhICAwGgzKbjPvICveE4baTKND43oGDTodJh9yDY9uW4/1yQwN5\n",
              "GTaZx6hgGwxq5zRaoSpn3mNw61RaQQKDhpehEZw/P29Pnx0y53bx33m62XYqLUuLgOuNgdCrRDRK\n",
              "QrdbboIgeEzC6nrumk7LfRotmnNw8KMgSLzCGMPdu3c9Jme4deuW0jHjy3hVDgwMHLS8BBUP8Nw3\n",
              "P0nnpKocZAaIzDmWVn6Aa2o6na7TSVSjo6MRFRWFsLAwmh/Qj1AQJD2qqalJmV7fNbW++/jne/fu\n",
              "KWOm2w5D9JZKpVIu+rtOPfV6PcLCwpRH9+n1w8PDqeVG2qEgSPqNKIpoamqCzWZDU1MTGGPKjZZk\n",
              "2Tn2VRAE8DyPgIAACIKgJM9qtVpldiFCHgS1+R8ydrsdGzdufOBWVl9QqVTQ6/WIiYlBfHw8vv3t\n",
              "byMxMRFjxozBuHHjMG7cOCQlJWH06NGIi4tDbGws9Ho9CgoKlCD5sBlM358vBmL9qCX4kGloaIBe\n",
              "r4fZbH4ob4FK9RvcBmL9qCVICPFrFAQJIX6NgiAhxK9REHzIaDQa5OXl+Tzt10BH9RvcBmL9qGOE\n",
              "EOLXqCVICPFrFAQJIX6NgiAhxK9REBzAbDYb5s2bh9GjRyMlJQXZ2dm4ceMGAKC2thZz5szBqFGj\n",
              "MH78eJw+fVrZr6t106dPR1xcHIxGI4xGIwoKCvq8Xu58rePmzZuRmJgInufx4Ycfehyzq/36Wm/U\n",
              "byB9h77Wb9myZco+U6ZMwfnz55V1VqsVixcvRkJCAkaPHo0DBw70biUYGbCam5vZ4cOHmSzLjDHG\n",
              "Xn/9dTZt2jTGGGPLli1jeXl5jDHGzp07x4YOHcocDsd9102bNo198MEHfVmNLvlax//+97/s5s2b\n",
              "Hdanq/36Wm/UbyB9h77W76OPPmItLS2MMcb++c9/shEjRijH3LRpE3vuuecYY4wVFxezqKgodufO\n",
              "nV6rAwXBQeT8+fPKjyU4OJiZTCZlXUZGBjt27Nh91w2kf0Ad6W4dXTqqT3f26y89Ub+B/B16Wz/G\n",
              "GLt9+zZTqVRKUBw7diw7e/assn7hwoVs586dvVZmOh0eRLZt24Yf/vCHqKurQ0tLCx555BFl3ciR\n",
              "I1FeXt7lOpcNGzbg0UcfxaJFi1BcXNyndbif7tSxK77u11cetH4uA/U79KV+27Ztw+OPP67c46S8\n",
              "vBwjRoy47349habXHyQ2b96MGzdu4MSJE2hubvb5OO+++y6GDx8Oxhi2b9+OH/zgB53ecL6v9VQd\n",
              "B6qH/Tv0pX6FhYV47733+vW6LbUEB4E//vGPOHjwII4ePQqtVouIiAioVCpUV1cr25SWliI2NrbL\n",
              "dQAwfPhwAM6b1a9evRrFxcWoq6vr2wp1wJs6dsXX/XpbT9UPGJjfoS/127dvHzZt2oRjx44hJiZG\n",
              "eT82NhZlZWWd7tfjeu1Em/SILVu2sAkTJrC7d+96vP/cc895XHQeMmSIctG5s3UtLS2surpaOcaB\n",
              "AwdYbGxsn9SjK77U0aWj62Pd2a8v9WT9BuJ36Ev99u3bxxISElhpaWm74+Xl5bXrGLl9+3avlZ+C\n",
              "4ABWUVHBALD4+HiWkpLCUlJSWGZmJmOMserqapadnc0SEhLY2LFj2cmTJ5X9OlvX2NjI0tLS2Pjx\n",
              "41lycjKbMWMGu3z5cr/UzcXXOv72t79lQ4cOZWq1mkVERLChQ4ey2tra++7X13q6fgPtO/S1fiqV\n",
              "ig0bNkzZJyUlRekBbmxsZM888wyLj49no0aNYvv27evVOtDYYUKIX6NrgoQQv0ZBkBDi1ygIEkL8\n",
              "GgVBMqhMnz693VhaQh4EBUEyoIii2N9FGDDos+gbFARJv+M4Dnl5ecjIyEBubi4sFgtWrlyJzMxM\n",
              "JCcnY9WqVXA4HO3262q7rVu3IiMjA0ajERkZGTh79iwAQJZlrF69GmPGjEFKSgrS0tJgs9kAAJ98\n",
              "8gmmTp2KtLQ0ZGZmoqioqNMyV1VVISYmBlarVXkvJycHb775JgDg/PnzmDFjBtLT05Gamor9+/cD\n",
              "cAa2xx57DOnp6Rg3bhxycnLQ1NQEADh16hTGjRuHFStWwGg04oMPPuiBT5fcV68m4BDSDQDYpk2b\n",
              "lNcrV65kf/vb3xhjjMmyzFasWMFeffVVxphn8nBX27lyBhlj7OzZsywxMZExxtjFixdZUlISkySJ\n",
              "McbYvXv3mCRJ7ObNm2zSpEnMbDYzxhj7+uuv2SOPPMJsNlun5c7JyWFvvfUWY8yZExcVFcUsFgur\n",
              "r69nRqORVVVVMcacEwQMHz6cVVZWMlmWlXw4WZbZz372M5afn88YY6yoqIhxHMdOnTrl60dJfEBj\n",
              "h8mAsHz5cuX5hx9+iLNnz2Lr1q0AgObmZgiC0G6frra7dOkSfve736Gurg4qlQrXr19Hc3Mz4uPj\n",
              "IYoili9fjqysLHz/+98Hz/P417/+hRs3buB73/uecnye51FeXo5Ro0Z1WOZ169Zh5cqVWLVqFXbu\n",
              "3InFixcjJCQER44cQXFxMebOneux/fXr1/Gtb30LBQUFOHz4MERRhNlsxuTJk5Vt4uPjMW3aNB8/\n",
              "ReILCoJkQAgJCVGeM8bw/vvvY/To0V3u09l2DocDTz/9NIqKipCRkYGGhgbo9XrY7XYYDAZcvXoV\n",
              "n376KYqKipCbm4vTp0+DMYbs7Gzs3bu322XOzMyEVqtFUVERduzYgePHjyvlGjduHM6cOdNun8LC\n",
              "Qpw8eRKffvopdDod/vSnP+HkyZMdfg6kb9A1QTLgzJs3D6+88orSMVBfX6/MVtyd7Ww2GxwOhzLo\n",
              "/vXXX1f2uX37NpqamjB79mxs3rwZI0eOxJdffonHHnsMx48fx5UrV5Rtz507d9+yrlu3DkuWLMGY\n",
              "MWOUYDx58mSUlJQoQREALl++DIfDgfr6ekRGRkKn08FisWD37t3ef0CkR1EQJANOQUEBgoKCYDQa\n",
              "kZycjJkzZ6K0tLTb2+l0Orz88svIzMxEWloa1Gq1sk9FRQWys7ORnJyM8ePHY/z48Zg7dy4SEhKw\n",
              "d+9e/PSnP0VKSgrGjBmD11577b5lXbBgARobG7F69WrlvbCwMBw+fBibN29GSkoKxo4diw0bNkCW\n",
              "ZSxZsgRWqxWJiYmYO3cuvvvd7/bER0YeAI0dJuQBXLhwATk5Obh27Rp4ntoUgxFdEyTER88//zz+\n",
              "/e9/4+2336YAOIhRS5CQLhw5cgQvvvhiu/dzc3OxaNGifigR6WkUBAkhfo3a8IQQv0ZBkBDi1ygI\n",
              "EkL8GgVBQohfoyBICPFrFAQJIX6NgiAhxK9RECSE+LX/B+1QVpKwdjvcAAAAAElFTkSuQmCC\n",
              "\">\n",
              "        \n",
              "      </div>\n",
              "      <script></script>\n",
              "      <script type=\"text/javascript\">\n",
              "        (() => {\n",
              "          const chartElement = document.getElementById(\"chart-f4b6588f-dc7c-49c3-a1c0-f82d97310a18\");\n",
              "          async function getCodeForChartHandler(event) {\n",
              "            const chartCodeResponse =  await google.colab.kernel.invokeFunction(\n",
              "                'getCodeForChart', [\"chart-f4b6588f-dc7c-49c3-a1c0-f82d97310a18\"], {});\n",
              "            const responseJson = chartCodeResponse.data['application/json'];\n",
              "            await google.colab.notebook.addCell(responseJson.code, 'code');\n",
              "          }\n",
              "          chartElement.onclick = getCodeForChartHandler;\n",
              "        })();\n",
              "      </script>\n",
              "      <style>\n",
              "        .colab-quickchart-chart-with-code  {\n",
              "            display: block;\n",
              "            float: left;\n",
              "            border: 1px solid transparent;\n",
              "        }\n",
              "\n",
              "        .colab-quickchart-chart-with-code:hover {\n",
              "            cursor: pointer;\n",
              "            border: 1px solid #aaa;\n",
              "        }\n",
              "      </style>"
            ]
          },
          "metadata": {}
        },
        {
          "output_type": "display_data",
          "data": {
            "text/plain": [
              "import numpy as np\n",
              "from google.colab import autoviz\n",
              "df_940032340421125459 = autoviz.get_df('df_940032340421125459')\n",
              "\n",
              "def violin_plot(df, value_colname, facet_colname, col_width=.3, col_length=3, mpl_palette_name='Dark2', **kwargs):\n",
              "  from matplotlib import pyplot as plt\n",
              "  import seaborn as sns\n",
              "  plt.figure(figsize=(col_length, col_width * len(df[facet_colname].unique())))\n",
              "  sns.violinplot(df, x=value_colname, y=facet_colname, palette=mpl_palette_name, **kwargs)\n",
              "  sns.despine(top=True, right=True, bottom=True, left=True)\n",
              "  return autoviz.MplChart.from_current_mpl_state()\n",
              "\n",
              "chart = violin_plot(df_940032340421125459, *['release_year', 'title'], **{'inner': 'stick'})\n",
              "chart"
            ],
            "text/html": [
              "      <div class=\"colab-quickchart-chart-with-code\" id=\"chart-4c8c36c7-a028-4632-877e-63419bf48a14\">\n",
              "        <img src=\"data:image/png;base64,iVBORw0KGgoAAAANSUhEUgAAAToAAACnCAYAAACBzZB1AAAAOXRFWHRTb2Z0d2FyZQBNYXRwbG90\n",
              "bGliIHZlcnNpb24zLjcuMSwgaHR0cHM6Ly9tYXRwbG90bGliLm9yZy/bCgiHAAAACXBIWXMAAA9h\n",
              "AAAPYQGoP6dpAAAV4klEQVR4nO3de1BU9/kG8GdhI6DhJmKMilrkooAsEUGSqgRSNFBmRJvU0SjG\n",
              "EKw1TJ0xaSvJiDUkMKmNxDpTbaxNMqY6GGJMEwxGFDEtVE1VHE11qgTQqJUiLPf7+/uD4fxEbku6\n",
              "sGfPPp+ZnWHP9d3vro/n/tWJiICISMPsLF0AEdFwY9ARkeYx6IhI8xh0RKR5DDoi0jwGHRFpHoOO\n",
              "iDSPQUdEmsegIyLN01u6ACKyDSKC5uZmAICjoyN0Ot2IrZtbdEQ0IpqbmxEVFYWoqCgl8EYKg46I\n",
              "NI9BR0Sax6AjIs1j0BGR5jHoiEjzGHREpHmqDLqFCxciODgYISEhmD9/Ps6fP4+2tjYkJCTAYDBg\n",
              "6dKlaG9vB9B1ynrBggWorq62cNVEpFaqDLqDBw/i4sWLuHDhAjZu3Ijnn38eR48exdixY1FSUgI3\n",
              "Nzfk5eUBANLT05GSkgJ3d3cLV01EaqXKOyPc3NyUv41GI3Q6HR566CE0NjYCABobGzFq1ChcvHgR\n",
              "V65cwZtvvjnoMltaWtDS0tJjmIODAxwcHMxaOxGpjyq36AAgMTERXl5e2Lx5M/bt24eYmBg4OzvD\n",
              "YDDA1dUV0dHR2LhxI3bs2GHS8jIzM+Hq6trjlZmZOcyfgojUQKf2XsA++OADZGdn48iRIz2Gv/PO\n",
              "O9Dr9YiPj8err76KlpYWvPTSS4iOju5zOdyiI7KspqYmREVFAQAKCgrg5OQ0YutWfdABgJOTE27e\n",
              "vAkPDw8AQHl5OZKTk5GXl4fVq1cjKSkJoaGhiIiIwOXLly1cLRH1xZJBp7pd15qaGty6dUt5f/jw\n",
              "YXh4eGDs2LHKsA0bNiArKwt2dnZoaGiATqdT/iYiepDqTkYYjUY8++yzaGpqgp2dHTw9PfH5558r\n",
              "j3TZv38/DAYDAgMDAQCbNm1CcnIyWltbsXnzZkuWTkQqZRW7rkRk/bjrSkQ0jBh0RKR5DDoi0jwG\n",
              "HRFpHk9GENGIsGTnOAw6ItI81V1HR2TNLLnVQv3jMToiM7Jkl37UPwYdEWkeg46INI9BR0Sax6Aj\n",
              "Is1j0BGR5jHoiEjzLBJ0VVVVCAkJUV5+fn7Q6/W4d+9ej+nq6+uxaNEijBs3rkeHOd22bduGoKAg\n",
              "BAQEYMmSJaipqRmZD0BEVsUiQefh4YELFy4or7Vr1yI2NrbHU4QB4KGHHsKvf/1r5Ofn91rGsWPH\n",
              "8N5776G4uBjffPMNQkND8dprr43URyAiK6KKXde9e/ciKSmp13AHBwdER0f3uTVXUlKCefPmwdnZ\n",
              "GQAQFxeHffv29buOlpYW1NbW9ng92FkOEWmTxYOuqKgI1dXViI+PBwCkpaVh9+7dg84XGhqK/Px8\n",
              "3LlzByKCv/zlL6irq+u1+9uN3R0S2S6L3+u6d+9eJCYmQq/vKuX11183ab6oqCi88soriI+Ph729\n",
              "PZYsWQIAynIelJqaio0bN/YYxq4OiWyDRYOuvr4eBw8exNmzZ7/X/OvXr8f69esBAP/4xz8wefJk\n",
              "uLi49Dkt+3Alsl0W3XXNzs6GwWDAjBkzvtf8t2/fBgA0NjYiLS0Nv/rVr8xZHhFphEWDrq+TEA8e\n",
              "owsODsbjjz+O2tpaTJ48GatWrVLGLVy4EIGBgTAYDJg3bx5SUlJGrHYish588CaRGVmySz/qn8XP\n",
              "uhIRDTcGHRFpHoOOiDSPQUdEmseTEURmxM5x1IlBR0SaZ/FbwGhkcYuDbBGP0dkYdsdHtohBR0Sa\n",
              "N+Sgu337Nk6ePAkAaG9vR2trq7lrIiIyqyEFXU5ODiIiIvD8888DAC5fvoyEhIRhKIuIyHyGFHSZ\n",
              "mZk4d+4c3N3dAQAGgwHl5eXDUhgRkbkMKejs7e3h4eHRY9ioUaPMWhARkbkNKeicnZ3xn//8R7kk\n",
              "4fjx4706tCEiUpshBd1bb72F2NhYlJaWYt68eUhMTMTbb7/d57TNzc1ISEiAn58fDAYDYmJicO3a\n",
              "NQDAmjVrEBwcjJCQEISFheH48eN9LqOsrAz29vY9uka8fv26Mp7dHRKRSWSIampq5MiRI5KbmyvV\n",
              "1dX9TtfU1CS5ubnS2dkpIiI7d+6UyMhIEZEe8507d07c3d2lo6Oj1zK+/fZbcXV17XP5X375pcyc\n",
              "OVNqa2tFRCQ9PV3Wr18/1I9jcxobG2Xu3Lkyd+5caWxstHQ5RCNiyJeXuLq6IjY2FnFxcX12Q9jN\n",
              "0dERcXFxym5uREQEysrKAKDHfEajcaglAGB3h0RkOpOCzt3dHWPHju316h5uih07dmDx4sXK+02b\n",
              "NmH69OlYunQpPv74Y9jZdZXy4KPUGxoaEBYWhtmzZ+P1119HR0cHAHZ3SESmM+mm/sEuIZk6deqA\n",
              "4zMyMvDZZ5/h+PHjGD16dI9x+fn5SE1Nxd///vdeZ3BbWlpgNBoxfvx43Lt3D8uWLUNMTIzSCc4f\n",
              "/vAH/PnPf1a6O0xNTYXRaOyzJ7CWlpZeW3C22DMYH/VNNmko+7np6ekmDbvftm3bJDQ0dMDjef7+\n",
              "/vL1118Puv79+/dLfHx8n+OKi4tl8uTJgy7D1vEYHdmiIR2jO3TokEnDum3fvh0HDhzAsWPHlONy\n",
              "bW1tytlXADhz5gzu3r0Lb2/vXvPfvXsXbW1tALq2yA4dOoTHHntMGc/uDonIFCY9puno0aPIy8vD\n",
              "d99916O3+4FOJNy8eRMvv/wyvL29lV0lBwcHFBQUYPXq1TAajdDr9RgzZgxycnKUuy3S0tIwceJE\n",
              "rFu3Dn/729+QlpYGe3t7tLe3Izo6Gq+99pqyjoULF6KzsxOtra1YtWoVuzskoj6ZdIyusLAQJ0+e\n",
              "xO7du7Fu3TpluIuLC5YsWYJp06YNZ41kRjxGR7ZoSE8YLikpgcFgGM56aJgx6MgWmbTreuDAASxf\n",
              "vhyFhYUoLCzsNf4Xv/iF2QsjIjIXk4LuypUrALqO1Y0fP77HuMrKSgYdEamaSUG3detWAF1nOXNz\n",
              "c3uMmz17tvmrIiIyI5OCrrW1Fc3Nzejo6EBdXR26D+sZjUY0NDQMa4FkXo6OjigoKFD+JrIFJl1H\n",
              "l5mZCTc3N1y6dAmurq5wc3ODm5sbZs2ahZUrVw53jWRGOp0OTk5OcHJyYg9gZDOGdNb15z//OXbt\n",
              "2jWc9WiSsItBIotiB9YjgJd0EFkWuzskIs1j0BGR5jHoiEjzGHREpHkMOiLSPAYdEWme1QddXl4e\n",
              "5syZg+DgYERERKCkpMTSJRGRyph0C5haVVdX47nnnsOpU6cQGBiIr776Cs899xwuXbpk6dKISEWs\n",
              "eovu+vXr8PDwQGBgIABg/vz5qKiowLlz53pNy+4OiWyXVQedr68vqqqqUFRUBAD461//irq6OqX/\n",
              "2Puxu0Mi22XVu66urq7IyclBamoq6uvr8fjjjyMgIAB6fe+PlZqa2qO/CwA219Uhka2y6qADgKio\n",
              "KOU+0paWFkyYMAEBAQG9prPFPlyJqItV77oC/9/lIQCkp6cjOjoaPj4+FqyIiNTG6oMuLS0NM2bM\n",
              "gI+PD8rLy7F3715Ll0REKmP1u6579uyxdAlEpHJWv0VHRDQYBh0RaR6Djog0j0FHRJrHoCMizWPn\n",
              "OCOAvYARWRaDbhAMKSLrx13XQTQ3Nyu3mXUHHhFZFwYdEWkeg46INI9BR0Sax6AjIs1j0BGR5jHo\n",
              "iEjzVB90zc3NSEhIgJ+fHwwGA2JiYnDt2jUAQEZGBvz9/WFnZ4fDhw9btlAiUi3VBx0ArF27Flev\n",
              "XkVJSQkWL16MF198EQDwox/9CF988QUWLFhg4QqJSM1UH3SOjo6Ii4tT7kiIiIhQevkKDw+Ht7e3\n",
              "Scthd4dEtkv1QfegHTt2YPHixUOej90dEtkuq3qUekZGBq5du4bjx48PeV52d0hku6wm6H73u9/h\n",
              "0KFDyM/Px+jRo4c8P7s7JLJdVhF027dvx4EDB5Cfnw83NzdLl0NEVkb1j2m6efMmvLy84O3tDWdn\n",
              "ZwBdW2enT5/GG2+8gd27d6OyshLOzs5wdHTE+fPn4enpabb1NzU1KR1kFxQUwMnJyWzLJqKRofqg\n",
              "szQGHZH1s7qzrkREQ8WgIyLNY9ARkeYx6IhI8xh0RKR5POs6CPYCRmT9bH6LrqWlBb/5zW/6vcFf\n",
              "p9PByckJTk5Oqgi5wepVG9Y7vFivaWx+i662thaurq4wGo1wcXGxdDmDYr3Di/UOL0vVa/NbdESk\n",
              "fQw6ItI8Bh0RaZ7NB52DgwO2bNliNY9wYr3Di/UOL0vVa/MnI4hI+2x+i46ItI9BR0Sax6AjIs2z\n",
              "2qAbqGPru3fv4umnn4avry+CgoJw6tQpZb6Bxs2dOxchISEICQlBUFAQdDodLl682Of6dTodZs2a\n",
              "pUz/1VdfDUu9A3XSPdB8D/r8888xY8YM+Pr6YunSpaitrR3xetesWaMs74c//CHOnj3b7/rV0L5P\n",
              "PvkkfvCDHyg1ZGVl9bt+NbSvGn+/A33njY2NWL58OXx8fODn54ecnJx+13/69GkYDAb4+fkhOjoa\n",
              "33333YD19iJWqqmpSXJzc6Wzs1NERHbu3CmRkZEiIrJmzRrZsmWLiIicOXNGJk2aJK2trYOOu99H\n",
              "H30kQUFB/a4fgFRXVw97vadPn5br169LZGSkfPLJJz2Waepnqaurk/Hjx8u//vUvERF56aWX5JVX\n",
              "Xhnxej/99FNpa2sTEZHPPvtMpk6d2u/61dC+fQ3ri1ra935q+f0O9J1v3bpVVq9eLSIipaWl4unp\n",
              "Kf/97397rbujo0OmT58uJ06cEBGRbdu2yTPPPGNy7SIiVht0Dzp79qzSiGPGjJHbt28r48LCwuTY\n",
              "sWODjrvf008/LVlZWf2ub6g/lO9bb7e+ftimfpaDBw/KokWLlPeXL1+WSZMmjXi996usrBS9Xq/8\n",
              "I3iQGtrX1KBTY/uq7fcr0vs7DwgIkOLiYmX8s88+K3v27Ok135kzZ8Tf3195X1tbKw4ODtLU1GRy\n",
              "vVa76/qg7o6tq6qq0NbWhgkTJijjpk2bhoqKigHH3e/GjRsoLCzEypUrB1znU089BYPBgI0bN6Kh\n",
              "ocHs9Q5kKPNVVFRg6tSpPaa7ffs22tvbR6zevpYXFxcHvb7/jugs2b7dNm3ahFmzZmHZsmUoLS3t\n",
              "cxq1ta9af78Pfud9tZspv19nZ2e4uLjg1q1bJteriaDr7tg6MzPTLMt7//33ER8fj3HjxvU7TXl5\n",
              "Of75z3+iqKgIlZWV+OUvf2ny8s1d73Azd70ffvghDh48iHfffbffadTQvvv27cOVK1dw8eJFzJ8/\n",
              "H/Hx8f/T8vpjC79fU77z4WT1QdfdsfUXX3yB0aNHw8PDA3q9Hnfu3FGmKSsrw5QpUwYc101E8N57\n",
              "7yEpKWnA9XbPM2bMGKxfv37Qg7nfp96BDGW+KVOmoLy8vMd0jz766IBbU+aut1t2dja2bt2KY8eO\n",
              "4ZFHHul3Oku3LwB4eXkB6Dpwn5KSgtLSUlRVVfVZq1raV42/3/6+877azZTfb11dHYxGIyZOnGhS\n",
              "zQCs92SEiMjbb78ts2fPlnv37vUYvnr16h4HRydOnKgcHB1onIhIfn6+eHl5SUdHR7/rvXfvnjQ0\n",
              "NIhI14HSDRs2yKpVq4al3m59HZMxZT6RrmManp6ePQ6Wv/zyyyNeb3Z2tvj4+EhZWdmA61VD+7a1\n",
              "tcmdO3eU9zk5OTJlypQ+16uW9hVR3+93oO98y5YtvU5GVFZW9pquo6NDvL29e5yM+MlPfjJovfez\n",
              "2qC7ceOGABBvb28xGAxiMBgkPDxcRETu3LkjMTEx4uPjIwEBAUoDDTZORGT58uWSlpbWa327du2S\n",
              "zZs3i4hIUVGRzJo1S4KDgyUgIEBWrlwpVVVVw1Jvenq6TJo0SUaNGiUeHh4yadIkuXv37qDzbd68\n",
              "WXbt2qW8//TTT8Xf31+mT58uixcvlpqamhGvV6/Xy+TJk5XlGQwG5Syb2tq3vr5eQkNDJSgoSIKD\n",
              "gyU6OlouXLig6vYVUd/vd6DvvL6+Xn7605+Kt7e3+Pr6SnZ2dp/13l+zr6+vREZGSkVFxYD1Poj3\n",
              "uhKR5ln9MToiosEw6IhI8xh0RKR5DDoi0jwGHY2oJ598stfN6ETDjUFHZjWU2560jm2hHgw6+p/p\n",
              "dDps2bIFYWFhSE1NRV1dHZKTkxEeHo7g4GCsXbsWra2tveYbaLrt27cjLCwMISEhCAsLQ3FxMQCg\n",
              "s7MTKSkpmDlzJgwGA0JDQ9Hc3AwAOHr0KObNm4fQ0FCEh4ejoKCg35pv3bqFRx55BI2NjcqwFStW\n",
              "YNeuXQCAs2fPIjo6GnPmzMFjjz2Gjz76CEBXeC1atAhz5sxBYGAgVqxYodwnevLkSQQGBiIpKQkh\n",
              "ISH45JNPzNC6ZBZDuuqOqA8AZOvWrcr75ORk+eCDD0REpLOzU5KSkuS3v/2tiPS8on+g6e6/CLa4\n",
              "uFh5esW5c+dkxowZypX/NTU10tHRIdevX5eIiAgxGo0iIvLvf/9bJkyYIM3Nzf3WvWLFCvnjH/8o\n",
              "Il0XvXp6ekpdXZ1UV1dLSEiI3Lp1S0S6nrrh5eUlN2/elM7OTuWC187OTlm3bp1kZmaKiEhBQYHo\n",
              "dDo5efLk921KGiaD34xHZIIXXnhB+fvw4cMoLi7G9u3bAQBNTU2wt7fvNc9A050/fx5vvvkmqqqq\n",
              "oNfrcfXqVTQ1NcHb2xvt7e144YUXEBUVhR//+Mews7NDXl4erl27hgULFijLt7OzQ0VFBXx9ffus\n",
              "ecOGDUhOTsbatWuxZ88eLF++HA8//DCOHDmC0tJSxMbG9pj+6tWrePTRR5GVlYXc3Fy0t7fDaDTi\n",
              "iSeeUKbx9vZGZGTk92xFGi4MOjKLhx9+WPlbRPDxxx/Dz89vwHn6m661tRVLly5FQUEBwsLCUFtb\n",
              "C1dXV7S0tMDNzQ2XLl1CYWEhCgoKkJqailOnTkFEEBMTg/3795tcc3h4OEaPHo2CggK8++67yM/P\n",
              "V+oKDAxEUVFRr3k+/PBDnDhxAoWFhXBxccHvf/97nDhxos92IPXgMToyu4SEBLz11lvKwfjq6mrl\n",
              "sdumTNfc3IzW1lblSRY7d+5U5qmsrERDQwMWLlyIjIwMTJs2Dd988w0WLVqE/Pz8Ho8OP3PmzKC1\n",
              "btiwAYmJiZg5c6YSuE888QS+/fZbJfgA4MKFC2htbUV1dTXGjRsHFxcX1NXV4f333x96A9GIY9CR\n",
              "2WVlZcHJyQkhISEIDg7GU089hbKyMpOnc3FxwRtvvIHw8HCEhoZi1KhRyjw3btxATEwMgoODERQU\n",
              "hKCgIMTGxsLHxwf79+/Hz372MxgMBsycORPvvPPOoLU+88wzqK+vR0pKijLM3d0dubm5yMjIgMFg\n",
              "QEBAADZt2oTOzk4kJiaisbER/v7+iI2Nxfz5883RZDTMeFM/2bSvv/4aK1aswJUrV2Bnx//3tYrH\n",
              "6Mhmvfjii/jyyy/xpz/9iSGncdyiI007cuQIXn311V7DU1NTsWzZMgtURJbAoCMizeP2OhFpHoOO\n",
              "iDSPQUdEmsegIyLNY9ARkeYx6IhI8xh0RKR5/wc5ARERFa385gAAAABJRU5ErkJggg==\n",
              "\">\n",
              "        \n",
              "      </div>\n",
              "      <script></script>\n",
              "      <script type=\"text/javascript\">\n",
              "        (() => {\n",
              "          const chartElement = document.getElementById(\"chart-4c8c36c7-a028-4632-877e-63419bf48a14\");\n",
              "          async function getCodeForChartHandler(event) {\n",
              "            const chartCodeResponse =  await google.colab.kernel.invokeFunction(\n",
              "                'getCodeForChart', [\"chart-4c8c36c7-a028-4632-877e-63419bf48a14\"], {});\n",
              "            const responseJson = chartCodeResponse.data['application/json'];\n",
              "            await google.colab.notebook.addCell(responseJson.code, 'code');\n",
              "          }\n",
              "          chartElement.onclick = getCodeForChartHandler;\n",
              "        })();\n",
              "      </script>\n",
              "      <style>\n",
              "        .colab-quickchart-chart-with-code  {\n",
              "            display: block;\n",
              "            float: left;\n",
              "            border: 1px solid transparent;\n",
              "        }\n",
              "\n",
              "        .colab-quickchart-chart-with-code:hover {\n",
              "            cursor: pointer;\n",
              "            border: 1px solid #aaa;\n",
              "        }\n",
              "      </style>"
            ]
          },
          "metadata": {}
        },
        {
          "output_type": "display_data",
          "data": {
            "text/plain": [
              "import numpy as np\n",
              "from google.colab import autoviz\n",
              "df_3563077431028865530 = autoviz.get_df('df_3563077431028865530')\n",
              "\n",
              "def violin_plot(df, value_colname, facet_colname, col_width=.3, col_length=3, mpl_palette_name='Dark2', **kwargs):\n",
              "  from matplotlib import pyplot as plt\n",
              "  import seaborn as sns\n",
              "  plt.figure(figsize=(col_length, col_width * len(df[facet_colname].unique())))\n",
              "  sns.violinplot(df, x=value_colname, y=facet_colname, palette=mpl_palette_name, **kwargs)\n",
              "  sns.despine(top=True, right=True, bottom=True, left=True)\n",
              "  return autoviz.MplChart.from_current_mpl_state()\n",
              "\n",
              "chart = violin_plot(df_3563077431028865530, *['release_year', 'director'], **{'inner': 'stick'})\n",
              "chart"
            ],
            "text/html": [
              "      <div class=\"colab-quickchart-chart-with-code\" id=\"chart-9c63d9ce-a7b4-4c34-819b-2bf592a26ea9\">\n",
              "        <img src=\"data:image/png;base64,iVBORw0KGgoAAAANSUhEUgAAAXcAAACnCAYAAADqiRxlAAAAOXRFWHRTb2Z0d2FyZQBNYXRwbG90\n",
              "bGliIHZlcnNpb24zLjcuMSwgaHR0cHM6Ly9tYXRwbG90bGliLm9yZy/bCgiHAAAACXBIWXMAAA9h\n",
              "AAAPYQGoP6dpAAAhx0lEQVR4nO3deVxU9f4/8NfAKC4IklBuVwlREISZYRe3MBUtVOKhZe6ggnm7\n",
              "t9J6GGmJK1amltbVXCulTE3sqrkCLoniAtdMQVHQFHFBNoEBBj6/P/h6fhLbDM6IjK/n4zGPB3PO\n",
              "53PO+3PKF4fPnDlHJoQQICIio2LS0AUQEZH+MdyJiIwQw52IyAgx3ImIjBDDnYjICDHciYiMEMOd\n",
              "iMgIMdyJiIwQw52IyAjJG7oAIqJnjRACarUaANCsWTPIZDK974Nn7kRET5harYafnx/8/PykkNc3\n",
              "hjsRkRFiuBMRGSGGOxGREWK4ExEZIYY7EZERYrgTERkhhjsRkRFiuBMRGSGDhrutrS2SkpIMuYsa\n",
              "yWQyKJXKSss2bNgAmUyG5cuXAwBWrVqFzz//vNbtxMXFVdmONurqd+DAAfTt2xd2dnbw8PCAl5cX\n",
              "vv32W533Q0RUnafq9gMajQZyuf5KksvlOHPmDNzd3QEA69evh4eHh7R+6tSpetuXLvbv34+JEydi\n",
              "27Zt8PX1BQDcuHEDa9asqba9vo8LERm/JzItk5qaigEDBsDV1RVKpRLR0dHSOplMhjlz5sDT0xPh\n",
              "4eG4desWBg0aBCcnJwwaNAijRo1CREQEAKC0tBQffvghvLy8oFQq8frrryM7O7vG/QYHB2P9+vUA\n",
              "gEuXLqG0tBTOzs7S+oiICLz77rvS+08//RQuLi5QKBTw8fFBYWEhgIpwnTZtGhQKBZydnXH69Gmp\n",
              "z759+9C7d2+4u7vDy8sLsbGxdR6PefPm4ZNPPpGCHQA6duyIuXPn1nhc/vjjD/Tu3Rtubm5wcnLC\n",
              "ggULahzHypUrMXHixDrrICLj9UROB8eMGYOQkBCEhYXh8uXL8PHxgUqlQufOnQEApqamOHXqFABg\n",
              "5MiR6NmzJ+bOnYvMzEwolUo4OjoCAD7//HO0bNkSCQkJAID58+dj9uzZ+Prrr6vdb1BQEJYsWQK1\n",
              "Wo3169cjODgY8fHx1bb97rvvsH37dhw7dgyWlpbIzs6GmZkZACA5ORnr1q3DN998g1WrVmHWrFnY\n",
              "t28frl69ioiICOzbtw8WFhZITU1Fnz59kJ6eXuvxOHv2LFasWFHncXv0uOTn5+PQoUMwMzNDUVER\n",
              "fH19MWDAAPj4+NS5nb8rLi5GcXFxpWVmZmbSeImo8TP4mXt+fj7Onj2LSZMmAQC6du2K3r174+jR\n",
              "o1KbkJAQ6edDhw5J79u2bYuAgABpXXR0NDZt2gSlUgmlUokff/wRaWlpNe67efPm8Pf3x9atW7F1\n",
              "61a8+eabNbbdtWsXpk6dCktLSwCAlZUVTE1NAQD29vbw9vYGAPTs2RNXrlwBAOzduxepqano27cv\n",
              "lEolRowYARMTE1y/fl2nYzRmzBgolUq0bdsWeXl51R6XoqIiTJ48GS4uLvDx8cG1a9fq/XlGZGQk\n",
              "LC0tK70iIyPrtS0iejo1yETu329vaW5urlVbIQRWrFiBQYMGab2v4OBgBAQEYPDgwbCwsNC9WFTc\n",
              "kvMhU1NTaDQaqZ6BAwciKiqqSp+bN2/WuD2VSoWEhASoVCoAwObNmwFUjLW8vFxq9+hx+eijj2Bt\n",
              "bY3ExETI5XIEBQVJd5OTy+UoKyuT2tZ1l7nw8HBMnz690jKetRMZF4Ofubdq1Qpubm7YsGEDgIr5\n",
              "92PHjqFv377Vtu/fvz82btwIALh9+zZ27dolrQsMDMSyZcukufDCwkL8+eefte7f29sbs2fPRnh4\n",
              "eK3thg0bhlWrViE3NxcAkJOTUykwq+Pv74+DBw/i3Llz0rKHU0a1+fjjjzFv3jycOHFCWlZQUFBr\n",
              "n+zsbHTs2BFyuRwpKSk4cOCAtM7e3h6nT59GWVkZCgsLsX379lq3ZWZmBgsLi0ovhjuRcTHombtG\n",
              "o0GzZs2wefNmTJ06FStXroRMJsPatWvRqVOnavt8+eWXmDBhApycnNC+fXt4e3ujdevWAICZM2ei\n",
              "uLgY3t7e0hn9zJkzK31IWp133nmnzlrHjRuHjIwM+Pr6Qi6Xo2XLljh48GCtfezt7REVFYWwsDAU\n",
              "FhaipKQEKpWq2jP5Rw0ePBjr1q3DBx98gIyMDNjY2KBp06ZYsWIFWrVqVW2f2bNnY9y4cfjuu+/Q\n",
              "pUsX9O/fX1oXFBSErVu3onv37ujYsSNUKpX0C5CInk0yIYQwxIZv3boFBwcHZGZmokWLFlr3Kyoq\n",
              "QpMmTSCXy5GVlQUfHx9s2rRJmvMmImrsioqK4OfnBwCIjY1F8+bN9b4Pg5y5L126FKtXr8aSJUt0\n",
              "CnYAuHz5MsaPHw8hBEpKSjBt2jQGOxGRjgx25k5ERNV7EmfuvLcMEZERYrgTERkhhjsRkRFiuBMR\n",
              "GSGGOxGREeLVMkRET5gQQrpNSLNmzarckkUfGO5EREaI0zJEREaIj/chegKexJ/hRI/imTvRE6BW\n",
              "q+Hn5wc/P786b8lMpA8MdyIiI8RwJyIyQgx3IiIjxHAnIjJCDHciIiPEcCciMkI6hXtZWVmdD18m\n",
              "IqKGp1O4m5qaYuHChYaqhYiI9ETnaRk3NzccO3bMELU8ttLSUsydOxeOjo5wdnaGSqVCYGAgkpKS\n",
              "AAC//vor3nvvPQBAXFwclEolACA9PR2tW7fWSw3R0dE4ceJErW22bNkCDw8PODg4wN3dHUOHDsUf\n",
              "f/wBAJDJZMjJydFLLUT07NL59gMnTpzAxo0bYWdnB3Nzc2n52bNn9VpYfQQHB+PBgweIj4+HlZUV\n",
              "AODgwYNISUmBUqnEsGHDMGzYMIPtX6PRIDo6GkqlEj4+PtW22bBhAyIjIxEdHQ0nJycAwJkzZ5CR\n",
              "kQEXFxeD1UZEzxiho7i4uGpfDe3SpUuiRYsWIisrq8Y2GzZsEMOHDxdCCBEbGysUCoUQQoi0tDRh\n",
              "aWkpZsyYIVxcXISTk5M4cOCA1G/v3r2iV69ews3NTXh6eoqYmBhpG05OTiIkJEQoFAqxceNGYWVl\n",
              "Jdq3by8UCoVYs2ZNlRr+8Y9/iN27d9dYIwCxcOFC4enpKWxtbcX69euldTNmzBAeHh5CoVCIPn36\n",
              "iOTkZK36UcMrLCwU3t7ewtvbWxQWFjZ0OfQM0DncH7p586a4efOmPmt5LFu2bBGurq61tqkt3AGI\n",
              "tWvXCiGEiI+PFzY2NiIvL09cuXJF+Pj4iNzcXCGEEJcvXxZt27YVarVaxMbGCplMVumX24QJE8Sy\n",
              "Zcuq3f/t27cFAHH//v0aawQglixZIoQQ4uLFi8Lc3FyUlpYKIYS4c+eO1O7HH38U/v7+WvX7O7Va\n",
              "LXJzcyu91Gp1jTXR42O405Om85z7xYsX4ezsLL1cXFyQnJys3z8n9ODKlStQKpVwcHBAcHBwne3l\n",
              "cjkmTpwIAPDx8UH79u2RmJiIvXv3IjU1FX379oVSqcSIESNgYmKC69evAwDs7OzQr18/vdY+ZswY\n",
              "AICjoyPkcjkyMzMBAAcOHEDPnj3Ro0cPzJs3T/osoa5+fxcZGQlLS8tKr8jISL2OgYgals7hPm3a\n",
              "NMyaNQvZ2dnIzs7GrFmz8NZbbxmiNp2oVCqkpqYiOzsbANClSxckJSUhPDxcWqYrmUwGIQQGDhyI\n",
              "pKQk6XXz5k107doVACp97lCX559/Hh07dkR8fHyt7Zo1ayb9bGpqCo1Gg+vXr+Ptt9/Gpk2bcP78\n",
              "efz0009V7i5YXb/qhIeHIzc3t9IrPDxc63EQ0dNP53DPzs7G6NGjpfejRo2qd3jqU9euXTF8+HBM\n",
              "mjSp0tUmBQUFWvXXaDT44YcfAAAJCQnIyMiAUqmEv78/Dh48iHPnzkltExISatyOhYUFcnNza1wf\n",
              "ERGB6dOnV/prJzExEfv376+1vtzcXDRp0gTt2rWDEAIrV67UalzVMTMzg4WFRaWXmZlZvbdHRE8f\n",
              "na+WMTU1xYULF6QrPS5cuABTU1O9F1YfGzduxMKFC+Ht7Q25XA4rKyvY2Nhg5syZdfa1tLTE+fPn\n",
              "oVAooNFoEBUVhVatWqFVq1aIiopCWFgYCgsLUVJSApVKhaioqGq3M27cOEycOBHR0dH45z//icmT\n",
              "J1daP2nSJDRv3hxjxozBgwcPIJfL0aVLlzqnRVxcXDBq1Cg4OzujTZs2CAwM1Pq4ENGzR+dnqO7b\n",
              "tw9jxoyBq6srAOCPP/7A5s2bMWjQIIMUSGQMioqK4OfnBwCIjY1F8+bNG7giMnY6n7n7+/vj4sWL\n",
              "OHnyJICKDx+tra31XhgREdVfvT5QtbGxQUBAAAICAmBtbY1p06YZojYiIqonncO9uq/WHz9+XC/F\n",
              "EBGRfmg9LbNlyxb89NNPSEtLQ1BQkLQ8NzdXp8sBiYjI8LQOd0dHRwwfPhxnz57F8OHDpeUWFhZ4\n",
              "+eWXDVIcERHVj9bhrlAooFAo8Oqrr8LGxsaQNRER0WPSec59woQJyMrKkt7fu3cPAQEBei2KiIge\n",
              "j86XQmZkZKBNmzbSe2tra2RkZOi1KCJj06xZM8TGxko/ExmazuFeVlYGjUYDubyia0lJCUpKSvRe\n",
              "GJExkclk/OISPVE6T8sMGTIEI0eORFxcHOLi4vDGG2/glVdeMURtRERUTzrffqC0tBSLFi3C7t27\n",
              "AQDDhg3DzJkz0aRJE4MUSM8eIYR0x8tmzZpBJpM1cEVEjY/O4U5kaLwPC9Hj03la5q+//kJAQID0\n",
              "cOmkpCQsW7ZM33UREdFj0Dncw8LCMGrUKDw84e/RowfWr1+v98KIiKj+dA73O3fuYOzYsTAxqegq\n",
              "l8ulK2eIiOjpoHO4y+VyPDpNn52dDU7bExE9XXQO95EjRyIsLAx5eXlYu3YtBg4cWOVpQ0RE1LDq\n",
              "dbXMjz/+iOjoaAghEBgYWOmZqkSPi1fLED0+nSbLy8rKpAdGv/nmm4aqiYiIHpNO0zKmpqYoLCxE\n",
              "eXm5oeohIiI90HnO3dPTEwEBAYiKisKvv/4qvZ4Gv/zyC9zd3aFUKuHo6Ij+/ftLv4hsbW2RlJTU\n",
              "oPVt2LABMpkMR48e1ar901AzETVOOl/DeO7cOQDAmjVrpGUymQzDhg3TX1X1cOvWLYSGhuLMmTPo\n",
              "3LkzAODs2bNP1VfX161bh5dffhnr1q1Dnz59DL6/R2/wRkTPFp3P3GNjY6u8YmJiDFGbTm7fvg1T\n",
              "U1M899xz0jI3N7dK4f7LL7+gZ8+eePHFF7FgwQJp+dKlS+Hp6QmlUglPT0/Ex8dL62xtbfHJJ59U\n",
              "2y8zMxOvv/46vLy84OLigtmzZ9dYX0pKCtLS0vD9998jOjoaeXl50rr4+Hj07t0bCoUCrq6u2Llz\n",
              "Z5X+K1asQK9evXD37t1a92tra4uZM2fCy8sLEyZM0OEIEpFREVq6dOmSEEKI//3vf9W+GlpZWZkI\n",
              "CgoSVlZWIjAwUHz22Wfixo0b0vrOnTuLf/3rX0IIIe7evSssLCyk9Xfu3JHaxcfHCwcHB636DRo0\n",
              "SMTFxQkhhCgtLRX+/v7i559/rra+Dz74QMycOVMIIcRrr70mVq9eLYQQIisrSzz//PPiyJEj0jiy\n",
              "srKkfZ85c0a89957IjAwUBQWFta5386dO4tJkyaJ8vLyGo+VWq0Wubm5lV5qtbqOI/zkFBYWCm9v\n",
              "b+Ht7S2NmYh0o/Xf7O+99x527dpV6fmpD8lkMly9elWvv3R0ZWJigu3btyM5ORmHDx/Gb7/9hoUL\n",
              "F+L06dOwt7cHAOmSTWtra9jZ2SEtLQ0dOnRAYmIiFi5ciKysLMjlcqSkpKCoqEi6BK+6fq1bt8ah\n",
              "Q4dw+/ZtqYYHDx4gJSWlSm0ajQbff/89Dh8+DAAICQnB/PnzERoaivj4eDg4OEjTNCYmJpX++ggN\n",
              "DYVKpcL27dthYmKCgoKCOvc7ceLEWqejIiMjMXfu3ErL5syZg4iIiLoPNBE1ClqH+zfffIPr168j\n",
              "Li6uUnAIIZ6qeW1HR0c4OjoiLCwMgwcPxq+//orp06cDqPwEHFNTU2g0GpSUlCAoKAixsbHw9PRE\n",
              "Xl4eLC0tUVxcLIV7df3E/3094MSJE3U+WWfXrl3IycmBv78/gIpjlpGRgfPnz9c5nn79+uHAgQPI\n",
              "zMxE+/bttdqvubl5rdsMDw+XjslDZmZmddZCRI2H1nPu7u7u8PDwgKenJ1588UU4ODjAwcEBdnZ2\n",
              "8PT0NGSNWrl58yZ+//136X12djbS0tLQpUuXWvup1WqUlJSgU6dOACrmtrVhbm4OPz8/LF68WFqW\n",
              "kZGBGzduVGm7bt06LF++HOnp6UhPT8e1a9cwffp0rFu3Dr6+vrh8+bJ0BU15eTnu378v9R03bhw+\n",
              "+eQT9O/fH2lpaTrttyZmZmawsLCo9GK4ExkXrcP97t27uHPnDoKDg7Fq1SoUFBSgoKAAq1evRkhI\n",
              "iCFr1IpGo8G8efPQrVs3KJVK9OnTBxMmTKh2GulRFhYWWLBgAby8vODu7o6mTZtqvc/NmzcjNTUV\n",
              "PXr0gIuLC4KCgio9PByoCN5Dhw5h5MiRlZaPGTMGmzZtQsuWLbFjxw58+OGHcHV1hZubW6VfUgAw\n",
              "YsQIfPHFFxg0aBCSk5O12i8RPdt0vv2AUqmscu21SqVCYmKiPuuiZxhvP0D0+HS+FLKkpKTSh3eX\n",
              "Ll1CcXGxXosiIqLHo/M3XBYvXoxevXpBoVAAqPhSEx/WQUT0dNE53IcNG4aLFy/ixIkTAICePXvC\n",
              "2tpa74UREVH91eu76TY2Nhg6dKi+ayEiIj3Rec6diIiefgx3IiIjxHAnIjJC9XrMHpEhCSGgVqsB\n",
              "VNz64Wm6vQVRY8FwJyIyQpyWISIyQnxMD2mFUyVEjQvP3EkrarUafn5+8PPzk0KeiJ5eDHciIiPE\n",
              "cCciMkIMdyIiI8RwJyIyQgx3IiIjxHAnIjJCDHciIiPEcCciMkKNItxtbW3h4OAApVIJBwcHLF68\n",
              "WKt+MpkMOTk5j73/uLg47N27t8b1ERERePfdd3XaZn36/L2OjIwM9OnTR6dtENGzodHcfmDLli1Q\n",
              "KpW4efMmnJyc0L9/f3h5eRl8vxqNBnFxccjJycHgwYMNvr/a/L2O9u3b4+jRow1aExE9nRrFmfuj\n",
              "OnToAEdHR1y7dg0AkJqaigEDBsDV1RVKpRLR0dGV2i9ZsgQqlQrdunXD5s2bpeWnTp1C//794eHh\n",
              "AZVKha1btwIA0tPT0bp1a8ycORNubm5YuXIlVq1ahc2bN0OpVGLevHla1zpx4kQsX75cev/+++8j\n",
              "IiKiSrsLFy6gR48e+O2336Savby84ObmhsGDB+PatWtISkqqUsfDWh+Kj49H7969oVAo4Orqip07\n",
              "d2pdKxEZl0Zz5v5QcnIysrKy8NJLLwEAxowZg5CQEISFheHy5cvw8fGBSqVC586dAVRMzSQmJuLq\n",
              "1avw8PBAr1690Lp1a4SGhmLPnj1o164d7t27Bzc3N/j6+gIAcnNz4ezsjE8//RQAkJOTg5ycnEpB\n",
              "rS9xcXGYNm0aNm3aBDc3N0RFRSElJQXx8fEwNTXFDz/8gGnTpmH37t2YOnVqpTrS09Ol7dy/fx+B\n",
              "gYHYtm0b+vTpg/Ly8hqnpIqLi1FcXFxpmZmZGczMzPQ+PiJqGI0m3N944w2YmJggJSUFy5Ytg42N\n",
              "DfLz83H27Fn8/vvvAICuXbuid+/eOHr0qBTukydPBgDY2dmhb9++OHLkCKytrXH16lUMGTKk0j5S\n",
              "UlJgZ2eHJk2aYOzYsQYfU0xMDPbu3Yv9+/ejU6dOAIDo6GicOnUK7u7uAICysjKtthUfHw8HBwdp\n",
              "Dt7ExATPPfdctW0jIyMxd+7cSsvmzJlT7V8VRNQ4NZpwfzjnfvDgQQwdOhT9+/eHra1tlXZ13YpW\n",
              "JpNBCAFnZ2ccP368yvr09HS0aNECJiaPP2Mll8srhbNarYa5ubn03t7eHsnJyThx4oQU7kIIhIeH\n",
              "IzQ09LH3X5Pw8HBMnz690jKetRMZl0Y35z5gwAC89dZbmD17Nlq1agU3Nzds2LABQMX8+7Fjx9C3\n",
              "b1+p/cN16enpOHr0KPr06QNfX1+kpaXh4MGDUrukpCSUlJRUu08LCwvk5ubqXKu9vT0SEhIAAFlZ\n",
              "WdizZ0+l9Z06dcKhQ4ewYMECqc7AwECsWrUK9+/fBwCUlpYiMTGxzjp8fX1x+fJl6QPW8vJyaRt/\n",
              "Z2ZmBgsLi0ovhjuRcWk0Z+6P+vjjj2Fvb48zZ85g8+bNmDp1KlauXAmZTIa1a9dKZ8FAxbSGSqVC\n",
              "QUEBvvrqK+lsf/fu3Xj//fcxY8YMlJaWolOnTlU+jH3otddeww8//AClUomgoCB88sknVdqsW7cO\n",
              "27Ztk95Pnz4doaGhGDFiBLp37w47Ozv4+PhU6deuXTvExMRg8ODByM/Px7///W9kZWXBz88PQMXV\n",
              "OiEhIVCpVFXqGD9+vLQdKysr7NixAzNmzEB+fj5MTEwwf/58DB06tD6HmIgaOT5DlbRSVFQk/cKJ\n",
              "jY1F8+bNG7giIqpNo5uWISKiujHciYiMEMOdiMgIMdyJiIwQw52IyAgx3ImIjBDDnYjICPE6d9KK\n",
              "EAJqtRoA0KxZszpv80BEDYvhTkRkhDgtQ1orLi5GREREldsFN2YcU+PAMemOZ+6ktby8PFhaWiI3\n",
              "NxcWFhYNXY5ecEyNA8ekO565ExEZIYY7EZERYrgTERkhhjtpzczMDHPmzDGqB3twTI0Dx6Q7fqBK\n",
              "RGSEeOZORGSEGO5EREaI4U5EZIQY7s8wtVqNwMBAdOvWDQqFAgMHDkRqaioA4M6dOxg8eDC6du2K\n",
              "Hj164MiRI1K/2tYlJCTAx8cHKpUK3bt3x2effdYoxrRo0SI4ODjAxMSkyoPSa+v3JBhiTMHBwdL2\n",
              "evXqhVOnTj3JIRlkTA/FxMTA1NQUy5cvfwIjqWCI8QghEBERgW7dusHFxUV6hrHWBD2zioqKxO7d\n",
              "u0V5ebkQQogVK1aIfv36CSGECA4OFnPmzBFCCJGQkCA6dOggSkpK6lynUCjEzp07hRBCZGVlCRsb\n",
              "G/Hnn38+9WM6efKkuHLliujXr5/YsWNHpW3W1u9JMMSYdu7cKUpLS4UQQvz3v/8VnTt3fhJDkRhi\n",
              "TEIIkZOTIzw9PUVAQIBYtmzZExhJBUOMZ/ny5eK1114TxcXFQgghbt26pVNNDHeSnDp1SvpH3rJl\n",
              "y0r/M3l6eooDBw7UuU6pVIrvvvtOCCHE9evXRYcOHXT+n1KftB3TQ9X9I9Om35OkjzE96u7du0Iu\n",
              "l0th3xD0NaaxY8eKnTt3igkTJjzRcP87fYynQ4cOIiUlpd41cFqGJF9++SWGDx+OrKwslJaWom3b\n",
              "ttI6W1tbXL9+vdZ1ALBhwwZ8/PHH6NSpE7p164ZFixZVavukaTOm2tS3nyE97piq294rr7wCuVyu\n",
              "71J1quFxx7Rt2zaYmJhg2LBhhixVK487nry8PNy+fRs7d+6Et7c3vL29sWXLFp1qaLj/mvRUWbRo\n",
              "EVJTU3Ho0CEUFRXVezuLFy9GZGQkRo8ejatXr6Jfv37w8PCAk5OTHqvVjr7G9DTR95g2bdqEn3/+\n",
              "+Yl/jvAofYwpMzMTCxYsQFxcnH6Lqwd9jEej0UCj0aCoqAgnT55Eeno6fH194ejoCIVCodU2eOZO\n",
              "WLJkCX755Rf89ttvaNGiBdq0aQO5XI7MzEypTXp6Ojp16lTrunv37mHHjh0YPXo0AMDOzg4+Pj74\n",
              "/fffn+ox1aa+/QxBX2N6aMuWLZg7dy4OHDiAF154wVBl10pfYzpz5gxu3boFpVIJW1tbbNu2DfPm\n",
              "zcOsWbMMPYRK9DWe5557Dubm5hg7diyAirN9nT/4rveEDhmFL774Qri5uYn79+9XWj5hwoRKHwK1\n",
              "b99e+hCopnUajUZYWVmJQ4cOCSEq5nL/8Y9/iOPHjz+x8QhRvzE9VN3cpzb9DE3fY9qyZYuwt7cX\n",
              "6enphiy7Vvoe09+38aTn3PU9nilTpoivv/5aCFFxcUKnTp3EyZMnta6H4f4M++uvvwQAYWdnJxQK\n",
              "hVAoFMLLy0sIIURmZqYYOHCgsLe3F05OTiImJkbqV9u6AwcOCDc3N+Hq6iq6d+8uvvjii0Yxpvnz\n",
              "54sOHTqIpk2bijZt2ogOHTqIO3fu1NmvsY5JLpeLjh07SttTKBTi3r17jXpMj3rS4W6I8dy7d08M\n",
              "HTpUODs7C2dnZynotcV7yxARGSHOuRMRGSGGOxGREWK4ExEZIYY7EZERYrgTNYCXXnqpxhtfEekD\n",
              "w53IADQaTUOX8NTgsWgYDHciPZHJZJgzZw48PT0RHh6O/Px8TJkyBV5eXnB1dUVoaChKSkqq9Kut\n",
              "3dKlS+Hp6QmlUglPT0/Ex8cDAMrLy/H222+je/fuUCgUcHd3h1qtBgDs27cPvXv3hru7O7y8vBAb\n",
              "G1tjzRkZGXjhhRdQWFgoLRs9ejT+85//AABOnTqF/v37w8PDAyqVClu3bgVQEdj+/v7w8PCAs7Mz\n",
              "Ro8ejYKCAgBAXFwcnJ2dMWnSJCiVSuzYsUMPR5d0pq+L+ImedQDE3LlzpfdTpkyR7pBZXl4uJk2a\n",
              "JD777DMhROVvJNbW7tEv6MTHxwsHBwchhBBnz54Vjo6OoqysTAhRcavbsrIyceXKFeHj4yNyc3OF\n",
              "EEJcvnxZtG3bVqjV6hrrHj16tFi9erUQouILNzY2NiI/P19kZ2cLpVIpMjIyhBD//xvHN27cEOXl\n",
              "5dKXnsrLy8XUqVNFZGSkEEKI2NhYIZPJRFxcXH0PJekBbxxGpEchISHSz9HR0YiPj8fSpUsBAEVF\n",
              "RTA1Na3Sp7Z2iYmJWLhwIbKysiCXy5GSkoKioiLY2dlBo9EgJCQEfn5+ePXVV2FiYoK9e/ciNTUV\n",
              "ffv2lbZvYmKC69evo2vXrtXW/M4772DKlCkIDQ3FmjVr8Oabb8Lc3Bx79uzB1atXMWTIkErtU1JS\n",
              "0K5dOyxbtgy7d++GRqNBbm4ufH19pTZ2dnbo169fPY8i6QPDnUiPzM3NpZ+FENi+fTu6detWa5+a\n",
              "2pWUlCAoKAixsbHw9PREXl4eLC0tUVxcjNatW+P8+fM4fPgwYmNjER4ejiNHjkAIgYEDByIqKkrr\n",
              "mr28vNCiRQvExsbi22+/xcGDB6W6nJ2dcfz48Sp9Nm3ahJiYGBw+fBgWFhb46quvEBMTU+1xoIbB\n",
              "OXciAwkMDMSnn34qfaCYnZ0tPXpNm3ZqtRolJSXSHQRXrFgh9bl79y4KCgowaNAgLFq0CLa2trhw\n",
              "4QL8/f1x8OBBnDt3TmqbkJBQZ63vvPMOxo8fj+7du0u/ZHx9fZGWliaFPQAkJSWhpKQE2dnZsLa2\n",
              "hoWFBfLz87Fx40bdDxAZFMOdyECWLVuG5s2bQ6lUwtXVFS+//DLS09O1bmdhYYEFCxbAy8sL7u7u\n",
              "aNq0qdTnr7/+wsCBA+Hq6ooePXqgR48eGDJkCOzt7REVFYWwsDAoFAp0795dq2eJjhgxAg8ePMDb\n",
              "b78tLbOyssLu3buxaNEiKBQKODk54cMPP0R5eTnGjx+PwsJCODg4YMiQIejTp48+DhnpEW8cRkQ4\n",
              "ffo0Ro8ejeTkZJiY8JzPGHDOnegZN3nyZOzfvx9r165lsBsRnrkTPQP27NmDjz76qMry8PBwvPHG\n",
              "Gw1QERkaw52IyAjxbzAiIiPEcCciMkIMdyIiI8RwJyIyQgx3IiIjxHAnIjJCDHciIiP0/wAovuZj\n",
              "M1qr2AAAAABJRU5ErkJggg==\n",
              "\">\n",
              "        \n",
              "      </div>\n",
              "      <script></script>\n",
              "      <script type=\"text/javascript\">\n",
              "        (() => {\n",
              "          const chartElement = document.getElementById(\"chart-9c63d9ce-a7b4-4c34-819b-2bf592a26ea9\");\n",
              "          async function getCodeForChartHandler(event) {\n",
              "            const chartCodeResponse =  await google.colab.kernel.invokeFunction(\n",
              "                'getCodeForChart', [\"chart-9c63d9ce-a7b4-4c34-819b-2bf592a26ea9\"], {});\n",
              "            const responseJson = chartCodeResponse.data['application/json'];\n",
              "            await google.colab.notebook.addCell(responseJson.code, 'code');\n",
              "          }\n",
              "          chartElement.onclick = getCodeForChartHandler;\n",
              "        })();\n",
              "      </script>\n",
              "      <style>\n",
              "        .colab-quickchart-chart-with-code  {\n",
              "            display: block;\n",
              "            float: left;\n",
              "            border: 1px solid transparent;\n",
              "        }\n",
              "\n",
              "        .colab-quickchart-chart-with-code:hover {\n",
              "            cursor: pointer;\n",
              "            border: 1px solid #aaa;\n",
              "        }\n",
              "      </style>"
            ]
          },
          "metadata": {}
        },
        {
          "output_type": "display_data",
          "data": {
            "text/plain": [
              "<google.colab._quickchart_helpers.SectionTitle at 0x7b1b1fc58cd0>"
            ],
            "text/html": [
              "<h4 class=\"colab-quickchart-section-title\">Time series</h4>\n",
              "<style>\n",
              "  .colab-quickchart-section-title {\n",
              "      clear: both;\n",
              "  }\n",
              "</style>"
            ]
          },
          "metadata": {}
        },
        {
          "output_type": "display_data",
          "data": {
            "text/plain": [
              "import numpy as np\n",
              "from google.colab import autoviz\n",
              "df_9144842760970748840 = autoviz.get_df('df_9144842760970748840')\n",
              "\n",
              "def time_series_multiline(df, timelike_colname, value_colname, series_colname, figsize=(2.5, 1.3), mpl_palette_name='Dark2'):\n",
              "  from matplotlib import pyplot as plt\n",
              "  import seaborn as sns\n",
              "  palette = list(sns.palettes.mpl_palette(mpl_palette_name))\n",
              "  def _plot_series(series, series_name, series_index=0):\n",
              "    if value_colname == 'count()':\n",
              "      counted = (series[timelike_colname]\n",
              "                 .value_counts()\n",
              "                 .reset_index(name='counts')\n",
              "                 .rename({'index': timelike_colname}, axis=1)\n",
              "                 .sort_values(timelike_colname, ascending=True))\n",
              "      xs = counted[timelike_colname]\n",
              "      ys = counted['counts']\n",
              "    else:\n",
              "      xs = series[timelike_colname]\n",
              "      ys = series[value_colname]\n",
              "    plt.plot(xs, ys, label=series_name, color=palette[series_index % len(palette)])\n",
              "\n",
              "  fig, ax = plt.subplots(figsize=figsize, layout='constrained')\n",
              "  df = df.sort_values(timelike_colname, ascending=True)\n",
              "  if series_colname:\n",
              "    for i, (series_name, series) in enumerate(df.groupby(series_colname)):\n",
              "      _plot_series(series, series_name, i)\n",
              "    fig.legend(title=series_colname, bbox_to_anchor=(1, 1), loc='upper left')\n",
              "  else:\n",
              "    _plot_series(df, '')\n",
              "  sns.despine(fig=fig, ax=ax)\n",
              "  plt.xlabel(timelike_colname)\n",
              "  plt.ylabel(value_colname)\n",
              "  return autoviz.MplChart.from_current_mpl_state()\n",
              "\n",
              "chart = time_series_multiline(df_9144842760970748840, *['date_added', 'release_year', 'show_id'], **{})\n",
              "chart"
            ],
            "text/html": [
              "      <div class=\"colab-quickchart-chart-with-code\" id=\"chart-5ff80698-7626-4bd9-9c24-2f321bc53c24\">\n",
              "        <img src=\"data:image/png;base64,iVBORw0KGgoAAAANSUhEUgAAAUQAAACNCAYAAADPegMOAAAAOXRFWHRTb2Z0d2FyZQBNYXRwbG90\n",
              "bGliIHZlcnNpb24zLjcuMSwgaHR0cHM6Ly9tYXRwbG90bGliLm9yZy/bCgiHAAAACXBIWXMAAA9h\n",
              "AAAPYQGoP6dpAAAjRElEQVR4nO3deViU9fo/8PcwDFuAIpCyL4IbOKAJEmqgggJ6KXZcSM0l1Mrl\n",
              "1ylPJqm5FWQhhHo6olZ2aSpoqBXJlYhgyrEwN4j0yCaisYiIIOvA/fsjfb5OMDDMDAp6v65r/mCe\n",
              "z+f+3M/jeF/P+nlERERgjDEGrSedAGOMdRVcEBlj7AEuiIwx9gAXRMYYe4ALImOMPcAFkTHGHuCC\n",
              "yBhjD3BBZIyxB565ghgTE/OkU2CMdVHanRm8rq4OISEhyM7Ohr6+Pp5//nn85z//gZOTE0pLSzFn\n",
              "zhzk5uZCV1cXn3/+OV566SUAwPz583HmzBno6+vD0NAQn332GTw8PAAANTU1CA0NRUZGBrS0tBAe\n",
              "Ho6pU6cqndP169c7ZV0Ze5oQEWQyGZqamp50KhohkUggFovbbdepBREAFi1ahMDAQIhEImzbtg0L\n",
              "FixAamoqVq5cCS8vLyQlJSEjIwNTpkxBfn4+JBIJpkyZgp07d0JbWxs//PADpk2bhoKCAgBAZGQk\n",
              "dHV1kZOTg/z8fAwfPhyjR4+GqalpZ68KY8+EhoYG/Pnnn6ipqXnSqWiMSCSCtbU1DA0N2273OJ9l\n",
              "PnfuHKZOnYqCggIYGhoiJycHffr0AQB4enoiPDwcfn5+cn1u374NCwsL1NbWQltbGy4uLvjiiy/g\n",
              "5eUFAJg+fTrGjRuHBQsWtBivvr4e9fX1ct+tWbOGD5sZU6C5uRnXrl2DWCyGubk5dHR0IBKJnnRa\n",
              "aiEilJWVoaamBs7Ozm3uKXb6HuKjYmJiMHnyZJSXl6OxsVEohgBgb2+PwsLCVvsEBQVBW/uvVAsL\n",
              "C2FnZ9duPwCIiIjA+vXr5b57WEgZYy01NDSgubkZNjY2MDAweNLpaIy5uTkKCgrQ2NjYZkF8bBdV\n",
              "wsPDkZOTg4iICKX77N27F/Hx8dixY4dKY4aFhaGyslLu4+npqVIsxp4lWlpP1/VWZfdyH8taR0ZG\n",
              "IiEhAceOHYOBgQFMTU2hra2N4uJioU1BQQFsbW2Fv+Pi4rB+/XocP34cvXv3Fr63tbWVuzDy936P\n",
              "0tXVhbGxsdxHmROrjLFnU6cXxKioKOzfvx/Hjx9Hz549he+nTZuG7du3AwAyMjJw8+ZN+Pj4AADi\n",
              "4+OxevVqJCcntyh2j/bLz89HamoqgoODO3s1GGPPgE4tiEVFRVi+fDnu3r2L0aNHw93dHcOHDwcA\n",
              "bNq0Cenp6XB2dsa8efOwd+9eSCQSAMCsWbNQV1eHyZMnw93dHe7u7igvLwcAvPvuu6itrUXfvn0x\n",
              "fvx4bNu2DWZmZp25GoyxVqSmpsLd3f2xjvnBBx/gm2++aXXZtm3bMG/ePLXid+pFFWtrayi6iN27\n",
              "d2/89NNPrS5rbGxUGPO5555DXFycRvJjjHUvGzZs6NT4T9eZU8ZYp6itrcWMGTMwaNAguLm5Ydy4\n",
              "cQAAmUyGxYsXw83NDS4uLjh37pzQZ8+ePZBKpZBKpZgwYQJu3rwJAPD29kZ6ejoAYMWKFbCyshL6\n",
              "ODo6KrxrBADmzZuHzz77DABQVVWFGTNmoH///hg5ciQyMzPVXk8uiIyxdiUlJeHu3bvIzs7GpUuX\n",
              "cODAAQDAlStXMHfuXFy6dAnLli3DqlWrAABZWVl49913cezYMVy+fBne3t7CvcJ+fn5ITk4GAKSk\n",
              "pMDa2hrZ2dnIzc2Ftra2woukf7dhwwbo6uriypUrSExMxKlTp9Rezw4XxKamJnz77bdqD8wY6z7c\n",
              "3Nzwxx9/YPHixYiLixPO9zs5OQnXBV588UXk5uYCAE6ePImAgABh72/x4sVISUlBU1OTUBBv374N\n",
              "bW1tTJ8+HcnJyUhOTsbYsWOVzunEiRMIDQ2FSCRCjx49MHPmTLXXs8MFUSwW46OPPlJ7YMZY9+Ho\n",
              "6Ijs7GwEBATgzJkzcHV1RUVFBfT09IQ2YrEYMpms1f6P3gf44osvIisrC0ePHsWYMWOEAtnRgtjW\n",
              "GKpS6ZB56NChOH36tNqDM8a6h6KiIohEIkyaNAmRkZEgIty4cUNh+9GjRyMpKQm3bt0CAGzfvh1j\n",
              "x46FWCyGRCKBl5cXNm7cCD8/P0ilUmRnZyM1NRVjxoxROic/Pz989dVXICLcu3cP+/fvV3s9VbrK\n",
              "fPbsWezevRuOjo5yD0ufP39e7YQYY11PZmYmwsLChFlwXn31VUilUoXtXV1d8emnnyIgIAAAYGNj\n",
              "g507dwrL/fz8kJqaihEjRkAkEsHT0xNXr15Fr169lM5pzZo1WLBgAQYMGABzc3OMHDmyxdwFHaXS\n",
              "5A5paWmtfv/wxuqu7J133kFUVNSTToOxLqmurg75+flwcHCQOxzu7pRdL5X2ELtD4WOMsY5SqSDW\n",
              "1tZi69atuHjxIurq6oTvExISNJYYY+zZ9OOPP+L9999v8X1YWBhmzJjRqWOrVBAXLlwIY2NjpKen\n",
              "Y/ny5di9e7cw2zVjjKkjKCgIQUFBT2Rsla4yX7p0CZ9//jmMjY2xbNkypKam4rffftN0bowx9lip\n",
              "VBD19fUBANra2rh//z6MjIxQVlam0cQYY+xxU+mQuVevXqioqEBQUBDGjx8PMzMzWFtbazo3xhh7\n",
              "rFQqiImJiRCLxdi4cSP27duHiooKzJkzR9O5McaYQtXV1fjHP/6B3377DTKZDHfv3lU7pkoFUSwW\n",
              "488//8TVq1cxa9YsNDY2KpzmizHGOoNEIsF7772HXr16wdfXVyMxVSqIhw4dwvLlyyESiVBQUIDs\n",
              "7GyEhYXhxx9/1EhSjLGugYhQK1M8P6km6GtL2n0Ouba2FvPmzUNmZiYkEokwn+qYMWOEVxRrgkoF\n",
              "MSIiAufPnxdeGerm5sYvgGfsKVQra0S/vR906hj/m70BBhKdNts8Ov0YANy5c6dTclHpKrNYLG7x\n",
              "YngdnbZXiDHGVKVo+jFNU2kP0cjICCUlJcJu7okTJzr0UDZjrHvQ15bgf7M7d9p+fe32i9vD6cdS\n",
              "UlKQnJyMFStW4OLFizAxMdFoLioVxE2bNiEwMBB5eXkYOXIk8vPzkZiYqNHEGGNPnkgkavdw9nEo\n",
              "KiqCiYkJJk2ahICAABw5cgQ3btzoGgVx2LBhOHnyJNLT00FE8Pb2lnvFKGOMaZKi6cekUinKyspw\n",
              "7949WFtbY/To0dizZ4/K46hUEGNjYzFnzhwEBgaqPDBjjCkrMDCw1Xpz+fJljY6j0kWVU6dOwcHB\n",
              "AW+//TZycnI0mhBjjD0pKhXEb775BpcuXYKpqSnGjh2LwMBAvgeRMdbtqfwa0t69e2P16tX4+uuv\n",
              "8fvvv2P27NkYMGAATpw4ocn8GGPssVGpINbV1WHXrl0YMmQIVq1ahU8//RRlZWXYu3cvQkND5doF\n",
              "BwejX79+cHNzg7+/v3CIXVpaioCAADg7O8PV1VXunarh4eHo378/tLS0cOTIEbmxfX194eDgAHd3\n",
              "d7i7uyM6OlqVVWCMsRZUuqhib28Pf39/7NixAx4eHsL3w4YNg7+/v1zbRYsWITAwECKRCNu2bcOC\n",
              "BQuQmpqKlStXwsvLC0lJScjIyMCUKVOQn58PiUQCPz8/hISE4LXXXmt1/OjoaAQHB6uSOmOMKaRS\n",
              "Qbxw4QIsLCxaXbZz504cPHgQ06ZNg56entzMt15eXoiMjAQAxMfHC3uLHh4esLS0RFpaGvz8/ODp\n",
              "6alKWi3U19e3eAtXU1OTRmIzxp4+Kh0yKyqGD0VERLT6fUxMDCZPnozy8nI0NjaiT58+wjJ7e3sU\n",
              "FhYqNf7KlSsxePBgzJgxA3l5eW3m0aNHD7nPr7/+qtQYjLFnj8oXVdrS2lRg4eHhyMnJUVgslbVn\n",
              "zx5cuXIFly9fxqhRozBx4kSFbcPCwlBZWSn30dTeJ2PsycrMzMRLL72EAQMGwNXVFa+99hpqa2vV\n",
              "itkpBfHvU/lERkYiISEBx44dg4GBAUxNTaGtrY3i4mKhTUFBAWxtbduNbWNjI4yxdOlS5OXloby8\n",
              "vNW2urq6MDY2lvuIxWI11oyxZwsRobn+fqd+VJ1LVU9PD9u2bcOVK1dw6dIl3L9/H5s2bVJrfVU6\n",
              "h9gRUVFR2L9/P5KTk+Ue75s2bRq2b9+OdevWISMjAzdv3mz3fc8ymQzl5eXo3bs3AODbb79F7969\n",
              "W8y8wxjTDGqoQc7rxp06hlPsPYh0n2uzjaL5EB8Si8Xw8PBAVlaWWrl0SkF8WPGLioqwfPlyODo6\n",
              "YvTo0QD+2mv75ZdfsGnTJrz66qtwdnaGjo4O9u7dK0zp8+GHH2L79u0oKytDVlYWli5digsXLsDA\n",
              "wAATJkxAfX09tLS0YGZmhu+++64zVoEx1oW0Nx/i/fv3sWvXLrVPyYlIxf3VxsZGFBYWom/fvi2W\n",
              "HTt2rMs+5/zOO+8gKirqSafBWJdUV1eH/Px8ODg4QE9PD0QEaqjp1DFFOgbtzpidl5cHX19fTJw4\n",
              "ET4+PggKCoKRkREAoKGhAS+//DIcHR2xZcuWVvv/fb0UUekcYmpqKuzs7IS9voyMDMyePVtY3lWL\n",
              "IWOsY0QiEbR0n+vUT3vFEPi/+RADAgJw5swZuLq6oqKiAo2NjZgxYwYsLCwQExOj9vqqVBBXrlyJ\n",
              "n3/+WTh35+HhgQsXLqidDGOMtaaoqAgikQiTJk1CZGQkiAg3btxASEgIevXqhR07dihVWNuj0jnE\n",
              "pqamFofK/AoBxlhnaW0+xMzMTCQkJEAqlWLIkCEAgBEjRuDf//63yuOoVBD19PRQXV0tVOTMzEzo\n",
              "6+urnARjjLVF0XyIs2bN0ug4KhXENWvWYNy4cbh58yZmz56N5ORk7Nu3T6OJMcbY46ZSQRw3bhyc\n",
              "nZ2RlJQEIsL69etbvdrMGGPdiUoFsaGhAQ4ODnjzzTeRl5eH7Oxs2Nvb81MgjLFuTaWrzCNGjEBV\n",
              "VRXKy8sxatQoREREYMmSJZrOjTHGHiuVCqJMJoORkRESExMxd+5cnDlzBmfOnNF0bowx9lipVBAb\n",
              "GhoA/HWD9pgxYwCAD5cZY92eSucQR48ejUGDBqGpqQmxsbGoqKiAtnanzxPBGGOC/Px8TJ06FU1N\n",
              "TZDJZBg4cCB27Nih1svrVdpD3Lp1K/bt24eMjAxIJBI0NTVh586dKifBGGMdZWlpidOnT+PixYvI\n",
              "ysqCpaUl1q1bp1ZMlXbrRCIR3N3dUV9fj3v37kFHR4dvu2HsKUREaGzo3NduSHTE7T521970X01N\n",
              "Tbh//z4MDQ3VykWlgnj27FnMnz8f//vf/+S+5/eVMPZ0aWxowuqVSZ06xocfB0BHt+1SpGj6r4aG\n",
              "Bnh6euL69euQSqVqTweo0iHzW2+9hd27d0MqleLu3bvYsGEDPvnkE7USYYwxRdzc3PDHH39g8eLF\n",
              "iIuLE+ZO1dHRwcWLF1FSUoIBAwYgNjZWrXFUmg9x6NChOH/+PAYPHozMzEwAf814k5GRoVYyjwPP\n",
              "h8iYYq3Nh9gVDpkBoLq6GikpKUhOTsbRo0dx8eJFuQsoZ8+excKFC4Wa9Chl50NU6ZD5YXU2NTXF\n",
              "+fPnYWNjg7KyMlVCMca6MJFI1O7h7ONQVFQEExMTTJo0CQEBAThy5AguX74MDw8PGBgYoLm5GQcP\n",
              "HoRUKlVrHJXWNCQkBOXl5Xj//ffh4+ODxsZGfPjhh2olwhhjirQ2/de9e/fg5eUFAGhubsbQoUMV\n",
              "zpitLJVfIfBQY2Mj6urqhOm8uzo+ZGZMMWUPLbubTn2FgEwmw+bNm/Hmm29CIpGgtLQUKSkpKifL\n",
              "GGNdgUqHzEuXLkVTUxNOnz4N4K9ziTNmzMC5c+c0mhxjjD1OKt+HePHiRWHa7p49e6KxsVGjiTHG\n",
              "2OOm0iHz34/Bm5qa0NzcrJGEGGPsSVGpIEqlUuzduxfNzc3IycnBG2+8AV9fXw2nxhhjj5dKBTEq\n",
              "Kgo///wziouLMWLECGhpaeHjjz/WdG6MMfZYqVQQDQ0NERsbi5KSEpSUlCA2NhbPPfdci3Z1dXUI\n",
              "Dg5Gv3794ObmBn9/f+Tk5AAASktLERAQAGdnZ7i6uuLUqVNCv/DwcPTv3x9aWlo4cuSIXMy2+jHG\n",
              "mDo6dFGlvQenJ02a1OK7RYsWITAwECKRCNu2bcOCBQuQmpqKlStXwsvLC0lJScjIyMCUKVOQn58P\n",
              "iUQCPz8/hISE4LXXXmsRr61+jLFn07x58/D111+joqICPXv2VDlOhwpidHS0wmUikahFQdTT00NQ\n",
              "UJDwt5eXFyIjIwEA8fHxwt6ih4cHLC0tkZaWBj8/P3h6eiocp61+f1dfX4/6+nq573hGHsaUR0Sg\n",
              "2s69g0SkL1HqWWZFEhISNLZD1KGCePLkSbUGi4mJweTJk1FeXo7Gxkb06dNHWGZvb4/CwsI2+3e0\n",
              "X0REBNavXy/33cNHfRhj7aPaRpQOi+nUMZ4/9xZEBjpttlE0H2JJSQnCw8Nx8uRJ7Nq1S+1c1HpS\n",
              "ZfHixQCA3Nzcdp9UCQ8PR05ODiIiIlQZUiVhYWGorKyU+7S198kY65oenQ/x0qVLOHDgAABg4cKF\n",
              "+OSTTzT26PBjeVIlMjISCQkJSE5OhoGBAQwMDKCtrY3i4mJhb6+goAC2trZtjmtqatqhfrq6utDV\n",
              "1ZX7jl+GxZjyRPoSPH/urU4foz2Pzofo4+ODoKAg7Nq1C7a2tsKL7jRBpT3Es2fPYufOncIN2m09\n",
              "qRIVFYX9+/fj+PHjcic7p02bhu3btwMAMjIycPPmTfj4+LQ7tqr9GGMdJxKJoGWg06kfZc4fOjo6\n",
              "Ijs7GwEBAThz5gxcXV1x+PBhHD16FPb29rC3twfw1z3SFy5cUH2FSQXDhw8nIiJ3d3ciIpLJZOTq\n",
              "6tqi3Y0bNwgAOTo6kpubG7m5uZGnpycRERUXF5O/vz85OTnRoEGDKCUlRei3ceNGsrKyIh0dHTI1\n",
              "NSUrKysqLS1tt58y3n77bVVWmbFnQm1tLWVnZ1Ntbe2TTkXOjRs3qLq6moiI6uvrycbGhi5duiTX\n",
              "BgBVVFS02l/Z9VLpkPnvT6ps2rSp1SdVrK2tQQpmF/v7S2IetXr1aqxevbrD/RhjT6fW5kNUdzLY\n",
              "1qhUEKOiorB8+XLhSZXg4GBs2rRJ07kxxhgAIDAwEIGBgW22UbTz1REdLohNTU3YuHEjYmNj1X6h\n",
              "C2OMdSUdvqgiFovVvh+RMca6IpWuMgcFBeGjjz7CrVu3cO/ePeHDGGPdmUrnEDds2AAAWLNmDUQi\n",
              "EYgIIpGIH4tjjHVrKhVEngyWMfY0UumQmTHGnkZcEBlj7AEuiIyxbqmgoABisRju7u7CJzc3V62Y\n",
              "Kp1DZIw9G4gIDU21nTqGjlhf5fkQjYyMcPHiRY3lwgWRMaZQQ1Mt/t/BgZ06xpZpf0BX26DNNq3N\n",
              "h7hjxw6N58IFkTHW5T06HyIA3LlzB/fu3cP9+/fh4eGBpqYmBAcHY9WqVWpN8SciTTwA2I28/PLL\n",
              "wlRBijQ1NeHXX3+Fp6enRudP7Ky43TV2d8y5q8a2s7PDW2+pP29hXV0d8vPz4eDgAD09vS5zyJyX\n",
              "lwdfX19MnDhRmA9RR0cHlZWVeP7553Hnzh3MmDED/v7+WLFiRYv+f18vhdSak+cpVVlZSQCosrKy\n",
              "W8TtrrG7Y87dObYyuur0X0REVVVVdPToUVq2bBnZ2trSnTt35Jbv27ePJk6c2GpfZdeLrzIzxrq8\n",
              "oqIi4UV2kZGRICJkZmYKE1PX19cjISEBQ4YMUWscPofIGOvyWpsP8fbt2xgyZAjEYjFkMhnGjBmD\n",
              "VatWqTUOF0TGWJenaD7El19+WaPj8CFzK3R1dbF27doWL6jqqnG7a+zumHN3js3a98xdZWaMKab0\n",
              "1dhuRtn14j1ExlgLT9uMVsru9/E5RMaYQEdHB1paWrh16xbMzc2ho6Pca0K7MiJCWVkZRCIRJJK2\n",
              "3wHNh8yMMTkNDQ34888/UVNT86RT0RiRSARra2sYGhq23VDtuyWfoNraWpo8eTI5OzuTVColPz8/\n",
              "unbtGhERlZSU0Pjx48nJyYlcXFwoLS1N6PfRRx9Rv379SCQS0eHDh+Vienp6kpubGw0ePJiMjIwI\n",
              "APXr16/V2H379qUePXqQpaUlOTs708GDB+Vi29raklgspujoaI3GBkD29vbCu65FIhF9+umn5OHh\n",
              "QcbGxiSRSMjCwkLh9hg4cCCNGTOG+vbtS87OzvTKK68IOS9ZsoRcXV2FvH/55RcaPnw4SaVSMjQ0\n",
              "JDMzM4XbuqM5R0ZGkre3N7m6upKxsTFZWVmpFLu1bf3rr7+qFXvevHnk7OxMxsbGZGBgQM7OzkLe\n",
              "8fHxNG3aNDIwMCCJREJ2dnZKb2tfX1/h9+rk5ESOjo5C3vfv36eQkBCh7cGDBxX+9ttqGxwcLGzn\n",
              "hzkfPXq0Q/+3mpubqaGhgWpra5+Kj0wmU2q9u31BTExMpObmZiIi2rp1K/n4+BAR0fz582nt2rVE\n",
              "9Nd/DisrK2poaCAiol9++YVyc3PJx8enRUF8NHZYWBi5uLgojL1+/XqaMGECWVlZ0dWrV8nc3Jx+\n",
              "+uknys3NpRdeeIG2bNlCr776qvCfVFOxH807IyODTE1NSSqV0sGDBykxMZFu375N5ubm9P7777e6\n",
              "PRYtWkQGBgbU0NBAeXl51LNnTzp37hz5+PhQVFQUZWdnC3m7ubnR0aNHqba2lg4cOEBmZmb0+++/\n",
              "q51zr169yMrKio4fP061tbW0Y8cOsra2ppqaGrW3dXNzs9qx9+zZQ42NjURE9P3335OdnZ2wrT/4\n",
              "4AOaPXs2JSYmUm5uLpmbm9PHH3+s1LY2Njam4uJiIiLasmULWVpaCnmvX7+e5s6dS0REeXl5ZG5u\n",
              "Trdv327196ls24c519fXtxqHyevWF1X09PQQFBQknOPw8vJCQUEBACA+Ph5vvPEGAMDDwwOWlpZI\n",
              "S0sDAHh6esLR0bHd2BcuXMCCBQsUxo6Li8Pq1athaWmJwsJC+Pr64vr163B0dIShoSFsbGygpdVy\n",
              "E6sb+1FffPEFZs+eDS0tLdTU1CAoKAg1NTXQ0dHBqFGjWt0ep0+fhp2dHdLS0uDg4AB/f39cuHAB\n",
              "AODg4ICBAwcKeYtEIty9exd6enrw9vaGrq4uevXqpXbOU6dORVlZGfz8/KCnp4eFCxfCxMQEx44d\n",
              "U3tbl5eXqx27rq4O2trawr/PzZs3sXPnTsyePRuHDh3CkiVLEBQUBEdHR/j6+qKqqkqpbT1+/Hh8\n",
              "//33AIBXXnkFpaWlwnaJi4sT+jk4OMDX1xeHDx9u9fepbNuHvw8dHZ1W4zB53bog/l1MTAwmT56M\n",
              "8vJyNDY2ok+fPsIye3t7FBYWKh3rxo0bSEtLw+zZsxXGLiwshJ2dnRBb2TE0Fbu2thb79+9HaGgo\n",
              "vvrqK6xZswa2trbo168fwsPD8c0337S6PQoLC+Hk5CTEayvv1uL26dNH7ZyXLl0KCwsLxMfHAwAy\n",
              "MjJw9epVFBQUqL2tzczMNBo7JiYG48ePR1xcHEJDQ4X2D9nb2+O7777r8LaOiYlBUFCQUMhbi6to\n",
              "HZVp++jvgynnqbnKHB4ejpycHJw4cQK1terPzrF7925MnDgRZmZmXTb2oUOH0K9fPwwePBghISGI\n",
              "iIjAzJkzkZeXhyFDhsDBwQHp6elq5fzxxx/LxfXx8cH58+c1kvPRo0fx3nvvISIiAi4uLhg5ciRS\n",
              "UlJQXl6u9rbWVOy9e/ciPj4ey5YtQ2lpKQYPHtyizdmzZ3Hnzh1ERER0OO6pU6fw3nvvdWjdlPXo\n",
              "tmbKeSr2ECMjI5GQkIBjx47BwMAApqam0NbWRnFxsdCmoKAAtra2SsUjInz11VcIDQ0VYkdHR8Pb\n",
              "2xtjx45Fc3MziouLYWtri+vXrwuxlRlDk7G/+OILhIaG4vbt2zh8+DBmzpwJAEhISIBYLMb8+fNR\n",
              "UFCAsWPHQiaTYf78+QAAW1tb5OTkCPEU5V1dXS0X19HRESYmJjhy5IjaOQOAm5sbkpKScOHCBezd\n",
              "uxeZmZm4du2aRra1JmLHxcVh/fr1OH78OA4dOiTk/bA98NdvLysrCytWrFB6W5eUlAhxe/fuLeT8\n",
              "aNxH/12ys7OFKfKXLFnSZltF25op6UmfxFTX5s2baejQoS2mApo7d67cRRVLS0vhospDii6qJCcn\n",
              "k42NDUVGRrYZe+3atTRhwgSytLQUTsaXlZXJxZ47d67cRRVNxf7888/pueeeo8rKSpLJZGRiYkIn\n",
              "TpygzZs3k1QqJSsrK0pPT291eyxYsID09fWFE/0PYz+6PebOnUubN28W4hIRbdiwgSQSCSUlJamd\n",
              "MxHRrVu3hBgPr9qWl5drZFurG3vnzp3k5OREBQUFdO3aNbm8165dK2wfV1dXMjU1FXJpb1sbGRmR\n",
              "g4MDFRQUyLWPjo4W4hKR3L9La9pr+/ecmXK6dUG8ceMGASBHR0fhFgNPT08iIiouLiZ/f39ycnKi\n",
              "QYMGUUpKitBv48aNZGVlRTo6OmRqakpWVlZUWloqLH/llVfon//8Z7ux+/btS8bGxmRhYUHOzs4U\n",
              "FxcnxNbW1iYtLS0SiURkZGREVlZWdP78eY3E1tHRIX19fTIwMBDyPn78OLm6uhIAkkgkZGlpqXB7\n",
              "DBgwgHx9fcnR0ZGcnZ1p+vTpQlxDQ0PS0tIifX196tGjB5mamtKAAQNowIABBIBMTU01lvO6devI\n",
              "2dmZ7O3tCQDZ2tpqbFu//vrrasXW1tYma2trcnNzo+eff55MTEyEq7jV1dU0ceJEYVvb2dkpva3F\n",
              "YrEQ18bGhiQSibCtLSwsyN/fX2gbFxen8LdfXV1N06dPV9g2LCyM5syZ0+H/U886vjGbMcYeeCrO\n",
              "ITLGmCZwQWSMsQe4IDLG2ANcEBlj7AEuiM8YMzMz4REzRdatW4e6urrHkk9WVpbC18JWV1erNPWU\n",
              "qv0Y44LIWli/fv1jK4iMdSVcEJ9y3333HQYOHAipVCr3Au9//etf8PDwgLu7O1566SVcvXoVAIQJ\n",
              "A0aNGgV3d3eUlpaiqqoKCxcuhKenJ6RSKRYtWoSGhgaFY8pkMowfPx7Dhg2Di4sLZs6cifv37wvL\n",
              "161bB2dnZ7zwwgs4cOCAXN/Y2Fg4OztjyJAhiI6OlluWkZGBMWPGYNiwYRgyZAgOHjyoVD/GlPak\n",
              "b4RknaekpIR69epFv//+OxERxcbGEgDKz8+XuxF9//79NH78eOFvAFRRUSH8vXDhQvr666+J6K95\n",
              "8kJDQ+mTTz5ROG5zc7NwE3NzczO98cYbFBERQUREP/zwAw0aNIgqKyupubmZZs2aRXZ2dkRElJmZ\n",
              "Sb179xaeMgkLC6OHP9GKigpyd3cXlpWVlZGNjQ0VFRW12Y+xjnhqJndgLZ09exZSqRSDBg0CAISG\n",
              "hmLZsmUAgOPHj2Pr1q2oqqpCc3Mz7ty5ozDOkSNH8N///hdRUVEA/ppFRSwWK2xPRIiOjkZiYiJk\n",
              "MhkqKyvh7e0NADhx4gSmT58OY2NjAMDrr7+O06dPAwBSUlIQGBgICwsLAMCbb76JiIgIAEB6ejry\n",
              "8vJavIry6tWryMrKUtiPsY7ggvgMeXihobCwEEuXLkVGRgb69u2Ly5cv46WXXlLYj4jw7bffol+/\n",
              "fkqNs2/fPqSkpCAtLQ3GxsbYsmULUlJS2sypvWVEBBcXF6Snp7dol5WVpXRMxtrC5xCfYi+++CIu\n",
              "X76MK1euAAC+/PJLNDQ0wMTEBBKJBBYWFiAibNu2Ta6fkZERKisrhb+Dg4OxadMmyGQyAEBFRQVy\n",
              "cnIUjltRUQEzMzMYGxujqqoKu3fvFpb5+fnh4MGDqKqqAhFhx44dwrIxY8YgKSlJmKVo+/btwjJv\n",
              "b2/k5+cjOTlZ+O7ixYtoaGhosx9jHcEF8Slmbm6OL7/8ElOmTIGbmxuuXbsGU1NTGBkZISQkBC4u\n",
              "LvDw8GgxbdTy5cvh7+8vXFSJjo6Gvr4+3N3dIZVKMXbs2DZv3ZkzZw5qamrQv39/BAYGYtSoUcKy\n",
              "oKAgTJ06FUOHDsWwYcPkxnZ1dcW6deswatQoDBkyRO5l7SYmJkhMTER4eDjc3NwwaNAgrFy5Es3N\n",
              "zW32Y6wjeHIHxhh7gPcQGWPsAb6owlQ2adKkFu/xMDExwcmTJ59QRoyphw+ZGWPsAT5kZoyxB7gg\n",
              "MsbYA1wQGWPsAS6IjDH2ABdExhh7gAsiY4w9wAWRMcYe+P/sWBRnofHWAAAAAABJRU5ErkJggg==\n",
              "\">\n",
              "        \n",
              "      </div>\n",
              "      <script></script>\n",
              "      <script type=\"text/javascript\">\n",
              "        (() => {\n",
              "          const chartElement = document.getElementById(\"chart-5ff80698-7626-4bd9-9c24-2f321bc53c24\");\n",
              "          async function getCodeForChartHandler(event) {\n",
              "            const chartCodeResponse =  await google.colab.kernel.invokeFunction(\n",
              "                'getCodeForChart', [\"chart-5ff80698-7626-4bd9-9c24-2f321bc53c24\"], {});\n",
              "            const responseJson = chartCodeResponse.data['application/json'];\n",
              "            await google.colab.notebook.addCell(responseJson.code, 'code');\n",
              "          }\n",
              "          chartElement.onclick = getCodeForChartHandler;\n",
              "        })();\n",
              "      </script>\n",
              "      <style>\n",
              "        .colab-quickchart-chart-with-code  {\n",
              "            display: block;\n",
              "            float: left;\n",
              "            border: 1px solid transparent;\n",
              "        }\n",
              "\n",
              "        .colab-quickchart-chart-with-code:hover {\n",
              "            cursor: pointer;\n",
              "            border: 1px solid #aaa;\n",
              "        }\n",
              "      </style>"
            ]
          },
          "metadata": {}
        },
        {
          "output_type": "display_data",
          "data": {
            "text/plain": [
              "import numpy as np\n",
              "from google.colab import autoviz\n",
              "df_1460714989324010061 = autoviz.get_df('df_1460714989324010061')\n",
              "\n",
              "def time_series_multiline(df, timelike_colname, value_colname, series_colname, figsize=(2.5, 1.3), mpl_palette_name='Dark2'):\n",
              "  from matplotlib import pyplot as plt\n",
              "  import seaborn as sns\n",
              "  palette = list(sns.palettes.mpl_palette(mpl_palette_name))\n",
              "  def _plot_series(series, series_name, series_index=0):\n",
              "    if value_colname == 'count()':\n",
              "      counted = (series[timelike_colname]\n",
              "                 .value_counts()\n",
              "                 .reset_index(name='counts')\n",
              "                 .rename({'index': timelike_colname}, axis=1)\n",
              "                 .sort_values(timelike_colname, ascending=True))\n",
              "      xs = counted[timelike_colname]\n",
              "      ys = counted['counts']\n",
              "    else:\n",
              "      xs = series[timelike_colname]\n",
              "      ys = series[value_colname]\n",
              "    plt.plot(xs, ys, label=series_name, color=palette[series_index % len(palette)])\n",
              "\n",
              "  fig, ax = plt.subplots(figsize=figsize, layout='constrained')\n",
              "  df = df.sort_values(timelike_colname, ascending=True)\n",
              "  if series_colname:\n",
              "    for i, (series_name, series) in enumerate(df.groupby(series_colname)):\n",
              "      _plot_series(series, series_name, i)\n",
              "    fig.legend(title=series_colname, bbox_to_anchor=(1, 1), loc='upper left')\n",
              "  else:\n",
              "    _plot_series(df, '')\n",
              "  sns.despine(fig=fig, ax=ax)\n",
              "  plt.xlabel(timelike_colname)\n",
              "  plt.ylabel(value_colname)\n",
              "  return autoviz.MplChart.from_current_mpl_state()\n",
              "\n",
              "chart = time_series_multiline(df_1460714989324010061, *['date_added', 'release_year', 'type'], **{})\n",
              "chart"
            ],
            "text/html": [
              "      <div class=\"colab-quickchart-chart-with-code\" id=\"chart-a21524f8-b8ee-4f22-849e-b5c59caf1199\">\n",
              "        <img src=\"data:image/png;base64,iVBORw0KGgoAAAANSUhEUgAAAWcAAACNCAYAAABrELvdAAAAOXRFWHRTb2Z0d2FyZQBNYXRwbG90\n",
              "bGliIHZlcnNpb24zLjcuMSwgaHR0cHM6Ly9tYXRwbG90bGliLm9yZy/bCgiHAAAACXBIWXMAAA9h\n",
              "AAAPYQGoP6dpAAAsmklEQVR4nO3deVxU9f4/8NfAMMOObCL7IpuIMKggQoIoaKC5lCtuIWp507K8\n",
              "31zKxOpCdlUuaV73pSxzzUzUXyyKC6mQ4oYS2wiCCCIiyD7z+f1BnuskIAyDDPh+Ph48Hs1Z3ud9\n",
              "DuO7w+d8Pp/DY4wxEEIIUSoqnZ0AIYSQ51FxJoQQJUTFmRBClBAVZ0IIUUJUnAkhRAlRcSaEECVE\n",
              "xZkQQpQQFWdCCFFCr1xxjomJ6ewUCCHkhfgdGbympgZTpkxBeno6NDQ00LNnT/z3v/+Fvb09iouL\n",
              "MXPmTGRnZ0MoFGLjxo3w8/MDAISFheH8+fPQ0NCAtrY2/vOf/8DT0xMAUFVVhfDwcKSkpEBFRQWR\n",
              "kZGYMGFCq3O6c+dOh5wrId0JYwwNDQ2QSCSdnUq3oqamBlVV1VZt26HFGQDmzZuH4OBg8Hg8bNiw\n",
              "AXPmzMHp06exdOlSeHt74+TJk0hJScH48eORm5sLNTU1jB8/Hlu3bgWfz8exY8cwceJEiMViAMCa\n",
              "NWsgFAqRlZWF3NxcDBo0CAEBATA0NOzoUyHklVBXV4d79+6hqqqqs1Ppdng8HiwsLKCtrf3ibV/m\n",
              "3BqpqamYMGECxGIxtLW1kZWVhV69egEAvLy8EBkZicDAQJl9Hjx4AFNTU1RXV4PP56Nv377Yvn07\n",
              "vL29AQCTJk3CiBEjMGfOnOeOV1tbi9raWpllK1asoKYNQpohlUqRmZkJVVVVGBsbQyAQgMfjdXZa\n",
              "3QJjDCUlJaiqqoKDg8ML76A7/M75WTExMRg7dixKS0tRX1/PFWYAsLGxQV5eXpP7hISEgM9vTDUv\n",
              "Lw/W1tYv3A8AoqKisGrVKpllT4s6IeR5dXV1kEqlsLS0hKamZmen0+0YGxtDLBajvr7+hcX5pT0Q\n",
              "jIyMRFZWFqKiolq9z549e7B//35s2bJFrmMuW7YM5eXlMj9eXl5yxSLkVaKi8sr1FXgp2vJXyEv5\n",
              "DaxZswaHDx/GiRMnoKmpCUNDQ/D5fBQVFXHbiMViWFlZcZ/37duHVatWIS4uDiYmJtxyKysrmYd6\n",
              "f9/vWUKhELq6ujI/rW2MJ4SQztThxXndunXYu3cv4uLi0KNHD275xIkTsWnTJgBASkoKCgoK4O/v\n",
              "DwDYv38/Pv30U8THxz9XeJ/dLzc3F6dPn8a4ceM6+jQIIS9RREQEampqOjuNTtWhDwTv3r0LS0tL\n",
              "2NnZQUdHB0Dj3ezFixdx//59zJgxA7m5uRAIBNiwYQMCAgIANHY36dWrl0wPjISEBBgaGuLJkyeY\n",
              "PXs2UlNToaqqii+//BKTJk1qdU4fffQR1q1bp9gTJaSbqKmpQW5uLmxtbaGurt5pefB4PJSVlcnc\n",
              "0HUHbbm+HfpA0MLCAs3VfhMTE/z2229Nrquvr282ppaWFvbt26eQ/Aghyufdd98FAAwZMgS1tbXI\n",
              "zMzEkydPuAeUoaGhGDJkCObPnw8ej4dPPvkEsbGxePLkCVauXIlp06YBaPyLfMmSJXj8+DEkEgmW\n",
              "L1+OiRMndtp5tRW1+hNClMrTZsuzZ8/izz//RGhoKPbs2QMAuH//PuLj4zFjxgxuex6PhytXruDk\n",
              "yZNYuHAhxGIxHj16hHnz5uGHH35Aamoq4uLisHjxYhQUFHTKOcnjpXalI4SQtvrggw8wd+5czJs3\n",
              "D1u3bsXUqVNlBnE8HeNgZ2cHPz8/nDlzBkZGRsjJyUFwcLBMrIyMDJibm7/U/OXV5uIskUhw5MgR\n",
              "vPXWWx2RDyGEyPDy8oKmpiZOnTqFLVu2ID4+vsXteTweGGPo27cvkpOTX1KWitfmZg1VVVX861//\n",
              "6ohcCCEEAKCjo4Py8nLu8wcffICZM2eiT58+cHR0lNl2586dABq71Z49exZDhgyBj48PcnNzZQp5\n",
              "Wloa6urqXs4JKIBcbc79+/fHuXPnFJ0LIYQAABYvXoygoCCIRCIUFxdjwoQJqKysxIIFC57bViKR\n",
              "wMPDAyNGjMA333wDGxsb6OvrIzY2FpGRkXB3d4eLiwuWLl0KqVTaCWcjH7m60rm6uuL27duws7OT\n",
              "afu5fPmyQpPrCNSVjpDmKUtXur9LTU1FaGgobt++LTN6sat1uevwrnTffvutXIkRQkhbzZkzB7/9\n",
              "9hu2bdv2Sg0rl6s4Px3JRwghHW3btm3NrnuJk2q+dHIV5+rqaqxfvx5paWkyQywPHz6ssMQIIeRV\n",
              "JtffCHPnzoVYLEZycjICAgJw584dmWk8CSGEtI9cxfnq1avYuHEjdHV1sXDhQpw+fRp//PGHonMj\n",
              "hJBXllzFWUNDAwDA5/Px5MkT6OjooKSkRKGJEULIq0yu4mxgYICysjKEhIRg5MiRGDduHCwsLBSd\n",
              "GyGEAGh841HPnj1lJkU7deoUeDweFi1aJHdckUiEiooKBWSoeHIV59jYWOjr6+OLL77A/PnzERgY\n",
              "iEOHDik6N0II4VhZWeHo0aPc5+3bt2PgwIHtipmWlsZNZ6xs5CrOqqqquHfvHpKSkjBt2jS88847\n",
              "StVhnRCiGIwxVNXXdehPa7vDhYWFYceOHQCA8vJyXLhwAa+//jqAxlGC//d//wdXV1e4urpi4cKF\n",
              "qKurQ35+Pnr27CkzbPvtt9/mXvLM4/Hw6NEjAEBmZiZGjRoFT09PuLm5YcOGDQq8km0nV1e6gwcP\n",
              "YvHixeDxeBCLxUhPT8eyZctw/PhxRedHCOlE1Q31cNzzWYce48/pn0NTTfDC7Xx9fbFx40YUFhbi\n",
              "6NGjmDhxIvfauS1btiAlJQV//PEHVFVVMWbMGERHR2PJkiUQiUQ4evQoNwT86NGjWLt2rUxsiUSC\n",
              "qVOnYs+ePXB2dkZVVRW8vb0xaNAgeHp6dsh5v4hcd85RUVG4fPky9PX1AQDu7u4y7/UjhJCOMGPG\n",
              "DOzatQs7duzA7NmzueXx8fF4++23IRQKwefzMXfuXMTFxQFovON+OjnSgQMHMGzYMJm3LAGNU4ne\n",
              "vHkTU6ZMgUgkgo+PDyoqKpCenv7yTu5v5LpzVlVVfe7kBIIX/5+PENK1aPDV8Of0zzv8GK01c+ZM\n",
              "9O/fH46OjnBwcGh2u2ffcj1+/Hi8//77uHfvHnbt2oWPP/74ue0ZYzAwMEBaWlqbcu9IchVnHR0d\n",
              "3L9/n7sACQkJMDAwUGhihJDOx+PxWtXk8LKYmZkhKioKzs7OMssDAwPx3XffITQ0FCoqKti2bRtG\n",
              "jBgBAFBXV8fEiRMRERGB7Oxsrp36WU5OTtDV1cXOnTsRFhYGAMjKyoKBgUGn1Ta5ivPq1asRHByM\n",
              "nJwcvPbaa8jNzUVsbKyicyOEkOc8LZ7PmjdvHrKzs9G/f38AwNChQ2W62IWFhcHLywtLlizh2qmf\n",
              "xefzcezYMSxatAjR0dGQSCQwMjLCjz/+2GHn8SJyv327vLwcycnJYIzBx8eny0zZ19KUoY9qq/Dp\n",
              "haP4ZGAwTLX0XnJmhHQ+ZZ0ytLtoy/WV64Hg5s2bIRAIEBwcjJCQkC5TmF9k8bmDOJKThrD43XhS\n",
              "X9vZ6RBCXmFyFeczZ87A1tYWH374IbKyshSdU6f5zGsUDNW1cONhId5L2gtJF3prAiGke5GrOP/w\n",
              "ww+4evUqDA0NMXz4cAQHB3eLPs7WOobYMXwWhKp8xOffxqpLxzo7JULIK0ru1wqYmJjg008/xe7d\n",
              "u3Hz5k1Mnz4dzs7OSEhIUGR+L92AnlaIGTIJALDjVjJ2pJ/v5IwIIa8iuYpzTU0Ntm3bBg8PD3zy\n",
              "ySf497//jZKSEuzZswfh4eEy240bNw6Ojo5wd3dHUFAQ1wxSXFyM119/HQ4ODnB1dcWZM2e4/SIj\n",
              "I+Hk5AQVFRUcOXJE5thDhw6Fra0tRCIRRCIRoqOj5TmFFo22dcPSAY3dbSIuHUN8/i2FH4MQQloi\n",
              "V3G2sbFBUlIStmzZgvPnz2Py5MlQVVXFwIEDERQUJLPtvHnzkJGRgatXr2Ls2LGYM2cOAGDp0qXw\n",
              "9vZGZmYmdu7cidDQUG7GqcDAQJw4cQJ+fn5NHj86OhppaWlIS0vDhx9+KM8pvNB7/fwxxWEgpIzh\n",
              "H6f34kZpQYcchxBCmiJXcb5y5Qq+//77Jsecb926FQcOHADQ2Pk7JCSEG6zi7e0NsVgMANi/fz/e\n",
              "ffddAICnpyfMzMyQlJQEAPDy8oKdnZ08qcmora3F48ePZX4kEkmr9uXxeIjyGY/XTO1R1VCHWfG7\n",
              "UfikvN05EUJIa8hVnE1NTVtcHxUV1eTymJgYjB07FqWlpaivr0evXr24dTY2NsjLy2vV8ZcuXYp+\n",
              "/fph8uTJyMnJaTEPPT09mZ9Lly616hgAoKaiis0B0+DYoyfuVz1GWPwuVFIXO0JeqqdNmC4uLlBV\n",
              "VeU+T548GQYGBrhx44bM9sXFxdDS0sL9+/efi7Vp0ya4ublBJBLB2dkZ06ZN49Y9O0OdMpBrhOCL\n",
              "NDWuJTIyEllZWUhISEB1dbXcsb///ntYWlqCMYZvv/0Wo0ePbnZykmXLluGjjz6SWbZixYo2HU9P\n",
              "qIFdgW9jzLGNuPnwHv5x+kfsGD4TfJXnRxkR0t0wxsDqqjr0GDyBpsxcGH/3dL4LsVgMkUgkM//F\n",
              "woULsXPnTplZ5r777juMGDECJiYmMnFSU1Px9ddfIzU1FQYGBmCM4cqVKwo9F0XqkOL89wu9Zs0a\n",
              "HD58GPHx8dDU1ISmpib4fD6Kioq4u2exWAwrK6sXxra0tOSOsWDBAvzzn/9EaWnpcxMxAYBQKIRQ\n",
              "KJRZ1tTQzRex0jHAjsCZmHhiCxLvZmDlxWP40ntMi18oQroDVleFrHd0O/QY9psfgyfUkmvf8PBw\n",
              "jBw5El999RXU1BonUNq5cydWr1793LZ3796Fjo4ON7k+j8fjhns/tXHjRhw5cgQlJSX47LPPuKHi\n",
              "qampeP/991FZWQl1dXVER0fD19cXy5cvh7a2NpYvX47jx49j1KhRyMjIgKOjI2bPno2hQ4di5syZ\n",
              "cp2b3F3pWmvdunXYu3cv4uLiZEYSTpw4EZs2bQIApKSkoKCgAP7+/i3GamhokPlT5dChQzAxMWmy\n",
              "MCtaf2MrfOM3GQCw+/bv2E5d7AjpdCKRCBYWFtzcPhcuXMCjR48QHBz83LYjRoyAjo4OrKysMHny\n",
              "ZGzYsAFlZWUy2wiFQly6dAknTpzA+++/j4aGBtTV1eHNN9/EypUrce3aNaxbtw5vvfUWKisrERgY\n",
              "iPj4eABAXFwcBg8ezH2Oj49HYGCg/CfHOoBIJGKMMZafn88AMDs7O+bu7s7c3d2Zl5cXY4yxoqIi\n",
              "FhQUxOzt7ZmLiwtLTEzk9v/iiy+Yubk5EwgEzNDQkJmbm7Pi4mJWWVnJBgwYwFxdXZmbmxsbNmwY\n",
              "S0tLa1NuH374YbvObeO108x8xxJmsWMp+393brYrFiHKprq6mqWnp7Pq6mrGGGNSqZRJaio79Ecq\n",
              "lbYqt9zcXKanp/fc8m+//Za98cYbjDHG5s6dy5YtW9ZsDKlUyi5fvsxiYmJYQEAAs7CwYKWlpYwx\n",
              "xgCwe/fucdv26NGD5efns2vXrjFra2uZOG5ubuzs2bOspqaG6evrs6qqKubh4cESEhLY+PHj2e3b\n",
              "t5mzs/MLr29L5C7OdXV1LCsrq8l1x48flzdsh2tvcZZKpez/zh1i5juWMPvvPmVXS/IVlBkhna8t\n",
              "xeNla644l5WVMR0dHZadnc309PRYZmZmq+JJpVLm7OzMDh06xBhrLM5lZWXcekNDQ5abm9tkcXZ3\n",
              "d2dnz55ljDEWFBTEdu/ezXx8fJhEImG9e/dmMTEx7L333nvumG25vnI1a5w+fRrW1tYICAgA0Ngs\n",
              "MX36dG59U39SdBc8Hg//GjwWfmYOqG6oR1j8bhRWPurstAh5ZfXo0QNjxozB5MmTIRKJYG9v3+R2\n",
              "t2/fxrVr17jP+fn5KCkpeWG3XScnJ0ilUu7NKsnJySgqKoJIJALQOC7js88+w/Dhw6GiogIPDw+s\n",
              "W7eufU0akLPNeenSpTh79izX1uvp6anUTz0VTU1FFZsCpsGphwnuV1dgFnWxI6RThYeHIzU1VWaE\n",
              "8t9VVVVh4cKFcHJygkgkwhtvvIGvvvqKK7LNEQgEOHz4MFauXAk3NzcsWrQIBw8ehLa2NoDG4nzn\n",
              "zh2uGAcFBSE/Px9Dhw5t1znJNZ+zp6cnUlJS4OHhwRXlZ/9bmbU0n3Nb3a0swxvHvkVJdSUCzJ2w\n",
              "M5C62JGujeZz7lgdPp+zuro6Kisrua5k169fh4aGhjyhujQLbX3sHD4L6qpqOFWQgc8u/trq17wT\n",
              "QkhL5CrOK1aswIgRI1BQUIDp06cjKCgIX375paJz6xJExpZY7z8ZPPDw3e0L2JZ+rrNTIoR0A3IN\n",
              "QhkxYgQcHBxw8uRJMMawatUq9O7dW9G5dRnB1q741DMYX6Qcx+eXjsNS2wCvW/ft7LQIIV2YXHfO\n",
              "dXV1sLW1xfz58/H666/j1q1brZ5QqLua13cIZjgNAgPDwjM/4eqDu52dEiFyk9JbgDpEW5o95bpz\n",
              "9vX1RWJiIurq6jBkyBDY2Njg2LFj3Ii/VxGPx8MX3mOQV1mGpII/ERa/G7+Ofg/m2j06OzVCWk0g\n",
              "EEBFRQWFhYUwNjaGQCCgaQoUhDGGkpIS8Hg8bqh5S+Qqzg0NDdDR0cF3332HWbNmITIyEv369ZMn\n",
              "VLfCV1HFpqGhGH98E26XFWFm3E4cGTUfOgJ66k26BhUVFdja2uLevXsoLCzs7HS6HR6PBwsLi1bN\n",
              "8SNXca6rqwPQOBglNDQUgHwTCnVHOgJ17A58G28c+xYZj+7j3dM/YnfgLOpiR7oMgUAAKysrNDQ0\n",
              "vPLNlYqmpqbW6lopV3EOCAiAi4sLJBIJNm/ejLKyMvD5HTLBXZdkrt0DuwJn4a0Tm5FU8Cc+vXAU\n",
              "UYPH0Z+HpMt4+qd3a/78Jh1DrgeC69evx48//oiUlBSoqalBIpFg69atis6tS3MzssAGvynggYc9\n",
              "GRex5ebZzk6JENKFyFWceTweRCIRhEIhHj9+DIFA8Ep3pWvOSOu++MwrBADwZcoJHBffeMEehBDS\n",
              "SK7ifOHCBfTp0weamprQ19fnfsjz5ri8hlnO3mBgeP/MPqSV5Hd2SoSQLkCu4vzBBx9g165dcHNz\n",
              "w6NHj/D555/j66+/VnRu3QKPx8OqQW8gwNwJNZJ6hCXsxt3KshfvSAh5pclVnOvr6zFo0CCuS90n\n",
              "n3yCn376SdG5dRt8FVX8NyAUffR7oaS6ErPiduFxXU1np0UIUWJyFeenT3ANDQ1x+fJllJSUoKSk\n",
              "RKGJdTfaakLsDgqDiYZOYxe7Uz+gXkrdlAghTZOrOE+ZMgWlpaVYvnw5/P39YWlpiQULFig6t27H\n",
              "TEsPuwLfhgZfDWcKM/HJ77/QLHaEkCbJNZ/zs+rr61FTU8O90VbZKXI+Z3nF5aVjdsL3YGD4ZGAw\n",
              "5vdr+cW2hJBXj1x3zg0NDVi7di3mz58PNTU1FBcXIzExUdG5dVtBVi6IGDQaAPCv1BM4Jr7eyRkR\n",
              "QpSNXMP6FixYAIlEgnPnGucuNjQ0xOTJk5GamqrQ5LqzcBdf5D5+gF23fscHZ/bBTEsP/Y2tOjut\n",
              "DscYg7iiFOcLs6GpJkCItSvU+TQKjZC/k6s4X7hwAWlpafDw8ADQ+ILF+vp6hSb2KojwGo38ijIk\n",
              "3L2N2fHf4dfR/4CljkFnp6Vw5bXVOH8vG2cKM3GmIBN5lQ+5dRHCY5ju5IWZfQajl6ZuJ2ZJiHKR\n",
              "qzj//d1XEomE5n+VA19FFRuHTsWbxzfh5sN7mBW/Cz+HzIeesGu/8qtBKkFayV0kFf6JMwWZuPIg\n",
              "H9JnHm2oqahiQE8r3K0sw93KR/jm2ilsvJ6E0bZuCHfxhYexZSdmT4hykKs4u7m5Yc+ePZBKpcjK\n",
              "ysLq1avb/abZV5WWmhC7/prF7s9HxXjn1A/4fkQY1LrYLHZ3KkpxpiATSQWZOH8vCxV/exu5vZ4x\n",
              "/Mwc4G/uCO9ettBSE6JBKsFvebewPf0cLt4X40hOGo7kpKG/sRXCXXwRYuPa5a4DIYoiV2+NyspK\n",
              "LF68GEeOHAEAjBs3DuvWrYOWlpai81M4Zeit0ZSbpYUYf3wTqhrqMMVhIP7t+5ZSz2L3uK4GyX81\n",
              "VSQVZOJORanM+h5CTQwxtYefuQP8zBxe+NKBG6UF2J5+Hr/kXEXdX/2/e2nqYpbzYExz8oKBuvJ/\n",
              "twhRpHZ3pWtJTU0NpkyZgvT0dGhoaKBnz57473//C3t7exQXF2PmzJnIzs6GUCjExo0b4efnBwCI\n",
              "jIzE7t27kZmZicOHD2PcuHFczJb2aw1lLc4AkJB/G2EJuyFlDEsHvI4FbkM7OyWORCrF1dK7OFOQ\n",
              "iTOFmfijOA8S9r+mLD5PBQN6WsP/r2Lcz9Acqipt7wxUUl2BPRkX8d3tCyiprgQACFX5eLO3B8Jd\n",
              "fOGs30th50SIMmtTcT569GiL68eMGSPzuaamBomJiQgODgaPx8OGDRtw8OBBnD59GrNnz4aVlRUi\n",
              "IiKQkpKC8ePHIzc3F2pqarh06RKMjIwwe/ZsLFq0SKY4t7RfayhzcQaAnenJWHGx8TpvGhqK0bZu\n",
              "nZbL3coyJP1VjM8VZqL8b0PO7XSN4GfuAH8zBww27Q1tNaHCjl0racCvudewI/08rpUWcMt9TXtj\n",
              "josvhls6Q4UnV09QQrqENrU5R0dHN7uOx+M9V5zV1dUREhLCffb29saaNWsAAPv370dWVhYAwNPT\n",
              "E2ZmZkhKSkJgYCC8vLyaPU5L+/1dbW0tamtl2z6V/c0OYS4+EFeUYnv6eXxwdj9MtfQwoKf1Szl2\n",
              "ZX0tfr+XjaS/elXkPH4gs15PoI7XzBrvjP3M7Du0Z4lQlY8J9v3xVm8PpBbfwbb08zhx5wbO38vG\n",
              "+XvZsNYxRFifwZjsMJBeA0a6pTYV51OnTrXrYDExMRg7dixKS0tRX1+PXr3+9yeqjY0N8vLyWty/\n",
              "rftFRUVh1apVMsu8vb3bcQYvx2eeo5BX8RBx+bcwO+E7HB39D1jrGCr8OBKpFNdLC7h24z+K76Dh\n",
              "maYKVZ4K+htb/tVu7Ah3I/OX/rotHo8HTxMbeJrYoKDyEXbd+h0//nkJdypKEXHpGNZcicMk+wEI\n",
              "c/GBra7RS82NkI4k9wteY2JikJ2djY0bNyI7Oxt37tzBsGHDmt0nMjISWVlZSEhIQHV1tdwJt8Wy\n",
              "Zcvw0UcfySxbsWLFSzl2e6iqqGCD/xS8dXwzbjwsxKy4XTgyaj56CDXbHbuw8hF3Z3z2XhYe1VbJ\n",
              "rLfWMeTajX1Me0NXie5KzbV74BPPYHwoGo7D2VewPf08MsuLseNWMnbe+h2Bls4Id/GFr2lvpX6Y\n",
              "SkhrvJQRgmvWrMHhw4cRHx8PTU1NaGpqgs/no6ioiLsLFovFsLJqeYScoaFhm/YTCoUQCmXbQbvK\n",
              "i2i11ITYFfQ23vj1W2SVlzR2sQsKg0C1bb+yqvo6/F6Ug6SCP3GmMBNZ5bKzB+qoCeFrag9/cwcM\n",
              "MXOAja7i79AVTVNNgOnOgzDNyQtnCjOxPf08Eu9mIC7/FuLyb8Gphwlmu/jizd4e0KDRh6SL6vAR\n",
              "guvWrcPevXsRHx+PHj16cMsnTpyITZs2cQ/2CgoK4O//4gmA5N2vK+qlqYvdQbMwPnYTzt/LxrLf\n",
              "f8Ya3wkt3hVKmRQ3S+/9dXf8J1KK78hMTarC48HDyPKvB3mOEBlbdNk3g/N4PPibO8Lf3BE55SXY\n",
              "cSsZ+zP/QMaj+1iSfBhRf5xsHH3oPBhmWnqdnS4hbSJXVzpvb29cuHABHh4euHLlCiQSCUQiEa5f\n",
              "l53A5+7du7C0tISdnR03a51QKMTFixdx//59zJgxA7m5uRAIBNiwYQMCAgIAAF9++SU2bdqEkpIS\n",
              "6OjoQF1dHVeuXIGxsXGL+7WGsvfWaEri3Qy8Hb8LUsawpP9ILHSXPd97T8pxtjATSYWZOFuQhYe1\n",
              "T2TWW2rrw9/c8a+mCjuFNI8oq/LaauzLTMXOW8nI/+uNM6o8FYyycUW4y2sY0LP7z19Cuge5ivO8\n",
              "efPg5+eHf//73zh06BBWr14NdXV1rF+/viNyVKiuWJwBYPet3/HJhV8AANGvTYSRhjY3V0XGo/sy\n",
              "22rxBfA17Q2/vwqyra7hK9cGK5FKEZd/C9vSz+FCUS63XGRkiXAXX4yycW1zExEhL5PCRghGR0dD\n",
              "U1P578i6anEGgFWXjmHrzXPPLeeBB3cjC+5BXv+eVjTs+Rk3Swux49Z5HMm5ilpJAwDAREMHM529\n",
              "Md15EAzVtTs5Q0Ke1+biLJFIsHz5cqxevbqjcupQXbk4S6RSzD/9I47fuQEzLb3G9lYzB/ia2UO/\n",
              "GzdVKEppTSX23G4cfXi/ugJAY3/qcXYihLv4wsXAtJMzJOR/5Lpz9vLywqVLlzoinw7XlYsz0PjA\n",
              "r7i6EiYaOq9cU4Wi1EkacEx8HdvTz+Pqg7vc8sG97BDu4osgyz5yDT0nRJHkKs4RERFQU1NDWFgY\n",
              "tLX/9yehrq7yz8fb1YszURzGGC6X5GF7+nnEim9wc4VYaRsgzGUwJjt4KlU/b/Jqkas4qzxzV8Hj\n",
              "8cAYA4/HU/qh0QAVZ9K0wspH2H37An748xI3MEeLL8BEhwGY3ccXdno0+pC8XB06K50youJMWlLd\n",
              "UIfD2WnYkX5ephfMMAsnhLv4ws/MgZqTyEtBfYkIeYYGX4BpTl4IdfTEuXtZ2J5+Hgn5GUi82/jj\n",
              "2KMnZvfxxVv2HtDgCzo7XdKN0Z0zIS+Q+/gBdqYnY19mKp401AEA9AQaSBz/IUzovYekg9CdMyEv\n",
              "YKtrhM+9x+Cf/Udg/1+jD43Utakwkw5FxZmQVtIVqGNO39cQ1scHD2oqOzsd0s1RZ05C2khVRYXu\n",
              "mkmHo+JMCCFK6JV7IPjmm2/CxsamxW0kEgkuXboELy8vhc7/3FFxu2rsrpizssa2trbGBx98oNBc\n",
              "SOd65Ypzazx+/Bh6enooLy9X6KjHjorbVWN3xZy7cmzStVCzBiGEKCEqzoQQooSoOBNCiBKi4twE\n",
              "oVCIlStXPvdyWGWN21Vjd8Wcu3Js0rXQA0FCCFFCdOdMCCFKiIozIYQoISrOhBCihLp0ca6pqcG4\n",
              "cePg6OgId3d3BAUFISsrCwBQXFyM119/HQ4ODnB1dcWZM2e4/SIjI+Hk5AQVFRXuDeJPDRo0CCKR\n",
              "CG5ubtDV1QWPx4OTk1OTse3t7dGjRw+Ym5vD0dERBw8elIltbW0NPp+P//znPwqNzePxYGtrC5FI\n",
              "BJFIBBUVFaxZswZeXl7Q09ODQCCAmZlZs9fDxcUFw4cPh729PRwdHREaGsrlvGDBAvTr14/L+9Kl\n",
              "S/D29oa7uzt0dHRgbGzc7LVua85r166Fr68v+vXrBz09PVhYWMgVu6lrnZKS0q7YYWFhcHR0hJ6e\n",
              "HrS0tODo6MjlfeDAAUyaNAlaWloQCASwsbFp9bUOCAjgvq8ODg7o3bs3l3dVVRWmTp3KbXvw4MFm\n",
              "v/stbTt+/HjuOj/N+ejRo23+90U6GevCqqurWWxsLJNKpYwxxtavX8/8/f0ZY4yFhYWxlStXMsYY\n",
              "u3TpEjM3N2d1dXWMMcYuXrzIsrOzmb+/P/v555+bjb1s2TLWt2/fZmOvWrWKjRo1ipmbm7OMjAxm\n",
              "bGzMfvvtN5adnc0GDBjAvvnmGzZjxgwWHR2t0NjP5p2SksIMDQ2Zm5sbO3DgAIuNjWUPHjxgxsbG\n",
              "bPny5U1ej3nz5jFNTU1WV1fHcnJyWI8ePVhqairz9/dn69atY+np6Vze7u7u7JdffmHV1dXsp59+\n",
              "YkZGRuzmzZvtztnAwICZm5uzuLg4Vl1dzbZs2cIsLCxYVVVVu6+1VCptd+zvv/+e1dfXM8YY+/XX\n",
              "X5m1tTV3rT/77DM2ffp0Fhsby7Kzs5mxsTH76quvWnWtdXV1WVFREWOMsW+++YaZmZlxea9atYrN\n",
              "mjWLMcZYTk4OMzY2Zg8ePGjy+9nabZ/mXFtb22Qcory69J2zuro6QkJCuNcGeXt7QywWAwD279+P\n",
              "d999FwDg6ekJMzMzJCUlAWh8e7idnd0LY1+5cgVz5sxpNva+ffvw6aefwszMDHl5eRg6dCju3LkD\n",
              "Ozs7aGtrw9LSUuZ9i4qK/azt27dj+vTpUFFRQVVVFUJCQlBVVQWBQIAhQ4Y0eT3OnTsHa2trJCUl\n",
              "wdbWFkFBQbhy5QoAwNbWFn369OHy5vF4ePToEdTV1eHj4wOhUAgDA4N25zxhwgSUlJQgMDAQ6urq\n",
              "mDt3LvT19XHixIl2X+vS0tJ2x66pqQGfz+d+PwUFBdi6dSumT5+OgwcP4r333kNISAjs7OwwdOhQ\n",
              "VFRUtOpajxw5Er/++isAYOrUqSguLuauy759+7j9bG1tMXToUPz8889Nfj9bu+3T74dAQG9t6Wq6\n",
              "dHH+u5iYGIwdOxalpaWor69Hr169uHU2NjbIy8trdaz8/HwkJSVh+vTpzcbOy8uDtbU1F7u1x1BU\n",
              "7Orqauzduxfh4eHYuXMnVqxYASsrKzg6OiIyMhI//PBDk9cjLy8P9vb2XLyW8m4qbq9evdqd84IF\n",
              "C2Bqaor9+/cDaGyGyMjIgFgsbve1NjIyUmjsmJgYjBw5Evv27UN4eDi3/VM2NjY4evRom691TEwM\n",
              "QkJCuP+pNBW3uXNszbbPfj9I19NtJtuPjIxEVlYWEhISUF1d3e54u3btwujRo2FkZKS0sQ8ePAhH\n",
              "R0f069cPU6ZMQVRUFEJDQ5GTkwMPDw/Y2toiOTm5XTl/9dVXMnH9/f1x+fJlheT8yy+/YMmSJYiK\n",
              "ikLfvn3x2muvITExEaWlpe2+1oqKvWfPHuzfvx8LFy5EcXEx+vXr99w2Fy5cwMOHDxEVFdXmuGfO\n",
              "nMGSJUvadG6t9ey1Jl1Pt7hzXrNmDQ4fPowTJ05AU1MThoaG4PP5KCoq4rYRi8WwsrJqVTzGGHbu\n",
              "3Inw8HAudnR0NHx8fDB8+HBIpVIUFRXBysoKd+7c4WK35hiKjL19+3aEh4fjwYMH+PnnnxEaGgoA\n",
              "OHz4MFRVVREWFgaxWIzhw4ejoaEBYWFhAAArKytkZWVx8ZrLu7KyUiaunZ0d9PX1ceTIkXbnDADu\n",
              "7u44efIkrly5gj179uD69evIzMxUyLVWROx9+/Zh1apViIuLw8GDB7m8n24PNH73bty4gY8//rjV\n",
              "1/r+/ftcXBMTEy7nZ+M++3tJT0/nHu699957LW7b3LUmXVBnN3q319q1a1n//v3Zw4cPZZbPmjVL\n",
              "5oGgmZkZ90DwqeYeCMbHxzNLS0u2Zs2aFmOvXLmSjRo1ipmZmXEPkkpKSmRiz5o1S+aBoKJib9y4\n",
              "kWlpabHy8nLW0NDA9PX1WUJCAlu7di1zc3Nj5ubmLDk5ucnrMWfOHKahocE9pHoa+9nrMWvWLLZ2\n",
              "7VouLmOMff7550xNTY2dPHmy3TkzxlhhYSEXY+LEiUxTU5OVlpYq5Fq3N/bWrVuZvb09E4vFLDMz\n",
              "UybvlStXctfH1dWVGRoacrm86Frr6OgwW1tbJhaLZbaPjo7m4jLGZH4vTXnRtn/PmXQ9Xbo45+fn\n",
              "MwDMzs6Oubu7M3d3d+bl5cUYY6yoqIgFBQUxe3t75uLiwhITE7n9vvjiC2Zubs4EAgEzNDRk5ubm\n",
              "rLi4mFs/depUtmjRohfG7t27N9PV1WWmpqbMwcGB7du3j4vN5/OZiooK4/F4TEdHh5mbm7PLly8r\n",
              "JLZAIGAaGhpMU1OTyzsuLo65uroyAExNTY2ZmZk1ez2cnZ3Z0KFDmZ2dHXNwcGCTJk3i4mprazMV\n",
              "FRWmoaHB9PT0mKGhIXN2dmbOzs4MADM0NFRYzhEREczBwYHZ2NgwAMzKykph1/qdd95pV2w+n88s\n",
              "LCyYu7s769mzJ9PX1+d6Q1RWVrLRo0dz19ra2rrV11pVVZWLa2lpydTU1LhrbWpqyoKCgrht9+3b\n",
              "1+x3v7Kykk2aNKnZbZctW8ZmzpzZ5n9TRHnQ3BqEEKKEukWbMyGEdDdUnAkhRAlRcSaEECVExZkQ\n",
              "QpQQFedXjJGRETfMuDkRERGoqal5KfncuHEDNjY2Ta6rrKzkhua3hbz7EaJMqDiT56xateqlFWdC\n",
              "SNOoOHdzR48eRZ8+feDm5oaPP/6YW/7Pf/4Tnp6eEIlE8PPzQ0ZGBgBwk+kMGTIEIpEIxcXFqKio\n",
              "wNy5c+Hl5QU3NzfMmzcPdXV1zR6zoaEBI0eOxMCBA9G3b1+EhobiyZMn3PqIiAg4ODhgwIAB+Omn\n",
              "n2T23bx5MxwcHODh4YHo6GiZdSkpKRg2bBgGDhwIDw8PHDhwoFX7EdIldXZHa9Jx7t+/zwwMDNjN\n",
              "mzcZY4xt3ryZAWC5ubkyg2727t3LRo4cyX0GwMrKyrjPc+fOZbt372aMMSaVSll4eDj7+uuvmz2u\n",
              "VCrlBmxIpVL27rvvsqioKMYYY8eOHWMuLi6svLycSaVSNm3aNGZtbc0YY+z69evMxMSEG923bNky\n",
              "9vQrWlZWxkQiEbeupKSEWVpasrt377a4HyFdVbeZ+Ig878KFC3Bzc4OLiwsAIDw8HAsXLgQAxMXF\n",
              "Yf369aioqIBUKsXDhw+bjXPkyBH8/vvvWLduHYDG2c5UVVWb3Z4xhujoaMTGxqKhoQHl5eXw8fEB\n",
              "ACQkJGDSpEnQ1dUFALzzzjs4d+4cACAxMRHBwcEwNTUFAMyfPx9RUVEAgOTkZOTk5CA4OFjmWBkZ\n",
              "Gbhx40az+xHSVVFxfoU8fUiWl5eHBQsWICUlBb1798a1a9fg5+fX7H6MMRw6dAiOjo6tOs6PP/6I\n",
              "xMREJCUlQVdXF9988w0SExNbzOlF6xhj6Nu3L5KTk5/b7saNG62OSUhXQW3O3djgwYNx7do13L59\n",
              "GwCwY8cO1NXVQV9fH2pqajA1NQVjDBs2bJDZT0dHB+Xl5dzncePGYfXq1WhoaAAAlJWVca9kakpZ\n",
              "WRmMjIygq6uLiooK7Nq1i1sXGBiIAwcOoKKiAowxbNmyhVs3bNgwnDx5kptNcNOmTdw6Hx8f5Obm\n",
              "Ij4+nluWlpaGurq6FvcjpKui4tyNGRsbY8eOHRg/fjzc3d2RmZkJQ0ND6OjoYMqUKejbty88PT2f\n",
              "m2py8eLFCAoK4h4IRkdHQ0NDg3v/4fDhw1vsjjdz5kxUVVXByckJwcHBGDJkCLcuJCQEEyZMQP/+\n",
              "/TFw4ECZY7u6uiIiIgJDhgyBh4cHhEIht05fXx+xsbGIjIyEu7s7XFxcsHTpUkil0hb3I6SroomP\n",
              "CCFECdGdMyGEKCF6IEjkNmbMmOfeW6evr49Tp051UkaEdB/UrEEIIUqImjUIIUQJUXEmhBAlRMWZ\n",
              "EEKUEBVnQghRQlScCSFECVFxJoQQJUTFmRBClND/BwtsMLLGJfPEAAAAAElFTkSuQmCC\n",
              "\">\n",
              "        \n",
              "      </div>\n",
              "      <script></script>\n",
              "      <script type=\"text/javascript\">\n",
              "        (() => {\n",
              "          const chartElement = document.getElementById(\"chart-a21524f8-b8ee-4f22-849e-b5c59caf1199\");\n",
              "          async function getCodeForChartHandler(event) {\n",
              "            const chartCodeResponse =  await google.colab.kernel.invokeFunction(\n",
              "                'getCodeForChart', [\"chart-a21524f8-b8ee-4f22-849e-b5c59caf1199\"], {});\n",
              "            const responseJson = chartCodeResponse.data['application/json'];\n",
              "            await google.colab.notebook.addCell(responseJson.code, 'code');\n",
              "          }\n",
              "          chartElement.onclick = getCodeForChartHandler;\n",
              "        })();\n",
              "      </script>\n",
              "      <style>\n",
              "        .colab-quickchart-chart-with-code  {\n",
              "            display: block;\n",
              "            float: left;\n",
              "            border: 1px solid transparent;\n",
              "        }\n",
              "\n",
              "        .colab-quickchart-chart-with-code:hover {\n",
              "            cursor: pointer;\n",
              "            border: 1px solid #aaa;\n",
              "        }\n",
              "      </style>"
            ]
          },
          "metadata": {}
        },
        {
          "output_type": "display_data",
          "data": {
            "text/plain": [
              "import numpy as np\n",
              "from google.colab import autoviz\n",
              "df_3368359477603698777 = autoviz.get_df('df_3368359477603698777')\n",
              "\n",
              "def time_series_multiline(df, timelike_colname, value_colname, series_colname, figsize=(2.5, 1.3), mpl_palette_name='Dark2'):\n",
              "  from matplotlib import pyplot as plt\n",
              "  import seaborn as sns\n",
              "  palette = list(sns.palettes.mpl_palette(mpl_palette_name))\n",
              "  def _plot_series(series, series_name, series_index=0):\n",
              "    if value_colname == 'count()':\n",
              "      counted = (series[timelike_colname]\n",
              "                 .value_counts()\n",
              "                 .reset_index(name='counts')\n",
              "                 .rename({'index': timelike_colname}, axis=1)\n",
              "                 .sort_values(timelike_colname, ascending=True))\n",
              "      xs = counted[timelike_colname]\n",
              "      ys = counted['counts']\n",
              "    else:\n",
              "      xs = series[timelike_colname]\n",
              "      ys = series[value_colname]\n",
              "    plt.plot(xs, ys, label=series_name, color=palette[series_index % len(palette)])\n",
              "\n",
              "  fig, ax = plt.subplots(figsize=figsize, layout='constrained')\n",
              "  df = df.sort_values(timelike_colname, ascending=True)\n",
              "  if series_colname:\n",
              "    for i, (series_name, series) in enumerate(df.groupby(series_colname)):\n",
              "      _plot_series(series, series_name, i)\n",
              "    fig.legend(title=series_colname, bbox_to_anchor=(1, 1), loc='upper left')\n",
              "  else:\n",
              "    _plot_series(df, '')\n",
              "  sns.despine(fig=fig, ax=ax)\n",
              "  plt.xlabel(timelike_colname)\n",
              "  plt.ylabel(value_colname)\n",
              "  return autoviz.MplChart.from_current_mpl_state()\n",
              "\n",
              "chart = time_series_multiline(df_3368359477603698777, *['date_added', 'release_year', 'title'], **{})\n",
              "chart"
            ],
            "text/html": [
              "      <div class=\"colab-quickchart-chart-with-code\" id=\"chart-680e12a7-8d79-4b4b-a84f-b8ca4e915224\">\n",
              "        <img src=\"data:image/png;base64,iVBORw0KGgoAAAANSUhEUgAAAVcAAACNCAYAAAAD4znlAAAAOXRFWHRTb2Z0d2FyZQBNYXRwbG90\n",
              "bGliIHZlcnNpb24zLjcuMSwgaHR0cHM6Ly9tYXRwbG90bGliLm9yZy/bCgiHAAAACXBIWXMAAA9h\n",
              "AAAPYQGoP6dpAAAkZ0lEQVR4nO3deVRUV9Y34F8BxaSgUBJlHgQ0gFQ5QIitggoaiCuiLcY4xqgE\n",
              "I/nyRrMUo+IMsUWJY4O20XQcglPMgNIBZyUqtoBTxxalJDEyiIgiQwG1vz94ua8V5qJKQPezFmul\n",
              "7j1n310nuL3e4RwREREYY4xplE5bJ8AYYy8jLq6MMaYFXFwZY0wLuLgyxpgWcHFljDEt4OLKGGNa\n",
              "wMWVMca0gIsrY4xpwStXXDds2NDWKTDGXgF62gxeXl6OCRMm4ObNmzAyMsJrr72Gv//973B2dkZ+\n",
              "fj6mTp2KO3fuwMDAAFu3bsWQIUMAANOnT8f58+dhZGSEzp0748svv4SXlxcAoLS0FDNmzEBaWhp0\n",
              "dHQQFRWFcePGNTune/fuaeW7MvYyISJUVVWhurq6rVNpV8RiMXR1dZvVVqvFFQBCQ0MRGBgIkUiE\n",
              "zZs3Y+bMmTh16hQiIiLg4+ODpKQkpKWlYcyYMcjOzoZYLMaYMWOwfft26Onp4aeffkJISAjkcjkA\n",
              "ICYmBgYGBsjKykJ2djbeeOMNDB06FBKJRNtfhbFXgkKhwIMHD1BaWtrWqbQ7IpEINjY26Ny5c9Nt\n",
              "X+TcApcvX8a4ceMgl8vRuXNnZGVloUePHgAAb29vREVFwd/fX6XPw4cPYWlpibKyMujp6cHd3R07\n",
              "duyAj48PAGD8+PEYMWIEZs6cWed4FRUVqKioUNm2ZMkSvjTAWAOUSiVu374NXV1dWFhYQF9fHyKR\n",
              "qK3TaheICAUFBSgtLYWLi0uTZ7BaP3N93oYNGzB69GgUFhaisrJSKKwA4ODggJycnHr7BAUFQU+v\n",
              "JtWcnBzY29s32Q8AoqOjsXz5cpVttUWZMVaXQqGAUqmEra0tjI2N2zqddsfCwgJyuRyVlZVNFtcX\n",
              "dkMrKioKWVlZiI6Obnaf3bt3Y//+/di2bZtax1y4cCGKi4tVfry9vdWKxdirREfnlbvX3SwtOYt/\n",
              "ISMYExODw4cP49ixYzA2NoZEIoGenh5yc3OFNnK5HHZ2dsLnhIQELF++HMnJyejevbuw3c7OTuWm\n",
              "1J/7Pc/AwACmpqYqP829GM0YY62h9eK6fv167Nu3D8nJyejatauwPSQkBHFxcQCAtLQ03L9/H76+\n",
              "vgCA/fv3Y/HixUhJSalTOJ/vl52djVOnTiE4OFjbX4MxpgXLli1DeXk5ACAyMhJ79uwBAJw6dQpJ\n",
              "SUlCO7lcrlI/OgKt3tD6/fffYWtrCycnJ5iYmACoOZu8ePEi8vLyMGXKFGRnZ0NfXx+bN2/G0KFD\n",
              "AdQ87tCjRw+VJwCOHz8OiUSCZ8+e4YMPPsDly5ehq6uLVatWYfz48c3Oae7cuVi/fr1mvyhjL4ny\n",
              "8nJkZ2fD0dERhoaGWj+eSCRCUVFRncK5bNkyPH78GF9++SWAmuIqk8nw+PFjrefUmJaMj1ZvaNnY\n",
              "2KCh2t29e3f8/PPP9e6rrKxsMGanTp2QkJCgkfwYY20nLCwMADB48GDo6urCysoKI0aMgJ+fH+Li\n",
              "4lBdXY1Tp05h7NixmDp1qkrftLQ0LFiwAE+ePEF1dTU+//xzhISEtMXXaNALfVqAMcZqxcXFIT4+\n",
              "HmfPnkXXrl3x/vvvAwBkMhnCwsLqnLnWevz4MUJDQ3H06FFYWlri4cOH6NevHwYOHAhra+sX/0Ua\n",
              "wMWVMdahpKam4u7duwgMDFTZfuvWrY5dXKurq3HkyBH89a9/1UY+jDHWKCKCu7s7UlNT2zqVRrX4\n",
              "aQFdXV2sXr1aG7kwxl4xJiYmKC4urrPd1NS03u0AMHDgQGRnZyMlJUXYlpGRAYVCobU81aHWo1j9\n",
              "+vXDuXPnNJ0LY+wVM2/ePAQEBEAmkyE/P1/YPmbMGGRkZEAmk2HFihUqfczMzJCYmIioqChIpVK4\n",
              "ubkhIiICSqXyRaffKLUexfLw8MCvv/4KJycnlQkMrly5otHktIEfxWKsYS/6UayORuuPYm3ZskWt\n",
              "xBhj7FWhVnGtfZOKMcZY/dQqrmVlZdi0aRMyMjKEV9cA4PDhwxpLjDHGOjK1bmjNmjULcrkcqamp\n",
              "GDp0KO7du6cyDSBjjL3q1CqumZmZ2Lp1K0xNTfHxxx/j1KlT+Pe//63p3BhjrMNSq7gaGRkBAPT0\n",
              "9PDs2TOYmJigoKBAo4kxxlhHplZxNTc3R1FREYKCgjBy5EgEBwfDxsZG07kxxhiAmkeggoOD4erq\n",
              "CqlUioCAAGRlZQGomYi/V69e0NHRwZEjR9o20eeoVVwTExNhZmaGlStXYvbs2fD398ehQ4c0nRtj\n",
              "jAlCQ0Nx69YtZGZmYvTo0cK6ef7+/jh27JiwenR7odbTArq6unjw4AFu3bqFSZMmobKyssGpBRlj\n",
              "HRcRoayq4SlANcFIT9zk8imGhoYICgoSPvv4+CAmJgYA2u3STWoV14MHD2LevHkQiUSQy+W4efMm\n",
              "Fi5ciKNHj2o6P8ZYGyqrqoTr7kitHuO/k1fAWKzfoj61i522Z2oV1+joaFy5ckVYBlsqlaqsa8UY\n",
              "Y9pSu9jp8ePH2zqVRql9WeD5JVgAQF+/ZX/zMMbaPyM9Mf47eUXTDVt5jOaqXew0JSWl3S/9rVZx\n",
              "NTExQV5ennCd5Pjx4zA3N9doYoyxticSiVr8T3ZtqV3sNCUlpUMsVqhWcV2zZg0CAwNx9+5dDBo0\n",
              "CNnZ2UhMTNR0bowxBqBmsdN58+bByclJWMi0drHTVatWIS4uDgUFBbh+/TrCw8ORnp4OCwuLNs1Z\n",
              "reI6YMAAnDx5EqmpqSAiDBw4sEP8TcIY65gaW+x08eLFWLx48QvOqGlqFdf4+HhMnTq1zho2jDHG\n",
              "aqj1EsGZM2fg6OiITz/9VHhLgjHG2P9Rq7ju2bMHmZmZkEgkGD58OAIDA/kZV8YYe45axRUAunfv\n",
              "jsWLF+Prr7/GjRs3MHnyZPTu3bvdP3vGGGMvglrFtby8HP/4xz/Qt29fLFq0CGvXrkVBQQF2796N\n",
              "GTNmqLRraLKF/Px8vPXWW3BxcYGHhwfOnDkj9GtsIgY/Pz84OjpCJpNBJpMhNjZWna/AGGNapdYN\n",
              "LQcHBwQEBGDbtm3w8vIStg8YMAABAQEqbUNDQxEYGAiRSITNmzdj5syZOHXqFCIiIuDj44OkpCSk\n",
              "paVhzJgxyM7Ohlgshr+/PyZMmIAPPvig3uPHxsYiODhYndQZY+yFUKu4pqenw9LSst5927dvx4ED\n",
              "BxASEtLoZAv79+8XzmK9vLxgZWWF06dPw9/fX2MTMVRUVKCiokJlW3V1tUZiM8ZYY9S6LNBQYa0V\n",
              "HR1d7/bayRYKCwtRWVmJHj16CPscHByQk5PTrONHRESgT58+ePfdd3H37t1G8+jSpYvKz6VLl5p1\n",
              "DMZY+9HYJcbp06fD09MTMpkMXl5eDd73kcvl0NXVFS4pymQy3LlzR9i/du1aeHh4wM3NDWPGjMHj\n",
              "x49blbNaZ65Nqe9h3+cnWygrK1M79jfffANbW1sQEbZs2YJRo0bh5s2b9bZduHAh5s6dq7JtyZIl\n",
              "ah+bsVcNEYEUpVo9hkjfuMkpB4GGLzHGxsYKLzGlp6dj+PDhePjwIXR06p47mpiYICMjo8725ORk\n",
              "7Ny5ExcvXoSJiQlWrVqFRYsWYcuWLWp/L60U1z8P1J8nWzA2Noaenh5yc3OFs1e5XA47O7smY9va\n",
              "2grHCA8Px2effYbCwsI6E8kANa/HGRgYqGzT1dVV92sx9sohRSmyPjTV6jGc459AZNCp0TaNXWJ8\n",
              "/u3Q4uJitXLIzMzEoEGDYGJiAgAICgqCn59fq4qr2o9iNVftZAvJyckqgxASEoK4uDgAQFpaGu7f\n",
              "vw9fX99GY1VVVSEvL0/4fOjQIXTv3r3ewsoYe3n9eT7XiIgI9OzZE2PHjsWhQ4eEs9bIyEihzgDA\n",
              "s2fP4OXlhX79+mHFihXCPZj+/fsjJSUFubm5ICLs2bMHT58+xaNHj9RPkrRAJpMREdFvv/1GAMjJ\n",
              "yYmkUilJpVLy9vYmIqLc3FwKCAggZ2dncnNzoxMnTgj9V65cSdbW1qSvr08SiYSsra0pPz+fSkpK\n",
              "qH///uTh4UGenp40bNgwysjIaFFun376qea+KGMvmbKyMrp58yaVlZUREZFSqaTq8hKt/iiVyhbl\n",
              "uHr1avLx8aFnz57V2ZecnEwDBgygioqKOvvKy8spLy+PiIgKCwvJ39+f1qxZI+zfsmUL9e/fn7y9\n",
              "vSk6OpoAUHFxcaPj0xi1i6tCoaCsrKx69x09elTdsFrHxZWxhrWkeLSFtWvXUv/+/amoqKjBNr16\n",
              "9aLLly83GWvv3r00atSoevf98ssvZGNjU2d7S8ZHrcsCp06dgr29vTD1V1paGiZPnizs5wldGGOa\n",
              "Vt8lxsrKSpX5TS5duoT8/Hw4OTnV6Z+fn4/Kypr1wCoqKnD48GH07dtX2P/gwQMAQGlpKSIjIzF/\n",
              "/vxW5avWDa2IiAicPXsW48aNA1DznGp6enqrEmGMsYY0NJ/ryZMnMW3aNBQXF0NPTw+dOnXCwYMH\n",
              "YWZmBqDmmquVlRXCwsJw7tw5REZGQldXF1VVVRg2bBgWLVokHGPEiBFQKpVQKBSYMmUKwsPDW5Wz\n",
              "WsW1uroaPXv2VNnGy7wwxrSlsflcz58/32C/FSv+b4masWPHYuzYsQ22vXbtmvoJ1kOtywKGhoYo\n",
              "KSkRHrm6du0ajIyMNJoYY4x1ZGqduS5ZsgQjRozA/fv3MXnyZKSkpGDv3r2azo0xxjostYrriBEj\n",
              "4OLigqSkJBARli9fXucyAWOMvcrUKq4KhQKOjo6YPXs27t69i5s3b8LBwYHffmKMsf+l1jXXv/zl\n",
              "L3j69CkKCwsxePBgREdHY86cOZrOjTHGOiy1imtVVRVMTEyQmJiIadOm4fz5843esWOMsVeNWsVV\n",
              "oVAAqHmZYNiwYQB4QhTGmHaNGDFCmFpw8ODBSE9PR2VlJYKDgyGVSjF27FhUVVUBqJmicMiQISgq\n",
              "KmqzfNUqrkOHDoWbmxvOnz8PX19fFBUVQU9PKxNsMcYYgJoJ9q9evYqMjAzMnTsX77//Pv71r3/B\n",
              "3NwcmZmZ6Nq1K5KSkgAAK1euRHh4uPAyQVtQqyJu2rQJmZmZcHJyglgsRnV1NbZv367p3BhjbYyI\n",
              "UKnQ7uodYn3dZs3n+uepBUUiEcRiMUpLa+abLS0thb6+Pq5evYpff/0Vq1ev1lbKzaJWcRWJRJDJ\n",
              "ZKioqMCTJ0+gr6/Pj2Ix9hKqVFRjcUSSVo+x6ou3oG/QvFI0depUnDx5EgBw9OhRuLu74+DBg5BK\n",
              "pfDx8cGwYcPw1ltvYdeuXVrMuHnUKq4XLlzA9OnT8d///ldlO69PxRjTpn/+858AgK+//hoLFizA\n",
              "0aNHVf7V/OWXXyI4OBhVVVWYOHEiKioqMGfOHOHe0IukVnH95JNPsGvXLoSFheHMmTPYuHEjDA0N\n",
              "NZ0bY6yNifV1seqLt7R+jJaaNm0awsLCVFYhuXfvHo4ePYqkpCRMmzYNoaGh6N+/P3x8fHDjxg1N\n",
              "p90ktYprZWUl3njjDeGRrEWLFsHLywvz5s3TdH6MsTYkEoma/U92bXr8+DFKS0thZWUFADhy5Agk\n",
              "EgnMzc2FNp988gliY2Oho6ODZ8+eQSQSCf/dFtQaNbFYDACQSCS4cuUKbG1tUVBQoNHEGGOsVnFx\n",
              "MUJCQlBWVgYdHR1YWFjgp59+Em6E7d27F1KpFO7u7gBqpkWdNWsWFApFmy1KqlZxnTBhAgoLC/H5\n",
              "55/D19cXlZWVWLVqlaZzY4wxAIC9vT0uXbrU4P6JEyeqfPb29kZmZqa202qUWsX1008/BVDzUO+j\n",
              "R49QXl4urJrIGGOsFa+/rlu3DrNnz4ZYLEZ+fj5OnDih6dwYY6zDUuvMNTw8HNXV1Th37hyAmmuv\n",
              "7777Li5fvqzR5BhjrKNS+znXjIwMYXGvrl27Cgt/McYYa8UyL8+rrq6GUqnUSEKMMfYyUKu4enp6\n",
              "Yvfu3VAqlcjKykJYWBj8/Pw0nBpjjHVcahXX9evX4+zZs8jNzcVf/vIX6Ojo4IsvvtB0bowx1mGp\n",
              "VVw7d+6M+Ph45OXlIS8vD/Hx8ejUqVOdduXl5QgODoarqyukUikCAgKQlZUFAMjPz8dbb70FFxcX\n",
              "eHh44MyZM0K/qKgo9OrVCzo6Ojhy5IhKzMb6McZeToWFhZDJZMKPq6sr9PT08OjRI5V2JSUlGDly\n",
              "JLp166Yyi1attWvXwsPDA25ubhgzZgweP36stZxbdEPrhx9+aHT/O++8U2dbaGgoAgMDIRKJsHnz\n",
              "ZsycOROnTp1CREQEfHx8kJSUhLS0NIwZMwbZ2dkQi8Xw9/fHhAkT8MEHH9SJ11g/xtjLSSKRICMj\n",
              "Q/gcExOD06dPq7z+CtS8PbpgwQKYm5vXuVSZnJyMnTt34uLFizAxMcGqVauwaNEibNmyRSs5t6i4\n",
              "xsbGNrhPJBLVKa6GhoYICgoSPvv4+CAmJgZAzcS3tWexXl5esLKywunTp+Hv7w9vb+8Gj9NYvz+r\n",
              "qKhARUWFyjaeuYux5iMiUJl2nwQSGYmbNZ/r83bs2IHo6Og62w0MDDBs2DDI5fI6+zIzMzFo0CDh\n",
              "haegoCD4+fm1j+JaO4+iujZs2IDRo0ejsLAQlZWV6NGjh7DPwcEBOTk5jfZvab/o6GgsX75cZZuP\n",
              "j08rvgFjrxYqq0T+gA1aPcZrlz+ByFi/2e1TU1NRVFSEUaNGAQAiIyNhZWWFsLCwRvv1798fW7du\n",
              "RW5uLrp37449e/bg6dOnePToUZ0zYE1o1RtaH330EQDgzp07Tb6hFRUVhaysrHr/ttGWhQsXori4\n",
              "WOWnsbNixlj7t2PHDkydOlVYWmrFihVNFlagZnmqzz77DKNGjYKPjw8sLCwAQGtLVL2QN7RiYmJw\n",
              "+PBhpKSkwNjYGMbGxtDT00Nubq5wFiqXy2FnZ9focSUSSYv6GRgYwMDAQGUbL6TIWPOJjMR47fIn\n",
              "Wj9Gc5WUlGD//v1IS0tT61gfffSRcFJ44cIF2NjYwNTUVK1YTVHrzPXChQvYvn278DJBY29orV+/\n",
              "Hvv27UNycrLK3buQkBDExcUBANLS0nD//n34+vo2eWx1+zHGWk4kEkHHWF+rPy253pqQkACpVIre\n",
              "vXur9X0ePHgAoGa9rcjISMyfP1+tOM2h1plrc9/Q+v333zFv3jw4OTlh6NChAGrOJi9evIg1a9Zg\n",
              "ypQpcHFxgb6+Pnbv3i3c8V+1ahXi4uJQUFCA69evIzw8HOnp6bCwsGi0H2Ps5bZjxw7MmjVLZduf\n",
              "r7l6enqioKAAT548gY2NDYYOHYpvvvkGQM1MfkqlEgqFAlOmTEF4eLjWchUREbW0U2hoKIYMGYK1\n",
              "a9fi0KFDWLNmDQwNDbFp0yZt5KhRc+fOxfr169s6DcbapfLycmRnZ8PR0ZGXbqpHS8ZHY29orVmz\n",
              "Rq1kGWPsZdTiywLV1dVYuXIl4uPjER8fr42cGGOsw2vxmauurm6rn3dljLGXnVqXBYKCgrB69Wr8\n",
              "8ccfePLkifDDGGOshlpPC6xYsQIAsGTJEohEIhARRCIRv1rKGGP/S63iyhNjM8ZY49S6LMAYY6xx\n",
              "XFwZYx1CUlISBgwYAE9PT/j4+CAzM7OtU2qUdmYsYIy9FIgIiuoyrR5DX9eoyVdgi4qKMGnSJJw5\n",
              "cwbu7u44e/YsJk2ahOvXr2s1t9bg4soYa5Ciugz/78DrWj3GxpD/wEDPuNE2d+7cgUQigbu7OwBg\n",
              "8ODByMnJwZUrV9CvXz+t5qcuvizAGGv3XFxcUFhYiNTUVAA1q6I8ffq03kmx2ws+c2WMNUhf1wgb\n",
              "Q/6j9WM0pUuXLjh48CAWLlyIkpISvPnmm3Bzc9PaXKya0H4z0xK5XI65c+c22qa6uhqXLl2Ct7e3\n",
              "Rud/1Vbcjhq7I+bcXmPb29vjk080P++qSCRq8p/sL8rQoUOF2fUqKirQo0cPuLm5tXFWDVNrVqyX\n",
              "3ZMnT9ClSxcUFxdrdCJdbcXtqLE7Ys4dOXZztOdZsR48eABLS0sAwOLFi/Gf//wHhw4deqE5aH1W\n",
              "LMYYe9EiIyPRu3dvODs74969e9ixY0dbp9SoV+6yAGOsY9q+fXtbp9AifObKGGNawMW1HgYGBli6\n",
              "dGmdxQ3ba9yOGrsj5tyRY7MXi29oMcYEtTds7O3tYWzcPp4SaE/Kysogl8ubdUOLr7kyxgT6+vrQ\n",
              "0dHBH3/8AQsLC+jrt2x11pcZEaGgoAAikahZi6LymStjTIVCocCDBw9QWlra1qm0OyKRCDY2Nujc\n",
              "uXPTbbm4Msb+jIhQVVXFE+D/iVgsbv7LHdSBlZWV0ejRo8nFxYU8PT3J39+fbt++TUREeXl5NHLk\n",
              "SHJ2diZ3d3c6ffq00G/16tXk6upKIpGIvvvuO5WY3t7eJJVKqU+fPmRiYkIAyNXVtd7YPXv2pC5d\n",
              "upCVlRW5uLjQgQMHVGLb2dmRrq4uxcbGajQ2AHJwcCCpVEpSqZREIhGtXbuWvLy8yNTUlMRiMVla\n",
              "WjY4Hq+//joNGzaMevbsSS4uLvTee+8JOc+ZM4c8PDyEvC9evEhvvPEGeXp6UufOnalbt24NjnVL\n",
              "c46JiaGBAweSh4cHmZqakrW1tVqx6xvrS5cutSr2+++/Ty4uLmRqakrGxsbk4uIi5L1//34KCQkh\n",
              "Y2NjEovFZG9v3+yx9vPzE35fnZ2dycnJScj72bNnNGHCBKHtgQMHGvzdb6xtcHCwMM61OX///fct\n",
              "/vPFWqfDF9fExERSKpVERLRp0yby9fUlIqLp06fT0qVLiajmD5q1tTUpFAoiIrp48SLduXOHfH19\n",
              "6xTX52MvXLiQ3N3dG4y9fPlyevvtt8na2ppu3bpFFhYW9PPPP9OdO3eof//+tHHjRpoyZYrwB15T\n",
              "sZ/POy0tjSQSCXl6etKBAwcoMTGRHj58SBYWFvT555/XOx6hoaFkbGxMCoWC7t69S127dqXLly+T\n",
              "r68vrV+/nm7evCnkLZVK6fvvv6eysjL69ttvqVu3bnTjxo1W52xubk7W1taUnJxMZWVltG3bNrKx\n",
              "saHS0tJWj7VSqWx17G+++YYqKyuJiOjHH38ke3t7YawjIyNp8uTJlJiYSHfu3CELCwv64osvmjXW\n",
              "pqamlJubS0REGzduJCsrKyHv5cuX07Rp04iI6O7du2RhYUEPHz6s9/ezuW1rc66oqKg3DtOeDv0o\n",
              "lqGhIYKCgoQL7j4+PsIsOfv370dYWBgAwMvLC1ZWVjh9+jQAwNvbG05OTk3GTk9Px8yZMxuMnZCQ\n",
              "gMWLF8PKygo5OTnw8/PDvXv34OTkhM6dO8PW1hY6OnWHuLWxn7djxw5MnjwZOjo6KC0tRVBQEEpL\n",
              "S6Gvr4/BgwfXOx7nzp2Dvb09Tp8+DUdHRwQEBCA9PR0A4OjoiNdff13IWyQS4fHjxzA0NMTAgQNh\n",
              "YGAAc3PzVuc8btw4FBQUwN/fH4aGhpg1axbMzMxw7NixVo91YWFhq2OXl5cLk4L4+Pjg/v372L59\n",
              "OyZPnoyDBw9izpw5CAoKgpOTE/z8/FRmaGpsrEeOHIkff/wRAPDee+8hPz9fGJeEhAShn6OjI/z8\n",
              "/PDdd9/V+/vZ3La1vx/6+vr1xmHa06GL659t2LABo0ePRmFhISorK9GjRw9hn4ODA3Jycpod67ff\n",
              "fsPp06cxefLkBmPn5OTA3t5eiN3cY2gqdllZGfbt24cZM2Zg586dWLJkCezs7ODq6oqoqCjs2bOn\n",
              "3vHIycmBs7OzEK+xvOuL26NHj1bnHB4eDktLS+zfvx8AkJaWhlu3bkEul7d6rLt166bR2Bs2bMDI\n",
              "kSORkJCAGTNmCO1rOTg44IcffmjxWG/YsAFBQUHCXwr1xW3oOzan7fO/H+zFe2kexYqKikJWVhaO\n",
              "Hz+OsrLWz5y+a9cujBo1Ct26dWu3sQ8ePAhXV1f06dMHEyZMQHR0NCZOnIi7d++ib9++cHR0RGpq\n",
              "aqty/uKLL1Ti+vr64sqVKxrJ+fvvv8eCBQsQHR0Nd3d3DBo0CCdOnEBhYWGrx1pTsXfv3o39+/fj\n",
              "448/Rn5+Pvr06VOnzYULF/Do0SNER0e3OO6ZM2ewYMGCFn235np+rNmL91KcucbExODw4cM4duwY\n",
              "jI2NIZFIoKenh9zcXKGNXC6HnZ1ds+IREXbu3IkZM2YIsWNjYzFw4EAMHz4cSqUSubm5sLOzw717\n",
              "94TYzTmGJmPv2LEDM2bMwMOHD/Hdd99h4sSJAIDDhw9DV1cX06dPh1wux/Dhw1FVVYXp06cDAOzs\n",
              "7JCVlSXEayjvkpISlbhOTk4wMzPDkSNHWp0zAEilUiQlJSE9PR27d+/GtWvXcPv2bY2MtSZiJyQk\n",
              "YPny5UhOTsbBgweFvGvbAzW/e9evX8f8+fObPdZ5eXlC3O7duws5Px/3+f8vN2/ehEwmg0wmw5w5\n",
              "cxpt29BYszbQ1hd9W2vdunXUr18/evTokcr2adOmqdzQsrKyEm5o1WrohlZKSgrZ2tpSTExMo7GX\n",
              "Ll1Kb7/9NllZWQk3QgoKClRiT5s2TeWGlqZib926lTp16kTFxcVUVVVFZmZmdPz4cVq3bh15enqS\n",
              "tbU1paam1jseM2fOJCMjI+EmS23s58dj2rRptG7dOiEuEdGKFStILBZTUlJSq3MmIvrjjz+EGLV3\n",
              "3wsLCzUy1q2NvX37dnJ2dia5XE63b99WyXvp0qXC+Hh4eJBEIhFyaWqsTUxMyNHRkeRyuUr72NhY\n",
              "IS4Rqfx/qU9Tbf+cM3vxOnRx/e233wgAOTk5CY+deHt7ExFRbm4uBQQEkLOzM7m5udGJEyeEfitX\n",
              "riRra2vS19cniURC1tbWlJ+fL+x/77336H/+53+ajN2zZ08yNTUlS0tLcnFxoYSEBCG2np4e6ejo\n",
              "kEgkIhMTE7K2tqYrV65oJLa+vj4ZGRmRsbGxkHdycjJ5eHgQABKLxWRlZdXgePTu3Zv8/PzIycmJ\n",
              "XFxcaPz48ULczp07k46ODhkZGVGXLl1IIpFQ7969qXfv3gSAJBKJxnJetmwZubi4kIODAwEgOzs7\n",
              "jY31hx9+2KrYenp6ZGNjQ1KplF577TUyMzMT7saXlJTQqFGjhLG2t7dv9ljr6uoKcW1tbUksFgtj\n",
              "bWlpSQEBAULbhISEBn/3S0pKaPz48Q22XbhwIU2dOrXFf6aY5vBLBIwxpgUvxTVXxhhrb7i4MsaY\n",
              "FnBxZYwxLeDiyhhjWsDF9RXTrVs34TXNhixbtgzl5eUvJJ/r16/DwcGh3n0lJSVqzSWqbj/GNImL\n",
              "K6tj+fLlL6y4Mvay4uL6kvvhhx/w+uuvw9PTE/Pnzxe2f/bZZ/Dy8oJMJsOQIUNw69YtABAmAxk8\n",
              "eDBkMhny8/Px9OlTzJo1C97e3vD09ERoaCgUCkWDx6yqqsLIkSMxYMAAuLu7Y+LEiXj27Jmwf9my\n",
              "ZXBxcUH//v3x7bffqvSNj4+Hi4sL+vbti9jYWJV9aWlpGDZsGAYMGIC+ffviwIEDzerHWJto6wdt\n",
              "mfbk5eWRubk53bhxg4iI4uPjCQBlZ2ervDSxb98+GjlypPAZABUVFQmfZ82aRV9//TURESmVSpox\n",
              "Ywb97W9/a/C4SqVSeOBeqVRSWFgYRUdHExHRTz/9RG5ublRcXExKpZImTZpE9vb2RER07do16t69\n",
              "u/B21cKFC6n2V7SoqIhkMpmwr6CggGxtben3339vtB9jbeWlmbiF1XXhwgV4enrCzc0NADBjxgx8\n",
              "/PHHAIDk5GRs2rQJT58+hVKpxKNHjxqMc+TIEfzyyy9Yv349gJrZlhqbjZ2IEBsbi8TERFRVVaG4\n",
              "uBgDBw4EABw/fhzjx4+HqakpAODDDz/EuXPnAAAnTpxAYGAgLC0tAQCzZ89GdHQ0ACA1NRV3795F\n",
              "YGCgyrFu3bqF69evN9iPsbbCxfUVUnuTJycnB+Hh4UhLS0PPnj1x9epVDBkypMF+RIRDhw7B1dW1\n",
              "WcfZu3cvTpw4gdOnT8PU1BQbN27EiRMnGs2pqX1EBHd3d6SmptZpd/369WbHZOxF4WuuL7E333wT\n",
              "V69exa+//goA+Oqrr6BQKGBmZgaxWAxLS0sQETZv3qzSz8TEBMXFxcLn4OBgrFmzBlVVVQCAoqIi\n",
              "ZGVlNXjcoqIidOvWDaampnj69Cl27dol7PP398eBAwfw9OlTEBG2bdsm7Bs2bBiSkpKE2czi4uKE\n",
              "fQMHDkR2djZSUlKEbRkZGVAoFI32Y6ytcHF9iVlYWOCrr77CmDFjIJVKcfv2bUgkEpiYmGDChAlw\n",
              "d3eHl5dXnanq5s2bh4CAAOGGVmxsLIyMjCCTyeDp6Ynhw4c3+jjX1KlTUVpail69eiEwMBCDBw8W\n",
              "9gUFBWHcuHHo168fBgwYoHJsDw8PLFu2DIMHD0bfvn1hYGAg7DMzM0NiYiKioqIglUrh5uaGiIgI\n",
              "KJXKRvsx1lZ44hbGGNMCPnNljDEt4BtaTG3vvPNOnXWbzMzMcPLkyTbKiLH2gy8LMMaYFvBlAcYY\n",
              "0wIurowxpgVcXBljTAu4uDLGmBZwcWWMMS3g4soYY1rAxZUxxrTg/wPFBO1CjzS7oAAAAABJRU5E\n",
              "rkJggg==\n",
              "\">\n",
              "        \n",
              "      </div>\n",
              "      <script></script>\n",
              "      <script type=\"text/javascript\">\n",
              "        (() => {\n",
              "          const chartElement = document.getElementById(\"chart-680e12a7-8d79-4b4b-a84f-b8ca4e915224\");\n",
              "          async function getCodeForChartHandler(event) {\n",
              "            const chartCodeResponse =  await google.colab.kernel.invokeFunction(\n",
              "                'getCodeForChart', [\"chart-680e12a7-8d79-4b4b-a84f-b8ca4e915224\"], {});\n",
              "            const responseJson = chartCodeResponse.data['application/json'];\n",
              "            await google.colab.notebook.addCell(responseJson.code, 'code');\n",
              "          }\n",
              "          chartElement.onclick = getCodeForChartHandler;\n",
              "        })();\n",
              "      </script>\n",
              "      <style>\n",
              "        .colab-quickchart-chart-with-code  {\n",
              "            display: block;\n",
              "            float: left;\n",
              "            border: 1px solid transparent;\n",
              "        }\n",
              "\n",
              "        .colab-quickchart-chart-with-code:hover {\n",
              "            cursor: pointer;\n",
              "            border: 1px solid #aaa;\n",
              "        }\n",
              "      </style>"
            ]
          },
          "metadata": {}
        },
        {
          "output_type": "display_data",
          "data": {
            "text/plain": [
              "import numpy as np\n",
              "from google.colab import autoviz\n",
              "df_5669624164029546576 = autoviz.get_df('df_5669624164029546576')\n",
              "\n",
              "def time_series_multiline(df, timelike_colname, value_colname, series_colname, figsize=(2.5, 1.3), mpl_palette_name='Dark2'):\n",
              "  from matplotlib import pyplot as plt\n",
              "  import seaborn as sns\n",
              "  palette = list(sns.palettes.mpl_palette(mpl_palette_name))\n",
              "  def _plot_series(series, series_name, series_index=0):\n",
              "    if value_colname == 'count()':\n",
              "      counted = (series[timelike_colname]\n",
              "                 .value_counts()\n",
              "                 .reset_index(name='counts')\n",
              "                 .rename({'index': timelike_colname}, axis=1)\n",
              "                 .sort_values(timelike_colname, ascending=True))\n",
              "      xs = counted[timelike_colname]\n",
              "      ys = counted['counts']\n",
              "    else:\n",
              "      xs = series[timelike_colname]\n",
              "      ys = series[value_colname]\n",
              "    plt.plot(xs, ys, label=series_name, color=palette[series_index % len(palette)])\n",
              "\n",
              "  fig, ax = plt.subplots(figsize=figsize, layout='constrained')\n",
              "  df = df.sort_values(timelike_colname, ascending=True)\n",
              "  if series_colname:\n",
              "    for i, (series_name, series) in enumerate(df.groupby(series_colname)):\n",
              "      _plot_series(series, series_name, i)\n",
              "    fig.legend(title=series_colname, bbox_to_anchor=(1, 1), loc='upper left')\n",
              "  else:\n",
              "    _plot_series(df, '')\n",
              "  sns.despine(fig=fig, ax=ax)\n",
              "  plt.xlabel(timelike_colname)\n",
              "  plt.ylabel(value_colname)\n",
              "  return autoviz.MplChart.from_current_mpl_state()\n",
              "\n",
              "chart = time_series_multiline(df_5669624164029546576, *['date_added', 'release_year', 'director'], **{})\n",
              "chart"
            ],
            "text/html": [
              "      <div class=\"colab-quickchart-chart-with-code\" id=\"chart-0a1c7abd-ddd7-4a20-ba73-287b395fae7b\">\n",
              "        <img src=\"data:image/png;base64,iVBORw0KGgoAAAANSUhEUgAAAZoAAACNCAYAAACOorz0AAAAOXRFWHRTb2Z0d2FyZQBNYXRwbG90\n",
              "bGliIHZlcnNpb24zLjcuMSwgaHR0cHM6Ly9tYXRwbG90bGliLm9yZy/bCgiHAAAACXBIWXMAAA9h\n",
              "AAAPYQGoP6dpAAAyTElEQVR4nO3deVQUV/o//nevbAFFQGRHZJOtGwTEFUVRdIwQR5N8XEDiDEFj\n",
              "YtQYNXFBcYmjkRgzGY3jNnFXlHjcEhGNGjGigusXFJWgIoHgLmvD8/uDQ/1s2ZqWFpfndU6fI133\n",
              "3nqqGvuhbt26V0REBMYYY0xHxC0dAGOMsdcbJxrGGGM6xYmGMcaYTnGiYYwxplOcaBhjjOkUJxrG\n",
              "GGM6xYmGMcaYTnGiYYwxplOcaBqwbNmylg6BMcZeedKWDuBl9scff7R0CIy1CCKCSqVCZWVlS4fC\n",
              "XlIymQwSiUSjspxoGGNqysvLcefOHRQXF7d0KOwlJhKJYGtri7feeqvRspxoGGOCqqoq3LhxAxKJ\n",
              "BNbW1pDL5RCJRC0dFnvJEBEKCwtx69YtuLi4NHplw4mGMSYoLy9HVVUV7OzsYGho2NLhsJeYhYUF\n",
              "cnJyUFFR0Wii4cEAjLFaxGL+amANa8qVLv82McYY0ylONIyxN4K5uTlycnIwcOBAZGVlNVu7GRkZ\n",
              "2LJlS7O19zriRMMYe6Ps27cPbm5utd5XqVRatfc8iUbbfb5qONEwxl5Lu3fvRseOHeHj44PPP/9c\n",
              "eN/R0REZGRkAgF69euGTTz5Bly5d0K9fPwDAkiVLEBgYCD8/P4SFhQnP05WXl2PKlCnw8vKCQqFA\n",
              "WFgYCgoKMGvWLBw+fBhKpRKxsbEAgJ9//hl+fn7w8fFBcHAwLl++DAA4cuQIPD09MWbMGCiVSuza\n",
              "tesFnpGWw6POGGOvnYKCAkRHR+PYsWPw8PDADz/8gKKiojrLXrlyBUePHoVMJsOmTZuQlZWF1NRU\n",
              "SCQS/Pjjjxg3bhz27t2LhQsX4sqVKzhz5gz09PRQWFgICwsLzJ07F0lJSUhKShL2PXz4cBw5cgTe\n",
              "3t7YuHEjhg4dikuXLgEA/t//+3/4/vvvsXr16hd1OlqcTq9oSktLERERAVdXVygUCoSGhiI7OxtA\n",
              "9YcRFhYGFxcXeHl54ejRo0K9BQsWwM3NDWKxWPjwavTq1Qvt27eHUqmEUqlEQkJCvfvfs2cP3N3d\n",
              "4eLigiFDhuDhw4c6OU7G2Mvl5MmT8PHxgYeHBwBgzJgxkMvldZYdOXIkZDIZACApKQnJycno1KkT\n",
              "lEol/vWvfyE3NxdA9ffJhAkToKenB6B6eG9dfv/9d3h7e8Pb2xsAMGLECOTl5eH27dsAACcnJwQH\n",
              "Bzffwb4CmpxoKisrkZiYqHH5mJgYZGVl4dy5cwgPD8c//vEPAMC0adMQFBSEq1evYu3atRg+fDgq\n",
              "KioAAH379sX+/fvRs2fPOttMSEhARkYGMjIyMHHixDrLPH78GGPGjEFSUhKuXr0Ka2trxMfHN/Fo\n",
              "GWOvg4aG4j79ZDsRYfr06cL3y4ULF3DhwoVmjUWTJ+lfN01ONBKJBPPnz9eorL6+PgYOHCh8yEFB\n",
              "QcjJyQEAbNu2TejPDAgIgLW1NX799VcAQGBgIJycnJoampr9+/fD19cX7u7uAIBx48Zh8+bNz9Um\n",
              "Y+zV0KVLF5w/fx6ZmZkAgDVr1qC8vLzRehEREVixYgXu3r0LAKioqEB6ejoAYPDgwVi2bBnKysoA\n",
              "AIWFhQAAExMTPHjwQGgjKCgIFy5cwMWLFwEAW7ZsgY2NDWxsbJrvAF8xWnWd+fn54fjx402ut2zZ\n",
              "MoSHh6OoqAgVFRVo166dsM3R0VG4RG3MtGnT4O3tjffeew/Xr1+vs0xubi4cHBzU2r9z5069ozzK\n",
              "ysrw8OFDtRdPKMjYq8nCwgJr1qzBO++8A4VCgatXr8LMzKzReiNGjMDo0aPRu3dvKBQKKJVKpKSk\n",
              "AACmTp0KV1dX+Pn5QalUIioqCgDQp08flJWVwcfHB7GxsbCwsMDGjRsRGRkJHx8f/Oc//8H27dvf\n",
              "7Kl8SAuenp4kkUjIxcWFfH19hVdD5s+fT0FBQfTkyRP666+/SC6Xq20fNmwYrV69Wu294OBg2rVr\n",
              "l9p7ubm5RERUVVVFy5cvp44dO9a5vyVLllBMTIzw85MnT0gsFlNFRUWd5WfPnk0A1F5BQUENHhNj\n",
              "r5uSkhK6fPkylZSUtHQo7CXXlN8VrUad/fvf/25S+SVLlmDnzp1ITk6GoaEhDA0NIZVKkZ+fL1zV\n",
              "5OTkwN7evtG27OzsAFT3uY4fPx6fffYZioqKav21Ym9vj4MHDwo/5+TkwMrKClJp3Yc8ffp0TJo0\n",
              "Se29mTNnNuk4GWOM1aZVomnKiImlS5di8+bNSE5ORuvWrYX3hw0bhhUrViAuLg5paWm4fft2o+2q\n",
              "VCoUFRXB0tISAJCYmAhLS8s6L4nDwsLw0UcfITMzE+7u7vj+++/x/vvv19u2np6eMJqkhqZrLTDG\n",
              "GKufVommpKQEy5cvR0ZGBkpLS4X3d+7cqVbu1q1bmDx5MpycnNC7d28A1V/ov//+OxYtWoRRo0bB\n",
              "xcUFcrkcGzZsEIYYzps3DytWrEBhYSEuXryI8ePHIz09HYaGhvjb3/6GsrIyiMVimJubY/fu3cL+\n",
              "Zs2aBWtra8TGxsLY2Bj//e9/ERERAZVKBS8vL6xfv16bw2WMMfYcRERETa00cuRImJiYYN++fZg8\n",
              "eTLWrVuHnj17NvhMy6to0qRJWLp0aUuHwdgLU1paihs3bqB9+/bQ19dv6XDYS6wpvytajTo7d+4c\n",
              "vv/+e5iYmODjjz/GkSNHcObMGa2CZYwx9nrTKtEYGBgAAKRSKZ48eQJjY2NhTDljjDH2NK0STZs2\n",
              "bXDv3j0MHDgQ/fv3R0REBGxtbZs7NsYYA1D94OScOXPg7u4OT09P+Pr6IiIiQpgcc/fu3cIsIUeO\n",
              "HIFSqQRQPdr06UFIzyMpKQknT55ssMzWrVvh7+8PNzc3dOrUCW+//bYws4BIJML9+/ebJZZXjVaD\n",
              "Afbu3QuJRIL4+Hhs2rQJ9+7dQ2RkZHPHxhhjAIDo6Gg8fvwYqampMDU1BQAkJycjKysLSqUSgwcP\n",
              "xuDBg3W2f5VKhaSkJCiVSgQFBdVZZu3atVi4cCGSkpKEOdbOnDmDvLw8Yd6zN5a2D+vk5eXR4cOH\n",
              "iYiovLycysrKtG3qpTVx4sSWDoGxF+rZh/CqqqroSXmZTl9VVVUNxnTlyhUyNDSkoqKiesusXbuW\n",
              "wsPDiYjo8OHDpFAoiIjoxo0b1KpVK5o8eTJ5e3uTh4cHHTx4UKh34MAB6tatG/n5+VFAQAClpKQI\n",
              "bXh4eNAHH3xACoWC1q1bR6ampmRtbU0KhYJWrVpVKwY7Ozvau3dvvTECoPnz51NAQAA5OjrSmjVr\n",
              "hG2TJ08mf39/UigU1KNHD8rMzNSoXkvS+QObO3bswOTJkyESiZCTk4PLly9j+vTp2LdvX/NmQcZY\n",
              "iypRVcB1wyyd7uPKyLkwlNU9szIApKenw9nZGW3atNGq/QcPHqBjx45YsmQJTp48icGDB+PatWso\n",
              "LCxEXFwcfv75Z5iYmCA7Oxs9evQQ5mN8djr/mjVnPv3001r7KCgowM2bN9GlS5cGY9HT08OpU6eQ\n",
              "mZmJgIAAjBo1ClKpFFOnTsWSJUsAVM+NNmHCBBw4cKDReq8KrSJduHAhzp49i759+wIAFAqFsDgQ\n",
              "Y4zp0rVr1/D3v/8dJSUl6Nq1K9auXdtgealUitGjRwOonvDS2toa6enpuHjxIrKzs9VmiReLxcKc\n",
              "i7qYzn/EiBEAAHd3d2F2FFtbWxw8eBDLly/Ho0ePUFVVJUzq2Vi9V4VWiUYikdR6Gr++tR4YY68u\n",
              "A6kMV0bO1fk+GuLr64vs7Gzcu3cPpqam6NChAzIyMrBu3bpa61VpSiQSgYgQGhqKTZs21dp++/bt\n",
              "Jk3n37ZtW9ja2iI1NRUDBw6st9zTz5tIJBKoVCrk5uZi/PjxSEtLQ4cOHXD+/PlaS6TUVe9VotWo\n",
              "M2NjY/z555/CbKSHDh3S+rKWMfbyEolEMJTJdfpqbFZjFxcXhIeHY8yYMWqjtp48eaLRMahUKvz4\n",
              "448AgFOnTiEvLw9KpRL9+/dHcnIyzp8/L5Q9depUve08uxzAs+Li4jBp0iRhaQKgutvvl19+aTC+\n",
              "Bw8eQCaTwcrKCkSE7777TqPjepVodUWzaNEiDBgwANevX0f37t1x48YN7N27t7ljY4wxAMC6desw\n",
              "f/58dO7cGVKpFKamprCwsMDUqVMbrduqVStcvHgRCoUCKpUKmzZtgrGxMYyNjbFp0yZ8+OGHKC4u\n",
              "Rnl5OXx9feu8wgGAUaNGYfTo0UhKSsJHH30kLOJYY8yYMTAwMMCIESPw+PFjSKVSdOjQAQsXLmww\n",
              "Pm9vb7z//vvw9PSEmZkZIiIiND4vrwqtpqABqrPwiRMnQETo2rVrs41Vf5nwFDTsTcNT0DBNNeV3\n",
              "RasrmpUrVyIyMhIDBgzQKkDGGGNvDq3u0Rw9ehTt27fHxIkTkZ2d3dwxMcYYe41olWg2btyIc+fO\n",
              "wczMDH369MGAAQP4GRrGGGN10irRAIClpSVmzJiB9evX49KlSxg5ciTc3d1x6NCh5oyPMcbYK06r\n",
              "ezSlpaXYsGED/v3vf8PQ0BCLFy/G0KFDkZ6ejqFDhwpP1jLGGGNaJRpHR0eEhobihx9+QEBAgPC+\n",
              "v78/QkNDmy04xhhjrz6tus7S09Px448/qiWZGqtWrcL27dsBVF/5REREwNXVFQqFAqGhocLggYKC\n",
              "AoSFhcHFxQVeXl44evSo0MaCBQvg5uYGsVhc68nf6Ohoob1u3bohLS2t3jhFIhG8vb2hVCqhVCpx\n",
              "7NgxbQ6XMcbYc9Aq0VhZWTW4/ekHlGJiYpCVlYVz584hPDxceMhp2rRpCAoKwtWrV7F27VoMHz4c\n",
              "FRUVAIC+ffti//79taZhAIB33nkHly9fxrlz5zB9+nQMGzaswViOHTuGjIwMZGRkoEePHk09VMbY\n",
              "S8DR0VFYe+ZFE4lEwvo2NdauXQuRSIRvvvkGALBixQosXry4wXaeXienKRqrd/DgQfTs2RNOTk7w\n",
              "9/dHYGAgfvjhhybvR5d0Mv1nzTOg+vr6avP+BAUFCTOUbtu2Tbi6CQgIgLW1NX799Vf07dsXgYGB\n",
              "9bb99JoTQUFBuH37NlQq1XPPZFpWVoaysjK19yorK5+rTcZedUQEKi/W6T5EcsNGp6Fpqub4Tnia\n",
              "VCrFmTNn0KlTJwDAmjVr4O/vL2yPjY1ttn01xS+//ILRo0djx44d6Nq1KwDg1q1bWLVqVZ3lm/u8\n",
              "aEone6zvl2bZsmUIDw9HUVERKioq0K5dO2Gbo6OjMGuqppYtW4aBAwc2eOL69OkDlUqFPn36ID4+\n",
              "HkZGRnWWW7hwIebMmaP2Xn0LHDH2pqDyYmR/aKLTfTivfAiRXt3/L5+VnZ2N2NhYFBQUQCwWIy4u\n",
              "TpiyRSQSYdasWdi3bx969eqFSZMmISoqCrdu3YKtrS3atGkDd3d3xMXFoaKiAjNnzkRKSgrKy8vh\n",
              "6uqKlStXCouqPSs6Ohpr1qxBp06dcOXKFVRUVMDT01PYHhcXh/v37wtXOIsWLcKGDRsgFothYGCA\n",
              "lJQUANVf9OPGjcNvv/0GlUqF9evXCwnr559/Rnx8PEpKSiCRSLBo0SL07t27wfMxd+5czJo1S0gy\n",
              "AGBra6v2XfbseYmMjMTYsWNRXFyM0tJSDB8+HDNmzKjzOL777jucPn0a69at0+jzqY/Ww5ubasGC\n",
              "BcjOzm503h9NbdiwAdu2bWvwEvGPP/7AmTNncOLECRQWFmLKlCn1lp0+fToePHig9mroyoox9uKN\n",
              "GDECw4YNw/nz57F9+3aMGTNGbYkSiUSCtLQ0LF68GJ988gm6dOmCy5cv43//+x+OHDkilFu8eDGM\n",
              "jIxw6tQpZGRkwNvbW/iyrcuQIUOwb98+lJaWYs2aNYiOjq637Pr165GYmIjjx4/j3Llz2L9/P/T0\n",
              "9AAAmZmZiIqKwrlz5/Dxxx/jyy+/BABcv34dcXFx2LdvH86cOYNNmzZh+PDhtXpZnnX27Fl07ty5\n",
              "0fP29HlxdHTEoUOHcPbsWZw5cwaJiYmNLlH9vHTadVZjyZIl2LlzJ5KTk2FoaAhDQ0NhTYWaq5qc\n",
              "nBzY29tr1P7WrVsxZ84cHDp0CJaWlvWWq2nPyMgI48aNQ0xMTL1l9fT0hF+GGhKJRKN4GHtdieSG\n",
              "cF75UOf70MSjR49w9uxZ/PbbbwCqZ3Xu3r07jh07BgcHBwDABx98IJQ/dOiQ0FXfrl07DBo0SNiW\n",
              "lJSEBw8eIDExEQBQXl4OR0fHevdtYGCA/v37Y/v27di+fTvS09ORmppaZ9k9e/YgNjYWrVq1AgC1\n",
              "qyRnZ2chMXTp0kWI78CBAw2ujaOpESNG4NKlS8jPz8eVK1dgYlJ9Nfr0eSkpKcG4ceOQkZEBsViM\n",
              "mzdvIiMjQ6c9OFonmoqKCuTm5qJDhw61ti1YsED499KlS7F582YkJyerTbw5bNgwrFixAnFxcUhL\n",
              "S8Pt27c1WmRo27ZtmDFjBpKTkxtMTPfu3YOenh4MDQ1RVVWFrVu3wtfXt2kHydgbTiQSadyt1RKe\n",
              "7aZvaA2Zp8sSEZYvX45+/fppvK/o6GgMGjQIYWFhwhd4U9W3rkxja+PUx9fXF6dOnRK+2zZu3Aig\n",
              "+lirqqqEck+fly+++ALm5uZIT0+HVCrFkCFDUFpaCqD6XtTT96Zr3n9eWnWdHTlyBA4ODkL/YVpa\n",
              "GkaOHClsr5ls89atW5g8eTLu37+P3r17Q6lUCtl80aJFOHHiBFxcXDB69Ghs2LABMln1Akjz5s0T\n",
              "FhH6xz/+AVtbWxQWFgKoztilpaUIDw8Xhi0XFRUBqB75MWtW9bKzmZmZCAoKgkKhgLe3N4qKioR+\n",
              "R8bYq8fY2Bh+fn7CiprZ2dk4fvx4naNTASAkJES4t/Dnn39iz549wraIiAgkJCSguLh6oENxcTEu\n",
              "XbrU4P47d+6MGTNmYPr06Q2WGzx4MFasWCGsXXP//v1GBxY1dW2cGjNnzsTcuXPVur4aW6fn3r17\n",
              "sLW1hVQqRVZWFg4ePChsc3Z2xunTp1FZWYni4mLhiu95aXVFM23aNBw7dgxDhw4FUD1qLD09vVY5\n",
              "W1vbWt1oNSwtLetdEGjGjBn19pfWDIGuy9MjP7p06aL2oTHGXl0qlQr6+vrYuHEjYmNj8d1330Ek\n",
              "EuG///1vvT0by5YtQ1RUFDw8PGBtbY3OnTsLvSpTp05FWVkZOnfuLFzpTJ06Ve0Gf10mTJjQaKyj\n",
              "Ro1CXl4eunbtCqlUCiMjIyQnJzdYx9nZuUlr49QICwvD6tWrMWXKFOTl5cHCwgJyuRzLly+HsbFx\n",
              "nXVmzJiBUaNGYf369ejQoQNCQkKEbUOGDMH27dvRsWNH2NrawtfXV0jGz0Or9WgCAgKQlpYGX19f\n",
              "IcE8/e/XBa9Hw940L+N6NHfu3IGbmxvy8/NhaKjZ/Ryg+l6ETCaDVCpFUVERgoKCsGHDBo1unrPG\n",
              "6Xw9Gn19fTx+/Fj4S+DChQswMDDQpinGGKvX0qVLsXLlSixZsqRJSQYArl69isjISBARysvLMW7c\n",
              "OE4yLUSrRDNz5kz069cPt2/fxsiRI5GcnNzoJR5jjDXVpEmTMGnSJK3q+vj4tNhsAkydVommX79+\n",
              "cHFxwYEDB0BEmDNnTp2jzxhjjDGtEk15eTnat2+PsWPH4vr167h8+TIcHR35uRPGGGO1aDW8uVu3\n",
              "bnj06BGKiorQo0cPLFy4EB999FFzx8YYY+w1oFWiUalUMDY2xt69exEVFYXffvtNeFqXMcYYe5pW\n",
              "iaa8vBxA9YObNWOwuduMMaYrjo6OcHNzg1KphJubG7766iuN6olEIty/f/+593/kyBEcOHCg3u1x\n",
              "cXH49NNPm9SmNnWejSMvL++VWP5Eq3s0vXv3hoeHByorK7Fy5Urcu3evRaaeZoy9ObZu3QqlUonb\n",
              "t2/Dw8MDISEhL2TiW5VKhSNHjuD+/fsICwvT+f4a8mwc1tbWr8SCjlpd0SxfvhybNm1CWloaZDIZ\n",
              "Kisr613/gDH26iIilJepdPpq6jPjNjY2cHd3F2Ztzs7ORt++feHj4wOlUllrVd4lS5bA19cXrq6u\n",
              "wlxgQPXUWSEhIfD394evr6+wMnBOTg5at26NqVOnws/PD9999x1WrFiBjRs3QqlUYu7cuRrHOnr0\n",
              "aLWprz777DPExcXVKnf58mV4eXlh//79QsyBgYHw8/NDWFgY/vjjD2RkZNSKoybWGqmpqejevTsU\n",
              "CgV8fHzw008/aRyrLml1GVKz4lxZWRkePnwIuVzOw5sZew1VlFdixrT6u4yaw7yvwiDX0/yrKDMz\n",
              "E0VFRejVqxeA6vkPP/jgA3z44Ye4evUqgoKC4OvrK8zoLBKJkJ6ejuvXr8Pf3x/dunVD69atERMT\n",
              "g3379sHKygp//fUX/Pz8hHVdHjx4AE9PTyxatAhA9XxlT6/T0pyOHDmCcePGYcOGDfDz88OmTZuQ\n",
              "lZWF1NRUSCQS/Pjjjxg3bhz27t2L2NhYtThycnKEdu7evYuIiAjs2LEDPXr0QFVVVbN0GzYHrRLN\n",
              "yZMnER0djStXrqi9zytSMsZ05b333oNYLEZWVhYSEhJgYWGh0dIBNcvHOzk5oWfPnjh69CjMzc1x\n",
              "/fp1YQLgGllZWXBycoJMJlObKFhXUlJScODAAfzyyy/CnG1JSUlIS0sTVvPU9Hs1NTUVbm5uwj0b\n",
              "sViMNm3a6CbwJtIq0UyYMAHr1q1DbGwsjh49im+//falmReJMdZ8ZHIJ5n2l2/sSMrlmA4lq7tEk\n",
              "Jyfj7bffRkhISJ1ryDS2LLRIJAIRwdPTEydOnKi1PScnB4aGhhCLn39dyLqm3X96yn5nZ2dkZmbi\n",
              "5MmTQqIhIkyfPr3B9bNeNVqdyYqKCnTu3FkY5vzll19iy5YtzR0bY6yFiUQiyPWkOn01lhie1bdv\n",
              "X4wdOxYzZszQaOmAmm05OTk4duwYevToga5du+LGjRtqsypnZGQII2qfZWJiIkz73xTOzs7CdP9F\n",
              "RUXYt2+f2nZ7e3scOnQI8+bNE+KMiIjAihUrcPfuXQDV37c1ExY3FEfXrl1x9epVYXBAVVWV0EZL\n",
              "0+qKpmbdGDMzM5w9exZ2dnbCejGMMaZrM2fOhLOzM86cOdPo0gGVlZXw9fXFkydP8O233wpXQXv3\n",
              "7sVnn32GyZMno6KiAvb29rUGEtR455138OOPP0KpVGLIkCHCuldPW716NXbs2CH8PGnSJMTExGDo\n",
              "0KHo2LEjnJyc6lzF0srKCikpKQgLC8OjR4/wySefoKioSFjvS6VS4YMPPoCvr2+tOCIjI4V2TE1N\n",
              "sWvXLkyePBmPHj2CWCxGfHw83n77bW1OcbPSapmAhIQEREZG4syZM/j73/+OiooKzJs3D5999pku\n",
              "YmwxvEwAe9O8jMsEsJdTU35XtOo6mzhxIszMzNCvXz/cvXsXhYWFdSaZ0tJSREREwNXVFQqFAqGh\n",
              "ocjOzgYAFBQUICwsDC4uLvDy8sLRo0eFegsWLICbmxvEYnGtvzAaqvesPXv2wN3dHS4uLhgyZAge\n",
              "PtTt2ueMMcZq03oKmq+//hpjx46FTCZDQUEBUlJS6iwbExODrKwsnDt3DuHh4cIIkGnTpiEoKAhX\n",
              "r17F2rVrMXz4cGH1zL59+2L//v11LtHaUL2nPX78GGPGjEFSUhKuXr0Ka2trxMfHa3O4jDHGnoNW\n",
              "iWb8+PHIzMzEkSNHAFTfq/n8889rldPX18fAgQOFm31BQUHCuO9t27YJSy8HBATA2toav/76KwAg\n",
              "MDAQTk5Ode67oXpP279/P3x9feHu7g4AGDduHDZv3qzN4TLGGHsOWj9Hk5GRAV9fXwBA69at67yq\n",
              "eNayZcsQHh6OoqIiVFRUoF27dsI2R0dH5ObmNli/KfVyc3OFcfQ15e7cuQOVSlXndDllZWUoKytT\n",
              "e4+fC2KMseen1RXNszd+KisrUVVV1WCdBQsWIDs7GwsXLtRmlzq3cOFCtGrVSu1VMyyRMcaY9rRK\n",
              "ND4+PtiwYQOqqqqQnZ2N2NhYYTqIuixZsgQ7d+7E/v37YWhoCDMzM0ilUuTn5wtlcnJy1IYk1qUp\n",
              "9ezt7YW5kGrKWVlZ1Tv55/Tp0/HgwQO114uYsI8xxl53WiWapUuX4tixY8jPz0e3bt0gFovrnbZ7\n",
              "6dKl2Lx5Mw4ePKg2+duwYcOwYsUKANWT292+fRvBwcGN7lvTemFhYTh79iwyMzMBAN9//z3ef//9\n",
              "etvV09ODiYmJ2ouXPmCMsWZAOnTz5k0CQE5OTqRQKEihUFBgYCAREeXn51NoaCg5OzuTh4cHpaSk\n",
              "CPXi4+PJxsaG5HI5mZmZkY2NDRUUFDRab+bMmfSf//xH+Pmnn34iNzc36tChA4WHh9P9+/ebFP/E\n",
              "iROf5/AZe+WUlJTQ5cuXqaSkpKVDUZOYmEh+fn6kUCjIzc2NevfuTZWVlURE5ODgQOnp6S0a35o1\n",
              "awgAHT16VKPyL0PMz6spvytNemBz9+7dDW4fPHjwc6a9lws/sMneNC/jA5t37tyBt7c3zpw5Iwzw\n",
              "OXv2LHx9fSESieDo6IikpCQolcoWi7F79+7Q19eHra0t1q1b12j55425vkFNL1JTfleaFGlCQkK9\n",
              "20Qi0WuXaBh70xERqKTxEaXPQ2Qga3C+sz///BMSiURtJmI/Pz+1Mjt37sTYsWORn5+PMWPGYMaM\n",
              "GQD+/677iooKyGQyfPvtt+jSpQuA6i/7yMhIHDx4sFa9/Px8fPLJJ8jJyUFJSQnCw8Mxb968OuPL\n",
              "ysrCjRs3kJaWBg8PDzx8+BAmJiYAqmdUnjJlCh49egQiQnx8PMLDw9XqL1++HFu2bEFSUhIqKyvr\n",
              "3a+joyPee+89HD58GC4uLmpr67zsmpRoDh8+rKs4GGMvISqpQIH/Mp3uo+3pCRAZyuvd7uPjg+7d\n",
              "u8PBwQHBwcHo2rUrhg8fDhsbG6HM/fv3kZqair/++gsdOnRAdHQ0bGxsMGrUKEyaNAlA9WMZo0eP\n",
              "Fu7bNlQvKioKX3zxBYKDg6FSqTBo0CBs374dw4YNqxXf6tWrMWrUKFhbWyMkJARbtmxBTExMo+vD\n",
              "VFVVYdKkScLkngYGBujfv3+D+y0qKsLvv//e5IlIW5pW114qlQrLli3DtWvX8P333+PatWv4448/\n",
              "EBIS0tzxMcbecGKxGImJicjMzMSvv/6K/fv3Y/78+Th9+jScnZ0BAMOHDwcAmJubw8nJCTdu3ICN\n",
              "jQ3S09Mxf/58FBUVQSqVIisrCyUlJTAwMKi3XuvWrXHo0CH8+eefQgyPHz9GVlZWrdhUKhX+97//\n",
              "CQ+Nf/DBB4iPj0dMTEyj68PExMTA19cXiYmJEIvFePLkSaP7HT169CuXZAAtE8348eNRWVmJ48eP\n",
              "A6gedvzee+/h9OnTzRocY6xliQxkaHt6gs73oQl3d3e4u7vjww8/RFhYGHbv3i1crTx9j0AikUCl\n",
              "UqG8vBxDhgzB4cOHERAQgIcPH6JVq1YoKysTEk1d9WpuW588ebLRew979uzB/fv30b9/fwDVXY15\n",
              "eXm4ePFio8cTHBwsdNtZW1trtN+n17J5lWg1vPnkyZNYtWqVcDI0nRmAMfZqEYlEEBvKdfpq7C/0\n",
              "27dvCytoAsC9e/dw48aNRpePLy0tRXl5ufCc3fLlyzU65rfeegu9e/dWe2QjLy8Pt27dqlV29erV\n",
              "+Oabb5CTk4OcnBz88ccfmDRpElavXt3o+jCjRo3CrFmzEBISghs3bjRpv6+aFzYzAGOMaUOlUmHu\n",
              "3LlwdXWFUqlEjx49EBUVVeum+rNMTEwwb948BAYGolOnTpDL678P9KyNGzciOzsbXl5e8Pb2xpAh\n",
              "Q1BUVKRWJi8vD4cOHap132bEiBHYsGEDjIyMsGvXLkybNg0+Pj7w8/NTS5gAMHToUHz99dfo168f\n",
              "MjMzNdrvq0ir9WhiYmLQs2dPLF68GImJiVi0aBH09fU1/ovhVcHDm9mb5mUc3sxeTjpfj6aumQEW\n",
              "LVqkVbCMMcZeb00eDFBZWYn4+HisXLkSK1eu1EVMjDHGXiNNvqKRSCT8PA1jjDGNadV1NnDgQMyf\n",
              "Px95eXl4+PCh8GKMvR54cA9rTFNu72v1HM3cuXMBADNnzoRIJAIRQSQS8UJhjL3i5HI5xGIx8vLy\n",
              "YGFhAbm88eHH7M1DRCgsLIRIJIJM1vhzUFolGv5rh7HXk1gsRvv27XHnzh3k5eW1dDjsJSYSiWBr\n",
              "a6vRciotO/0nY+ylI5fLYW9vD5VKxb0UrF4ymUzjNbs40TDGaqnpEtGkW4Sxxmg1GIAxxhjTFCca\n",
              "xhhjOsWJhjHGmE5xomGMMaZTWk2q+aYYMmQIHB0d691eWVmJU6dOITAwUOPRF81Zn2N4vWLQpA0H\n",
              "BwdMmKDb9WEYa26caJ5DzUJKDx48ENYIf5H1OYbXK4bmaoOxlw13nTHGGNMpTjSMMcZ0ihMNY4wx\n",
              "neJE8xz09PQwe/Zs6OnptUh9juH1iqG52mDsZcODARhjjOkUX9EwxhjTKU40jDHGdIoTDWOMMZ16\n",
              "IxJNaWkpIiIi4OrqCoVCgdDQUGRnZwMACgoKEBYWBhcXF3h5eeHo0aNCvQULFsDNzQ1isRjbtm1T\n",
              "a6NVq1bo2LEjlEol3N3dIRKJ4ODgUGcbrq6uEIlE0NfXh1wuh6OjI0JDQ6FQKGBvbw99fX2IRCKI\n",
              "RCI4OzvXG0O3bt1gZGQktFETQ5s2bSCVSiESiSCXy2Fubq5xDImJiVAqlTAyMoJYLIZUKoWdnZ3G\n",
              "MXTu3BlKpRL29vbQ09ODSCSChYVFg+ehXbt2eOutt2BtbQ2FQoHOnTujTZs2kMlk0NPTg76+PkxN\n",
              "TZt0Lnfu3IlOnTrByMgIEokEMpmsycfh5+cHOzs74fNo7DjqiqFt27aQSqVCDM9+FtHR0XB1dYW3\n",
              "tzcsLCxga2sLV1dX7NixA8XFxfi///s/ODg4wMjICA4ODvD09MTWrVtr/U7XlHV2dhbq11izZg28\n",
              "vb0hlUrxzTffNP4fhDFdozdASUkJ7d27l6qqqoiIaPny5RQcHExERNHR0TR79mwiIjp16hTZ2NhQ\n",
              "eXk5ERH9/vvvdO3aNQoODqatW7fW20bv3r3JwsKi3jYmTJhAbdu2pRkzZtC1a9fIwsKCvvrqKwoO\n",
              "DqaMjAx65513yN7enqysrOqNwdHRkXr27El79+6t1UZUVBQ5OztrFYORkRG5u7tTt27d6PPPPydz\n",
              "c3MyMzOjdu3aaRSDlZUVeXl5UUZGBv3tb38jiURCU6dOrTcGS0tL2rp1K61evZrMzc3pr7/+Ihsb\n",
              "G2rdujUlJCTQ8OHDydDQkC5duqTxcSxcuJDkcjl5eHhQt27daPz48WRjY0Nt27bV6DjMzc3JxMSE\n",
              "fHx8KCMjg0JDQ0kqldKiRYuaHENoaCgFBgbS+PHjyc7Ojo4ePapW/6effqKKigqaM2cOhYSEkIOD\n",
              "A12/fp0sLCxo6tSpFBUVRV27dqUFCxaQhYUFZWZmkr29Pd26dUvtd3rOnDkUFRVFRCTU/+uvv4iI\n",
              "KCMjgy5fvkyjRo2ihIQErf/fMNZc3ohE86y0tDRycHAgIiIjIyO6c+eOsC0gIIAOHjyoVj44OJh2\n",
              "7dpVbxsSiYTmzJlTbxseHh7k6+srtDFs2DD68ssv1WJo164dRURE1BuDoaEhffXVV8LPT7cRFRVF\n",
              "IpFIqxhkMhnJ5XIyNDSk06dPk42NDYWGhpKdnZ1GMVhaWpK5ubmw3cDAQIhDkxhWrVpFrq6upKen\n",
              "RwkJCWRoaEjt2rUTPhNN2pg4cSIBICMjIzI0NKQ7d+6Qt7c3+fv7a3QcgwcPJolEovZ5tGrViqKj\n",
              "o5scQ1RUFMnlciGGxMTEOj9PDw8P2r9/P0mlUqqoqKBhw4aRlZUVpaamkpGREd2+fVs4P2+//TZ9\n",
              "/fXXteqnpqaqfRarVq1SKxMVFcWJhr0U3oius2ctW7YM4eHhKCoqQkVFBdq1aydsc3R0RG5ursZt\n",
              "nD9/HpWVlRg3bly9beTm5kJfX19t++7du9ViKCwsRKdOneqNobS0FBYWFnW2cffuXRARtmzZgkGD\n",
              "BiEjI0PjGIYOHQqguiume/fu+PTTT3H27Fno6elpFIOxsTFKS0thY2OD4uJidOrUSZijS5MYcnNz\n",
              "4eLigsrKSkyePBnFxcWwtLREfn6+xm0kJyfD2NgY1tbWKCsrw82bN5GVlYXLly9rdBw13WkeHh4o\n",
              "KipCeXk5Hj16hLt37zY5hqtXr6K8vBzdu3fHpUuX8Ntvv9X5eebm5uLnn3/GwIEDIZVK4ejoiKKi\n",
              "Ijg4OKBTp07YsGEDHB0dce7cOZw4cQI5OTm16js4ONQ6l4y9jN64RLNgwQJkZ2dj4cKFzdLG5s2b\n",
              "IRaLYW5urnH9kydP4u7du0IMlZWVsLW1xVtvvaVVG/b29hCLxbh8+TLGjBmDAQMGQKVSaVS/vLwc\n",
              "s2fPhlgshqOjI2bOnAl/f3+IRCKNYrh9+za+/fZbnD9/HnK5HGfPnhWShCaOHz+OkydPYtGiRcjP\n",
              "z4dcLsetW7cQGhqKx48fa3wefvnlF5ibm6OyshL9+vWDiYmJcC9FkzZMTU1RUVGBXr16obKyEm3b\n",
              "toVYrNl/j6djAKqXQQ4KCoKnpydWrVpV52dRUVGB3bt344cffqi1bf369fj999+xbt06/PLLL+jT\n",
              "pw+kUl51nb3CWvqS6kVavHgxderUie7duye8V9PVUqOxrrOn26iqqqL27duTnp6e0MalS5fIwMCA\n",
              "nJycaNy4cUSk3tWyePFiMjU1pWXLlhERUVVVFYlEIurRo4fQzeHl5UVOTk6kUCiENp7u7nm6jbpi\n",
              "cHBwID09vUZjmD9/PsnlcrXzMHToUPLw8CAbG5tGY2jVqhVJJBK1c2lra0vvvvtuo+eBiMjHx4ds\n",
              "bW1JJpOptTFo0CBq27Ytbdu2rUnn8unjcHd3J39/f42Oo642jI2NaezYsU3+PJ+NwdbWljp06KAW\n",
              "w5YtW0gul6t1xz7ddfb0e6tWraJu3bqRnZ2d2jFw1xl7lbwxiebrr78mPz8/unv3rtr7UVFRaoMB\n",
              "rK2thRu3NWoSzbNtJCcnk52dHUVGRjbYxuzZs8nS0pJGjx5NXl5eZGZmRoWFhUIbhoaG5OPjQwkJ\n",
              "CfXG4ODgQL1796avv/5arY3k5GSytrYWYkhNTaVWrVqRlZVVozHk5+eTqakp7dixgyIjI2nKlClk\n",
              "YWFBpqamterXFUObNm2odevWdOjQISIieu+990gmk9GECRMaPA+7du2iL774gqRSKWVmZpKpqSlt\n",
              "2bJFaMPIyIhMTEwoJSVF43OZl5dH+fn5FBkZSYMGDSIXFxdq27atRsdhZmZGFy5cELZ36dKFDAwM\n",
              "aOnSpU36PPPy8ujmzZsUFRVFgwYNInd3dzIxMVGLYevWreTs7EwTJkyodTN/ypQpFBUVRfn5+ZSd\n",
              "nU0WFha0detWsrOzo+LiYrVjmD17dq36Nb9TNTjRsJfFG5Fobt68SQCEvyoVCgUFBgYSEVF+fj6F\n",
              "hoaSs7MzeXh4UEpKilAvPj6ebGxsSC6XU+vWrQkAOTg4CG2YmZnRrFmzGm3D2tqaRCIRASAAZGtr\n",
              "K8TQuXNnMjIyIrFYTGKxmKRSKa1cubLOGGQyGQEgqVQqxGFmZkbt27cnd3d3euutt0hfX58cHBw0\n",
              "jsHd3Z3s7e1JJpORSCQimUxGHTp0qPc8PBuDk5MTGRoakp2dHUkkEhKJRPUeh7W1NYnFYiEOCwsL\n",
              "UigU5OTkRGKxmPT19Ukul5O+vj7Z2Ng06VzWjDKTSqVCW005DktLS9LT06O2bduSnp5eg59HQzEY\n",
              "GBiQTCYjiURCenp6tT4LqVRKtra25O3tTa1btya5XE5OTk60detWevz4Mb377rtkYWFBMpmMrKys\n",
              "qFevXmpJsEZNWScnJ3JxcaGtW7cK29auXUs2NjZkaGhIrVq1IhsbGzp79qwG/1MY0w2e64wxxphO\n",
              "vXGDARhjjL1YnGgYY4zpFCcaxhhjOsWJhjHGmE5xonlDmZub13ra/FlxcXEoLS19IfFcvHgRjo6O\n",
              "dW57/PixRg9eNlc9xljz4kTD6jVnzpwXlmgYY68vTjRviN27d6Njx47w8fHB559/Lrz/2WefISAg\n",
              "AEqlEj179kRWVhYAIDY2FgDQo0cPKJVKFBQU4NGjR/jnP/+JwMBA+Pj4ICYmBuXl5fXuU6VSoX//\n",
              "/vD394enpyeGDx+OJ0+eCNvj4uLg4uKCTp06YcuWLWp1V65cCRcXF/j6+iIhIUFtW1paGkJCQuDv\n",
              "7w9fX19s375do3qMsRbS0g/yMN37888/qU2bNnTp0iUiIlq5ciUBoBs3blBBQYFQbvPmzdS/f3/h\n",
              "ZwBq0/X885//pPXr1xNR9dQ5Y8aMoX/961/17reqqkqYur6qqopiY2Np4cKFRES0Z88e8vDwoAcP\n",
              "HlBVVRWNGDFCmD35woULZGlpSXl5eURENH36dKr5Vb137x4plUphW2FhIdnZ2dGtW7carMcYazk8\n",
              "U98b4OTJk/Dx8YGHhwcAYMyYMfj4448BAAcPHsTy5cvx6NEjVFVVCTMW1yUpKQmpqalYunQpAKCk\n",
              "pAQSiaTe8kSEhIQE7N27FyqVCg8ePEDXrl0BAIcOHcK7774rzPT84Ycf4vjx4wCAlJQUDBgwAFZW\n",
              "VgCAsWPHChOQnjhxAtevX8eAAQPU9pWVlYWLFy/WW48x1nI40byBam6Q5+bmYvz48UhLS0OHDh1w\n",
              "/vx59OzZs956RITExES4urpqtJ9NmzYhJSUFv/76K0xMTPDtt98iJSWlwZga20ZE8PT0xIkTJ2qV\n",
              "u3jxosZtMsZeHL5H8wbo0qULzp8/j8zMTADVS/2Wl5fD1NQUMpkMVlZWICJ89913avWMjY3x4MED\n",
              "4eeIiAgsWrRImPb+3r17wpLYdbl37x7Mzc1hYmKCR48eYd26dcK2vn37Yvv27Xj06BGISG26/JCQ\n",
              "EBw4cEBYbmDFihXCtq5du+LGjRtITk4W3svIyEB5eXmD9RhjLYcTzRvAwsICa9aswTvvvAOFQoGr\n",
              "V6/CzMwMxsbGeP/99+Hp6YmAgADY29ur1Zs8eTJCQ0OFwQAJCQkwMDCAUqmEj48P+vTp0+AQ6cjI\n",
              "SBQXF8PNzQ0DBgxAjx49hG0DBw7E0KFD4efnB39/f7V9e3l5IS4uDj169ICvry/09PSEbaampti7\n",
              "dy8WLFgAhUIBDw8PTJs2DVVVVQ3WY4y1HJ5UkzHGmE7xFQ1jjDGd4sEA7LkNHjy41nr1pqamOHz4\n",
              "cAtFxBh7mXDXGWOMMZ3irjPGGGM6xYmGMcaYTnGiYYwxplOcaBhjjOkUJxrGGGM6xYmGMcaYTnGi\n",
              "YYwxplP/H5NN52UutV72AAAAAElFTkSuQmCC\n",
              "\">\n",
              "        \n",
              "      </div>\n",
              "      <script></script>\n",
              "      <script type=\"text/javascript\">\n",
              "        (() => {\n",
              "          const chartElement = document.getElementById(\"chart-0a1c7abd-ddd7-4a20-ba73-287b395fae7b\");\n",
              "          async function getCodeForChartHandler(event) {\n",
              "            const chartCodeResponse =  await google.colab.kernel.invokeFunction(\n",
              "                'getCodeForChart', [\"chart-0a1c7abd-ddd7-4a20-ba73-287b395fae7b\"], {});\n",
              "            const responseJson = chartCodeResponse.data['application/json'];\n",
              "            await google.colab.notebook.addCell(responseJson.code, 'code');\n",
              "          }\n",
              "          chartElement.onclick = getCodeForChartHandler;\n",
              "        })();\n",
              "      </script>\n",
              "      <style>\n",
              "        .colab-quickchart-chart-with-code  {\n",
              "            display: block;\n",
              "            float: left;\n",
              "            border: 1px solid transparent;\n",
              "        }\n",
              "\n",
              "        .colab-quickchart-chart-with-code:hover {\n",
              "            cursor: pointer;\n",
              "            border: 1px solid #aaa;\n",
              "        }\n",
              "      </style>"
            ]
          },
          "metadata": {}
        },
        {
          "output_type": "stream",
          "name": "stdout",
          "text": [
            "Error: Runtime no longer has a reference to this dataframe, please re-run this cell and try again.\n",
            "Error: Runtime no longer has a reference to this dataframe, please re-run this cell and try again.\n",
            "Error: Runtime no longer has a reference to this dataframe, please re-run this cell and try again.\n",
            "Error: Runtime no longer has a reference to this dataframe, please re-run this cell and try again.\n"
          ]
        }
      ],
      "source": [
        "# Dataset First Look\n",
        "df.head()\n"
      ]
    },
    {
      "cell_type": "markdown",
      "metadata": {
        "id": "7hBIi_osiCS2"
      },
      "source": [
        "### Dataset Rows & Columns count"
      ]
    },
    {
      "cell_type": "code",
      "execution_count": 5,
      "metadata": {
        "colab": {
          "base_uri": "https://localhost:8080/"
        },
        "id": "Kllu7SJgmLij",
        "outputId": "5ebd6841-e662-44a5-8475-2426e9801c58"
      },
      "outputs": [
        {
          "output_type": "stream",
          "name": "stdout",
          "text": [
            "The Total Count of Rows and Columns in the dataset are :- (7787, 12) (Rows , Columns)\n"
          ]
        }
      ],
      "source": [
        "# Dataset Rows & Columns count\n",
        "\n",
        "print('The Total Count of Rows and Columns in the dataset are :-',\n",
        "      df.shape, ('(Rows , Columns)'))\n"
      ]
    },
    {
      "cell_type": "markdown",
      "metadata": {
        "id": "JlHwYmJAmNHm"
      },
      "source": [
        "### Dataset Information"
      ]
    },
    {
      "cell_type": "code",
      "execution_count": 6,
      "metadata": {
        "colab": {
          "base_uri": "https://localhost:8080/"
        },
        "id": "e9hRXRi6meOf",
        "outputId": "f8e6055d-1d08-420e-960b-89d9f9a48bd4"
      },
      "outputs": [
        {
          "output_type": "stream",
          "name": "stdout",
          "text": [
            "Some of the Basic Information about the Data set like data type, Total count and Column Names are :-\n",
            "\n",
            "<class 'pandas.core.frame.DataFrame'>\n",
            "RangeIndex: 7787 entries, 0 to 7786\n",
            "Data columns (total 12 columns):\n",
            " #   Column        Non-Null Count  Dtype \n",
            "---  ------        --------------  ----- \n",
            " 0   show_id       7787 non-null   object\n",
            " 1   type          7787 non-null   object\n",
            " 2   title         7787 non-null   object\n",
            " 3   director      5398 non-null   object\n",
            " 4   cast          7069 non-null   object\n",
            " 5   country       7280 non-null   object\n",
            " 6   date_added    7777 non-null   object\n",
            " 7   release_year  7787 non-null   int64 \n",
            " 8   rating        7780 non-null   object\n",
            " 9   duration      7787 non-null   object\n",
            " 10  listed_in     7787 non-null   object\n",
            " 11  description   7787 non-null   object\n",
            "dtypes: int64(1), object(11)\n",
            "memory usage: 730.2+ KB\n"
          ]
        }
      ],
      "source": [
        "# Dataset Info\n",
        "\n",
        "print('Some of the Basic Information about the Data set like data type, Total count and Column Names are :-\\n')\n",
        "\n",
        "df.info()\n"
      ]
    },
    {
      "cell_type": "markdown",
      "metadata": {
        "id": "35m5QtbWiB9F"
      },
      "source": [
        "#### Duplicate Values"
      ]
    },
    {
      "cell_type": "code",
      "execution_count": 7,
      "metadata": {
        "colab": {
          "base_uri": "https://localhost:8080/",
          "height": 84
        },
        "id": "1sLdpKYkmox0",
        "outputId": "4982fd26-d6bb-4399-82d0-5438e099479f"
      },
      "outputs": [
        {
          "output_type": "stream",
          "name": "stdout",
          "text": [
            "This Data has 0 Duplicate Values\n",
            "\n"
          ]
        },
        {
          "output_type": "execute_result",
          "data": {
            "text/plain": [
              "Empty DataFrame\n",
              "Columns: [show_id, type, title, director, cast, country, date_added, release_year, rating, duration, listed_in, description]\n",
              "Index: []"
            ],
            "text/html": [
              "\n",
              "\n",
              "  <div id=\"df-0120975b-da40-4755-ae74-d213b603471c\">\n",
              "    <div class=\"colab-df-container\">\n",
              "      <div>\n",
              "<style scoped>\n",
              "    .dataframe tbody tr th:only-of-type {\n",
              "        vertical-align: middle;\n",
              "    }\n",
              "\n",
              "    .dataframe tbody tr th {\n",
              "        vertical-align: top;\n",
              "    }\n",
              "\n",
              "    .dataframe thead th {\n",
              "        text-align: right;\n",
              "    }\n",
              "</style>\n",
              "<table border=\"1\" class=\"dataframe\">\n",
              "  <thead>\n",
              "    <tr style=\"text-align: right;\">\n",
              "      <th></th>\n",
              "      <th>show_id</th>\n",
              "      <th>type</th>\n",
              "      <th>title</th>\n",
              "      <th>director</th>\n",
              "      <th>cast</th>\n",
              "      <th>country</th>\n",
              "      <th>date_added</th>\n",
              "      <th>release_year</th>\n",
              "      <th>rating</th>\n",
              "      <th>duration</th>\n",
              "      <th>listed_in</th>\n",
              "      <th>description</th>\n",
              "    </tr>\n",
              "  </thead>\n",
              "  <tbody>\n",
              "  </tbody>\n",
              "</table>\n",
              "</div>\n",
              "      <button class=\"colab-df-convert\" onclick=\"convertToInteractive('df-0120975b-da40-4755-ae74-d213b603471c')\"\n",
              "              title=\"Convert this dataframe to an interactive table.\"\n",
              "              style=\"display:none;\">\n",
              "\n",
              "  <svg xmlns=\"http://www.w3.org/2000/svg\" height=\"24px\"viewBox=\"0 0 24 24\"\n",
              "       width=\"24px\">\n",
              "    <path d=\"M0 0h24v24H0V0z\" fill=\"none\"/>\n",
              "    <path d=\"M18.56 5.44l.94 2.06.94-2.06 2.06-.94-2.06-.94-.94-2.06-.94 2.06-2.06.94zm-11 1L8.5 8.5l.94-2.06 2.06-.94-2.06-.94L8.5 2.5l-.94 2.06-2.06.94zm10 10l.94 2.06.94-2.06 2.06-.94-2.06-.94-.94-2.06-.94 2.06-2.06.94z\"/><path d=\"M17.41 7.96l-1.37-1.37c-.4-.4-.92-.59-1.43-.59-.52 0-1.04.2-1.43.59L10.3 9.45l-7.72 7.72c-.78.78-.78 2.05 0 2.83L4 21.41c.39.39.9.59 1.41.59.51 0 1.02-.2 1.41-.59l7.78-7.78 2.81-2.81c.8-.78.8-2.07 0-2.86zM5.41 20L4 18.59l7.72-7.72 1.47 1.35L5.41 20z\"/>\n",
              "  </svg>\n",
              "      </button>\n",
              "\n",
              "\n",
              "\n",
              "    <div id=\"df-7e5d415b-e583-4fba-acbc-a047d85d5407\">\n",
              "      <button class=\"colab-df-quickchart\" onclick=\"quickchart('df-7e5d415b-e583-4fba-acbc-a047d85d5407')\"\n",
              "              title=\"Suggest charts.\"\n",
              "              style=\"display:none;\">\n",
              "\n",
              "<svg xmlns=\"http://www.w3.org/2000/svg\" height=\"24px\"viewBox=\"0 0 24 24\"\n",
              "     width=\"24px\">\n",
              "    <g>\n",
              "        <path d=\"M19 3H5c-1.1 0-2 .9-2 2v14c0 1.1.9 2 2 2h14c1.1 0 2-.9 2-2V5c0-1.1-.9-2-2-2zM9 17H7v-7h2v7zm4 0h-2V7h2v10zm4 0h-2v-4h2v4z\"/>\n",
              "    </g>\n",
              "</svg>\n",
              "      </button>\n",
              "    </div>\n",
              "\n",
              "<style>\n",
              "  .colab-df-quickchart {\n",
              "    background-color: #E8F0FE;\n",
              "    border: none;\n",
              "    border-radius: 50%;\n",
              "    cursor: pointer;\n",
              "    display: none;\n",
              "    fill: #1967D2;\n",
              "    height: 32px;\n",
              "    padding: 0 0 0 0;\n",
              "    width: 32px;\n",
              "  }\n",
              "\n",
              "  .colab-df-quickchart:hover {\n",
              "    background-color: #E2EBFA;\n",
              "    box-shadow: 0px 1px 2px rgba(60, 64, 67, 0.3), 0px 1px 3px 1px rgba(60, 64, 67, 0.15);\n",
              "    fill: #174EA6;\n",
              "  }\n",
              "\n",
              "  [theme=dark] .colab-df-quickchart {\n",
              "    background-color: #3B4455;\n",
              "    fill: #D2E3FC;\n",
              "  }\n",
              "\n",
              "  [theme=dark] .colab-df-quickchart:hover {\n",
              "    background-color: #434B5C;\n",
              "    box-shadow: 0px 1px 3px 1px rgba(0, 0, 0, 0.15);\n",
              "    filter: drop-shadow(0px 1px 2px rgba(0, 0, 0, 0.3));\n",
              "    fill: #FFFFFF;\n",
              "  }\n",
              "</style>\n",
              "\n",
              "    <script>\n",
              "      async function quickchart(key) {\n",
              "        const containerElement = document.querySelector('#' + key);\n",
              "        const charts = await google.colab.kernel.invokeFunction(\n",
              "            'suggestCharts', [key], {});\n",
              "      }\n",
              "    </script>\n",
              "\n",
              "      <script>\n",
              "\n",
              "function displayQuickchartButton(domScope) {\n",
              "  let quickchartButtonEl =\n",
              "    domScope.querySelector('#df-7e5d415b-e583-4fba-acbc-a047d85d5407 button.colab-df-quickchart');\n",
              "  quickchartButtonEl.style.display =\n",
              "    google.colab.kernel.accessAllowed ? 'block' : 'none';\n",
              "}\n",
              "\n",
              "        displayQuickchartButton(document);\n",
              "      </script>\n",
              "      <style>\n",
              "    .colab-df-container {\n",
              "      display:flex;\n",
              "      flex-wrap:wrap;\n",
              "      gap: 12px;\n",
              "    }\n",
              "\n",
              "    .colab-df-convert {\n",
              "      background-color: #E8F0FE;\n",
              "      border: none;\n",
              "      border-radius: 50%;\n",
              "      cursor: pointer;\n",
              "      display: none;\n",
              "      fill: #1967D2;\n",
              "      height: 32px;\n",
              "      padding: 0 0 0 0;\n",
              "      width: 32px;\n",
              "    }\n",
              "\n",
              "    .colab-df-convert:hover {\n",
              "      background-color: #E2EBFA;\n",
              "      box-shadow: 0px 1px 2px rgba(60, 64, 67, 0.3), 0px 1px 3px 1px rgba(60, 64, 67, 0.15);\n",
              "      fill: #174EA6;\n",
              "    }\n",
              "\n",
              "    [theme=dark] .colab-df-convert {\n",
              "      background-color: #3B4455;\n",
              "      fill: #D2E3FC;\n",
              "    }\n",
              "\n",
              "    [theme=dark] .colab-df-convert:hover {\n",
              "      background-color: #434B5C;\n",
              "      box-shadow: 0px 1px 3px 1px rgba(0, 0, 0, 0.15);\n",
              "      filter: drop-shadow(0px 1px 2px rgba(0, 0, 0, 0.3));\n",
              "      fill: #FFFFFF;\n",
              "    }\n",
              "  </style>\n",
              "\n",
              "      <script>\n",
              "        const buttonEl =\n",
              "          document.querySelector('#df-0120975b-da40-4755-ae74-d213b603471c button.colab-df-convert');\n",
              "        buttonEl.style.display =\n",
              "          google.colab.kernel.accessAllowed ? 'block' : 'none';\n",
              "\n",
              "        async function convertToInteractive(key) {\n",
              "          const element = document.querySelector('#df-0120975b-da40-4755-ae74-d213b603471c');\n",
              "          const dataTable =\n",
              "            await google.colab.kernel.invokeFunction('convertToInteractive',\n",
              "                                                     [key], {});\n",
              "          if (!dataTable) return;\n",
              "\n",
              "          const docLinkHtml = 'Like what you see? Visit the ' +\n",
              "            '<a target=\"_blank\" href=https://colab.research.google.com/notebooks/data_table.ipynb>data table notebook</a>'\n",
              "            + ' to learn more about interactive tables.';\n",
              "          element.innerHTML = '';\n",
              "          dataTable['output_type'] = 'display_data';\n",
              "          await google.colab.output.renderOutput(dataTable, element);\n",
              "          const docLink = document.createElement('div');\n",
              "          docLink.innerHTML = docLinkHtml;\n",
              "          element.appendChild(docLink);\n",
              "        }\n",
              "      </script>\n",
              "    </div>\n",
              "  </div>\n"
            ]
          },
          "metadata": {},
          "execution_count": 7
        }
      ],
      "source": [
        "# Dataset Duplicate Value Count\n",
        "\n",
        "print('This Data has 0 Duplicate Values\\n')\n",
        "\n",
        "df[df.duplicated()]\n"
      ]
    },
    {
      "cell_type": "markdown",
      "metadata": {
        "id": "PoPl-ycgm1ru"
      },
      "source": [
        "#### Missing Values/Null Values"
      ]
    },
    {
      "cell_type": "code",
      "execution_count": 8,
      "metadata": {
        "colab": {
          "base_uri": "https://localhost:8080/"
        },
        "id": "GgHWkxvamxVg",
        "outputId": "fa1955cd-c9f1-4322-91d2-9447a94f66db"
      },
      "outputs": [
        {
          "output_type": "stream",
          "name": "stdout",
          "text": [
            "show_id            0\n",
            "type               0\n",
            "title              0\n",
            "director        2389\n",
            "cast             718\n",
            "country          507\n",
            "date_added        10\n",
            "release_year       0\n",
            "rating             7\n",
            "duration           0\n",
            "listed_in          0\n",
            "description        0\n",
            "dtype: int64\n",
            "\n",
            "['director', 'cast', 'country', 'date_added', 'rating'] are the feature which is having missing Values \n"
          ]
        }
      ],
      "source": [
        "# Missing Values/Null Values Count\n",
        "\n",
        "print(df.isna().sum())\n",
        "\n",
        "# Finding out Missing Values by Using List Comprehension\n",
        "\n",
        "missing = [features for features in df.columns if df[features].isna().sum() > 0]\n",
        "\n",
        "print(f\"\\n{missing} are the feature which is having missing Values \")\n"
      ]
    },
    {
      "cell_type": "code",
      "execution_count": 9,
      "metadata": {
        "colab": {
          "base_uri": "https://localhost:8080/",
          "height": 559
        },
        "id": "3q5wnI3om9sJ",
        "outputId": "45babef5-381c-4d67-b6ff-61fd1bfa8588"
      },
      "outputs": [
        {
          "output_type": "stream",
          "name": "stdout",
          "text": [
            "the Missing Values are:- 3631 in total as we can see them properly in heatmap \n",
            "\n"
          ]
        },
        {
          "output_type": "display_data",
          "data": {
            "text/plain": [
              "<Figure size 640x480 with 1 Axes>"
            ],
            "image/png": "[encoded data removed]"
          },
          "metadata": {}
        }
      ],
      "source": [
        "# Visualizing the missing values\n",
        "sns.heatmap(df.isnull(), yticklabels=False, cbar=False, cmap='viridis')\n",
        "plt.xlabel('Feature Names')\n",
        "\n",
        "print(\n",
        "    f'the Missing Values are:- {df.isna().sum().sum()} in total as we can see them properly in heatmap \\n')\n"
      ]
    },
    {
      "cell_type": "markdown",
      "metadata": {
        "id": "H0kj-8xxnORC"
      },
      "source": [
        "### What did you know about your dataset?"
      ]
    },
    {
      "cell_type": "markdown",
      "metadata": {
        "id": "gfoNAAC-nUe_"
      },
      "source": [
        "**The Dataset has Several Missing and NaN Value with which we have to deal**"
      ]
    },
    {
      "cell_type": "markdown",
      "metadata": {
        "id": "nA9Y7ga8ng1Z"
      },
      "source": [
        "## ***2. Understanding Your Variables***"
      ]
    },
    {
      "cell_type": "code",
      "execution_count": 10,
      "metadata": {
        "colab": {
          "base_uri": "https://localhost:8080/"
        },
        "id": "j7xfkqrt5Ag5",
        "outputId": "27de29ad-c060-4244-e9ef-87684084f55a"
      },
      "outputs": [
        {
          "output_type": "stream",
          "name": "stdout",
          "text": [
            "The Name of Features are :-\n",
            " Index(['show_id', 'type', 'title', 'director', 'cast', 'country', 'date_added',\n",
            "       'release_year', 'rating', 'duration', 'listed_in', 'description'],\n",
            "      dtype='object')\n"
          ]
        }
      ],
      "source": [
        "# Dataset Columns\n",
        "\n",
        "print('The Name of Features are :-\\n', df.columns)\n"
      ]
    },
    {
      "cell_type": "code",
      "execution_count": 11,
      "metadata": {
        "colab": {
          "base_uri": "https://localhost:8080/",
          "height": 507
        },
        "id": "DnOaZdaE5Q5t",
        "outputId": "fcaa7d31-8326-4400-f04f-b94bcefc8b7a"
      },
      "outputs": [
        {
          "output_type": "stream",
          "name": "stdout",
          "text": [
            "Describe Method Gives us the 5 Number Summary about the Dataset Numercial Features \n",
            " here is the Small Description of dataset\n",
            "\n"
          ]
        },
        {
          "output_type": "execute_result",
          "data": {
            "text/plain": [
              "       show_id   type title                director                cast  \\\n",
              "count     7787   7787  7787                    5398                7069   \n",
              "unique    7787      2  7787                    4049                6831   \n",
              "top         s1  Movie    3%  Raúl Campos, Jan Suter  David Attenborough   \n",
              "freq         1   5377     1                      18                  18   \n",
              "mean       NaN    NaN   NaN                     NaN                 NaN   \n",
              "std        NaN    NaN   NaN                     NaN                 NaN   \n",
              "min        NaN    NaN   NaN                     NaN                 NaN   \n",
              "25%        NaN    NaN   NaN                     NaN                 NaN   \n",
              "50%        NaN    NaN   NaN                     NaN                 NaN   \n",
              "75%        NaN    NaN   NaN                     NaN                 NaN   \n",
              "max        NaN    NaN   NaN                     NaN                 NaN   \n",
              "\n",
              "              country       date_added  release_year rating  duration  \\\n",
              "count            7280             7777   7787.000000   7780      7787   \n",
              "unique            681             1565           NaN     14       216   \n",
              "top     United States  January 1, 2020           NaN  TV-MA  1 Season   \n",
              "freq             2555              118           NaN   2863      1608   \n",
              "mean              NaN              NaN   2013.932580    NaN       NaN   \n",
              "std               NaN              NaN      8.757395    NaN       NaN   \n",
              "min               NaN              NaN   1925.000000    NaN       NaN   \n",
              "25%               NaN              NaN   2013.000000    NaN       NaN   \n",
              "50%               NaN              NaN   2017.000000    NaN       NaN   \n",
              "75%               NaN              NaN   2018.000000    NaN       NaN   \n",
              "max               NaN              NaN   2021.000000    NaN       NaN   \n",
              "\n",
              "            listed_in                                        description  \n",
              "count            7787                                               7787  \n",
              "unique            492                                               7769  \n",
              "top     Documentaries  Multiple women report their husbands as missin...  \n",
              "freq              334                                                  3  \n",
              "mean              NaN                                                NaN  \n",
              "std               NaN                                                NaN  \n",
              "min               NaN                                                NaN  \n",
              "25%               NaN                                                NaN  \n",
              "50%               NaN                                                NaN  \n",
              "75%               NaN                                                NaN  \n",
              "max               NaN                                                NaN  "
            ],
            "text/html": [
              "\n",
              "\n",
              "  <div id=\"df-56df6f19-844b-40cf-ac8c-de2af74529a7\">\n",
              "    <div class=\"colab-df-container\">\n",
              "      <div>\n",
              "<style scoped>\n",
              "    .dataframe tbody tr th:only-of-type {\n",
              "        vertical-align: middle;\n",
              "    }\n",
              "\n",
              "    .dataframe tbody tr th {\n",
              "        vertical-align: top;\n",
              "    }\n",
              "\n",
              "    .dataframe thead th {\n",
              "        text-align: right;\n",
              "    }\n",
              "</style>\n",
              "<table border=\"1\" class=\"dataframe\">\n",
              "  <thead>\n",
              "    <tr style=\"text-align: right;\">\n",
              "      <th></th>\n",
              "      <th>show_id</th>\n",
              "      <th>type</th>\n",
              "      <th>title</th>\n",
              "      <th>director</th>\n",
              "      <th>cast</th>\n",
              "      <th>country</th>\n",
              "      <th>date_added</th>\n",
              "      <th>release_year</th>\n",
              "      <th>rating</th>\n",
              "      <th>duration</th>\n",
              "      <th>listed_in</th>\n",
              "      <th>description</th>\n",
              "    </tr>\n",
              "  </thead>\n",
              "  <tbody>\n",
              "    <tr>\n",
              "      <th>count</th>\n",
              "      <td>7787</td>\n",
              "      <td>7787</td>\n",
              "      <td>7787</td>\n",
              "      <td>5398</td>\n",
              "      <td>7069</td>\n",
              "      <td>7280</td>\n",
              "      <td>7777</td>\n",
              "      <td>7787.000000</td>\n",
              "      <td>7780</td>\n",
              "      <td>7787</td>\n",
              "      <td>7787</td>\n",
              "      <td>7787</td>\n",
              "    </tr>\n",
              "    <tr>\n",
              "      <th>unique</th>\n",
              "      <td>7787</td>\n",
              "      <td>2</td>\n",
              "      <td>7787</td>\n",
              "      <td>4049</td>\n",
              "      <td>6831</td>\n",
              "      <td>681</td>\n",
              "      <td>1565</td>\n",
              "      <td>NaN</td>\n",
              "      <td>14</td>\n",
              "      <td>216</td>\n",
              "      <td>492</td>\n",
              "      <td>7769</td>\n",
              "    </tr>\n",
              "    <tr>\n",
              "      <th>top</th>\n",
              "      <td>s1</td>\n",
              "      <td>Movie</td>\n",
              "      <td>3%</td>\n",
              "      <td>Raúl Campos, Jan Suter</td>\n",
              "      <td>David Attenborough</td>\n",
              "      <td>United States</td>\n",
              "      <td>January 1, 2020</td>\n",
              "      <td>NaN</td>\n",
              "      <td>TV-MA</td>\n",
              "      <td>1 Season</td>\n",
              "      <td>Documentaries</td>\n",
              "      <td>Multiple women report their husbands as missin...</td>\n",
              "    </tr>\n",
              "    <tr>\n",
              "      <th>freq</th>\n",
              "      <td>1</td>\n",
              "      <td>5377</td>\n",
              "      <td>1</td>\n",
              "      <td>18</td>\n",
              "      <td>18</td>\n",
              "      <td>2555</td>\n",
              "      <td>118</td>\n",
              "      <td>NaN</td>\n",
              "      <td>2863</td>\n",
              "      <td>1608</td>\n",
              "      <td>334</td>\n",
              "      <td>3</td>\n",
              "    </tr>\n",
              "    <tr>\n",
              "      <th>mean</th>\n",
              "      <td>NaN</td>\n",
              "      <td>NaN</td>\n",
              "      <td>NaN</td>\n",
              "      <td>NaN</td>\n",
              "      <td>NaN</td>\n",
              "      <td>NaN</td>\n",
              "      <td>NaN</td>\n",
              "      <td>2013.932580</td>\n",
              "      <td>NaN</td>\n",
              "      <td>NaN</td>\n",
              "      <td>NaN</td>\n",
              "      <td>NaN</td>\n",
              "    </tr>\n",
              "    <tr>\n",
              "      <th>std</th>\n",
              "      <td>NaN</td>\n",
              "      <td>NaN</td>\n",
              "      <td>NaN</td>\n",
              "      <td>NaN</td>\n",
              "      <td>NaN</td>\n",
              "      <td>NaN</td>\n",
              "      <td>NaN</td>\n",
              "      <td>8.757395</td>\n",
              "      <td>NaN</td>\n",
              "      <td>NaN</td>\n",
              "      <td>NaN</td>\n",
              "      <td>NaN</td>\n",
              "    </tr>\n",
              "    <tr>\n",
              "      <th>min</th>\n",
              "      <td>NaN</td>\n",
              "      <td>NaN</td>\n",
              "      <td>NaN</td>\n",
              "      <td>NaN</td>\n",
              "      <td>NaN</td>\n",
              "      <td>NaN</td>\n",
              "      <td>NaN</td>\n",
              "      <td>1925.000000</td>\n",
              "      <td>NaN</td>\n",
              "      <td>NaN</td>\n",
              "      <td>NaN</td>\n",
              "      <td>NaN</td>\n",
              "    </tr>\n",
              "    <tr>\n",
              "      <th>25%</th>\n",
              "      <td>NaN</td>\n",
              "      <td>NaN</td>\n",
              "      <td>NaN</td>\n",
              "      <td>NaN</td>\n",
              "      <td>NaN</td>\n",
              "      <td>NaN</td>\n",
              "      <td>NaN</td>\n",
              "      <td>2013.000000</td>\n",
              "      <td>NaN</td>\n",
              "      <td>NaN</td>\n",
              "      <td>NaN</td>\n",
              "      <td>NaN</td>\n",
              "    </tr>\n",
              "    <tr>\n",
              "      <th>50%</th>\n",
              "      <td>NaN</td>\n",
              "      <td>NaN</td>\n",
              "      <td>NaN</td>\n",
              "      <td>NaN</td>\n",
              "      <td>NaN</td>\n",
              "      <td>NaN</td>\n",
              "      <td>NaN</td>\n",
              "      <td>2017.000000</td>\n",
              "      <td>NaN</td>\n",
              "      <td>NaN</td>\n",
              "      <td>NaN</td>\n",
              "      <td>NaN</td>\n",
              "    </tr>\n",
              "    <tr>\n",
              "      <th>75%</th>\n",
              "      <td>NaN</td>\n",
              "      <td>NaN</td>\n",
              "      <td>NaN</td>\n",
              "      <td>NaN</td>\n",
              "      <td>NaN</td>\n",
              "      <td>NaN</td>\n",
              "      <td>NaN</td>\n",
              "      <td>2018.000000</td>\n",
              "      <td>NaN</td>\n",
              "      <td>NaN</td>\n",
              "      <td>NaN</td>\n",
              "      <td>NaN</td>\n",
              "    </tr>\n",
              "    <tr>\n",
              "      <th>max</th>\n",
              "      <td>NaN</td>\n",
              "      <td>NaN</td>\n",
              "      <td>NaN</td>\n",
              "      <td>NaN</td>\n",
              "      <td>NaN</td>\n",
              "      <td>NaN</td>\n",
              "      <td>NaN</td>\n",
              "      <td>2021.000000</td>\n",
              "      <td>NaN</td>\n",
              "      <td>NaN</td>\n",
              "      <td>NaN</td>\n",
              "      <td>NaN</td>\n",
              "    </tr>\n",
              "  </tbody>\n",
              "</table>\n",
              "</div>\n",
              "      <button class=\"colab-df-convert\" onclick=\"convertToInteractive('df-56df6f19-844b-40cf-ac8c-de2af74529a7')\"\n",
              "              title=\"Convert this dataframe to an interactive table.\"\n",
              "              style=\"display:none;\">\n",
              "\n",
              "  <svg xmlns=\"http://www.w3.org/2000/svg\" height=\"24px\"viewBox=\"0 0 24 24\"\n",
              "       width=\"24px\">\n",
              "    <path d=\"M0 0h24v24H0V0z\" fill=\"none\"/>\n",
              "    <path d=\"M18.56 5.44l.94 2.06.94-2.06 2.06-.94-2.06-.94-.94-2.06-.94 2.06-2.06.94zm-11 1L8.5 8.5l.94-2.06 2.06-.94-2.06-.94L8.5 2.5l-.94 2.06-2.06.94zm10 10l.94 2.06.94-2.06 2.06-.94-2.06-.94-.94-2.06-.94 2.06-2.06.94z\"/><path d=\"M17.41 7.96l-1.37-1.37c-.4-.4-.92-.59-1.43-.59-.52 0-1.04.2-1.43.59L10.3 9.45l-7.72 7.72c-.78.78-.78 2.05 0 2.83L4 21.41c.39.39.9.59 1.41.59.51 0 1.02-.2 1.41-.59l7.78-7.78 2.81-2.81c.8-.78.8-2.07 0-2.86zM5.41 20L4 18.59l7.72-7.72 1.47 1.35L5.41 20z\"/>\n",
              "  </svg>\n",
              "      </button>\n",
              "\n",
              "\n",
              "\n",
              "    <div id=\"df-4c70e931-002e-4d77-a398-0fca7ca9553b\">\n",
              "      <button class=\"colab-df-quickchart\" onclick=\"quickchart('df-4c70e931-002e-4d77-a398-0fca7ca9553b')\"\n",
              "              title=\"Suggest charts.\"\n",
              "              style=\"display:none;\">\n",
              "\n",
              "<svg xmlns=\"http://www.w3.org/2000/svg\" height=\"24px\"viewBox=\"0 0 24 24\"\n",
              "     width=\"24px\">\n",
              "    <g>\n",
              "        <path d=\"M19 3H5c-1.1 0-2 .9-2 2v14c0 1.1.9 2 2 2h14c1.1 0 2-.9 2-2V5c0-1.1-.9-2-2-2zM9 17H7v-7h2v7zm4 0h-2V7h2v10zm4 0h-2v-4h2v4z\"/>\n",
              "    </g>\n",
              "</svg>\n",
              "      </button>\n",
              "    </div>\n",
              "\n",
              "<style>\n",
              "  .colab-df-quickchart {\n",
              "    background-color: #E8F0FE;\n",
              "    border: none;\n",
              "    border-radius: 50%;\n",
              "    cursor: pointer;\n",
              "    display: none;\n",
              "    fill: #1967D2;\n",
              "    height: 32px;\n",
              "    padding: 0 0 0 0;\n",
              "    width: 32px;\n",
              "  }\n",
              "\n",
              "  .colab-df-quickchart:hover {\n",
              "    background-color: #E2EBFA;\n",
              "    box-shadow: 0px 1px 2px rgba(60, 64, 67, 0.3), 0px 1px 3px 1px rgba(60, 64, 67, 0.15);\n",
              "    fill: #174EA6;\n",
              "  }\n",
              "\n",
              "  [theme=dark] .colab-df-quickchart {\n",
              "    background-color: #3B4455;\n",
              "    fill: #D2E3FC;\n",
              "  }\n",
              "\n",
              "  [theme=dark] .colab-df-quickchart:hover {\n",
              "    background-color: #434B5C;\n",
              "    box-shadow: 0px 1px 3px 1px rgba(0, 0, 0, 0.15);\n",
              "    filter: drop-shadow(0px 1px 2px rgba(0, 0, 0, 0.3));\n",
              "    fill: #FFFFFF;\n",
              "  }\n",
              "</style>\n",
              "\n",
              "    <script>\n",
              "      async function quickchart(key) {\n",
              "        const containerElement = document.querySelector('#' + key);\n",
              "        const charts = await google.colab.kernel.invokeFunction(\n",
              "            'suggestCharts', [key], {});\n",
              "      }\n",
              "    </script>\n",
              "\n",
              "      <script>\n",
              "\n",
              "function displayQuickchartButton(domScope) {\n",
              "  let quickchartButtonEl =\n",
              "    domScope.querySelector('#df-4c70e931-002e-4d77-a398-0fca7ca9553b button.colab-df-quickchart');\n",
              "  quickchartButtonEl.style.display =\n",
              "    google.colab.kernel.accessAllowed ? 'block' : 'none';\n",
              "}\n",
              "\n",
              "        displayQuickchartButton(document);\n",
              "      </script>\n",
              "      <style>\n",
              "    .colab-df-container {\n",
              "      display:flex;\n",
              "      flex-wrap:wrap;\n",
              "      gap: 12px;\n",
              "    }\n",
              "\n",
              "    .colab-df-convert {\n",
              "      background-color: #E8F0FE;\n",
              "      border: none;\n",
              "      border-radius: 50%;\n",
              "      cursor: pointer;\n",
              "      display: none;\n",
              "      fill: #1967D2;\n",
              "      height: 32px;\n",
              "      padding: 0 0 0 0;\n",
              "      width: 32px;\n",
              "    }\n",
              "\n",
              "    .colab-df-convert:hover {\n",
              "      background-color: #E2EBFA;\n",
              "      box-shadow: 0px 1px 2px rgba(60, 64, 67, 0.3), 0px 1px 3px 1px rgba(60, 64, 67, 0.15);\n",
              "      fill: #174EA6;\n",
              "    }\n",
              "\n",
              "    [theme=dark] .colab-df-convert {\n",
              "      background-color: #3B4455;\n",
              "      fill: #D2E3FC;\n",
              "    }\n",
              "\n",
              "    [theme=dark] .colab-df-convert:hover {\n",
              "      background-color: #434B5C;\n",
              "      box-shadow: 0px 1px 3px 1px rgba(0, 0, 0, 0.15);\n",
              "      filter: drop-shadow(0px 1px 2px rgba(0, 0, 0, 0.3));\n",
              "      fill: #FFFFFF;\n",
              "    }\n",
              "  </style>\n",
              "\n",
              "      <script>\n",
              "        const buttonEl =\n",
              "          document.querySelector('#df-56df6f19-844b-40cf-ac8c-de2af74529a7 button.colab-df-convert');\n",
              "        buttonEl.style.display =\n",
              "          google.colab.kernel.accessAllowed ? 'block' : 'none';\n",
              "\n",
              "        async function convertToInteractive(key) {\n",
              "          const element = document.querySelector('#df-56df6f19-844b-40cf-ac8c-de2af74529a7');\n",
              "          const dataTable =\n",
              "            await google.colab.kernel.invokeFunction('convertToInteractive',\n",
              "                                                     [key], {});\n",
              "          if (!dataTable) return;\n",
              "\n",
              "          const docLinkHtml = 'Like what you see? Visit the ' +\n",
              "            '<a target=\"_blank\" href=https://colab.research.google.com/notebooks/data_table.ipynb>data table notebook</a>'\n",
              "            + ' to learn more about interactive tables.';\n",
              "          element.innerHTML = '';\n",
              "          dataTable['output_type'] = 'display_data';\n",
              "          await google.colab.output.renderOutput(dataTable, element);\n",
              "          const docLink = document.createElement('div');\n",
              "          docLink.innerHTML = docLinkHtml;\n",
              "          element.appendChild(docLink);\n",
              "        }\n",
              "      </script>\n",
              "    </div>\n",
              "  </div>\n"
            ]
          },
          "metadata": {},
          "execution_count": 11
        }
      ],
      "source": [
        "# Dataset Describe\n",
        "\n",
        "print('Describe Method Gives us the 5 Number Summary about the Dataset Numercial Features \\n here is the Small Description of dataset\\n')\n",
        "\n",
        "df.describe(include='all')\n"
      ]
    },
    {
      "cell_type": "markdown",
      "metadata": {
        "id": "PBTbrJXOngz2"
      },
      "source": [
        "### Variables Description"
      ]
    },
    {
      "cell_type": "markdown",
      "metadata": {
        "id": "aJV4KIxSnxay"
      },
      "source": [
        "* **show_id** : Unique ID for every Movie / Tv Show\n",
        "\n",
        "* **type** : Identifier - A Movie or TV Show\n",
        "\n",
        "* **title** : Title of the Movie / Tv Show\n",
        "\n",
        "* **director** : Director of the Movie\n",
        "\n",
        "* **cast** : Actors involved in the movie / show\n",
        "\n",
        "* **country** : Country where the movie / show was produced\n",
        "\n",
        "* **date_added** : Date it was added on Netflix\n",
        "\n",
        "* **release_year** : Actual Releaseyear of the movie / show\n",
        "\n",
        "* **rating** : TV Rating of the movie / show\n",
        "\n",
        "* **duration** : Total Duration - in minutes or number of seasons\n",
        "\n",
        "* **listed_in** : Genere\n",
        "\n",
        "* **description**: The Summary description"
      ]
    },
    {
      "cell_type": "markdown",
      "metadata": {
        "id": "u3PMJOP6ngxN"
      },
      "source": [
        "### Check Unique Values for each variable."
      ]
    },
    {
      "cell_type": "code",
      "execution_count": 12,
      "metadata": {
        "colab": {
          "base_uri": "https://localhost:8080/"
        },
        "id": "zms12Yq5n-jE",
        "outputId": "d73ed3bb-9f8d-4ab4-d051-f4f0f93b505b"
      },
      "outputs": [
        {
          "output_type": "stream",
          "name": "stdout",
          "text": [
            "the number of Unique Values in Each Variables are as Follows:-\n",
            " show_id         7787\n",
            "type               2\n",
            "title           7787\n",
            "director        4049\n",
            "cast            6831\n",
            "country          681\n",
            "date_added      1565\n",
            "release_year      73\n",
            "rating            14\n",
            "duration         216\n",
            "listed_in        492\n",
            "description     7769\n",
            "dtype: int64\n"
          ]
        }
      ],
      "source": [
        "# Check Unique Values for each variable.\n",
        "\n",
        "print(\n",
        "    f'the number of Unique Values in Each Variables are as Follows:-\\n {df.nunique()}')\n"
      ]
    },
    {
      "cell_type": "markdown",
      "metadata": {
        "id": "dauF4eBmngu3"
      },
      "source": [
        "## 3. ***Data Wrangling***"
      ]
    },
    {
      "cell_type": "markdown",
      "metadata": {
        "id": "bKJF3rekwFvQ"
      },
      "source": [
        "### Data Wrangling Code"
      ]
    },
    {
      "cell_type": "code",
      "execution_count": 13,
      "metadata": {
        "id": "wk-9a2fpoLcV"
      },
      "outputs": [],
      "source": [
        "# Write your code to make your dataset analysis ready.\n",
        "\n",
        "# Imputing No Cast to Cast Feature where we had Null Values\n",
        "df['cast'].fillna(value='No cast', inplace=True)\n",
        "\n",
        "# Imputing Mode of the Country feature where we had Null Values\n",
        "df['country'].fillna(value=df['country'].mode()[0], inplace=True)\n",
        "\n",
        "# Typecasting 'date_added' from string to datetime\n",
        "df[\"date_added\"] = pd.to_datetime(df['date_added'])\n",
        "\n",
        "# Adding new attributes month and year of date added\n",
        "\n",
        "df['month_added'] = df['date_added'].dt.month\n",
        "df['year_added'] = df['date_added'].dt.year\n",
        "df.drop('date_added', axis=1, inplace=True)\n"
      ]
    },
    {
      "cell_type": "markdown",
      "metadata": {
        "id": "MSa1f5Uengrz"
      },
      "source": [
        "### What all manipulations have you done and insights you found?"
      ]
    },
    {
      "cell_type": "markdown",
      "metadata": {
        "id": "LbyXE7I1olp8"
      },
      "source": [
        "* Imputed Mode of the Country Feature at the Place of Null Values\n",
        "* Imputed No Cast in Cast Feature at the Place of Null Values\n"
      ]
    },
    {
      "cell_type": "markdown",
      "metadata": {
        "id": "GF8Ens_Soomf"
      },
      "source": [
        "## ***4. Data Vizualization, Storytelling & Experimenting with charts : Understand the relationships between variables***"
      ]
    },
    {
      "cell_type": "markdown",
      "metadata": {
        "id": "0wOQAZs5pc--"
      },
      "source": [
        "#### Chart - 1"
      ]
    },
    {
      "cell_type": "code",
      "execution_count": 14,
      "metadata": {
        "colab": {
          "base_uri": "https://localhost:8080/",
          "height": 615
        },
        "id": "7v_ESjsspbW7",
        "outputId": "f9df52dd-071d-478d-f26e-fee134df4c9b"
      },
      "outputs": [
        {
          "output_type": "execute_result",
          "data": {
            "text/plain": [
              "Text(0.5, 1.0, 'Movies and TV Shows in the dataset')"
            ]
          },
          "metadata": {},
          "execution_count": 14
        },
        {
          "output_type": "display_data",
          "data": {
            "text/plain": [
              "<Figure size 700x700 with 1 Axes>"
            ],
            "image/png": "[encoded data removed]"
          },
          "metadata": {}
        }
      ],
      "source": [
        "# Chart - 1 visualization code\n",
        "\n",
        "plt.figure(figsize=(7, 7))\n",
        "df.type.value_counts().plot(kind='pie', autopct='%1.2f%%')\n",
        "plt.ylabel('')\n",
        "plt.title('Movies and TV Shows in the dataset')\n"
      ]
    },
    {
      "cell_type": "markdown",
      "metadata": {
        "id": "K5QZ13OEpz2H"
      },
      "source": [
        "##### 1. Why did you pick the specific chart?"
      ]
    },
    {
      "cell_type": "markdown",
      "metadata": {
        "id": "XESiWehPqBRc"
      },
      "source": [
        "**Pie Chart are those type of charts which can reperesent the Percentage Division Properly.**"
      ]
    },
    {
      "cell_type": "markdown",
      "metadata": {
        "id": "lQ7QKXXCp7Bj"
      },
      "source": [
        "##### 2. What is/are the insight(s) found from the chart?"
      ]
    },
    {
      "cell_type": "markdown",
      "metadata": {
        "id": "C_j1G7yiqdRP"
      },
      "source": [
        "**After using the Pie Chart We got to know that out of there are more than 69% are from Movies Type and 31% are from TV Shows Type. Means There are More Movies than TV shows on Netflix**"
      ]
    },
    {
      "cell_type": "markdown",
      "metadata": {
        "id": "KSlN3yHqYklG"
      },
      "source": [
        "#### Chart - 2"
      ]
    },
    {
      "cell_type": "code",
      "execution_count": 15,
      "metadata": {
        "colab": {
          "base_uri": "https://localhost:8080/",
          "height": 485
        },
        "id": "R4YgtaqtYklH",
        "outputId": "c2615c6e-9920-4914-ec4b-371207afe1f3"
      },
      "outputs": [
        {
          "output_type": "execute_result",
          "data": {
            "text/plain": [
              "Text(0.5, 1.0, 'Top 10 directors by number of shows directed')"
            ]
          },
          "metadata": {},
          "execution_count": 15
        },
        {
          "output_type": "display_data",
          "data": {
            "text/plain": [
              "<Figure size 1000x500 with 1 Axes>"
            ],
            "image/png": "[encoded data removed]"
          },
          "metadata": {}
        }
      ],
      "source": [
        "# Chart - 2 visualization code\n",
        "\n",
        "plt.figure(figsize=(10, 5))\n",
        "df[~(df['director'] == 'Unknown')].director.value_counts().nlargest(\n",
        "    10).plot(kind='barh')\n",
        "plt.title('Top 10 directors by number of shows directed')\n"
      ]
    },
    {
      "cell_type": "markdown",
      "metadata": {
        "id": "t6dVpIINYklI"
      },
      "source": [
        "##### 1. Why did you pick the specific chart?"
      ]
    },
    {
      "cell_type": "markdown",
      "metadata": {
        "id": "5aaW0BYyYklI"
      },
      "source": [
        "**Bar charts are very useful in presenting the numbers. as the above chart is clearly presenting that raul campos and jan suter have directed the maximum number of movies or TV Shows.**"
      ]
    },
    {
      "cell_type": "markdown",
      "metadata": {
        "id": "ijmpgYnKYklI"
      },
      "source": [
        "##### 2. What is/are the insight(s) found from the chart?"
      ]
    },
    {
      "cell_type": "markdown",
      "metadata": {
        "id": "PSx9atu2YklI"
      },
      "source": [
        "**Raul Campos and Jan Suter together have directed 18 movies / TV shows, higher than anyone in the dataset.**"
      ]
    },
    {
      "cell_type": "markdown",
      "metadata": {
        "id": "EM7whBJCYoAo"
      },
      "source": [
        "#### Chart - 3"
      ]
    },
    {
      "cell_type": "code",
      "execution_count": 16,
      "metadata": {
        "colab": {
          "base_uri": "https://localhost:8080/",
          "height": 485
        },
        "id": "t6GMdE67YoAp",
        "outputId": "1a09f8b5-bb40-43ff-ef6d-42bd6e93b910"
      },
      "outputs": [
        {
          "output_type": "execute_result",
          "data": {
            "text/plain": [
              "Text(0.5, 1.0, ' Top 10 countries with the highest number of shows')"
            ]
          },
          "metadata": {},
          "execution_count": 16
        },
        {
          "output_type": "display_data",
          "data": {
            "text/plain": [
              "<Figure size 1000x500 with 1 Axes>"
            ],
            "image/png": "[encoded data removed]"
          },
          "metadata": {}
        }
      ],
      "source": [
        "# Chart - 3 visualization code\n",
        "\n",
        "plt.figure(figsize=(10, 5))\n",
        "df[~(df['country'] == 'Unknown')].country.value_counts().nlargest(\n",
        "    10).plot(kind='barh')\n",
        "plt.title(' Top 10 countries with the highest number of shows')\n"
      ]
    },
    {
      "cell_type": "markdown",
      "metadata": {
        "id": "fge-S5ZAYoAp"
      },
      "source": [
        "##### 1. Why did you pick the specific chart?"
      ]
    },
    {
      "cell_type": "markdown",
      "metadata": {
        "id": "5dBItgRVYoAp"
      },
      "source": [
        "**Bar Charts are used for representing the Number Efficiently. Thats why i have used the Bar chart.**"
      ]
    },
    {
      "cell_type": "markdown",
      "metadata": {
        "id": "85gYPyotYoAp"
      },
      "source": [
        "##### 2. What is/are the insight(s) found from the chart?"
      ]
    },
    {
      "cell_type": "markdown",
      "metadata": {
        "id": "4jstXR6OYoAp"
      },
      "source": [
        "**The highest number of movies / TV shows were based out of the US, followed by India and UK.**"
      ]
    },
    {
      "cell_type": "markdown",
      "metadata": {
        "id": "4Of9eVA-YrdM"
      },
      "source": [
        "#### Chart - 4"
      ]
    },
    {
      "cell_type": "code",
      "execution_count": 17,
      "metadata": {
        "colab": {
          "base_uri": "https://localhost:8080/",
          "height": 485
        },
        "id": "irlUoxc8YrdO",
        "outputId": "dea297c1-f014-48c2-a345-41cf27ef9060"
      },
      "outputs": [
        {
          "output_type": "execute_result",
          "data": {
            "text/plain": [
              "Text(0.5, 1.0, 'Top 10 genres')"
            ]
          },
          "metadata": {},
          "execution_count": 17
        },
        {
          "output_type": "display_data",
          "data": {
            "text/plain": [
              "<Figure size 1000x500 with 1 Axes>"
            ],
            "image/png": "[encoded data removed]"
          },
          "metadata": {}
        }
      ],
      "source": [
        "# Chart - 4 visualization code\n",
        "\n",
        "plt.figure(figsize=(10, 5))\n",
        "df.listed_in.value_counts().nlargest(10).plot(kind='barh')\n",
        "plt.title('Top 10 genres')\n"
      ]
    },
    {
      "cell_type": "markdown",
      "metadata": {
        "id": "iky9q4vBYrdO"
      },
      "source": [
        "##### 1. Why did you pick the specific chart?"
      ]
    },
    {
      "cell_type": "markdown",
      "metadata": {
        "id": "aJRCwT6DYrdO"
      },
      "source": [
        "**Here i am using the number of Genres so for representing the Number the Bar Charts are one of the Best Charts.**"
      ]
    },
    {
      "cell_type": "markdown",
      "metadata": {
        "id": "F6T5p64dYrdO"
      },
      "source": [
        "##### 2. What is/are the insight(s) found from the chart?"
      ]
    },
    {
      "cell_type": "markdown",
      "metadata": {
        "id": "Xx8WAJvtYrdO"
      },
      "source": [
        "* **The Documentaries is the most popular genre followed by comedies and Drama.**\n",
        "* **These three genres account for about 41% of all movies and TV shows.**\n",
        "* **This value increases to about 82% for top 10 genres.**"
      ]
    },
    {
      "cell_type": "markdown",
      "metadata": {
        "id": "bamQiAODYuh1"
      },
      "source": [
        "#### Chart - 5"
      ]
    },
    {
      "cell_type": "code",
      "execution_count": 18,
      "metadata": {
        "colab": {
          "base_uri": "https://localhost:8080/",
          "height": 504
        },
        "id": "TIJwrbroYuh3",
        "outputId": "66ac7f44-18ed-494e-f260-74e7828e6138"
      },
      "outputs": [
        {
          "output_type": "execute_result",
          "data": {
            "text/plain": [
              "Text(0.5, 1.0, 'distribution by released year')"
            ]
          },
          "metadata": {},
          "execution_count": 18
        },
        {
          "output_type": "display_data",
          "data": {
            "text/plain": [
              "<Figure size 1000x500 with 1 Axes>"
            ],
            "image/png": "[encoded data removed]"
          },
          "metadata": {}
        }
      ],
      "source": [
        "# Chart - 5 visualization code\n",
        "\n",
        "plt.figure(figsize=(10, 5))\n",
        "sns.histplot(df['release_year'])\n",
        "plt.title('distribution by released year')\n"
      ]
    },
    {
      "cell_type": "markdown",
      "metadata": {
        "id": "QHF8YVU7Yuh3"
      },
      "source": [
        "##### 1. Why did you pick the specific chart?"
      ]
    },
    {
      "cell_type": "markdown",
      "metadata": {
        "id": "dcxuIMRPYuh3"
      },
      "source": [
        "**Histogram is the Chart which is used for getting the understanding about the Distribution of data, and here our motive is to check the Distribution of Release year of Movies. Thats why i have used Histogram**"
      ]
    },
    {
      "cell_type": "markdown",
      "metadata": {
        "id": "GwzvFGzlYuh3"
      },
      "source": [
        "##### 2. What is/are the insight(s) found from the chart?"
      ]
    },
    {
      "cell_type": "markdown",
      "metadata": {
        "id": "uyqkiB8YYuh3"
      },
      "source": [
        "**Netflix has greater number of new movies / TV shows than the old ones.**"
      ]
    },
    {
      "cell_type": "markdown",
      "metadata": {
        "id": "OH-pJp9IphqM"
      },
      "source": [
        "#### Chart - 6"
      ]
    },
    {
      "cell_type": "code",
      "execution_count": 19,
      "metadata": {
        "colab": {
          "base_uri": "https://localhost:8080/",
          "height": 469
        },
        "id": "kuRf4wtuphqN",
        "outputId": "8231e55b-5a8e-4032-fdb5-81597618a987"
      },
      "outputs": [
        {
          "output_type": "execute_result",
          "data": {
            "text/plain": [
              "Text(0, 0.5, 'Months')"
            ]
          },
          "metadata": {},
          "execution_count": 19
        },
        {
          "output_type": "display_data",
          "data": {
            "text/plain": [
              "<Figure size 640x480 with 1 Axes>"
            ],
            "image/png": "[encoded data removed]"
          },
          "metadata": {}
        }
      ],
      "source": [
        "# Chart - 6 visualization code\n",
        "\n",
        "df['month_added'].value_counts().astype(int).plot(kind='barh')\n",
        "plt.title('Shows added each month over the years')\n",
        "plt.ylabel('Months')\n"
      ]
    },
    {
      "cell_type": "markdown",
      "metadata": {
        "id": "bbFf2-_FphqN"
      },
      "source": [
        "##### 1. Why did you pick the specific chart?"
      ]
    },
    {
      "cell_type": "markdown",
      "metadata": {
        "id": "loh7H2nzphqN"
      },
      "source": [
        "**Here the Aim is to find out how many Shows or Movies got Added Over the Years, And for that Reason we have used Horizontal Bar Chart.**"
      ]
    },
    {
      "cell_type": "markdown",
      "metadata": {
        "id": "_ouA3fa0phqN"
      },
      "source": [
        "##### 2. What is/are the insight(s) found from the chart?"
      ]
    },
    {
      "cell_type": "markdown",
      "metadata": {
        "id": "VECbqPI7phqN"
      },
      "source": [
        " **Over the years a greater number of shows were added in the months of October, November, December, and January.**"
      ]
    },
    {
      "cell_type": "markdown",
      "metadata": {
        "id": "PIIx-8_IphqN"
      },
      "source": [
        "#### Chart - 7"
      ]
    },
    {
      "cell_type": "code",
      "execution_count": 20,
      "metadata": {
        "colab": {
          "base_uri": "https://localhost:8080/",
          "height": 1000
        },
        "id": "lqAIGUfyphqO",
        "outputId": "41987ad4-e8d0-4a0e-bfaf-d833a1868374"
      },
      "outputs": [
        {
          "output_type": "execute_result",
          "data": {
            "text/plain": [
              "Text(0.5, 0, '')"
            ]
          },
          "metadata": {},
          "execution_count": 20
        },
        {
          "output_type": "display_data",
          "data": {
            "text/plain": [
              "<Figure size 1000x2000 with 1 Axes>"
            ],
            "image/png": "[encoded data removed]"
          },
          "metadata": {}
        }
      ],
      "source": [
        "# Chart - 7 visualization code\n",
        "\n",
        "plt.figure(figsize=(10, 20))\n",
        "df['release_year'].value_counts().plot(kind='barh',)\n",
        "plt.title('Number of shows added each year')\n",
        "plt.xlabel('')\n"
      ]
    },
    {
      "cell_type": "markdown",
      "metadata": {
        "id": "t27r6nlMphqO"
      },
      "source": [
        "##### 1. Why did you pick the specific chart?"
      ]
    },
    {
      "cell_type": "markdown",
      "metadata": {
        "id": "iv6ro40sphqO"
      },
      "source": [
        "**Bar Charts are one of the best Options available Because the Bar charts are used to represent the Comparision. and here our motive is to find out the number of movies or Tv shows added Every Year on Netflix.**"
      ]
    },
    {
      "cell_type": "markdown",
      "metadata": {
        "id": "r2jJGEOYphqO"
      },
      "source": [
        "##### 2. What is/are the insight(s) found from the chart?"
      ]
    },
    {
      "cell_type": "markdown",
      "metadata": {
        "id": "Po6ZPi4hphqO"
      },
      "source": [
        "* **Netflix continuous to add more shows on its platform over the years.**\n",
        "* **There is a decrease in the number of shows added in the year 2020, which might be attributed to the covid-19-induced lockdowns, which halted the creation of shows.**\n",
        "* **We have Netflix data only up to 16th January 2021, hence there are less movies added in this year.**"
      ]
    },
    {
      "cell_type": "markdown",
      "metadata": {
        "id": "BZR9WyysphqO"
      },
      "source": [
        "#### Chart - 8"
      ]
    },
    {
      "cell_type": "code",
      "execution_count": 21,
      "metadata": {
        "colab": {
          "base_uri": "https://localhost:8080/"
        },
        "id": "BefKVrzJ1d4R",
        "outputId": "3bff35e0-826e-49ae-fd36-819d3a903d0a"
      },
      "outputs": [
        {
          "output_type": "execute_result",
          "data": {
            "text/plain": [
              "array(['Adults', 'Teens', 'Young Adults', 'Older Kids', 'Kids', nan],\n",
              "      dtype=object)"
            ]
          },
          "metadata": {},
          "execution_count": 21
        }
      ],
      "source": [
        "# Changing the values in the rating column\n",
        "\n",
        "rating_map = {'TV-MA': 'Adults',\n",
        "              'R': 'Adults',\n",
        "              'PG-13': 'Teens',\n",
        "              'TV-14': 'Young Adults',\n",
        "              'TV-PG': 'Older Kids',\n",
        "              'NR': 'Adults',\n",
        "              'TV-G': 'Kids',\n",
        "              'TV-Y': 'Kids',\n",
        "              'TV-Y7': 'Older Kids',\n",
        "              'PG': 'Older Kids',\n",
        "              'G': 'Kids',\n",
        "              'NC-17': 'Adults',\n",
        "              'TV-Y7-FV': 'Older Kids',\n",
        "              'UR': 'Adults'}\n",
        "\n",
        "df['rating'].replace(rating_map, inplace=True)\n",
        "df['rating'].unique()\n"
      ]
    },
    {
      "cell_type": "code",
      "execution_count": 22,
      "metadata": {
        "colab": {
          "base_uri": "https://localhost:8080/",
          "height": 485
        },
        "id": "TdPTWpAVphqO",
        "outputId": "e219f472-71fb-4353-981a-44673f12e37b"
      },
      "outputs": [
        {
          "output_type": "execute_result",
          "data": {
            "text/plain": [
              "Text(0.5, 1.0, 'Number of shows on Netflix for different age groups')"
            ]
          },
          "metadata": {},
          "execution_count": 22
        },
        {
          "output_type": "display_data",
          "data": {
            "text/plain": [
              "<Figure size 1000x500 with 1 Axes>"
            ],
            "image/png": "[encoded data removed]"
          },
          "metadata": {}
        }
      ],
      "source": [
        "# Chart - 8 visualization code\n",
        "\n",
        "plt.figure(figsize=(10, 5))\n",
        "df.rating.value_counts().plot(kind='barh')\n",
        "plt.title('Number of shows on Netflix for different age groups')\n"
      ]
    },
    {
      "cell_type": "markdown",
      "metadata": {
        "id": "jj7wYXLtphqO"
      },
      "source": [
        "##### 1. Why did you pick the specific chart?"
      ]
    },
    {
      "cell_type": "markdown",
      "metadata": {
        "id": "Ob8u6rCTphqO"
      },
      "source": [
        "**A bar chart shows the frequency of each data category.**"
      ]
    },
    {
      "cell_type": "markdown",
      "metadata": {
        "id": "eZrbJ2SmphqO"
      },
      "source": [
        "##### 2. What is/are the insight(s) found from the chart?"
      ]
    },
    {
      "cell_type": "markdown",
      "metadata": {
        "id": "mZtgC_hjphqO"
      },
      "source": [
        "**The majority of the shows on Netflix are catered to the needs of adult and young adult population.**"
      ]
    },
    {
      "cell_type": "markdown",
      "metadata": {
        "id": "YJ55k-q6phqO"
      },
      "source": [
        "#### Chart - 9"
      ]
    },
    {
      "cell_type": "code",
      "execution_count": 23,
      "metadata": {
        "id": "B2aS4O1ophqO",
        "colab": {
          "base_uri": "https://localhost:8080/",
          "height": 468
        },
        "outputId": "5d98491f-78ba-452f-b19c-a7b72a17c8ff"
      },
      "outputs": [
        {
          "output_type": "display_data",
          "data": {
            "text/plain": [
              "<Figure size 1000x500 with 1 Axes>"
            ],
            "image/png": "[encoded data removed]"
          },
          "metadata": {}
        }
      ],
      "source": [
        "# Chart - 9 visualization code\n",
        "\n",
        "plt.figure(figsize=(10, 5))\n",
        "p = sns.countplot(x='year_added', data=df, hue='type')\n",
        "plt.title('Number of movies and TV shows added over the years')\n",
        "plt.xlabel('')\n",
        "for i in p.patches:\n",
        "    p.annotate(format(i.get_height(), '.0f'), (i.get_x() + i.get_width() / 2., i.get_height()),\n",
        "               ha='center', va='center', xytext=(0, 10), textcoords='offset points')\n"
      ]
    },
    {
      "cell_type": "markdown",
      "metadata": {
        "id": "gCFgpxoyphqP"
      },
      "source": [
        "##### 1. Why did you pick the specific chart?"
      ]
    },
    {
      "cell_type": "markdown",
      "metadata": {
        "id": "TVxDimi2phqP"
      },
      "source": [
        "**CountPlots are mainly used for Representing the Numbers differnce Between Categories. and here our motive is to check how many movies and Tv Shows are Added year per year in netflix**"
      ]
    },
    {
      "cell_type": "markdown",
      "metadata": {
        "id": "OVtJsKN_phqQ"
      },
      "source": [
        "##### 2. What is/are the insight(s) found from the chart?"
      ]
    },
    {
      "cell_type": "markdown",
      "metadata": {
        "id": "ngGi97qjphqQ"
      },
      "source": [
        "* **Netflix continuous to add more shows on its platform over the years.**\n",
        "* **There is a decrease in the number of shows added in the year 2020, which might be attributed to the covid-19-induced lockdowns, which halted the creation of shows.**\n"
      ]
    },
    {
      "cell_type": "markdown",
      "metadata": {
        "id": "U2RJ9gkRphqQ"
      },
      "source": [
        "#### Chart - 10"
      ]
    },
    {
      "cell_type": "code",
      "execution_count": 24,
      "metadata": {
        "id": "GM7a4YP4phqQ",
        "colab": {
          "base_uri": "https://localhost:8080/",
          "height": 872
        },
        "outputId": "3bba3b96-6efa-438f-fae4-f57ad07a251a"
      },
      "outputs": [
        {
          "output_type": "display_data",
          "data": {
            "text/plain": [
              "<Figure size 1500x1000 with 1 Axes>"
            ],
            "image/png": "[encoded data removed]"
          },
          "metadata": {}
        }
      ],
      "source": [
        "# Chart - 10 visualization code\n",
        "\n",
        "plt.figure(figsize=(15, 10))\n",
        "p = sns.countplot(x='duration', data=df[df['type'] == 'TV Show'])\n",
        "plt.title('Number of seasons per TV show distribution')\n",
        "\n",
        "for i in p.patches:\n",
        "    p.annotate(format(i.get_height(), '.0f'), (i.get_x() + i.get_width() / 2., i.get_height()),\n",
        "               ha='center', va='center', xytext=(0, 10), textcoords='offset points')\n"
      ]
    },
    {
      "cell_type": "markdown",
      "metadata": {
        "id": "1M8mcRywphqQ"
      },
      "source": [
        "##### 1. Why did you pick the specific chart?"
      ]
    },
    {
      "cell_type": "markdown",
      "metadata": {
        "id": "8agQvks0phqQ"
      },
      "source": [
        "**CountPlot Used to determine the Numerical Difference between Categories. we wanted to know the number of season in TV shows.**"
      ]
    },
    {
      "cell_type": "markdown",
      "metadata": {
        "id": "tgIPom80phqQ"
      },
      "source": [
        "##### 2. What is/are the insight(s) found from the chart?"
      ]
    },
    {
      "cell_type": "markdown",
      "metadata": {
        "id": "Qp13pnNzphqQ"
      },
      "source": [
        "* **The TV series in the dataset have up to 16 seasons, however the bulk of them only have one. This might mean that the majority of TV shows has only recently begun, and that further seasons are on the way.**\n",
        "* **There are very few TV shows that have more than 8 seasons.**"
      ]
    },
    {
      "cell_type": "markdown",
      "metadata": {
        "id": "NC_X3p0fY2L0"
      },
      "source": [
        "#### Chart - **Correlation Heatmap**"
      ]
    },
    {
      "cell_type": "code",
      "execution_count": 25,
      "metadata": {
        "id": "xyC9zolEZNRQ"
      },
      "outputs": [],
      "source": [
        "# Correlation Heatmap visualization code\n",
        "\n",
        "# As we are working on the Unlabeled Data and unsupervised Learning there is no\n",
        "# Requirement of Corelation HeatMap\n"
      ]
    },
    {
      "cell_type": "markdown",
      "metadata": {
        "id": "q29F0dvdveiT"
      },
      "source": [
        "#### Chart - **Pair Plot**"
      ]
    },
    {
      "cell_type": "code",
      "execution_count": 26,
      "metadata": {
        "id": "o58-TEIhveiU"
      },
      "outputs": [],
      "source": [
        "# Pair Plot visualization code\n",
        "\n",
        "# As we are working on the Unlabeled Data and unsupervised Learning there is no\n",
        "# Requirement of Pairplot\n"
      ]
    },
    {
      "cell_type": "markdown",
      "metadata": {
        "id": "g-ATYxFrGrvw"
      },
      "source": [
        "## ***5. Hypothesis Testing***"
      ]
    },
    {
      "cell_type": "markdown",
      "metadata": {
        "id": "Yfr_Vlr8HBkt"
      },
      "source": [
        "### Based on your chart experiments, define three hypothetical statements from the dataset. In the next three questions, perform hypothesis testing to obtain final conclusion about the statements through your code and statistical testing."
      ]
    },
    {
      "cell_type": "markdown",
      "metadata": {
        "id": "-7MS06SUHkB-"
      },
      "source": [
        "Answer Here."
      ]
    },
    {
      "cell_type": "markdown",
      "metadata": {
        "id": "8yEUt7NnHlrM"
      },
      "source": [
        "### Hypothetical Statement - 1"
      ]
    },
    {
      "cell_type": "markdown",
      "metadata": {
        "id": "tEA2Xm5dHt1r"
      },
      "source": [
        "#### 1. State Your research hypothesis as a null hypothesis and alternate hypothesis."
      ]
    },
    {
      "cell_type": "markdown",
      "metadata": {
        "id": "HI9ZP0laH0D-"
      },
      "source": [
        "Answer Here."
      ]
    },
    {
      "cell_type": "markdown",
      "metadata": {
        "id": "I79__PHVH19G"
      },
      "source": [
        "#### 2. Perform an appropriate statistical test."
      ]
    },
    {
      "cell_type": "code",
      "execution_count": 27,
      "metadata": {
        "id": "oZrfquKtyian"
      },
      "outputs": [],
      "source": [
        "# Perform Statistical Test to obtain P-Value\n"
      ]
    },
    {
      "cell_type": "markdown",
      "metadata": {
        "id": "Ou-I18pAyIpj"
      },
      "source": [
        "##### Which statistical test have you done to obtain P-Value?"
      ]
    },
    {
      "cell_type": "markdown",
      "metadata": {
        "id": "s2U0kk00ygSB"
      },
      "source": [
        "Answer Here."
      ]
    },
    {
      "cell_type": "markdown",
      "metadata": {
        "id": "fF3858GYyt-u"
      },
      "source": [
        "##### Why did you choose the specific statistical test?"
      ]
    },
    {
      "cell_type": "markdown",
      "metadata": {
        "id": "HO4K0gP5y3B4"
      },
      "source": [
        "Answer Here."
      ]
    },
    {
      "cell_type": "markdown",
      "metadata": {
        "id": "4_0_7-oCpUZd"
      },
      "source": [
        "### Hypothetical Statement - 2"
      ]
    },
    {
      "cell_type": "markdown",
      "metadata": {
        "id": "hwyV_J3ipUZe"
      },
      "source": [
        "#### 1. State Your research hypothesis as a null hypothesis and alternate hypothesis."
      ]
    },
    {
      "cell_type": "markdown",
      "metadata": {
        "id": "FnpLGJ-4pUZe"
      },
      "source": [
        "Answer Here."
      ]
    },
    {
      "cell_type": "markdown",
      "metadata": {
        "id": "3yB-zSqbpUZe"
      },
      "source": [
        "#### 2. Perform an appropriate statistical test."
      ]
    },
    {
      "cell_type": "code",
      "execution_count": 28,
      "metadata": {
        "id": "sWxdNTXNpUZe"
      },
      "outputs": [],
      "source": [
        "# Perform Statistical Test to obtain P-Value\n"
      ]
    },
    {
      "cell_type": "markdown",
      "metadata": {
        "id": "dEUvejAfpUZe"
      },
      "source": [
        "##### Which statistical test have you done to obtain P-Value?"
      ]
    },
    {
      "cell_type": "markdown",
      "metadata": {
        "id": "oLDrPz7HpUZf"
      },
      "source": [
        "Answer Here."
      ]
    },
    {
      "cell_type": "markdown",
      "metadata": {
        "id": "Fd15vwWVpUZf"
      },
      "source": [
        "##### Why did you choose the specific statistical test?"
      ]
    },
    {
      "cell_type": "markdown",
      "metadata": {
        "id": "4xOGYyiBpUZf"
      },
      "source": [
        "Answer Here."
      ]
    },
    {
      "cell_type": "markdown",
      "metadata": {
        "id": "bn_IUdTipZyH"
      },
      "source": [
        "### Hypothetical Statement - 3"
      ]
    },
    {
      "cell_type": "markdown",
      "metadata": {
        "id": "49K5P_iCpZyH"
      },
      "source": [
        "#### 1. State Your research hypothesis as a null hypothesis and alternate hypothesis."
      ]
    },
    {
      "cell_type": "markdown",
      "metadata": {
        "id": "7gWI5rT9pZyH"
      },
      "source": [
        "Answer Here."
      ]
    },
    {
      "cell_type": "markdown",
      "metadata": {
        "id": "Nff-vKELpZyI"
      },
      "source": [
        "#### 2. Perform an appropriate statistical test."
      ]
    },
    {
      "cell_type": "code",
      "execution_count": 29,
      "metadata": {
        "id": "s6AnJQjtpZyI"
      },
      "outputs": [],
      "source": [
        "# Perform Statistical Test to obtain P-Value\n"
      ]
    },
    {
      "cell_type": "markdown",
      "metadata": {
        "id": "kLW572S8pZyI"
      },
      "source": [
        "##### Which statistical test have you done to obtain P-Value?"
      ]
    },
    {
      "cell_type": "markdown",
      "metadata": {
        "id": "ytWJ8v15pZyI"
      },
      "source": [
        "Answer Here."
      ]
    },
    {
      "cell_type": "markdown",
      "metadata": {
        "id": "dWbDXHzopZyI"
      },
      "source": [
        "##### Why did you choose the specific statistical test?"
      ]
    },
    {
      "cell_type": "markdown",
      "metadata": {
        "id": "M99G98V6pZyI"
      },
      "source": [
        "Answer Here."
      ]
    },
    {
      "cell_type": "markdown",
      "metadata": {
        "id": "yLjJCtPM0KBk"
      },
      "source": [
        "## ***6. Feature Engineering & Data Pre-processing***"
      ]
    },
    {
      "cell_type": "markdown",
      "metadata": {
        "id": "xiyOF9F70UgQ"
      },
      "source": [
        "### 1. Handling Missing Values"
      ]
    },
    {
      "cell_type": "code",
      "execution_count": 30,
      "metadata": {
        "id": "iRsAHk1K0fpS"
      },
      "outputs": [],
      "source": [
        "# Handling Missing Values & Missing Value Imputation\n"
      ]
    },
    {
      "cell_type": "markdown",
      "metadata": {
        "id": "7wuGOrhz0itI"
      },
      "source": [
        "#### What all missing value imputation techniques have you used and why did you use those techniques?"
      ]
    },
    {
      "cell_type": "markdown",
      "metadata": {
        "id": "1ixusLtI0pqI"
      },
      "source": [
        "Answer Here."
      ]
    },
    {
      "cell_type": "markdown",
      "metadata": {
        "id": "id1riN9m0vUs"
      },
      "source": [
        "### 2. Handling Outliers"
      ]
    },
    {
      "cell_type": "code",
      "execution_count": 31,
      "metadata": {
        "id": "M6w2CzZf04JK"
      },
      "outputs": [],
      "source": [
        "# Handling Outliers & Outlier treatments\n"
      ]
    },
    {
      "cell_type": "markdown",
      "metadata": {
        "id": "578E2V7j08f6"
      },
      "source": [
        "##### What all outlier treatment techniques have you used and why did you use those techniques?"
      ]
    },
    {
      "cell_type": "markdown",
      "metadata": {
        "id": "uGZz5OrT1HH-"
      },
      "source": [
        "Answer Here."
      ]
    },
    {
      "cell_type": "markdown",
      "metadata": {
        "id": "89xtkJwZ18nB"
      },
      "source": [
        "### 3. Categorical Encoding"
      ]
    },
    {
      "cell_type": "code",
      "execution_count": 32,
      "metadata": {
        "id": "21JmIYMG2hEo"
      },
      "outputs": [],
      "source": [
        "# Encode your categorical columns\n"
      ]
    },
    {
      "cell_type": "markdown",
      "metadata": {
        "id": "67NQN5KX2AMe"
      },
      "source": [
        "#### What all categorical encoding techniques have you used & why did you use those techniques?"
      ]
    },
    {
      "cell_type": "markdown",
      "metadata": {
        "id": "UDaue5h32n_G"
      },
      "source": [
        "Answer Here."
      ]
    },
    {
      "cell_type": "markdown",
      "metadata": {
        "id": "Iwf50b-R2tYG"
      },
      "source": [
        "### 4. Textual Data Preprocessing\n",
        "(It's mandatory for textual dataset i.e., NLP, Sentiment Analysis, Text Clustering etc.)"
      ]
    },
    {
      "cell_type": "markdown",
      "metadata": {
        "id": "GMQiZwjn3iu7"
      },
      "source": [
        "#### 1. Expand Contraction"
      ]
    },
    {
      "cell_type": "code",
      "execution_count": 33,
      "metadata": {
        "id": "PTouz10C3oNN"
      },
      "outputs": [],
      "source": [
        "# Expand Contraction\n"
      ]
    },
    {
      "cell_type": "markdown",
      "metadata": {
        "id": "WVIkgGqN3qsr"
      },
      "source": [
        "#### 2. Lower Casing"
      ]
    },
    {
      "cell_type": "code",
      "execution_count": 34,
      "metadata": {
        "id": "88JnJ1jN3w7j"
      },
      "outputs": [],
      "source": [
        "# Lower Casing\n"
      ]
    },
    {
      "cell_type": "markdown",
      "metadata": {
        "id": "XkPnILGE3zoT"
      },
      "source": [
        "#### 3. Removing Punctuations"
      ]
    },
    {
      "cell_type": "code",
      "execution_count": 35,
      "metadata": {
        "id": "vqbBqNaA33c0"
      },
      "outputs": [],
      "source": [
        "# Remove Punctuations\n"
      ]
    },
    {
      "cell_type": "markdown",
      "metadata": {
        "id": "Hlsf0x5436Go"
      },
      "source": [
        "#### 4. Removing URLs & Removing words and digits contain digits."
      ]
    },
    {
      "cell_type": "code",
      "execution_count": 36,
      "metadata": {
        "id": "2sxKgKxu4Ip3"
      },
      "outputs": [],
      "source": [
        "# Remove URLs & Remove words and digits contain digits\n"
      ]
    },
    {
      "cell_type": "markdown",
      "metadata": {
        "id": "mT9DMSJo4nBL"
      },
      "source": [
        "#### 5. Removing Stopwords & Removing White spaces"
      ]
    },
    {
      "cell_type": "code",
      "execution_count": 37,
      "metadata": {
        "id": "T2LSJh154s8W"
      },
      "outputs": [],
      "source": [
        "# Remove Stopwords\n"
      ]
    },
    {
      "cell_type": "code",
      "execution_count": 38,
      "metadata": {
        "id": "EgLJGffy4vm0"
      },
      "outputs": [],
      "source": [
        "# Remove White spaces\n"
      ]
    },
    {
      "cell_type": "markdown",
      "metadata": {
        "id": "c49ITxTc407N"
      },
      "source": [
        "#### 6. Rephrase Text"
      ]
    },
    {
      "cell_type": "code",
      "execution_count": 39,
      "metadata": {
        "id": "foqY80Qu48N2"
      },
      "outputs": [],
      "source": [
        "# Rephrase Text\n"
      ]
    },
    {
      "cell_type": "markdown",
      "metadata": {
        "id": "OeJFEK0N496M"
      },
      "source": [
        "#### 7. Tokenization"
      ]
    },
    {
      "cell_type": "code",
      "execution_count": 40,
      "metadata": {
        "id": "ijx1rUOS5CUU"
      },
      "outputs": [],
      "source": [
        "# Tokenization\n"
      ]
    },
    {
      "cell_type": "markdown",
      "metadata": {
        "id": "9ExmJH0g5HBk"
      },
      "source": [
        "#### 8. Text Normalization"
      ]
    },
    {
      "cell_type": "code",
      "execution_count": 41,
      "metadata": {
        "id": "AIJ1a-Zc5PY8"
      },
      "outputs": [],
      "source": [
        "# Normalizing Text (i.e., Stemming, Lemmatization etc.)\n"
      ]
    },
    {
      "cell_type": "markdown",
      "metadata": {
        "id": "cJNqERVU536h"
      },
      "source": [
        "##### Which text normalization technique have you used and why?"
      ]
    },
    {
      "cell_type": "markdown",
      "metadata": {
        "id": "Z9jKVxE06BC1"
      },
      "source": [
        "Answer Here."
      ]
    },
    {
      "cell_type": "markdown",
      "metadata": {
        "id": "k5UmGsbsOxih"
      },
      "source": [
        "#### 9. Part of speech tagging"
      ]
    },
    {
      "cell_type": "code",
      "execution_count": 42,
      "metadata": {
        "id": "btT3ZJBAO6Ik"
      },
      "outputs": [],
      "source": [
        "# POS Taging\n"
      ]
    },
    {
      "cell_type": "markdown",
      "metadata": {
        "id": "T0VqWOYE6DLQ"
      },
      "source": [
        "#### 10. Text Vectorization"
      ]
    },
    {
      "cell_type": "code",
      "execution_count": 43,
      "metadata": {
        "id": "yBRtdhth6JDE"
      },
      "outputs": [],
      "source": [
        "# Vectorizing Text\n"
      ]
    },
    {
      "cell_type": "markdown",
      "metadata": {
        "id": "qBMux9mC6MCf"
      },
      "source": [
        "##### Which text vectorization technique have you used and why?"
      ]
    },
    {
      "cell_type": "markdown",
      "metadata": {
        "id": "su2EnbCh6UKQ"
      },
      "source": [
        "Answer Here."
      ]
    },
    {
      "cell_type": "markdown",
      "metadata": {
        "id": "-oLEiFgy-5Pf"
      },
      "source": [
        "### 4. Feature Manipulation & Selection"
      ]
    },
    {
      "cell_type": "markdown",
      "metadata": {
        "id": "C74aWNz2AliB"
      },
      "source": [
        "#### 1. Feature Manipulation"
      ]
    },
    {
      "cell_type": "code",
      "execution_count": 44,
      "metadata": {
        "id": "h1qC4yhBApWC"
      },
      "outputs": [],
      "source": [
        "# Manipulate Features to minimize feature correlation and create new features\n"
      ]
    },
    {
      "cell_type": "markdown",
      "metadata": {
        "id": "2DejudWSA-a0"
      },
      "source": [
        "#### 2. Feature Selection"
      ]
    },
    {
      "cell_type": "code",
      "execution_count": 45,
      "metadata": {
        "id": "YLhe8UmaBCEE"
      },
      "outputs": [],
      "source": [
        "# Select your features wisely to avoid overfitting\n"
      ]
    },
    {
      "cell_type": "markdown",
      "metadata": {
        "id": "pEMng2IbBLp7"
      },
      "source": [
        "##### What all feature selection methods have you used  and why?"
      ]
    },
    {
      "cell_type": "markdown",
      "metadata": {
        "id": "rb2Lh6Z8BgGs"
      },
      "source": [
        "Answer Here."
      ]
    },
    {
      "cell_type": "markdown",
      "metadata": {
        "id": "rAdphbQ9Bhjc"
      },
      "source": [
        "##### Which all features you found important and why?"
      ]
    },
    {
      "cell_type": "markdown",
      "metadata": {
        "id": "fGgaEstsBnaf"
      },
      "source": [
        "Answer Here."
      ]
    },
    {
      "cell_type": "markdown",
      "metadata": {
        "id": "TNVZ9zx19K6k"
      },
      "source": [
        "### 5. Data Transformation"
      ]
    },
    {
      "cell_type": "markdown",
      "metadata": {
        "id": "nqoHp30x9hH9"
      },
      "source": [
        "#### Do you think that your data needs to be transformed? If yes, which transformation have you used. Explain Why?"
      ]
    },
    {
      "cell_type": "code",
      "execution_count": 46,
      "metadata": {
        "id": "I6quWQ1T9rtH"
      },
      "outputs": [],
      "source": [
        "# Transform Your data\n"
      ]
    },
    {
      "cell_type": "markdown",
      "metadata": {
        "id": "rMDnDkt2B6du"
      },
      "source": [
        "### 6. Data Scaling"
      ]
    },
    {
      "cell_type": "code",
      "execution_count": 47,
      "metadata": {
        "id": "dL9LWpySC6x_"
      },
      "outputs": [],
      "source": [
        "# Scaling your data\n"
      ]
    },
    {
      "cell_type": "markdown",
      "metadata": {
        "id": "yiiVWRdJDDil"
      },
      "source": [
        "##### Which method have you used to scale you data and why?"
      ]
    },
    {
      "cell_type": "markdown",
      "metadata": {
        "id": "1UUpS68QDMuG"
      },
      "source": [
        "### 7. Dimesionality Reduction"
      ]
    },
    {
      "cell_type": "markdown",
      "metadata": {
        "id": "kexQrXU-DjzY"
      },
      "source": [
        "##### Do you think that dimensionality reduction is needed? Explain Why?"
      ]
    },
    {
      "cell_type": "markdown",
      "metadata": {
        "id": "GGRlBsSGDtTQ"
      },
      "source": [
        "Answer Here."
      ]
    },
    {
      "cell_type": "code",
      "execution_count": 48,
      "metadata": {
        "id": "kQfvxBBHDvCa"
      },
      "outputs": [],
      "source": [
        "# DImensionality Reduction (If needed)\n"
      ]
    },
    {
      "cell_type": "markdown",
      "metadata": {
        "id": "T5CmagL3EC8N"
      },
      "source": [
        "##### Which dimensionality reduction technique have you used and why? (If dimensionality reduction done on dataset.)"
      ]
    },
    {
      "cell_type": "markdown",
      "metadata": {
        "id": "ZKr75IDuEM7t"
      },
      "source": [
        "Answer Here."
      ]
    },
    {
      "cell_type": "markdown",
      "metadata": {
        "id": "BhH2vgX9EjGr"
      },
      "source": [
        "### 8. Data Splitting"
      ]
    },
    {
      "cell_type": "code",
      "execution_count": 49,
      "metadata": {
        "id": "0CTyd2UwEyNM"
      },
      "outputs": [],
      "source": [
        "# Split your data to train and test. Choose Splitting ratio wisely.\n"
      ]
    },
    {
      "cell_type": "markdown",
      "metadata": {
        "id": "qjKvONjwE8ra"
      },
      "source": [
        "##### What data splitting ratio have you used and why?"
      ]
    },
    {
      "cell_type": "markdown",
      "metadata": {
        "id": "Y2lJ8cobFDb_"
      },
      "source": [
        "Answer Here."
      ]
    },
    {
      "cell_type": "markdown",
      "metadata": {
        "id": "P1XJ9OREExlT"
      },
      "source": [
        "### 9. Handling Imbalanced Dataset"
      ]
    },
    {
      "cell_type": "markdown",
      "metadata": {
        "id": "VFOzZv6IFROw"
      },
      "source": [
        "##### Do you think the dataset is imbalanced? Explain Why."
      ]
    },
    {
      "cell_type": "markdown",
      "metadata": {
        "id": "GeKDIv7pFgcC"
      },
      "source": [
        "Answer Here."
      ]
    },
    {
      "cell_type": "code",
      "execution_count": 50,
      "metadata": {
        "id": "nQsRhhZLFiDs"
      },
      "outputs": [],
      "source": [
        "# Handling Imbalanced Dataset (If needed)\n"
      ]
    },
    {
      "cell_type": "markdown",
      "metadata": {
        "id": "TIqpNgepFxVj"
      },
      "source": [
        "##### What technique did you use to handle the imbalance dataset and why? (If needed to be balanced)"
      ]
    },
    {
      "cell_type": "markdown",
      "metadata": {
        "id": "qbet1HwdGDTz"
      },
      "source": [
        "Answer Here."
      ]
    },
    {
      "cell_type": "markdown",
      "metadata": {
        "id": "VfCC591jGiD4"
      },
      "source": [
        "## ***7. ML Model Implementation***"
      ]
    },
    {
      "cell_type": "markdown",
      "metadata": {
        "id": "OB4l2ZhMeS1U"
      },
      "source": [
        "### ML Model - 1"
      ]
    },
    {
      "cell_type": "code",
      "execution_count": 51,
      "metadata": {
        "id": "7ebyywQieS1U"
      },
      "outputs": [],
      "source": [
        "# ML Model - 1 Implementation\n",
        "\n",
        "# Fit the Algorithm\n",
        "\n",
        "# Predict on the model\n"
      ]
    },
    {
      "cell_type": "markdown",
      "metadata": {
        "id": "ArJBuiUVfxKd"
      },
      "source": [
        "#### 1. Explain the ML Model used and it's performance using Evaluation metric Score Chart."
      ]
    },
    {
      "cell_type": "code",
      "execution_count": 52,
      "metadata": {
        "id": "rqD5ZohzfxKe"
      },
      "outputs": [],
      "source": [
        "# Visualizing evaluation Metric Score chart\n"
      ]
    },
    {
      "cell_type": "markdown",
      "metadata": {
        "id": "4qY1EAkEfxKe"
      },
      "source": [
        "#### 2. Cross- Validation & Hyperparameter Tuning"
      ]
    },
    {
      "cell_type": "code",
      "execution_count": 53,
      "metadata": {
        "id": "Dy61ujd6fxKe"
      },
      "outputs": [],
      "source": [
        "# ML Model - 1 Implementation with hyperparameter optimization techniques (i.e., GridSearch CV, RandomSearch CV, Bayesian Optimization etc.)\n",
        "\n",
        "# Fit the Algorithm\n",
        "\n",
        "# Predict on the model\n"
      ]
    },
    {
      "cell_type": "markdown",
      "metadata": {
        "id": "PiV4Ypx8fxKe"
      },
      "source": [
        "##### Which hyperparameter optimization technique have you used and why?"
      ]
    },
    {
      "cell_type": "markdown",
      "metadata": {
        "id": "negyGRa7fxKf"
      },
      "source": [
        "Answer Here."
      ]
    },
    {
      "cell_type": "markdown",
      "metadata": {
        "id": "TfvqoZmBfxKf"
      },
      "source": [
        "##### Have you seen any improvement? Note down the improvement with updates Evaluation metric Score Chart."
      ]
    },
    {
      "cell_type": "markdown",
      "metadata": {
        "id": "OaLui8CcfxKf"
      },
      "source": [
        "Answer Here."
      ]
    },
    {
      "cell_type": "markdown",
      "metadata": {
        "id": "dJ2tPlVmpsJ0"
      },
      "source": [
        "### ML Model - 2"
      ]
    },
    {
      "cell_type": "markdown",
      "metadata": {
        "id": "JWYfwnehpsJ1"
      },
      "source": [
        "#### 1. Explain the ML Model used and it's performance using Evaluation metric Score Chart."
      ]
    },
    {
      "cell_type": "code",
      "execution_count": 54,
      "metadata": {
        "id": "yEl-hgQWpsJ1"
      },
      "outputs": [],
      "source": [
        "# Visualizing evaluation Metric Score chart\n"
      ]
    },
    {
      "cell_type": "markdown",
      "metadata": {
        "id": "-jK_YjpMpsJ2"
      },
      "source": [
        "#### 2. Cross- Validation & Hyperparameter Tuning"
      ]
    },
    {
      "cell_type": "code",
      "execution_count": 55,
      "metadata": {
        "id": "Dn0EOfS6psJ2"
      },
      "outputs": [],
      "source": [
        "# ML Model - 1 Implementation with hyperparameter optimization techniques (i.e., GridSearch CV, RandomSearch CV, Bayesian Optimization etc.)\n",
        "\n",
        "# Fit the Algorithm\n",
        "\n",
        "# Predict on the model\n"
      ]
    },
    {
      "cell_type": "markdown",
      "metadata": {
        "id": "HAih1iBOpsJ2"
      },
      "source": [
        "##### Which hyperparameter optimization technique have you used and why?"
      ]
    },
    {
      "cell_type": "markdown",
      "metadata": {
        "id": "9kBgjYcdpsJ2"
      },
      "source": [
        "Answer Here."
      ]
    },
    {
      "cell_type": "markdown",
      "metadata": {
        "id": "zVGeBEFhpsJ2"
      },
      "source": [
        "##### Have you seen any improvement? Note down the improvement with updates Evaluation metric Score Chart."
      ]
    },
    {
      "cell_type": "markdown",
      "metadata": {
        "id": "74yRdG6UpsJ3"
      },
      "source": [
        "Answer Here."
      ]
    },
    {
      "cell_type": "markdown",
      "metadata": {
        "id": "bmKjuQ-FpsJ3"
      },
      "source": [
        "#### 3. Explain each evaluation metric's indication towards business and the business impact pf the ML model used."
      ]
    },
    {
      "cell_type": "markdown",
      "metadata": {
        "id": "BDKtOrBQpsJ3"
      },
      "source": [
        "Answer Here."
      ]
    },
    {
      "cell_type": "markdown",
      "metadata": {
        "id": "Fze-IPXLpx6K"
      },
      "source": [
        "### ML Model - 3"
      ]
    },
    {
      "cell_type": "code",
      "execution_count": 56,
      "metadata": {
        "id": "FFrSXAtrpx6M"
      },
      "outputs": [],
      "source": [
        "# ML Model - 3 Implementation\n",
        "\n",
        "# Fit the Algorithm\n",
        "\n",
        "# Predict on the model\n"
      ]
    },
    {
      "cell_type": "markdown",
      "metadata": {
        "id": "7AN1z2sKpx6M"
      },
      "source": [
        "#### 1. Explain the ML Model used and it's performance using Evaluation metric Score Chart."
      ]
    },
    {
      "cell_type": "code",
      "execution_count": 57,
      "metadata": {
        "id": "xIY4lxxGpx6M"
      },
      "outputs": [],
      "source": [
        "# Visualizing evaluation Metric Score chart\n"
      ]
    },
    {
      "cell_type": "markdown",
      "metadata": {
        "id": "9PIHJqyupx6M"
      },
      "source": [
        "#### 2. Cross- Validation & Hyperparameter Tuning"
      ]
    },
    {
      "cell_type": "code",
      "execution_count": 58,
      "metadata": {
        "id": "eSVXuaSKpx6M"
      },
      "outputs": [],
      "source": [
        "# ML Model - 3 Implementation with hyperparameter optimization techniques (i.e., GridSearch CV, RandomSearch CV, Bayesian Optimization etc.)\n",
        "\n",
        "# Fit the Algorithm\n",
        "\n",
        "# Predict on the model\n"
      ]
    },
    {
      "cell_type": "markdown",
      "metadata": {
        "id": "_-qAgymDpx6N"
      },
      "source": [
        "##### Which hyperparameter optimization technique have you used and why?"
      ]
    },
    {
      "cell_type": "markdown",
      "metadata": {
        "id": "lQMffxkwpx6N"
      },
      "source": [
        "Answer Here."
      ]
    },
    {
      "cell_type": "markdown",
      "metadata": {
        "id": "Z-hykwinpx6N"
      },
      "source": [
        "##### Have you seen any improvement? Note down the improvement with updates Evaluation metric Score Chart."
      ]
    },
    {
      "cell_type": "markdown",
      "metadata": {
        "id": "MzVzZC6opx6N"
      },
      "source": [
        "Answer Here."
      ]
    },
    {
      "cell_type": "markdown",
      "metadata": {
        "id": "h_CCil-SKHpo"
      },
      "source": [
        "### 1. Which Evaluation metrics did you consider for a positive business impact and why?"
      ]
    },
    {
      "cell_type": "markdown",
      "metadata": {
        "id": "jHVz9hHDKFms"
      },
      "source": [
        "Answer Here."
      ]
    },
    {
      "cell_type": "markdown",
      "metadata": {
        "id": "cBFFvTBNJzUa"
      },
      "source": [
        "### 2. Which ML model did you choose from the above created models as your final prediction model and why?"
      ]
    },
    {
      "cell_type": "markdown",
      "metadata": {
        "id": "6ksF5Q1LKTVm"
      },
      "source": [
        "Answer Here."
      ]
    },
    {
      "cell_type": "markdown",
      "metadata": {
        "id": "HvGl1hHyA_VK"
      },
      "source": [
        "### 3. Explain the model which you have used and the feature importance using any model explainability tool?"
      ]
    },
    {
      "cell_type": "markdown",
      "metadata": {
        "id": "YnvVTiIxBL-C"
      },
      "source": [
        "Answer Here."
      ]
    },
    {
      "cell_type": "markdown",
      "metadata": {
        "id": "EyNgTHvd2WFk"
      },
      "source": [
        "## ***8.*** ***Future Work (Optional)***"
      ]
    },
    {
      "cell_type": "markdown",
      "metadata": {
        "id": "KH5McJBi2d8v"
      },
      "source": [
        "### 1. Save the best performing ml model in a pickle file or joblib file format for deployment process.\n"
      ]
    },
    {
      "cell_type": "code",
      "execution_count": 59,
      "metadata": {
        "id": "bQIANRl32f4J"
      },
      "outputs": [],
      "source": [
        "# Save the File\n"
      ]
    },
    {
      "cell_type": "markdown",
      "metadata": {
        "id": "iW_Lq9qf2h6X"
      },
      "source": [
        "### 2. Again Load the saved model file and try to predict unseen data for a sanity check.\n"
      ]
    },
    {
      "cell_type": "code",
      "execution_count": 60,
      "metadata": {
        "id": "oEXk9ydD2nVC"
      },
      "outputs": [],
      "source": [
        "# Load the File and predict unseen data.\n"
      ]
    },
    {
      "cell_type": "markdown",
      "metadata": {
        "id": "-Kee-DAl2viO"
      },
      "source": [
        "### ***Congrats! Your model is successfully created and ready for deployment on a live server for a real user interaction !!!***"
      ]
    },
    {
      "cell_type": "markdown",
      "metadata": {
        "id": "gCX9965dhzqZ"
      },
      "source": [
        "# **Conclusion**"
      ]
    },
    {
      "cell_type": "markdown",
      "metadata": {
        "id": "Fjb1IsQkh3yE"
      },
      "source": [
        "* In this project, we worked on a text clustering problem wherein we had to classify/group the Netflix shows into certain clusters such that the shows within a cluster are similar to each other and the shows in different clusters are dissimilar to each other.\n",
        "* The dataset contained about 7787 records, and 11 attributes.\n",
        "* We began by dealing with the dataset's missing values and doing exploratory data analysis (EDA).\n",
        "* It was found that Netflix hosts more movies than TV shows on its platform, and the total number of shows added on Netflix is growing exponentially. Also, majority of the shows were produced in the United States, and the majority of the shows on Netflix were created for adults and young adults age group.\n",
        "* It was decided to cluster the data based on the attributes: director, cast, country, genre, and description. The values in these attributes were tokenized, preprocessed, and then vectorized using TFIDF vectorizer.\n",
        "* Through TFIDF Vectorization, we created a total of 20000 attributes.\n",
        "* We used Principal Component Analysis (PCA) to handle the curse of dimensionality. 4000 components were able to capture more than 80% of variance, and hence, the number of components were restricted to 4000.\n",
        "* We first built clusters using the k-means clustering algorithm, and the optimal number of clusters came out to be 6. This was obtained through the elbow method and Silhouette score analysis.\n",
        "* Then clusters were built using the Agglomerative clustering algorithm, and the optimal number of clusters came out to be 12. This was obtained after visualizing the dendrogram.\n",
        "* A content based recommender system was built using the similarity matrix obtained after using cosine similarity. This recommender system will make 10 recommendations to the user based on the type of show they watched."
      ]
    },
    {
      "cell_type": "markdown",
      "metadata": {
        "id": "gIfDvo9L0UH2"
      },
      "source": [
        "### ***Hurrah! You have successfully completed your Machine Learning Capstone Project !!!***"
      ]
    }
  ],
  "metadata": {
    "colab": {
      "collapsed_sections": [
        "vncDsAP0Gaoa",
        "FJNUwmbgGyua",
        "w6K7xa23Elo4",
        "yQaldy8SH6Dl",
        "mDgbUHAGgjLW",
        "O_i_v8NEhb9l",
        "HhfV-JJviCcP",
        "Y3lxredqlCYt",
        "3RnN4peoiCZX",
        "x71ZqKXriCWQ",
        "7hBIi_osiCS2",
        "JlHwYmJAmNHm",
        "35m5QtbWiB9F",
        "PoPl-ycgm1ru",
        "H0kj-8xxnORC",
        "nA9Y7ga8ng1Z",
        "PBTbrJXOngz2",
        "u3PMJOP6ngxN",
        "dauF4eBmngu3",
        "bKJF3rekwFvQ",
        "MSa1f5Uengrz",
        "GF8Ens_Soomf",
        "0wOQAZs5pc--",
        "K5QZ13OEpz2H",
        "lQ7QKXXCp7Bj",
        "448CDAPjqfQr",
        "KSlN3yHqYklG",
        "t6dVpIINYklI",
        "ijmpgYnKYklI",
        "-JiQyfWJYklI",
        "EM7whBJCYoAo",
        "fge-S5ZAYoAp",
        "85gYPyotYoAp",
        "RoGjAbkUYoAp",
        "4Of9eVA-YrdM",
        "iky9q4vBYrdO",
        "F6T5p64dYrdO",
        "y-Ehk30pYrdP",
        "bamQiAODYuh1",
        "QHF8YVU7Yuh3",
        "GwzvFGzlYuh3",
        "qYpmQ266Yuh3",
        "OH-pJp9IphqM",
        "bbFf2-_FphqN",
        "_ouA3fa0phqN",
        "Seke61FWphqN",
        "PIIx-8_IphqN",
        "t27r6nlMphqO",
        "r2jJGEOYphqO",
        "b0JNsNcRphqO",
        "BZR9WyysphqO",
        "jj7wYXLtphqO",
        "eZrbJ2SmphqO",
        "rFu4xreNphqO",
        "YJ55k-q6phqO",
        "gCFgpxoyphqP",
        "OVtJsKN_phqQ",
        "lssrdh5qphqQ",
        "U2RJ9gkRphqQ",
        "1M8mcRywphqQ",
        "tgIPom80phqQ",
        "JMzcOPDDphqR",
        "x-EpHcCOp1ci",
        "X_VqEhTip1ck",
        "8zGJKyg5p1ck",
        "PVzmfK_Ep1ck",
        "n3dbpmDWp1ck",
        "ylSl6qgtp1ck",
        "ZWILFDl5p1ck",
        "M7G43BXep1ck",
        "Ag9LCva-p1cl",
        "E6MkPsBcp1cl",
        "2cELzS2fp1cl",
        "3MPXvC8up1cl",
        "NC_X3p0fY2L0",
        "UV0SzAkaZNRQ",
        "YPEH6qLeZNRQ",
        "q29F0dvdveiT",
        "EXh0U9oCveiU",
        "22aHeOlLveiV",
        "g-ATYxFrGrvw",
        "Yfr_Vlr8HBkt",
        "8yEUt7NnHlrM",
        "tEA2Xm5dHt1r",
        "I79__PHVH19G",
        "Ou-I18pAyIpj",
        "fF3858GYyt-u",
        "4_0_7-oCpUZd",
        "hwyV_J3ipUZe",
        "3yB-zSqbpUZe",
        "dEUvejAfpUZe",
        "Fd15vwWVpUZf",
        "bn_IUdTipZyH",
        "49K5P_iCpZyH",
        "Nff-vKELpZyI",
        "kLW572S8pZyI",
        "dWbDXHzopZyI",
        "yLjJCtPM0KBk",
        "xiyOF9F70UgQ",
        "7wuGOrhz0itI",
        "id1riN9m0vUs",
        "578E2V7j08f6",
        "89xtkJwZ18nB",
        "67NQN5KX2AMe",
        "Iwf50b-R2tYG",
        "GMQiZwjn3iu7",
        "WVIkgGqN3qsr",
        "XkPnILGE3zoT",
        "Hlsf0x5436Go",
        "mT9DMSJo4nBL",
        "c49ITxTc407N",
        "OeJFEK0N496M",
        "9ExmJH0g5HBk",
        "cJNqERVU536h",
        "k5UmGsbsOxih",
        "T0VqWOYE6DLQ",
        "qBMux9mC6MCf",
        "-oLEiFgy-5Pf",
        "C74aWNz2AliB",
        "2DejudWSA-a0",
        "pEMng2IbBLp7",
        "rAdphbQ9Bhjc",
        "TNVZ9zx19K6k",
        "nqoHp30x9hH9",
        "rMDnDkt2B6du",
        "yiiVWRdJDDil",
        "1UUpS68QDMuG",
        "kexQrXU-DjzY",
        "T5CmagL3EC8N",
        "BhH2vgX9EjGr",
        "qjKvONjwE8ra",
        "P1XJ9OREExlT",
        "VFOzZv6IFROw",
        "TIqpNgepFxVj",
        "VfCC591jGiD4",
        "OB4l2ZhMeS1U",
        "ArJBuiUVfxKd",
        "4qY1EAkEfxKe",
        "PiV4Ypx8fxKe",
        "TfvqoZmBfxKf",
        "dJ2tPlVmpsJ0",
        "JWYfwnehpsJ1",
        "-jK_YjpMpsJ2",
        "HAih1iBOpsJ2",
        "zVGeBEFhpsJ2",
        "bmKjuQ-FpsJ3",
        "Fze-IPXLpx6K",
        "7AN1z2sKpx6M",
        "9PIHJqyupx6M",
        "_-qAgymDpx6N",
        "Z-hykwinpx6N",
        "h_CCil-SKHpo",
        "cBFFvTBNJzUa",
        "HvGl1hHyA_VK",
        "EyNgTHvd2WFk",
        "KH5McJBi2d8v",
        "iW_Lq9qf2h6X",
        "-Kee-DAl2viO",
        "gCX9965dhzqZ",
        "gIfDvo9L0UH2"
      ],
      "provenance": [],
      "include_colab_link": true
    },
    "kernelspec": {
      "display_name": "Python 3",
      "name": "python3"
    },
    "language_info": {
      "codemirror_mode": {
        "name": "ipython",
        "version": 3
      },
      "file_extension": ".py",
      "mimetype": "text/x-python",
      "name": "python",
      "nbconvert_exporter": "python",
      "pygments_lexer": "ipython3",
      "version": "3.10.11"
    }
  },
  "nbformat": 4,
  "nbformat_minor": 0
}